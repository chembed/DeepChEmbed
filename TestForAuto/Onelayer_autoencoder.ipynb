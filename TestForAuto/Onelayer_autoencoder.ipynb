{
 "cells": [
  {
   "cell_type": "code",
   "execution_count": 7,
   "metadata": {
    "scrolled": true
   },
   "outputs": [
    {
     "name": "stderr",
     "output_type": "stream",
     "text": [
      "Using TensorFlow backend.\n"
     ]
    }
   ],
   "source": [
    "import pandas as pd\n",
    "from keras.layers import Input, Dense\n",
    "from keras.models import Model"
   ]
  },
  {
   "cell_type": "code",
   "execution_count": 8,
   "metadata": {},
   "outputs": [],
   "source": [
    "data = pd.read_csv('BOD_biclass_139rdkit.csv')"
   ]
  },
  {
   "cell_type": "code",
   "execution_count": 9,
   "metadata": {},
   "outputs": [
    {
     "data": {
      "text/html": [
       "<div>\n",
       "<style scoped>\n",
       "    .dataframe tbody tr th:only-of-type {\n",
       "        vertical-align: middle;\n",
       "    }\n",
       "\n",
       "    .dataframe tbody tr th {\n",
       "        vertical-align: top;\n",
       "    }\n",
       "\n",
       "    .dataframe thead th {\n",
       "        text-align: right;\n",
       "    }\n",
       "</style>\n",
       "<table border=\"1\" class=\"dataframe\">\n",
       "  <thead>\n",
       "    <tr style=\"text-align: right;\">\n",
       "      <th></th>\n",
       "      <th>SMILES</th>\n",
       "      <th>bod_class</th>\n",
       "      <th>exactmw</th>\n",
       "      <th>lipinskiHBA</th>\n",
       "      <th>lipinskiHBD</th>\n",
       "      <th>NumRotatableBonds</th>\n",
       "      <th>NumHBD</th>\n",
       "      <th>NumHBA</th>\n",
       "      <th>NumHeteroatoms</th>\n",
       "      <th>NumAmideBonds</th>\n",
       "      <th>...</th>\n",
       "      <th>MQN33</th>\n",
       "      <th>MQN34</th>\n",
       "      <th>MQN35</th>\n",
       "      <th>MQN36</th>\n",
       "      <th>MQN37</th>\n",
       "      <th>MQN38</th>\n",
       "      <th>MQN39</th>\n",
       "      <th>MQN40</th>\n",
       "      <th>MQN41</th>\n",
       "      <th>MQN42</th>\n",
       "    </tr>\n",
       "  </thead>\n",
       "  <tbody>\n",
       "    <tr>\n",
       "      <th>0</th>\n",
       "      <td>CCC1(C(=O)NC(=O)NC1=O)c2ccccc2</td>\n",
       "      <td>0</td>\n",
       "      <td>232.084792</td>\n",
       "      <td>5.0</td>\n",
       "      <td>2.0</td>\n",
       "      <td>2.0</td>\n",
       "      <td>2.0</td>\n",
       "      <td>3.0</td>\n",
       "      <td>5.0</td>\n",
       "      <td>4.0</td>\n",
       "      <td>...</td>\n",
       "      <td>0</td>\n",
       "      <td>0</td>\n",
       "      <td>0</td>\n",
       "      <td>2</td>\n",
       "      <td>0</td>\n",
       "      <td>0</td>\n",
       "      <td>0</td>\n",
       "      <td>0</td>\n",
       "      <td>0</td>\n",
       "      <td>0</td>\n",
       "    </tr>\n",
       "    <tr>\n",
       "      <th>1</th>\n",
       "      <td>CC(O)C(O)=O</td>\n",
       "      <td>1</td>\n",
       "      <td>90.031694</td>\n",
       "      <td>3.0</td>\n",
       "      <td>2.0</td>\n",
       "      <td>1.0</td>\n",
       "      <td>2.0</td>\n",
       "      <td>2.0</td>\n",
       "      <td>3.0</td>\n",
       "      <td>0.0</td>\n",
       "      <td>...</td>\n",
       "      <td>0</td>\n",
       "      <td>0</td>\n",
       "      <td>0</td>\n",
       "      <td>0</td>\n",
       "      <td>0</td>\n",
       "      <td>0</td>\n",
       "      <td>0</td>\n",
       "      <td>0</td>\n",
       "      <td>0</td>\n",
       "      <td>0</td>\n",
       "    </tr>\n",
       "    <tr>\n",
       "      <th>2</th>\n",
       "      <td>Clc1ccc(cc1)C(c2ccc(Cl)cc2)C(Cl)(Cl)Cl</td>\n",
       "      <td>0</td>\n",
       "      <td>351.914689</td>\n",
       "      <td>0.0</td>\n",
       "      <td>0.0</td>\n",
       "      <td>2.0</td>\n",
       "      <td>0.0</td>\n",
       "      <td>0.0</td>\n",
       "      <td>5.0</td>\n",
       "      <td>0.0</td>\n",
       "      <td>...</td>\n",
       "      <td>0</td>\n",
       "      <td>0</td>\n",
       "      <td>0</td>\n",
       "      <td>2</td>\n",
       "      <td>0</td>\n",
       "      <td>0</td>\n",
       "      <td>0</td>\n",
       "      <td>0</td>\n",
       "      <td>0</td>\n",
       "      <td>0</td>\n",
       "    </tr>\n",
       "    <tr>\n",
       "      <th>3</th>\n",
       "      <td>OC(=O)c1c(Cl)ccc(Cl)c1Cl</td>\n",
       "      <td>1</td>\n",
       "      <td>223.919862</td>\n",
       "      <td>2.0</td>\n",
       "      <td>1.0</td>\n",
       "      <td>1.0</td>\n",
       "      <td>1.0</td>\n",
       "      <td>1.0</td>\n",
       "      <td>5.0</td>\n",
       "      <td>0.0</td>\n",
       "      <td>...</td>\n",
       "      <td>0</td>\n",
       "      <td>0</td>\n",
       "      <td>0</td>\n",
       "      <td>1</td>\n",
       "      <td>0</td>\n",
       "      <td>0</td>\n",
       "      <td>0</td>\n",
       "      <td>0</td>\n",
       "      <td>0</td>\n",
       "      <td>0</td>\n",
       "    </tr>\n",
       "    <tr>\n",
       "      <th>4</th>\n",
       "      <td>OCC(O)C(O)C(O)C(O)CO</td>\n",
       "      <td>1</td>\n",
       "      <td>182.079038</td>\n",
       "      <td>6.0</td>\n",
       "      <td>6.0</td>\n",
       "      <td>5.0</td>\n",
       "      <td>6.0</td>\n",
       "      <td>6.0</td>\n",
       "      <td>6.0</td>\n",
       "      <td>0.0</td>\n",
       "      <td>...</td>\n",
       "      <td>0</td>\n",
       "      <td>0</td>\n",
       "      <td>0</td>\n",
       "      <td>0</td>\n",
       "      <td>0</td>\n",
       "      <td>0</td>\n",
       "      <td>0</td>\n",
       "      <td>0</td>\n",
       "      <td>0</td>\n",
       "      <td>0</td>\n",
       "    </tr>\n",
       "  </tbody>\n",
       "</table>\n",
       "<p>5 rows × 141 columns</p>\n",
       "</div>"
      ],
      "text/plain": [
       "                                   SMILES  bod_class     exactmw  lipinskiHBA  \\\n",
       "0          CCC1(C(=O)NC(=O)NC1=O)c2ccccc2          0  232.084792          5.0   \n",
       "1                             CC(O)C(O)=O          1   90.031694          3.0   \n",
       "2  Clc1ccc(cc1)C(c2ccc(Cl)cc2)C(Cl)(Cl)Cl          0  351.914689          0.0   \n",
       "3                OC(=O)c1c(Cl)ccc(Cl)c1Cl          1  223.919862          2.0   \n",
       "4                    OCC(O)C(O)C(O)C(O)CO          1  182.079038          6.0   \n",
       "\n",
       "   lipinskiHBD  NumRotatableBonds  NumHBD  NumHBA  NumHeteroatoms  \\\n",
       "0          2.0                2.0     2.0     3.0             5.0   \n",
       "1          2.0                1.0     2.0     2.0             3.0   \n",
       "2          0.0                2.0     0.0     0.0             5.0   \n",
       "3          1.0                1.0     1.0     1.0             5.0   \n",
       "4          6.0                5.0     6.0     6.0             6.0   \n",
       "\n",
       "   NumAmideBonds  ...  MQN33  MQN34  MQN35  MQN36  MQN37  MQN38  MQN39  MQN40  \\\n",
       "0            4.0  ...      0      0      0      2      0      0      0      0   \n",
       "1            0.0  ...      0      0      0      0      0      0      0      0   \n",
       "2            0.0  ...      0      0      0      2      0      0      0      0   \n",
       "3            0.0  ...      0      0      0      1      0      0      0      0   \n",
       "4            0.0  ...      0      0      0      0      0      0      0      0   \n",
       "\n",
       "   MQN41  MQN42  \n",
       "0      0      0  \n",
       "1      0      0  \n",
       "2      0      0  \n",
       "3      0      0  \n",
       "4      0      0  \n",
       "\n",
       "[5 rows x 141 columns]"
      ]
     },
     "execution_count": 9,
     "metadata": {},
     "output_type": "execute_result"
    }
   ],
   "source": [
    "data.head()"
   ]
  },
  {
   "cell_type": "code",
   "execution_count": 10,
   "metadata": {},
   "outputs": [
    {
     "data": {
      "text/plain": [
       "(1063, 141)"
      ]
     },
     "execution_count": 10,
     "metadata": {},
     "output_type": "execute_result"
    }
   ],
   "source": [
    "data.shape"
   ]
  },
  {
   "cell_type": "code",
   "execution_count": 11,
   "metadata": {},
   "outputs": [],
   "source": [
    "data_139 = data.iloc[:,2:141]"
   ]
  },
  {
   "cell_type": "code",
   "execution_count": 12,
   "metadata": {
    "scrolled": true
   },
   "outputs": [
    {
     "data": {
      "text/html": [
       "<div>\n",
       "<style scoped>\n",
       "    .dataframe tbody tr th:only-of-type {\n",
       "        vertical-align: middle;\n",
       "    }\n",
       "\n",
       "    .dataframe tbody tr th {\n",
       "        vertical-align: top;\n",
       "    }\n",
       "\n",
       "    .dataframe thead th {\n",
       "        text-align: right;\n",
       "    }\n",
       "</style>\n",
       "<table border=\"1\" class=\"dataframe\">\n",
       "  <thead>\n",
       "    <tr style=\"text-align: right;\">\n",
       "      <th></th>\n",
       "      <th>exactmw</th>\n",
       "      <th>lipinskiHBA</th>\n",
       "      <th>lipinskiHBD</th>\n",
       "      <th>NumRotatableBonds</th>\n",
       "      <th>NumHBD</th>\n",
       "      <th>NumHBA</th>\n",
       "      <th>NumHeteroatoms</th>\n",
       "      <th>NumAmideBonds</th>\n",
       "      <th>FractionCSP3</th>\n",
       "      <th>NumRings</th>\n",
       "      <th>...</th>\n",
       "      <th>MQN33</th>\n",
       "      <th>MQN34</th>\n",
       "      <th>MQN35</th>\n",
       "      <th>MQN36</th>\n",
       "      <th>MQN37</th>\n",
       "      <th>MQN38</th>\n",
       "      <th>MQN39</th>\n",
       "      <th>MQN40</th>\n",
       "      <th>MQN41</th>\n",
       "      <th>MQN42</th>\n",
       "    </tr>\n",
       "  </thead>\n",
       "  <tbody>\n",
       "    <tr>\n",
       "      <th>0</th>\n",
       "      <td>232.084792</td>\n",
       "      <td>5.0</td>\n",
       "      <td>2.0</td>\n",
       "      <td>2.0</td>\n",
       "      <td>2.0</td>\n",
       "      <td>3.0</td>\n",
       "      <td>5.0</td>\n",
       "      <td>4.0</td>\n",
       "      <td>0.250000</td>\n",
       "      <td>2.0</td>\n",
       "      <td>...</td>\n",
       "      <td>0</td>\n",
       "      <td>0</td>\n",
       "      <td>0</td>\n",
       "      <td>2</td>\n",
       "      <td>0</td>\n",
       "      <td>0</td>\n",
       "      <td>0</td>\n",
       "      <td>0</td>\n",
       "      <td>0</td>\n",
       "      <td>0</td>\n",
       "    </tr>\n",
       "    <tr>\n",
       "      <th>1</th>\n",
       "      <td>90.031694</td>\n",
       "      <td>3.0</td>\n",
       "      <td>2.0</td>\n",
       "      <td>1.0</td>\n",
       "      <td>2.0</td>\n",
       "      <td>2.0</td>\n",
       "      <td>3.0</td>\n",
       "      <td>0.0</td>\n",
       "      <td>0.666667</td>\n",
       "      <td>0.0</td>\n",
       "      <td>...</td>\n",
       "      <td>0</td>\n",
       "      <td>0</td>\n",
       "      <td>0</td>\n",
       "      <td>0</td>\n",
       "      <td>0</td>\n",
       "      <td>0</td>\n",
       "      <td>0</td>\n",
       "      <td>0</td>\n",
       "      <td>0</td>\n",
       "      <td>0</td>\n",
       "    </tr>\n",
       "    <tr>\n",
       "      <th>2</th>\n",
       "      <td>351.914689</td>\n",
       "      <td>0.0</td>\n",
       "      <td>0.0</td>\n",
       "      <td>2.0</td>\n",
       "      <td>0.0</td>\n",
       "      <td>0.0</td>\n",
       "      <td>5.0</td>\n",
       "      <td>0.0</td>\n",
       "      <td>0.142857</td>\n",
       "      <td>2.0</td>\n",
       "      <td>...</td>\n",
       "      <td>0</td>\n",
       "      <td>0</td>\n",
       "      <td>0</td>\n",
       "      <td>2</td>\n",
       "      <td>0</td>\n",
       "      <td>0</td>\n",
       "      <td>0</td>\n",
       "      <td>0</td>\n",
       "      <td>0</td>\n",
       "      <td>0</td>\n",
       "    </tr>\n",
       "    <tr>\n",
       "      <th>3</th>\n",
       "      <td>223.919862</td>\n",
       "      <td>2.0</td>\n",
       "      <td>1.0</td>\n",
       "      <td>1.0</td>\n",
       "      <td>1.0</td>\n",
       "      <td>1.0</td>\n",
       "      <td>5.0</td>\n",
       "      <td>0.0</td>\n",
       "      <td>0.000000</td>\n",
       "      <td>1.0</td>\n",
       "      <td>...</td>\n",
       "      <td>0</td>\n",
       "      <td>0</td>\n",
       "      <td>0</td>\n",
       "      <td>1</td>\n",
       "      <td>0</td>\n",
       "      <td>0</td>\n",
       "      <td>0</td>\n",
       "      <td>0</td>\n",
       "      <td>0</td>\n",
       "      <td>0</td>\n",
       "    </tr>\n",
       "    <tr>\n",
       "      <th>4</th>\n",
       "      <td>182.079038</td>\n",
       "      <td>6.0</td>\n",
       "      <td>6.0</td>\n",
       "      <td>5.0</td>\n",
       "      <td>6.0</td>\n",
       "      <td>6.0</td>\n",
       "      <td>6.0</td>\n",
       "      <td>0.0</td>\n",
       "      <td>1.000000</td>\n",
       "      <td>0.0</td>\n",
       "      <td>...</td>\n",
       "      <td>0</td>\n",
       "      <td>0</td>\n",
       "      <td>0</td>\n",
       "      <td>0</td>\n",
       "      <td>0</td>\n",
       "      <td>0</td>\n",
       "      <td>0</td>\n",
       "      <td>0</td>\n",
       "      <td>0</td>\n",
       "      <td>0</td>\n",
       "    </tr>\n",
       "  </tbody>\n",
       "</table>\n",
       "<p>5 rows × 139 columns</p>\n",
       "</div>"
      ],
      "text/plain": [
       "      exactmw  lipinskiHBA  lipinskiHBD  NumRotatableBonds  NumHBD  NumHBA  \\\n",
       "0  232.084792          5.0          2.0                2.0     2.0     3.0   \n",
       "1   90.031694          3.0          2.0                1.0     2.0     2.0   \n",
       "2  351.914689          0.0          0.0                2.0     0.0     0.0   \n",
       "3  223.919862          2.0          1.0                1.0     1.0     1.0   \n",
       "4  182.079038          6.0          6.0                5.0     6.0     6.0   \n",
       "\n",
       "   NumHeteroatoms  NumAmideBonds  FractionCSP3  NumRings  ...  MQN33  MQN34  \\\n",
       "0             5.0            4.0      0.250000       2.0  ...      0      0   \n",
       "1             3.0            0.0      0.666667       0.0  ...      0      0   \n",
       "2             5.0            0.0      0.142857       2.0  ...      0      0   \n",
       "3             5.0            0.0      0.000000       1.0  ...      0      0   \n",
       "4             6.0            0.0      1.000000       0.0  ...      0      0   \n",
       "\n",
       "   MQN35  MQN36  MQN37  MQN38  MQN39  MQN40  MQN41  MQN42  \n",
       "0      0      2      0      0      0      0      0      0  \n",
       "1      0      0      0      0      0      0      0      0  \n",
       "2      0      2      0      0      0      0      0      0  \n",
       "3      0      1      0      0      0      0      0      0  \n",
       "4      0      0      0      0      0      0      0      0  \n",
       "\n",
       "[5 rows x 139 columns]"
      ]
     },
     "execution_count": 12,
     "metadata": {},
     "output_type": "execute_result"
    }
   ],
   "source": [
    "data_139.head()"
   ]
  },
  {
   "cell_type": "markdown",
   "metadata": {},
   "source": [
    "#try to reduce the dimension to 20 by 1 layer of encoder and 1 layer of decoder"
   ]
  },
  {
   "cell_type": "code",
   "execution_count": 13,
   "metadata": {},
   "outputs": [
    {
     "name": "stdout",
     "output_type": "stream",
     "text": [
      "WARNING:tensorflow:From C:\\Users\\yychen\\Miniconda3\\envs\\deepchembed\\lib\\site-packages\\tensorflow\\python\\framework\\op_def_library.py:263: colocate_with (from tensorflow.python.framework.ops) is deprecated and will be removed in a future version.\n",
      "Instructions for updating:\n",
      "Colocations handled automatically by placer.\n"
     ]
    }
   ],
   "source": [
    "encoding_dim = 20\n",
    "input_data = Input(shape = (139,))\n",
    "encoded = Dense(encoding_dim,activation='relu')(input_data)\n",
    "decoded = Dense(139,activation = 'sigmoid')(encoded)\n",
    "autoencoder = Model(input_data,decoded)"
   ]
  },
  {
   "cell_type": "markdown",
   "metadata": {},
   "source": [
    "configure the model"
   ]
  },
  {
   "cell_type": "code",
   "execution_count": 14,
   "metadata": {},
   "outputs": [],
   "source": [
    "autoencoder.compile(optimizer = 'adadelta', loss = 'binary_crossentropy')"
   ]
  },
  {
   "cell_type": "code",
   "execution_count": 21,
   "metadata": {
    "scrolled": false
   },
   "outputs": [
    {
     "name": "stderr",
     "output_type": "stream",
     "text": [
      "C:\\Users\\yychen\\Miniconda3\\envs\\deepchembed\\lib\\site-packages\\ipykernel_launcher.py:1: FutureWarning: Method .as_matrix will be removed in a future version. Use .values instead.\n",
      "  \"\"\"Entry point for launching an IPython kernel.\n"
     ]
    }
   ],
   "source": [
    "data_train = data_139.as_matrix()\n"
   ]
  },
  {
   "cell_type": "code",
   "execution_count": 22,
   "metadata": {},
   "outputs": [
    {
     "data": {
      "text/plain": [
       "(1063, 139)"
      ]
     },
     "execution_count": 22,
     "metadata": {},
     "output_type": "execute_result"
    }
   ],
   "source": [
    "data_train.shape"
   ]
  },
  {
   "cell_type": "code",
   "execution_count": 23,
   "metadata": {},
   "outputs": [
    {
     "name": "stdout",
     "output_type": "stream",
     "text": [
      "WARNING:tensorflow:From C:\\Users\\yychen\\Miniconda3\\envs\\deepchembed\\lib\\site-packages\\tensorflow\\python\\ops\\math_ops.py:3066: to_int32 (from tensorflow.python.ops.math_ops) is deprecated and will be removed in a future version.\n",
      "Instructions for updating:\n",
      "Use tf.cast instead.\n",
      "Epoch 1/50\n",
      "1063/1063 [==============================] - 1s 524us/step - loss: 14.2904\n",
      "Epoch 2/50\n",
      "1063/1063 [==============================] - 0s 40us/step - loss: -7.4635\n",
      "Epoch 3/50\n",
      "1063/1063 [==============================] - 0s 33us/step - loss: -47.1905\n",
      "Epoch 4/50\n",
      "1063/1063 [==============================] - 0s 29us/step - loss: -74.9780\n",
      "Epoch 5/50\n",
      "1063/1063 [==============================] - 0s 39us/step - loss: -86.0387\n",
      "Epoch 6/50\n",
      "1063/1063 [==============================] - 0s 45us/step - loss: -91.6283\n",
      "Epoch 7/50\n",
      "1063/1063 [==============================] - 0s 49us/step - loss: -92.7168\n",
      "Epoch 8/50\n",
      "1063/1063 [==============================] - 0s 42us/step - loss: -95.5336\n",
      "Epoch 9/50\n",
      "1063/1063 [==============================] - 0s 37us/step - loss: -95.6983\n",
      "Epoch 10/50\n",
      "1063/1063 [==============================] - 0s 42us/step - loss: -95.7819\n",
      "Epoch 11/50\n",
      "1063/1063 [==============================] - 0s 53us/step - loss: -95.8315\n",
      "Epoch 12/50\n",
      "1063/1063 [==============================] - 0s 36us/step - loss: -95.8842\n",
      "Epoch 13/50\n",
      "1063/1063 [==============================] - 0s 46us/step - loss: -95.9227\n",
      "Epoch 14/50\n",
      "1063/1063 [==============================] - 0s 36us/step - loss: -95.9554\n",
      "Epoch 15/50\n",
      "1063/1063 [==============================] - 0s 42us/step - loss: -95.9789\n",
      "Epoch 16/50\n",
      "1063/1063 [==============================] - 0s 36us/step - loss: -96.0189\n",
      "Epoch 17/50\n",
      "1063/1063 [==============================] - 0s 37us/step - loss: -96.0695\n",
      "Epoch 18/50\n",
      "1063/1063 [==============================] - 0s 35us/step - loss: -96.1113\n",
      "Epoch 19/50\n",
      "1063/1063 [==============================] - 0s 30us/step - loss: -96.1468\n",
      "Epoch 20/50\n",
      "1063/1063 [==============================] - 0s 38us/step - loss: -96.1854\n",
      "Epoch 21/50\n",
      "1063/1063 [==============================] - 0s 28us/step - loss: -96.2094\n",
      "Epoch 22/50\n",
      "1063/1063 [==============================] - 0s 34us/step - loss: -96.2552\n",
      "Epoch 23/50\n",
      "1063/1063 [==============================] - 0s 45us/step - loss: -96.3039\n",
      "Epoch 24/50\n",
      "1063/1063 [==============================] - 0s 43us/step - loss: -96.3473\n",
      "Epoch 25/50\n",
      "1063/1063 [==============================] - 0s 47us/step - loss: -96.3774\n",
      "Epoch 26/50\n",
      "1063/1063 [==============================] - 0s 43us/step - loss: -96.4190\n",
      "Epoch 27/50\n",
      "1063/1063 [==============================] - 0s 30us/step - loss: -96.4519\n",
      "Epoch 28/50\n",
      "1063/1063 [==============================] - 0s 40us/step - loss: -96.4790\n",
      "Epoch 29/50\n",
      "1063/1063 [==============================] - 0s 30us/step - loss: -96.4943\n",
      "Epoch 30/50\n",
      "1063/1063 [==============================] - 0s 38us/step - loss: -96.5406\n",
      "Epoch 31/50\n",
      "1063/1063 [==============================] - 0s 48us/step - loss: -96.5661\n",
      "Epoch 32/50\n",
      "1063/1063 [==============================] - 0s 36us/step - loss: -96.5907\n",
      "Epoch 33/50\n",
      "1063/1063 [==============================] - 0s 32us/step - loss: -96.6190\n",
      "Epoch 34/50\n",
      "1063/1063 [==============================] - 0s 32us/step - loss: -96.6218\n",
      "Epoch 35/50\n",
      "1063/1063 [==============================] - 0s 40us/step - loss: -96.6686\n",
      "Epoch 36/50\n",
      "1063/1063 [==============================] - 0s 30us/step - loss: -96.6693\n",
      "Epoch 37/50\n",
      "1063/1063 [==============================] - 0s 28us/step - loss: -96.7151\n",
      "Epoch 38/50\n",
      "1063/1063 [==============================] - 0s 27us/step - loss: -96.7236\n",
      "Epoch 39/50\n",
      "1063/1063 [==============================] - 0s 30us/step - loss: -96.7460\n",
      "Epoch 40/50\n",
      "1063/1063 [==============================] - 0s 60us/step - loss: -96.7750\n",
      "Epoch 41/50\n",
      "1063/1063 [==============================] - 0s 41us/step - loss: -96.7935\n",
      "Epoch 42/50\n",
      "1063/1063 [==============================] - 0s 33us/step - loss: -96.8149\n",
      "Epoch 43/50\n",
      "1063/1063 [==============================] - 0s 32us/step - loss: -96.8278\n",
      "Epoch 44/50\n",
      "1063/1063 [==============================] - 0s 48us/step - loss: -96.8602\n",
      "Epoch 45/50\n",
      "1063/1063 [==============================] - 0s 37us/step - loss: -96.8803\n",
      "Epoch 46/50\n",
      "1063/1063 [==============================] - 0s 35us/step - loss: -96.8961\n",
      "Epoch 47/50\n",
      "1063/1063 [==============================] - 0s 25us/step - loss: -96.9100\n",
      "Epoch 48/50\n",
      "1063/1063 [==============================] - 0s 28us/step - loss: -96.9331\n",
      "Epoch 49/50\n",
      "1063/1063 [==============================] - 0s 32us/step - loss: -96.9516\n",
      "Epoch 50/50\n",
      "1063/1063 [==============================] - 0s 23us/step - loss: -96.9752\n"
     ]
    }
   ],
   "source": [
    "history = autoencoder.fit(data_train,data_train,epochs= 50,batch_size=256,shuffle=True)"
   ]
  },
  {
   "cell_type": "code",
   "execution_count": 24,
   "metadata": {},
   "outputs": [
    {
     "name": "stdout",
     "output_type": "stream",
     "text": [
      "dict_keys(['loss'])\n"
     ]
    }
   ],
   "source": [
    "print(history.history.keys())"
   ]
  },
  {
   "cell_type": "code",
   "execution_count": 25,
   "metadata": {},
   "outputs": [],
   "source": [
    "import matplotlib.pyplot as plt"
   ]
  },
  {
   "cell_type": "code",
   "execution_count": 26,
   "metadata": {},
   "outputs": [
    {
     "data": {
      "text/plain": [
       "[<matplotlib.lines.Line2D at 0x1beba9f1b00>]"
      ]
     },
     "execution_count": 26,
     "metadata": {},
     "output_type": "execute_result"
    },
    {
     "data": {
      "image/png": "[encoded data removed]",
      "text/plain": [
       "<Figure size 432x288 with 1 Axes>"
      ]
     },
     "metadata": {
      "needs_background": "light"
     },
     "output_type": "display_data"
    }
   ],
   "source": [
    "plt.plot(history.history['loss'])"
   ]
  },
  {
   "cell_type": "code",
   "execution_count": null,
   "metadata": {},
   "outputs": [],
   "source": []
  }
 ],
 "metadata": {
  "kernelspec": {
   "display_name": "Python 3",
   "language": "python",
   "name": "python3"
  },
  "language_info": {
   "codemirror_mode": {
    "name": "ipython",
    "version": 3
   },
   "file_extension": ".py",
   "mimetype": "text/x-python",
   "name": "python",
   "nbconvert_exporter": "python",
   "pygments_lexer": "ipython3",
   "version": "3.6.8"
  }
 },
 "nbformat": 4,
 "nbformat_minor": 2
}
