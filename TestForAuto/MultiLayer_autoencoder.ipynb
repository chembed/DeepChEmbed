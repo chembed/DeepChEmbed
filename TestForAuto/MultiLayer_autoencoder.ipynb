{
 "cells": [
  {
   "cell_type": "code",
   "execution_count": 56,
   "metadata": {},
   "outputs": [],
   "source": [
    "import pandas as pd\n",
    "from keras.layers import Input, Dense\n",
    "from keras.models import Model\n",
    "import numpy as np\n",
    "import matplotlib.pyplot as plt"
   ]
  },
  {
   "cell_type": "code",
   "execution_count": 57,
   "metadata": {},
   "outputs": [],
   "source": [
    "data = pd.read_csv('BOD_biclass_139rdkit.csv')"
   ]
  },
  {
   "cell_type": "code",
   "execution_count": 58,
   "metadata": {
    "scrolled": true
   },
   "outputs": [
    {
     "data": {
      "text/html": [
       "<div>\n",
       "<style scoped>\n",
       "    .dataframe tbody tr th:only-of-type {\n",
       "        vertical-align: middle;\n",
       "    }\n",
       "\n",
       "    .dataframe tbody tr th {\n",
       "        vertical-align: top;\n",
       "    }\n",
       "\n",
       "    .dataframe thead th {\n",
       "        text-align: right;\n",
       "    }\n",
       "</style>\n",
       "<table border=\"1\" class=\"dataframe\">\n",
       "  <thead>\n",
       "    <tr style=\"text-align: right;\">\n",
       "      <th></th>\n",
       "      <th>SMILES</th>\n",
       "      <th>bod_class</th>\n",
       "      <th>exactmw</th>\n",
       "      <th>lipinskiHBA</th>\n",
       "      <th>lipinskiHBD</th>\n",
       "      <th>NumRotatableBonds</th>\n",
       "      <th>NumHBD</th>\n",
       "      <th>NumHBA</th>\n",
       "      <th>NumHeteroatoms</th>\n",
       "      <th>NumAmideBonds</th>\n",
       "      <th>...</th>\n",
       "      <th>MQN33</th>\n",
       "      <th>MQN34</th>\n",
       "      <th>MQN35</th>\n",
       "      <th>MQN36</th>\n",
       "      <th>MQN37</th>\n",
       "      <th>MQN38</th>\n",
       "      <th>MQN39</th>\n",
       "      <th>MQN40</th>\n",
       "      <th>MQN41</th>\n",
       "      <th>MQN42</th>\n",
       "    </tr>\n",
       "  </thead>\n",
       "  <tbody>\n",
       "    <tr>\n",
       "      <th>0</th>\n",
       "      <td>CCC1(C(=O)NC(=O)NC1=O)c2ccccc2</td>\n",
       "      <td>0</td>\n",
       "      <td>232.084792</td>\n",
       "      <td>5.0</td>\n",
       "      <td>2.0</td>\n",
       "      <td>2.0</td>\n",
       "      <td>2.0</td>\n",
       "      <td>3.0</td>\n",
       "      <td>5.0</td>\n",
       "      <td>4.0</td>\n",
       "      <td>...</td>\n",
       "      <td>0</td>\n",
       "      <td>0</td>\n",
       "      <td>0</td>\n",
       "      <td>2</td>\n",
       "      <td>0</td>\n",
       "      <td>0</td>\n",
       "      <td>0</td>\n",
       "      <td>0</td>\n",
       "      <td>0</td>\n",
       "      <td>0</td>\n",
       "    </tr>\n",
       "    <tr>\n",
       "      <th>1</th>\n",
       "      <td>CC(O)C(O)=O</td>\n",
       "      <td>1</td>\n",
       "      <td>90.031694</td>\n",
       "      <td>3.0</td>\n",
       "      <td>2.0</td>\n",
       "      <td>1.0</td>\n",
       "      <td>2.0</td>\n",
       "      <td>2.0</td>\n",
       "      <td>3.0</td>\n",
       "      <td>0.0</td>\n",
       "      <td>...</td>\n",
       "      <td>0</td>\n",
       "      <td>0</td>\n",
       "      <td>0</td>\n",
       "      <td>0</td>\n",
       "      <td>0</td>\n",
       "      <td>0</td>\n",
       "      <td>0</td>\n",
       "      <td>0</td>\n",
       "      <td>0</td>\n",
       "      <td>0</td>\n",
       "    </tr>\n",
       "    <tr>\n",
       "      <th>2</th>\n",
       "      <td>Clc1ccc(cc1)C(c2ccc(Cl)cc2)C(Cl)(Cl)Cl</td>\n",
       "      <td>0</td>\n",
       "      <td>351.914689</td>\n",
       "      <td>0.0</td>\n",
       "      <td>0.0</td>\n",
       "      <td>2.0</td>\n",
       "      <td>0.0</td>\n",
       "      <td>0.0</td>\n",
       "      <td>5.0</td>\n",
       "      <td>0.0</td>\n",
       "      <td>...</td>\n",
       "      <td>0</td>\n",
       "      <td>0</td>\n",
       "      <td>0</td>\n",
       "      <td>2</td>\n",
       "      <td>0</td>\n",
       "      <td>0</td>\n",
       "      <td>0</td>\n",
       "      <td>0</td>\n",
       "      <td>0</td>\n",
       "      <td>0</td>\n",
       "    </tr>\n",
       "    <tr>\n",
       "      <th>3</th>\n",
       "      <td>OC(=O)c1c(Cl)ccc(Cl)c1Cl</td>\n",
       "      <td>1</td>\n",
       "      <td>223.919862</td>\n",
       "      <td>2.0</td>\n",
       "      <td>1.0</td>\n",
       "      <td>1.0</td>\n",
       "      <td>1.0</td>\n",
       "      <td>1.0</td>\n",
       "      <td>5.0</td>\n",
       "      <td>0.0</td>\n",
       "      <td>...</td>\n",
       "      <td>0</td>\n",
       "      <td>0</td>\n",
       "      <td>0</td>\n",
       "      <td>1</td>\n",
       "      <td>0</td>\n",
       "      <td>0</td>\n",
       "      <td>0</td>\n",
       "      <td>0</td>\n",
       "      <td>0</td>\n",
       "      <td>0</td>\n",
       "    </tr>\n",
       "    <tr>\n",
       "      <th>4</th>\n",
       "      <td>OCC(O)C(O)C(O)C(O)CO</td>\n",
       "      <td>1</td>\n",
       "      <td>182.079038</td>\n",
       "      <td>6.0</td>\n",
       "      <td>6.0</td>\n",
       "      <td>5.0</td>\n",
       "      <td>6.0</td>\n",
       "      <td>6.0</td>\n",
       "      <td>6.0</td>\n",
       "      <td>0.0</td>\n",
       "      <td>...</td>\n",
       "      <td>0</td>\n",
       "      <td>0</td>\n",
       "      <td>0</td>\n",
       "      <td>0</td>\n",
       "      <td>0</td>\n",
       "      <td>0</td>\n",
       "      <td>0</td>\n",
       "      <td>0</td>\n",
       "      <td>0</td>\n",
       "      <td>0</td>\n",
       "    </tr>\n",
       "  </tbody>\n",
       "</table>\n",
       "<p>5 rows × 141 columns</p>\n",
       "</div>"
      ],
      "text/plain": [
       "                                   SMILES  bod_class     exactmw  lipinskiHBA  \\\n",
       "0          CCC1(C(=O)NC(=O)NC1=O)c2ccccc2          0  232.084792          5.0   \n",
       "1                             CC(O)C(O)=O          1   90.031694          3.0   \n",
       "2  Clc1ccc(cc1)C(c2ccc(Cl)cc2)C(Cl)(Cl)Cl          0  351.914689          0.0   \n",
       "3                OC(=O)c1c(Cl)ccc(Cl)c1Cl          1  223.919862          2.0   \n",
       "4                    OCC(O)C(O)C(O)C(O)CO          1  182.079038          6.0   \n",
       "\n",
       "   lipinskiHBD  NumRotatableBonds  NumHBD  NumHBA  NumHeteroatoms  \\\n",
       "0          2.0                2.0     2.0     3.0             5.0   \n",
       "1          2.0                1.0     2.0     2.0             3.0   \n",
       "2          0.0                2.0     0.0     0.0             5.0   \n",
       "3          1.0                1.0     1.0     1.0             5.0   \n",
       "4          6.0                5.0     6.0     6.0             6.0   \n",
       "\n",
       "   NumAmideBonds  ...  MQN33  MQN34  MQN35  MQN36  MQN37  MQN38  MQN39  MQN40  \\\n",
       "0            4.0  ...      0      0      0      2      0      0      0      0   \n",
       "1            0.0  ...      0      0      0      0      0      0      0      0   \n",
       "2            0.0  ...      0      0      0      2      0      0      0      0   \n",
       "3            0.0  ...      0      0      0      1      0      0      0      0   \n",
       "4            0.0  ...      0      0      0      0      0      0      0      0   \n",
       "\n",
       "   MQN41  MQN42  \n",
       "0      0      0  \n",
       "1      0      0  \n",
       "2      0      0  \n",
       "3      0      0  \n",
       "4      0      0  \n",
       "\n",
       "[5 rows x 141 columns]"
      ]
     },
     "execution_count": 58,
     "metadata": {},
     "output_type": "execute_result"
    }
   ],
   "source": [
    "data.head()"
   ]
  },
  {
   "cell_type": "code",
   "execution_count": 59,
   "metadata": {},
   "outputs": [
    {
     "data": {
      "text/plain": [
       "(1063, 141)"
      ]
     },
     "execution_count": 59,
     "metadata": {},
     "output_type": "execute_result"
    }
   ],
   "source": [
    "data.shape"
   ]
  },
  {
   "cell_type": "code",
   "execution_count": 60,
   "metadata": {},
   "outputs": [
    {
     "data": {
      "text/plain": [
       "(1063, 139)"
      ]
     },
     "execution_count": 60,
     "metadata": {},
     "output_type": "execute_result"
    }
   ],
   "source": [
    "data_139 = data.iloc[:,2:141]\n",
    "data_139.shape"
   ]
  },
  {
   "cell_type": "code",
   "execution_count": 61,
   "metadata": {
    "scrolled": true
   },
   "outputs": [
    {
     "name": "stderr",
     "output_type": "stream",
     "text": [
      "C:\\Users\\yychen\\Miniconda3\\envs\\deepchembed\\lib\\site-packages\\ipykernel_launcher.py:1: FutureWarning: Method .as_matrix will be removed in a future version. Use .values instead.\n",
      "  \"\"\"Entry point for launching an IPython kernel.\n"
     ]
    },
    {
     "data": {
      "text/plain": [
       "(1063, 139)"
      ]
     },
     "execution_count": 61,
     "metadata": {},
     "output_type": "execute_result"
    }
   ],
   "source": [
    "data_train = data_139.as_matrix()\n",
    "data_train.shape"
   ]
  },
  {
   "cell_type": "code",
   "execution_count": 62,
   "metadata": {},
   "outputs": [],
   "source": [
    "def autoencoder(dims, final_nodes, act='relu'):\n",
    "    \"\"\"\n",
    "    Fully connected auto-encoder model, symmetric.\n",
    "    Arguments:\n",
    "        dims: a list contains the node numbers in each layer of encoder. The decoder is symmetric with encoder. \n",
    "        So number of layers of the auto-encoder is 2*len(dims)-1\n",
    "        act: activation function\n",
    "        final_nodes: the final target dimension for dimension reduction, which interconnects the encoder and decoder\n",
    "    return:\n",
    "        Model of autoencoder\n",
    "    \"\"\"\n",
    "    n_stacks = len(dims) - 1\n",
    "    # input\n",
    "    x = Input(shape=(dims[0],), name='input')\n",
    "    h = x\n",
    "\n",
    "    # internal layers in encoder\n",
    "    for i in range(n_stacks-1):\n",
    "        h = Dense(dims[i + 1], activation=act, name='encoder_%d' % i)(h)\n",
    "\n",
    "    # inter-connected layer between encoder and decoder\n",
    "    h = Dense(final_nodes, name='encoder_%d' % (n_stacks - 1))(h)  #features are extracted from here\n",
    "\n",
    "    # internal layers in decoder\n",
    "    for i in range(n_stacks-1, 0, -1):\n",
    "        h = Dense(dims[i], activation=act, name='decoder_%d' % i)(h)\n",
    "\n",
    "    # output\n",
    "    h = Dense(dims[0], name='decoder_0')(h)\n",
    "\n",
    "    return Model(inputs=x, outputs=h)"
   ]
  },
  {
   "cell_type": "markdown",
   "metadata": {},
   "source": [
    "Build and compile a 4 layers autoencoder model, the final_nodes are set to 5 here"
   ]
  },
  {
   "cell_type": "code",
   "execution_count": 63,
   "metadata": {
    "scrolled": true
   },
   "outputs": [
    {
     "data": {
      "text/plain": [
       "array([139,  94,  49,   5])"
      ]
     },
     "execution_count": 63,
     "metadata": {},
     "output_type": "execute_result"
    }
   ],
   "source": [
    "dim = np.linspace(139,5,4,dtype = int)\n",
    "dim"
   ]
  },
  {
   "cell_type": "code",
   "execution_count": 64,
   "metadata": {},
   "outputs": [],
   "source": [
    "final_nodes = 5"
   ]
  },
  {
   "cell_type": "code",
   "execution_count": 65,
   "metadata": {},
   "outputs": [],
   "source": [
    "autoencoder = autoencoder (dim, final_nodes)"
   ]
  },
  {
   "cell_type": "code",
   "execution_count": 66,
   "metadata": {},
   "outputs": [],
   "source": [
    "autoencoder.compile(optimizer = 'adadelta', loss = 'binary_crossentropy')"
   ]
  },
  {
   "cell_type": "code",
   "execution_count": 67,
   "metadata": {},
   "outputs": [
    {
     "name": "stdout",
     "output_type": "stream",
     "text": [
      "Epoch 1/50\n",
      "1063/1063 [==============================] - 1s 1ms/step - loss: -24.2985\n",
      "Epoch 2/50\n",
      "1063/1063 [==============================] - 0s 38us/step - loss: -55.1202\n",
      "Epoch 3/50\n",
      "1063/1063 [==============================] - 0s 39us/step - loss: -60.0840\n",
      "Epoch 4/50\n",
      "1063/1063 [==============================] - 0s 36us/step - loss: -60.5487\n",
      "Epoch 5/50\n",
      "1063/1063 [==============================] - 0s 38us/step - loss: -63.2976\n",
      "Epoch 6/50\n",
      "1063/1063 [==============================] - 0s 45us/step - loss: -62.9389\n",
      "Epoch 7/50\n",
      "1063/1063 [==============================] - 0s 41us/step - loss: -63.2358\n",
      "Epoch 8/50\n",
      "1063/1063 [==============================] - 0s 41us/step - loss: -63.9990\n",
      "Epoch 9/50\n",
      "1063/1063 [==============================] - 0s 43us/step - loss: -63.9462\n",
      "Epoch 10/50\n",
      "1063/1063 [==============================] - 0s 41us/step - loss: -64.1878\n",
      "Epoch 11/50\n",
      "1063/1063 [==============================] - 0s 40us/step - loss: -64.4639\n",
      "Epoch 12/50\n",
      "1063/1063 [==============================] - 0s 44us/step - loss: -64.5377\n",
      "Epoch 13/50\n",
      "1063/1063 [==============================] - 0s 42us/step - loss: -64.4945\n",
      "Epoch 14/50\n",
      "1063/1063 [==============================] - 0s 53us/step - loss: -64.5829\n",
      "Epoch 15/50\n",
      "1063/1063 [==============================] - 0s 41us/step - loss: -64.5706\n",
      "Epoch 16/50\n",
      "1063/1063 [==============================] - 0s 38us/step - loss: -64.6140\n",
      "Epoch 17/50\n",
      "1063/1063 [==============================] - 0s 39us/step - loss: -64.5328\n",
      "Epoch 18/50\n",
      "1063/1063 [==============================] - 0s 44us/step - loss: -64.5379\n",
      "Epoch 19/50\n",
      "1063/1063 [==============================] - 0s 38us/step - loss: -64.5682\n",
      "Epoch 20/50\n",
      "1063/1063 [==============================] - 0s 39us/step - loss: -64.4752\n",
      "Epoch 21/50\n",
      "1063/1063 [==============================] - 0s 39us/step - loss: -64.5800\n",
      "Epoch 22/50\n",
      "1063/1063 [==============================] - 0s 42us/step - loss: -64.5895\n",
      "Epoch 23/50\n",
      "1063/1063 [==============================] - 0s 47us/step - loss: -64.5866\n",
      "Epoch 24/50\n",
      "1063/1063 [==============================] - 0s 38us/step - loss: -64.5677\n",
      "Epoch 25/50\n",
      "1063/1063 [==============================] - 0s 50us/step - loss: -64.6146\n",
      "Epoch 26/50\n",
      "1063/1063 [==============================] - 0s 39us/step - loss: -64.6321\n",
      "Epoch 27/50\n",
      "1063/1063 [==============================] - 0s 54us/step - loss: -64.5490\n",
      "Epoch 28/50\n",
      "1063/1063 [==============================] - 0s 37us/step - loss: -64.6424\n",
      "Epoch 29/50\n",
      "1063/1063 [==============================] - 0s 41us/step - loss: -64.4983\n",
      "Epoch 30/50\n",
      "1063/1063 [==============================] - 0s 44us/step - loss: -64.6427\n",
      "Epoch 31/50\n",
      "1063/1063 [==============================] - 0s 47us/step - loss: -64.6463\n",
      "Epoch 32/50\n",
      "1063/1063 [==============================] - 0s 38us/step - loss: -64.6910\n",
      "Epoch 33/50\n",
      "1063/1063 [==============================] - 0s 51us/step - loss: -64.6028\n",
      "Epoch 34/50\n",
      "1063/1063 [==============================] - 0s 41us/step - loss: -64.6095\n",
      "Epoch 35/50\n",
      "1063/1063 [==============================] - 0s 42us/step - loss: -64.6459\n",
      "Epoch 36/50\n",
      "1063/1063 [==============================] - 0s 50us/step - loss: -64.6795\n",
      "Epoch 37/50\n",
      "1063/1063 [==============================] - 0s 45us/step - loss: -64.6719\n",
      "Epoch 38/50\n",
      "1063/1063 [==============================] - 0s 45us/step - loss: -64.6433\n",
      "Epoch 39/50\n",
      "1063/1063 [==============================] - 0s 46us/step - loss: -64.5453\n",
      "Epoch 40/50\n",
      "1063/1063 [==============================] - 0s 41us/step - loss: -64.6014\n",
      "Epoch 41/50\n",
      "1063/1063 [==============================] - 0s 42us/step - loss: -64.6594\n",
      "Epoch 42/50\n",
      "1063/1063 [==============================] - 0s 43us/step - loss: -64.6304\n",
      "Epoch 43/50\n",
      "1063/1063 [==============================] - 0s 46us/step - loss: -64.4611\n",
      "Epoch 44/50\n",
      "1063/1063 [==============================] - 0s 51us/step - loss: -64.9572\n",
      "Epoch 45/50\n",
      "1063/1063 [==============================] - 0s 45us/step - loss: -66.0262\n",
      "Epoch 46/50\n",
      "1063/1063 [==============================] - 0s 38us/step - loss: -65.9054\n",
      "Epoch 47/50\n",
      "1063/1063 [==============================] - 0s 41us/step - loss: -66.2750\n",
      "Epoch 48/50\n",
      "1063/1063 [==============================] - 0s 50us/step - loss: -66.2965\n",
      "Epoch 49/50\n",
      "1063/1063 [==============================] - 0s 38us/step - loss: -66.2161\n",
      "Epoch 50/50\n",
      "1063/1063 [==============================] - 0s 42us/step - loss: -66.2516\n"
     ]
    }
   ],
   "source": [
    "history = autoencoder.fit(data_train,data_train,epochs= 50,batch_size=256,shuffle=True)"
   ]
  },
  {
   "cell_type": "code",
   "execution_count": 68,
   "metadata": {},
   "outputs": [
    {
     "name": "stdout",
     "output_type": "stream",
     "text": [
      "dict_keys(['loss'])\n"
     ]
    }
   ],
   "source": [
    "print(history.history.keys())"
   ]
  },
  {
   "cell_type": "code",
   "execution_count": 69,
   "metadata": {},
   "outputs": [
    {
     "data": {
      "text/plain": [
       "[<matplotlib.lines.Line2D at 0x1eb312a9f60>]"
      ]
     },
     "execution_count": 69,
     "metadata": {},
     "output_type": "execute_result"
    },
    {
     "data": {
      "image/png": "[encoded data removed]",
      "text/plain": [
       "<Figure size 432x288 with 1 Axes>"
      ]
     },
     "metadata": {
      "needs_background": "light"
     },
     "output_type": "display_data"
    }
   ],
   "source": [
    "plt.plot(history.history['loss'])"
   ]
  },
  {
   "cell_type": "code",
   "execution_count": null,
   "metadata": {},
   "outputs": [],
   "source": []
  }
 ],
 "metadata": {
  "kernelspec": {
   "display_name": "Python 3",
   "language": "python",
   "name": "python3"
  },
  "language_info": {
   "codemirror_mode": {
    "name": "ipython",
    "version": 3
   },
   "file_extension": ".py",
   "mimetype": "text/x-python",
   "name": "python",
   "nbconvert_exporter": "python",
   "pygments_lexer": "ipython3",
   "version": "3.6.8"
  }
 },
 "nbformat": 4,
 "nbformat_minor": 2
}
