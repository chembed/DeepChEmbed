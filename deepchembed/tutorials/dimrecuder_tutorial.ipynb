{
 "cells": [
  {
   "cell_type": "markdown",
   "metadata": {},
   "source": [
    "## Tutorial to use different dimension reducer"
   ]
  },
  {
   "cell_type": "code",
   "execution_count": 1,
   "metadata": {},
   "outputs": [],
   "source": [
    "import __init__\n",
    "from __init__ import DATA_PATH\n",
    "from __init__ import PACKAGE_PATH\n",
    "import matplotlib.pyplot as plt\n",
    "import pandas as pd\n",
    "import os\n",
    "import sklearn.metrics as metrics"
   ]
  },
  {
   "cell_type": "markdown",
   "metadata": {},
   "source": [
    "### Import the data"
   ]
  },
  {
   "cell_type": "code",
   "execution_count": 2,
   "metadata": {},
   "outputs": [
    {
     "data": {
      "text/plain": [
       "(1063, 139)"
      ]
     },
     "execution_count": 2,
     "metadata": {},
     "output_type": "execute_result"
    }
   ],
   "source": [
    "data = pd.read_csv(os.path.join(DATA_PATH,'BOD_biclass_139rdkit.csv'))\n",
    "data_139 = data.iloc[:,2:141]\n",
    "data_train = data_139.values\n",
    "data_train.shape"
   ]
  },
  {
   "cell_type": "markdown",
   "metadata": {},
   "source": [
    "### Using DeepAutoEncoder "
   ]
  },
  {
   "cell_type": "code",
   "execution_count": 3,
   "metadata": {},
   "outputs": [
    {
     "name": "stderr",
     "output_type": "stream",
     "text": [
      "Using TensorFlow backend.\n"
     ]
    }
   ],
   "source": [
    "# import\n",
    "from dimreducer import DeepAutoEncoder"
   ]
  },
  {
   "cell_type": "code",
   "execution_count": 4,
   "metadata": {},
   "outputs": [],
   "source": [
    "# set dimensions of neural networks\n",
    "dims = [139,35]\n",
    "autoencoder = DeepAutoEncoder(dims)\n",
    "\n",
    "# change the dimensions\n",
    "# dims = [139,35]\n",
    "# autoencoder.set_dims(dims)"
   ]
  },
  {
   "cell_type": "code",
   "execution_count": 5,
   "metadata": {},
   "outputs": [
    {
     "name": "stdout",
     "output_type": "stream",
     "text": [
      "WARNING:tensorflow:From /Users/hanghu/miniconda3/envs/deepchembed/lib/python3.6/site-packages/tensorflow/python/framework/op_def_library.py:263: colocate_with (from tensorflow.python.framework.ops) is deprecated and will be removed in a future version.\n",
      "Instructions for updating:\n",
      "Colocations handled automatically by placer.\n"
     ]
    }
   ],
   "source": [
    "# build model\n",
    "autoencoder.build_model()"
   ]
  },
  {
   "cell_type": "code",
   "execution_count": 6,
   "metadata": {},
   "outputs": [
    {
     "name": "stdout",
     "output_type": "stream",
     "text": [
      "_________________________________________________________________\n",
      "Layer (type)                 Output Shape              Param #   \n",
      "=================================================================\n",
      "input (InputLayer)           (None, 139)               0         \n",
      "_________________________________________________________________\n",
      "batch_normalization_1 (Batch (None, 139)               556       \n",
      "_________________________________________________________________\n",
      "embedding_layer (Dense)      (None, 35)                4900      \n",
      "_________________________________________________________________\n",
      "output (Dense)               (None, 139)               5004      \n",
      "=================================================================\n",
      "Total params: 10,460\n",
      "Trainable params: 10,182\n",
      "Non-trainable params: 278\n",
      "_________________________________________________________________\n"
     ]
    }
   ],
   "source": [
    "# get a summary of the model\n",
    "autoencoder.model.summary()"
   ]
  },
  {
   "cell_type": "code",
   "execution_count": 7,
   "metadata": {},
   "outputs": [
    {
     "name": "stdout",
     "output_type": "stream",
     "text": [
      "WARNING:tensorflow:From /Users/hanghu/miniconda3/envs/deepchembed/lib/python3.6/site-packages/tensorflow/python/ops/math_ops.py:3066: to_int32 (from tensorflow.python.ops.math_ops) is deprecated and will be removed in a future version.\n",
      "Instructions for updating:\n",
      "Use tf.cast instead.\n",
      "Epoch 1/150\n",
      "1063/1063 [==============================] - 0s 188us/step - loss: 0.0414\n",
      "Epoch 2/150\n",
      "1063/1063 [==============================] - 0s 10us/step - loss: 0.0241\n",
      "Epoch 3/150\n",
      "1063/1063 [==============================] - 0s 9us/step - loss: 0.0143\n",
      "Epoch 4/150\n",
      "1063/1063 [==============================] - 0s 9us/step - loss: 0.0089\n",
      "Epoch 5/150\n",
      "1063/1063 [==============================] - 0s 8us/step - loss: 0.0060\n",
      "Epoch 6/150\n",
      "1063/1063 [==============================] - 0s 9us/step - loss: 0.0042\n",
      "Epoch 7/150\n",
      "1063/1063 [==============================] - 0s 8us/step - loss: 0.0032\n",
      "Epoch 8/150\n",
      "1063/1063 [==============================] - 0s 7us/step - loss: 0.0026\n",
      "Epoch 9/150\n",
      "1063/1063 [==============================] - 0s 8us/step - loss: 0.0022\n",
      "Epoch 10/150\n",
      "1063/1063 [==============================] - 0s 8us/step - loss: 0.0019\n",
      "Epoch 11/150\n",
      "1063/1063 [==============================] - 0s 9us/step - loss: 0.0017\n",
      "Epoch 12/150\n",
      "1063/1063 [==============================] - 0s 8us/step - loss: 0.0015\n",
      "Epoch 13/150\n",
      "1063/1063 [==============================] - 0s 9us/step - loss: 0.0014\n",
      "Epoch 14/150\n",
      "1063/1063 [==============================] - 0s 8us/step - loss: 0.0013\n",
      "Epoch 15/150\n",
      "1063/1063 [==============================] - 0s 8us/step - loss: 0.0013\n",
      "Epoch 16/150\n",
      "1063/1063 [==============================] - 0s 9us/step - loss: 0.0012\n",
      "Epoch 17/150\n",
      "1063/1063 [==============================] - 0s 8us/step - loss: 0.0012\n",
      "Epoch 18/150\n",
      "1063/1063 [==============================] - 0s 9us/step - loss: 0.0011\n",
      "Epoch 19/150\n",
      "1063/1063 [==============================] - 0s 8us/step - loss: 0.0011\n",
      "Epoch 20/150\n",
      "1063/1063 [==============================] - 0s 9us/step - loss: 0.0011\n",
      "Epoch 21/150\n",
      "1063/1063 [==============================] - 0s 8us/step - loss: 0.0010\n",
      "Epoch 22/150\n",
      "1063/1063 [==============================] - ETA: 0s - loss: 9.5270e-0 - 0s 9us/step - loss: 0.0010\n",
      "Epoch 23/150\n",
      "1063/1063 [==============================] - 0s 8us/step - loss: 0.0010\n",
      "Epoch 24/150\n",
      "1063/1063 [==============================] - 0s 9us/step - loss: 9.7964e-04\n",
      "Epoch 25/150\n",
      "1063/1063 [==============================] - 0s 10us/step - loss: 9.7212e-04\n",
      "Epoch 26/150\n",
      "1063/1063 [==============================] - 0s 8us/step - loss: 9.6077e-04\n",
      "Epoch 27/150\n",
      "1063/1063 [==============================] - 0s 9us/step - loss: 9.4505e-04\n",
      "Epoch 28/150\n",
      "1063/1063 [==============================] - 0s 8us/step - loss: 9.3271e-04\n",
      "Epoch 29/150\n",
      "1063/1063 [==============================] - 0s 8us/step - loss: 9.1719e-04\n",
      "Epoch 30/150\n",
      "1063/1063 [==============================] - 0s 9us/step - loss: 9.1425e-04\n",
      "Epoch 31/150\n",
      "1063/1063 [==============================] - 0s 8us/step - loss: 9.0925e-04\n",
      "Epoch 32/150\n",
      "1063/1063 [==============================] - 0s 9us/step - loss: 8.9869e-04\n",
      "Epoch 33/150\n",
      "1063/1063 [==============================] - 0s 9us/step - loss: 8.9054e-04\n",
      "Epoch 34/150\n",
      "1063/1063 [==============================] - 0s 9us/step - loss: 8.8663e-04\n",
      "Epoch 35/150\n",
      "1063/1063 [==============================] - 0s 9us/step - loss: 8.8066e-04\n",
      "Epoch 36/150\n",
      "1063/1063 [==============================] - 0s 8us/step - loss: 8.7415e-04\n",
      "Epoch 37/150\n",
      "1063/1063 [==============================] - 0s 9us/step - loss: 8.6692e-04\n",
      "Epoch 38/150\n",
      "1063/1063 [==============================] - 0s 9us/step - loss: 8.6496e-04\n",
      "Epoch 39/150\n",
      "1063/1063 [==============================] - 0s 9us/step - loss: 8.5958e-04\n",
      "Epoch 40/150\n",
      "1063/1063 [==============================] - 0s 9us/step - loss: 8.5680e-04\n",
      "Epoch 41/150\n",
      "1063/1063 [==============================] - 0s 9us/step - loss: 8.5148e-04\n",
      "Epoch 42/150\n",
      "1063/1063 [==============================] - 0s 9us/step - loss: 8.4708e-04\n",
      "Epoch 43/150\n",
      "1063/1063 [==============================] - 0s 9us/step - loss: 8.4514e-04\n",
      "Epoch 44/150\n",
      "1063/1063 [==============================] - 0s 8us/step - loss: 8.4131e-04\n",
      "Epoch 45/150\n",
      "1063/1063 [==============================] - 0s 9us/step - loss: 8.3750e-04\n",
      "Epoch 46/150\n",
      "1063/1063 [==============================] - 0s 8us/step - loss: 8.3555e-04\n",
      "Epoch 47/150\n",
      "1063/1063 [==============================] - 0s 9us/step - loss: 8.3422e-04\n",
      "Epoch 48/150\n",
      "1063/1063 [==============================] - 0s 9us/step - loss: 8.3004e-04\n",
      "Epoch 49/150\n",
      "1063/1063 [==============================] - 0s 8us/step - loss: 8.2661e-04\n",
      "Epoch 50/150\n",
      "1063/1063 [==============================] - 0s 8us/step - loss: 8.2613e-04\n",
      "Epoch 51/150\n",
      "1063/1063 [==============================] - 0s 8us/step - loss: 8.2420e-04\n",
      "Epoch 52/150\n",
      "1063/1063 [==============================] - 0s 8us/step - loss: 8.2203e-04\n",
      "Epoch 53/150\n",
      "1063/1063 [==============================] - 0s 10us/step - loss: 8.2078e-04\n",
      "Epoch 54/150\n",
      "1063/1063 [==============================] - 0s 8us/step - loss: 8.1950e-04\n",
      "Epoch 55/150\n",
      "1063/1063 [==============================] - 0s 9us/step - loss: 8.1606e-04\n",
      "Epoch 56/150\n",
      "1063/1063 [==============================] - 0s 8us/step - loss: 8.1430e-04\n",
      "Epoch 57/150\n",
      "1063/1063 [==============================] - 0s 8us/step - loss: 8.1159e-04\n",
      "Epoch 58/150\n",
      "1063/1063 [==============================] - 0s 8us/step - loss: 8.1275e-04\n",
      "Epoch 59/150\n",
      "1063/1063 [==============================] - 0s 8us/step - loss: 8.1006e-04\n",
      "Epoch 60/150\n",
      "1063/1063 [==============================] - 0s 8us/step - loss: 8.0971e-04\n",
      "Epoch 61/150\n",
      "1063/1063 [==============================] - 0s 7us/step - loss: 8.0769e-04\n",
      "Epoch 62/150\n",
      "1063/1063 [==============================] - 0s 8us/step - loss: 8.1022e-04\n",
      "Epoch 63/150\n",
      "1063/1063 [==============================] - 0s 8us/step - loss: 8.0463e-04\n",
      "Epoch 64/150\n",
      "1063/1063 [==============================] - 0s 8us/step - loss: 8.0233e-04\n",
      "Epoch 65/150\n",
      "1063/1063 [==============================] - 0s 8us/step - loss: 8.0157e-04\n",
      "Epoch 66/150\n",
      "1063/1063 [==============================] - 0s 8us/step - loss: 8.0099e-04\n",
      "Epoch 67/150\n",
      "1063/1063 [==============================] - 0s 9us/step - loss: 7.9977e-04\n",
      "Epoch 68/150\n",
      "1063/1063 [==============================] - 0s 7us/step - loss: 7.9719e-04\n",
      "Epoch 69/150\n",
      "1063/1063 [==============================] - 0s 8us/step - loss: 7.9637e-04\n",
      "Epoch 70/150\n",
      "1063/1063 [==============================] - 0s 7us/step - loss: 7.9392e-04\n",
      "Epoch 71/150\n",
      "1063/1063 [==============================] - 0s 8us/step - loss: 7.9364e-04\n",
      "Epoch 72/150\n",
      "1063/1063 [==============================] - 0s 7us/step - loss: 7.9118e-04\n",
      "Epoch 73/150\n",
      "1063/1063 [==============================] - 0s 8us/step - loss: 7.9122e-04\n",
      "Epoch 74/150\n",
      "1063/1063 [==============================] - 0s 7us/step - loss: 7.9036e-04\n",
      "Epoch 75/150\n",
      "1063/1063 [==============================] - 0s 9us/step - loss: 7.9010e-04\n",
      "Epoch 76/150\n",
      "1063/1063 [==============================] - 0s 8us/step - loss: 7.8769e-04\n",
      "Epoch 77/150\n",
      "1063/1063 [==============================] - 0s 8us/step - loss: 7.8802e-04\n",
      "Epoch 78/150\n",
      "1063/1063 [==============================] - 0s 8us/step - loss: 7.8622e-04\n",
      "Epoch 79/150\n",
      "1063/1063 [==============================] - 0s 8us/step - loss: 7.8486e-04\n",
      "Epoch 80/150\n",
      "1063/1063 [==============================] - 0s 8us/step - loss: 7.8317e-04\n",
      "Epoch 81/150\n",
      "1063/1063 [==============================] - 0s 8us/step - loss: 7.8402e-04\n",
      "Epoch 82/150\n",
      "1063/1063 [==============================] - 0s 9us/step - loss: 7.8325e-04\n",
      "Epoch 83/150\n",
      "1063/1063 [==============================] - 0s 8us/step - loss: 7.8200e-04\n",
      "Epoch 84/150\n",
      "1063/1063 [==============================] - 0s 8us/step - loss: 7.7987e-04\n",
      "Epoch 85/150\n",
      "1063/1063 [==============================] - 0s 8us/step - loss: 7.8050e-04\n",
      "Epoch 86/150\n",
      "1063/1063 [==============================] - 0s 8us/step - loss: 7.8275e-04\n",
      "Epoch 87/150\n",
      "1063/1063 [==============================] - 0s 8us/step - loss: 7.7861e-04\n",
      "Epoch 88/150\n",
      "1063/1063 [==============================] - 0s 8us/step - loss: 7.7754e-04\n",
      "Epoch 89/150\n",
      "1063/1063 [==============================] - 0s 8us/step - loss: 7.7675e-04\n",
      "Epoch 90/150\n",
      "1063/1063 [==============================] - 0s 8us/step - loss: 7.7647e-04\n",
      "Epoch 91/150\n",
      "1063/1063 [==============================] - 0s 8us/step - loss: 7.7818e-04\n",
      "Epoch 92/150\n",
      "1063/1063 [==============================] - 0s 8us/step - loss: 7.7492e-04\n",
      "Epoch 93/150\n",
      "1063/1063 [==============================] - 0s 8us/step - loss: 7.7424e-04\n",
      "Epoch 94/150\n",
      "1063/1063 [==============================] - 0s 7us/step - loss: 7.7330e-04\n",
      "Epoch 95/150\n",
      "1063/1063 [==============================] - 0s 7us/step - loss: 7.7191e-04\n",
      "Epoch 96/150\n",
      "1063/1063 [==============================] - 0s 8us/step - loss: 7.7196e-04\n",
      "Epoch 97/150\n",
      "1063/1063 [==============================] - 0s 7us/step - loss: 7.7194e-04\n",
      "Epoch 98/150\n",
      "1063/1063 [==============================] - 0s 8us/step - loss: 7.7021e-04\n",
      "Epoch 99/150\n",
      "1063/1063 [==============================] - 0s 8us/step - loss: 7.6791e-04\n",
      "Epoch 100/150\n",
      "1063/1063 [==============================] - 0s 8us/step - loss: 7.6835e-04\n",
      "Epoch 101/150\n",
      "1063/1063 [==============================] - 0s 8us/step - loss: 7.6810e-04\n",
      "Epoch 102/150\n",
      "1063/1063 [==============================] - 0s 8us/step - loss: 7.6506e-04\n",
      "Epoch 103/150\n",
      "1063/1063 [==============================] - 0s 8us/step - loss: 7.6675e-04\n",
      "Epoch 104/150\n",
      "1063/1063 [==============================] - 0s 7us/step - loss: 7.6581e-04\n",
      "Epoch 105/150\n",
      "1063/1063 [==============================] - 0s 8us/step - loss: 7.6542e-04\n",
      "Epoch 106/150\n",
      "1063/1063 [==============================] - 0s 7us/step - loss: 7.6302e-04\n",
      "Epoch 107/150\n",
      "1063/1063 [==============================] - 0s 8us/step - loss: 7.6527e-04\n",
      "Epoch 108/150\n",
      "1063/1063 [==============================] - 0s 7us/step - loss: 7.6092e-04\n",
      "Epoch 109/150\n",
      "1063/1063 [==============================] - 0s 8us/step - loss: 7.6228e-04\n",
      "Epoch 110/150\n",
      "1063/1063 [==============================] - 0s 7us/step - loss: 7.6309e-04\n",
      "Epoch 111/150\n",
      "1063/1063 [==============================] - 0s 9us/step - loss: 7.6036e-04\n",
      "Epoch 112/150\n",
      "1063/1063 [==============================] - 0s 7us/step - loss: 7.5962e-04\n",
      "Epoch 113/150\n",
      "1063/1063 [==============================] - 0s 8us/step - loss: 7.6013e-04\n",
      "Epoch 114/150\n",
      "1063/1063 [==============================] - 0s 7us/step - loss: 7.5739e-04\n",
      "Epoch 115/150\n",
      "1063/1063 [==============================] - 0s 9us/step - loss: 7.5740e-04\n",
      "Epoch 116/150\n",
      "1063/1063 [==============================] - 0s 7us/step - loss: 7.5598e-04\n",
      "Epoch 117/150\n",
      "1063/1063 [==============================] - 0s 9us/step - loss: 7.5576e-04\n",
      "Epoch 118/150\n",
      "1063/1063 [==============================] - 0s 7us/step - loss: 7.5595e-04\n",
      "Epoch 119/150\n",
      "1063/1063 [==============================] - 0s 8us/step - loss: 7.5580e-04\n",
      "Epoch 120/150\n",
      "1063/1063 [==============================] - 0s 7us/step - loss: 7.5391e-04\n",
      "Epoch 121/150\n",
      "1063/1063 [==============================] - 0s 8us/step - loss: 7.5458e-04\n",
      "Epoch 122/150\n",
      "1063/1063 [==============================] - 0s 7us/step - loss: 7.5322e-04\n",
      "Epoch 123/150\n",
      "1063/1063 [==============================] - 0s 8us/step - loss: 7.5288e-04\n",
      "Epoch 124/150\n",
      "1063/1063 [==============================] - 0s 8us/step - loss: 7.5211e-04\n",
      "Epoch 125/150\n",
      "1063/1063 [==============================] - 0s 8us/step - loss: 7.5184e-04\n",
      "Epoch 126/150\n",
      "1063/1063 [==============================] - 0s 8us/step - loss: 7.5391e-04\n",
      "Epoch 127/150\n",
      "1063/1063 [==============================] - 0s 7us/step - loss: 7.4918e-04\n",
      "Epoch 128/150\n",
      "1063/1063 [==============================] - 0s 9us/step - loss: 7.4985e-04\n",
      "Epoch 129/150\n",
      "1063/1063 [==============================] - 0s 7us/step - loss: 7.4928e-04\n",
      "Epoch 130/150\n",
      "1063/1063 [==============================] - 0s 9us/step - loss: 7.4664e-04\n",
      "Epoch 131/150\n",
      "1063/1063 [==============================] - 0s 7us/step - loss: 7.4651e-04\n",
      "Epoch 132/150\n",
      "1063/1063 [==============================] - 0s 8us/step - loss: 7.4536e-04\n",
      "Epoch 133/150\n",
      "1063/1063 [==============================] - 0s 7us/step - loss: 7.4517e-04\n",
      "Epoch 134/150\n",
      "1063/1063 [==============================] - 0s 8us/step - loss: 7.4558e-04\n",
      "Epoch 135/150\n",
      "1063/1063 [==============================] - 0s 7us/step - loss: 7.4313e-04\n",
      "Epoch 136/150\n",
      "1063/1063 [==============================] - 0s 8us/step - loss: 7.4357e-04\n",
      "Epoch 137/150\n",
      "1063/1063 [==============================] - 0s 8us/step - loss: 7.4153e-04\n",
      "Epoch 138/150\n",
      "1063/1063 [==============================] - 0s 8us/step - loss: 7.4003e-04\n",
      "Epoch 139/150\n",
      "1063/1063 [==============================] - 0s 7us/step - loss: 7.3950e-04\n",
      "Epoch 140/150\n",
      "1063/1063 [==============================] - 0s 8us/step - loss: 7.3806e-04\n",
      "Epoch 141/150\n",
      "1063/1063 [==============================] - 0s 7us/step - loss: 7.3804e-04\n",
      "Epoch 142/150\n",
      "1063/1063 [==============================] - 0s 8us/step - loss: 7.3658e-04\n",
      "Epoch 143/150\n",
      "1063/1063 [==============================] - 0s 8us/step - loss: 7.3717e-04\n",
      "Epoch 144/150\n",
      "1063/1063 [==============================] - ETA: 0s - loss: 8.1928e-0 - 0s 8us/step - loss: 7.3327e-04\n",
      "Epoch 145/150\n",
      "1063/1063 [==============================] - 0s 8us/step - loss: 7.3353e-04\n",
      "Epoch 146/150\n",
      "1063/1063 [==============================] - 0s 8us/step - loss: 7.3088e-04\n",
      "Epoch 147/150\n",
      "1063/1063 [==============================] - 0s 8us/step - loss: 7.3034e-04\n",
      "Epoch 148/150\n",
      "1063/1063 [==============================] - 0s 7us/step - loss: 7.2967e-04\n",
      "Epoch 149/150\n",
      "1063/1063 [==============================] - 0s 8us/step - loss: 7.2895e-04\n",
      "Epoch 150/150\n",
      "1063/1063 [==============================] - 0s 9us/step - loss: 7.2948e-04\n"
     ]
    }
   ],
   "source": [
    "# train model with the data with default settings and get training history out\n",
    "history = autoencoder.train_model(data_train)"
   ]
  },
  {
   "cell_type": "code",
   "execution_count": 8,
   "metadata": {
    "scrolled": true
   },
   "outputs": [
    {
     "data": {
      "text/plain": [
       "[<matplotlib.lines.Line2D at 0x1a3707aa90>]"
      ]
     },
     "execution_count": 8,
     "metadata": {},
     "output_type": "execute_result"
    },
    {
     "data": {
      "image/png": "[encoded data removed]",
      "text/plain": [
       "<Figure size 432x288 with 1 Axes>"
      ]
     },
     "metadata": {
      "needs_background": "light"
     },
     "output_type": "display_data"
    }
   ],
   "source": [
    "# plot the history\n",
    "plt.plot(history.history['loss'])"
   ]
  },
  {
   "cell_type": "code",
   "execution_count": 10,
   "metadata": {},
   "outputs": [
    {
     "data": {
      "text/plain": [
       "0.0007294845628343621"
      ]
     },
     "execution_count": 10,
     "metadata": {},
     "output_type": "execute_result"
    }
   ],
   "source": []
  },
  {
   "cell_type": "code",
   "execution_count": null,
   "metadata": {},
   "outputs": [],
   "source": []
  }
 ],
 "metadata": {
  "kernelspec": {
   "display_name": "Python 3",
   "language": "python",
   "name": "python3"
  },
  "language_info": {
   "codemirror_mode": {
    "name": "ipython",
    "version": 3
   },
   "file_extension": ".py",
   "mimetype": "text/x-python",
   "name": "python",
   "nbconvert_exporter": "python",
   "pygments_lexer": "ipython3",
   "version": "3.6.8"
  }
 },
 "nbformat": 4,
 "nbformat_minor": 2
}
