{
 "cells": [
  {
   "cell_type": "markdown",
   "metadata": {},
   "source": [
    "## Tutorial to use different dimension reducer"
   ]
  },
  {
   "cell_type": "code",
   "execution_count": 1,
   "metadata": {},
   "outputs": [],
   "source": [
    "import __init__\n",
    "from __init__ import DATA_PATH\n",
    "from __init__ import PACKAGE_PATH\n",
    "import matplotlib.pyplot as plt\n",
    "import pandas as pd\n",
    "import os\n",
    "import sklearn.metrics as metrics"
   ]
  },
  {
   "cell_type": "markdown",
   "metadata": {},
   "source": [
    "### Import the data"
   ]
  },
  {
   "cell_type": "code",
   "execution_count": 2,
   "metadata": {},
   "outputs": [
    {
     "data": {
      "text/plain": [
       "(1063, 139)"
      ]
     },
     "execution_count": 2,
     "metadata": {},
     "output_type": "execute_result"
    }
   ],
   "source": [
    "data = pd.read_csv(os.path.join(DATA_PATH,'BOD_biclass_139rdkit.csv'))\n",
    "data_139 = data.iloc[:,2:141]\n",
    "data_train = data_139.values\n",
    "data_train.shape"
   ]
  },
  {
   "cell_type": "markdown",
   "metadata": {},
   "source": [
    "### Using DeepAutoEncoder "
   ]
  },
  {
   "cell_type": "code",
   "execution_count": 3,
   "metadata": {},
   "outputs": [
    {
     "name": "stderr",
     "output_type": "stream",
     "text": [
      "Using TensorFlow backend.\n"
     ]
    }
   ],
   "source": [
    "# import\n",
    "from dimreducer import DeepAutoEncoder"
   ]
  },
  {
   "cell_type": "code",
   "execution_count": 4,
   "metadata": {},
   "outputs": [],
   "source": [
    "# set dimensions of neural networks\n",
    "dims = [139,35]\n",
    "autoencoder = DeepAutoEncoder(dims)\n",
    "\n",
    "# change the dimensions\n",
    "# dims = [139,35]\n",
    "# autoencoder.set_dims(dims)"
   ]
  },
  {
   "cell_type": "code",
   "execution_count": 5,
   "metadata": {},
   "outputs": [
    {
     "name": "stdout",
     "output_type": "stream",
     "text": [
      "WARNING:tensorflow:From /Users/hunting/miniconda3/envs/deepchembed/lib/python3.6/site-packages/tensorflow/python/framework/op_def_library.py:263: colocate_with (from tensorflow.python.framework.ops) is deprecated and will be removed in a future version.\n",
      "Instructions for updating:\n",
      "Colocations handled automatically by placer.\n"
     ]
    }
   ],
   "source": [
    "# build model\n",
    "autoencoder.build_model()"
   ]
  },
  {
   "cell_type": "code",
   "execution_count": 6,
   "metadata": {},
   "outputs": [
    {
     "name": "stdout",
     "output_type": "stream",
     "text": [
      "_________________________________________________________________\n",
      "Layer (type)                 Output Shape              Param #   \n",
      "=================================================================\n",
      "input (InputLayer)           (None, 139)               0         \n",
      "_________________________________________________________________\n",
      "batch_normalization_1 (Batch (None, 139)               556       \n",
      "_________________________________________________________________\n",
      "embedding_layer (Dense)      (None, 35)                4900      \n",
      "_________________________________________________________________\n",
      "decoder_output (Dense)       (None, 139)               5004      \n",
      "=================================================================\n",
      "Total params: 10,460\n",
      "Trainable params: 10,182\n",
      "Non-trainable params: 278\n",
      "_________________________________________________________________\n"
     ]
    }
   ],
   "source": [
    "# get a summary of the model\n",
    "autoencoder.model.summary()"
   ]
  },
  {
   "cell_type": "code",
   "execution_count": 7,
   "metadata": {},
   "outputs": [
    {
     "name": "stdout",
     "output_type": "stream",
     "text": [
      "WARNING:tensorflow:From /Users/hunting/miniconda3/envs/deepchembed/lib/python3.6/site-packages/tensorflow/python/ops/math_ops.py:3066: to_int32 (from tensorflow.python.ops.math_ops) is deprecated and will be removed in a future version.\n",
      "Instructions for updating:\n",
      "Use tf.cast instead.\n",
      "Epoch 1/150\n",
      "1063/1063 [==============================] - 1s 942us/step - loss: 1328.1368\n",
      "Epoch 2/150\n",
      "1063/1063 [==============================] - 0s 35us/step - loss: 1326.5284\n",
      "Epoch 3/150\n",
      "1063/1063 [==============================] - 0s 37us/step - loss: 1324.5845\n",
      "Epoch 4/150\n",
      "1063/1063 [==============================] - 0s 34us/step - loss: 1322.2906\n",
      "Epoch 5/150\n",
      "1063/1063 [==============================] - 0s 36us/step - loss: 1319.4903\n",
      "Epoch 6/150\n",
      "1063/1063 [==============================] - 0s 35us/step - loss: 1316.0499\n",
      "Epoch 7/150\n",
      "1063/1063 [==============================] - 0s 38us/step - loss: 1311.9633\n",
      "Epoch 8/150\n",
      "1063/1063 [==============================] - 0s 34us/step - loss: 1306.9102\n",
      "Epoch 9/150\n",
      "1063/1063 [==============================] - 0s 35us/step - loss: 1301.4199\n",
      "Epoch 10/150\n",
      "1063/1063 [==============================] - 0s 34us/step - loss: 1293.9566\n",
      "Epoch 11/150\n",
      "1063/1063 [==============================] - 0s 177us/step - loss: 1286.0167\n",
      "Epoch 12/150\n",
      "1063/1063 [==============================] - 0s 61us/step - loss: 1276.8370\n",
      "Epoch 13/150\n",
      "1063/1063 [==============================] - 0s 34us/step - loss: 1266.9157\n",
      "Epoch 14/150\n",
      "1063/1063 [==============================] - 0s 38us/step - loss: 1255.7615\n",
      "Epoch 15/150\n",
      "1063/1063 [==============================] - 0s 37us/step - loss: 1244.3732\n",
      "Epoch 16/150\n",
      "1063/1063 [==============================] - 0s 36us/step - loss: 1231.5290\n",
      "Epoch 17/150\n",
      "1063/1063 [==============================] - 0s 35us/step - loss: 1218.2611\n",
      "Epoch 18/150\n",
      "1063/1063 [==============================] - 0s 35us/step - loss: 1204.4285\n",
      "Epoch 19/150\n",
      "1063/1063 [==============================] - 0s 34us/step - loss: 1188.9278\n",
      "Epoch 20/150\n",
      "1063/1063 [==============================] - 0s 34us/step - loss: 1173.7590\n",
      "Epoch 21/150\n",
      "1063/1063 [==============================] - 0s 35us/step - loss: 1157.7882\n",
      "Epoch 22/150\n",
      "1063/1063 [==============================] - 0s 35us/step - loss: 1142.1618\n",
      "Epoch 23/150\n",
      "1063/1063 [==============================] - 0s 35us/step - loss: 1123.8801\n",
      "Epoch 24/150\n",
      "1063/1063 [==============================] - 0s 35us/step - loss: 1106.8972\n",
      "Epoch 25/150\n",
      "1063/1063 [==============================] - 0s 35us/step - loss: 1090.0750\n",
      "Epoch 26/150\n",
      "1063/1063 [==============================] - 0s 35us/step - loss: 1073.6876\n",
      "Epoch 27/150\n",
      "1063/1063 [==============================] - 0s 35us/step - loss: 1054.6560\n",
      "Epoch 28/150\n",
      "1063/1063 [==============================] - 0s 37us/step - loss: 1037.2635\n",
      "Epoch 29/150\n",
      "1063/1063 [==============================] - 0s 38us/step - loss: 1018.1388\n",
      "Epoch 30/150\n",
      "1063/1063 [==============================] - 0s 36us/step - loss: 1002.4907\n",
      "Epoch 31/150\n",
      "1063/1063 [==============================] - 0s 38us/step - loss: 983.5251\n",
      "Epoch 32/150\n",
      "1063/1063 [==============================] - 0s 38us/step - loss: 966.2318\n",
      "Epoch 33/150\n",
      "1063/1063 [==============================] - 0s 38us/step - loss: 948.9570\n",
      "Epoch 34/150\n",
      "1063/1063 [==============================] - 0s 37us/step - loss: 931.7901\n",
      "Epoch 35/150\n",
      "1063/1063 [==============================] - 0s 38us/step - loss: 915.8145\n",
      "Epoch 36/150\n",
      "1063/1063 [==============================] - 0s 42us/step - loss: 899.7602\n",
      "Epoch 37/150\n",
      "1063/1063 [==============================] - 0s 39us/step - loss: 884.2598\n",
      "Epoch 38/150\n",
      "1063/1063 [==============================] - 0s 38us/step - loss: 868.8011\n",
      "Epoch 39/150\n",
      "1063/1063 [==============================] - 0s 36us/step - loss: 851.7154\n",
      "Epoch 40/150\n",
      "1063/1063 [==============================] - 0s 36us/step - loss: 837.6124\n",
      "Epoch 41/150\n",
      "1063/1063 [==============================] - 0s 35us/step - loss: 824.9454\n",
      "Epoch 42/150\n",
      "1063/1063 [==============================] - 0s 35us/step - loss: 811.8246\n",
      "Epoch 43/150\n",
      "1063/1063 [==============================] - 0s 39us/step - loss: 798.3303\n",
      "Epoch 44/150\n",
      "1063/1063 [==============================] - 0s 38us/step - loss: 789.0389\n",
      "Epoch 45/150\n",
      "1063/1063 [==============================] - 0s 36us/step - loss: 778.5134\n",
      "Epoch 46/150\n",
      "1063/1063 [==============================] - 0s 35us/step - loss: 769.3172\n",
      "Epoch 47/150\n",
      "1063/1063 [==============================] - 0s 35us/step - loss: 758.9974\n",
      "Epoch 48/150\n",
      "1063/1063 [==============================] - 0s 40us/step - loss: 750.3029\n",
      "Epoch 49/150\n",
      "1063/1063 [==============================] - 0s 35us/step - loss: 743.2229\n",
      "Epoch 50/150\n",
      "1063/1063 [==============================] - 0s 36us/step - loss: 736.2171\n",
      "Epoch 51/150\n",
      "1063/1063 [==============================] - 0s 36us/step - loss: 729.4360\n",
      "Epoch 52/150\n",
      "1063/1063 [==============================] - 0s 34us/step - loss: 723.1647\n",
      "Epoch 53/150\n",
      "1063/1063 [==============================] - 0s 37us/step - loss: 717.3237\n",
      "Epoch 54/150\n",
      "1063/1063 [==============================] - 0s 35us/step - loss: 712.4582\n",
      "Epoch 55/150\n",
      "1063/1063 [==============================] - 0s 33us/step - loss: 709.2692\n",
      "Epoch 56/150\n",
      "1063/1063 [==============================] - 0s 33us/step - loss: 704.6879\n",
      "Epoch 57/150\n",
      "1063/1063 [==============================] - 0s 32us/step - loss: 702.3795\n",
      "Epoch 58/150\n",
      "1063/1063 [==============================] - 0s 33us/step - loss: 697.7415\n",
      "Epoch 59/150\n",
      "1063/1063 [==============================] - 0s 33us/step - loss: 696.3597\n",
      "Epoch 60/150\n",
      "1063/1063 [==============================] - 0s 208us/step - loss: 693.3131\n",
      "Epoch 61/150\n",
      "1063/1063 [==============================] - 0s 33us/step - loss: 692.4377\n",
      "Epoch 62/150\n",
      "1063/1063 [==============================] - 0s 33us/step - loss: 688.4597\n",
      "Epoch 63/150\n",
      "1063/1063 [==============================] - 0s 33us/step - loss: 686.1085\n",
      "Epoch 64/150\n",
      "1063/1063 [==============================] - 0s 33us/step - loss: 685.4865\n",
      "Epoch 65/150\n",
      "1063/1063 [==============================] - 0s 33us/step - loss: 685.8861\n",
      "Epoch 66/150\n",
      "1063/1063 [==============================] - 0s 34us/step - loss: 683.2687\n",
      "Epoch 67/150\n",
      "1063/1063 [==============================] - 0s 33us/step - loss: 680.3064\n",
      "Epoch 68/150\n",
      "1063/1063 [==============================] - 0s 34us/step - loss: 679.1074\n",
      "Epoch 69/150\n",
      "1063/1063 [==============================] - 0s 34us/step - loss: 676.9817\n",
      "Epoch 70/150\n",
      "1063/1063 [==============================] - 0s 33us/step - loss: 677.3643\n",
      "Epoch 71/150\n",
      "1063/1063 [==============================] - 0s 34us/step - loss: 677.1675\n",
      "Epoch 72/150\n",
      "1063/1063 [==============================] - 0s 34us/step - loss: 673.9029\n",
      "Epoch 73/150\n",
      "1063/1063 [==============================] - 0s 33us/step - loss: 673.4026\n",
      "Epoch 74/150\n",
      "1063/1063 [==============================] - 0s 34us/step - loss: 670.9020\n",
      "Epoch 75/150\n",
      "1063/1063 [==============================] - 0s 34us/step - loss: 673.1920\n",
      "Epoch 76/150\n",
      "1063/1063 [==============================] - 0s 33us/step - loss: 673.2463\n",
      "Epoch 77/150\n",
      "1063/1063 [==============================] - 0s 35us/step - loss: 671.4776\n",
      "Epoch 78/150\n",
      "1063/1063 [==============================] - 0s 33us/step - loss: 670.1153\n",
      "Epoch 79/150\n",
      "1063/1063 [==============================] - 0s 34us/step - loss: 668.0788\n",
      "Epoch 80/150\n",
      "1063/1063 [==============================] - 0s 34us/step - loss: 671.2494\n",
      "Epoch 81/150\n",
      "1063/1063 [==============================] - 0s 33us/step - loss: 667.1092\n",
      "Epoch 82/150\n",
      "1063/1063 [==============================] - 0s 35us/step - loss: 665.7278\n",
      "Epoch 83/150\n",
      "1063/1063 [==============================] - 0s 34us/step - loss: 665.8860\n",
      "Epoch 84/150\n",
      "1063/1063 [==============================] - 0s 34us/step - loss: 663.7790\n",
      "Epoch 85/150\n",
      "1063/1063 [==============================] - 0s 35us/step - loss: 666.2742\n",
      "Epoch 86/150\n",
      "1063/1063 [==============================] - 0s 34us/step - loss: 661.6086\n",
      "Epoch 87/150\n",
      "1063/1063 [==============================] - 0s 34us/step - loss: 660.8437\n",
      "Epoch 88/150\n",
      "1063/1063 [==============================] - 0s 35us/step - loss: 663.1142\n",
      "Epoch 89/150\n",
      "1063/1063 [==============================] - 0s 33us/step - loss: 661.5333\n",
      "Epoch 90/150\n"
     ]
    },
    {
     "name": "stdout",
     "output_type": "stream",
     "text": [
      "1063/1063 [==============================] - 0s 35us/step - loss: 658.8269\n",
      "Epoch 91/150\n",
      "1063/1063 [==============================] - 0s 33us/step - loss: 658.1948\n",
      "Epoch 92/150\n",
      "1063/1063 [==============================] - 0s 36us/step - loss: 657.0221\n",
      "Epoch 93/150\n",
      "1063/1063 [==============================] - 0s 34us/step - loss: 658.9649\n",
      "Epoch 94/150\n",
      "1063/1063 [==============================] - 0s 34us/step - loss: 658.8996\n",
      "Epoch 95/150\n",
      "1063/1063 [==============================] - 0s 34us/step - loss: 657.7802\n",
      "Epoch 96/150\n",
      "1063/1063 [==============================] - 0s 34us/step - loss: 658.7009\n",
      "Epoch 97/150\n",
      "1063/1063 [==============================] - 0s 35us/step - loss: 657.1304\n",
      "Epoch 98/150\n",
      "1063/1063 [==============================] - 0s 34us/step - loss: 657.5186\n",
      "Epoch 99/150\n",
      "1063/1063 [==============================] - 0s 34us/step - loss: 656.1927\n",
      "Epoch 100/150\n",
      "1063/1063 [==============================] - 0s 34us/step - loss: 654.9836\n",
      "Epoch 101/150\n",
      "1063/1063 [==============================] - 0s 35us/step - loss: 654.0728\n",
      "Epoch 102/150\n",
      "1063/1063 [==============================] - 0s 34us/step - loss: 657.4215\n",
      "Epoch 103/150\n",
      "1063/1063 [==============================] - 0s 35us/step - loss: 652.5655\n",
      "Epoch 104/150\n",
      "1063/1063 [==============================] - 0s 34us/step - loss: 652.7427\n",
      "Epoch 105/150\n",
      "1063/1063 [==============================] - 0s 35us/step - loss: 655.9355\n",
      "Epoch 106/150\n",
      "1063/1063 [==============================] - 0s 36us/step - loss: 652.5781\n",
      "Epoch 107/150\n",
      "1063/1063 [==============================] - 0s 34us/step - loss: 649.9571\n",
      "Epoch 108/150\n",
      "1063/1063 [==============================] - 0s 35us/step - loss: 654.7038\n",
      "Epoch 109/150\n",
      "1063/1063 [==============================] - 0s 34us/step - loss: 650.2278\n",
      "Epoch 110/150\n",
      "1063/1063 [==============================] - 0s 34us/step - loss: 649.6352\n",
      "Epoch 111/150\n",
      "1063/1063 [==============================] - 0s 206us/step - loss: 649.4859\n",
      "Epoch 112/150\n",
      "1063/1063 [==============================] - 0s 35us/step - loss: 649.3803\n",
      "Epoch 113/150\n",
      "1063/1063 [==============================] - 0s 33us/step - loss: 646.4798\n",
      "Epoch 114/150\n",
      "1063/1063 [==============================] - 0s 33us/step - loss: 646.7552\n",
      "Epoch 115/150\n",
      "1063/1063 [==============================] - 0s 33us/step - loss: 645.8400\n",
      "Epoch 116/150\n",
      "1063/1063 [==============================] - 0s 34us/step - loss: 646.1787\n",
      "Epoch 117/150\n",
      "1063/1063 [==============================] - 0s 36us/step - loss: 644.7585\n",
      "Epoch 118/150\n",
      "1063/1063 [==============================] - 0s 35us/step - loss: 648.0037\n",
      "Epoch 119/150\n",
      "1063/1063 [==============================] - 0s 40us/step - loss: 646.3641\n",
      "Epoch 120/150\n",
      "1063/1063 [==============================] - 0s 40us/step - loss: 644.2159\n",
      "Epoch 121/150\n",
      "1063/1063 [==============================] - 0s 39us/step - loss: 643.8998\n",
      "Epoch 122/150\n",
      "1063/1063 [==============================] - 0s 36us/step - loss: 645.4631\n",
      "Epoch 123/150\n",
      "1063/1063 [==============================] - 0s 36us/step - loss: 643.2479\n",
      "Epoch 124/150\n",
      "1063/1063 [==============================] - 0s 33us/step - loss: 642.1454\n",
      "Epoch 125/150\n",
      "1063/1063 [==============================] - 0s 33us/step - loss: 648.8466\n",
      "Epoch 126/150\n",
      "1063/1063 [==============================] - 0s 35us/step - loss: 643.2422\n",
      "Epoch 127/150\n",
      "1063/1063 [==============================] - 0s 34us/step - loss: 639.6431\n",
      "Epoch 128/150\n",
      "1063/1063 [==============================] - 0s 33us/step - loss: 642.0000\n",
      "Epoch 129/150\n",
      "1063/1063 [==============================] - 0s 33us/step - loss: 639.0882\n",
      "Epoch 130/150\n",
      "1063/1063 [==============================] - 0s 32us/step - loss: 639.6137\n",
      "Epoch 131/150\n",
      "1063/1063 [==============================] - 0s 33us/step - loss: 638.1738\n",
      "Epoch 132/150\n",
      "1063/1063 [==============================] - 0s 32us/step - loss: 637.4921\n",
      "Epoch 133/150\n",
      "1063/1063 [==============================] - 0s 33us/step - loss: 639.6675\n",
      "Epoch 134/150\n",
      "1063/1063 [==============================] - 0s 33us/step - loss: 635.1407\n",
      "Epoch 135/150\n",
      "1063/1063 [==============================] - 0s 34us/step - loss: 639.3170\n",
      "Epoch 136/150\n",
      "1063/1063 [==============================] - 0s 32us/step - loss: 638.7883\n",
      "Epoch 137/150\n",
      "1063/1063 [==============================] - 0s 33us/step - loss: 634.2197\n",
      "Epoch 138/150\n",
      "1063/1063 [==============================] - 0s 33us/step - loss: 638.0783\n",
      "Epoch 139/150\n",
      "1063/1063 [==============================] - 0s 34us/step - loss: 638.9653\n",
      "Epoch 140/150\n",
      "1063/1063 [==============================] - 0s 34us/step - loss: 636.8471\n",
      "Epoch 141/150\n",
      "1063/1063 [==============================] - 0s 32us/step - loss: 634.3276\n",
      "Epoch 142/150\n",
      "1063/1063 [==============================] - 0s 34us/step - loss: 634.9832\n",
      "Epoch 143/150\n",
      "1063/1063 [==============================] - 0s 33us/step - loss: 634.6674\n",
      "Epoch 144/150\n",
      "1063/1063 [==============================] - 0s 34us/step - loss: 632.9832\n",
      "Epoch 145/150\n",
      "1063/1063 [==============================] - 0s 33us/step - loss: 631.8234\n",
      "Epoch 146/150\n",
      "1063/1063 [==============================] - 0s 34us/step - loss: 629.2406\n",
      "Epoch 147/150\n",
      "1063/1063 [==============================] - 0s 35us/step - loss: 631.7394\n",
      "Epoch 148/150\n",
      "1063/1063 [==============================] - 0s 34us/step - loss: 628.4437\n",
      "Epoch 149/150\n",
      "1063/1063 [==============================] - 0s 34us/step - loss: 630.6325\n",
      "Epoch 150/150\n",
      "1063/1063 [==============================] - 0s 34us/step - loss: 641.1108\n"
     ]
    }
   ],
   "source": [
    "# train model with the data with default settings and get training history out\n",
    "history = autoencoder.train_model(data_train)"
   ]
  },
  {
   "cell_type": "code",
   "execution_count": 8,
   "metadata": {
    "scrolled": true
   },
   "outputs": [
    {
     "data": {
      "text/plain": [
       "[<matplotlib.lines.Line2D at 0x1a3e604d30>]"
      ]
     },
     "execution_count": 8,
     "metadata": {},
     "output_type": "execute_result"
    },
    {
     "data": {
      "image/png": "[encoded data removed]",
      "text/plain": [
       "<Figure size 432x288 with 1 Axes>"
      ]
     },
     "metadata": {
      "needs_background": "light"
     },
     "output_type": "display_data"
    }
   ],
   "source": [
    "# plot the history\n",
    "plt.plot(history.history['loss'])"
   ]
  },
  {
   "cell_type": "code",
   "execution_count": null,
   "metadata": {},
   "outputs": [],
   "source": []
  },
  {
   "cell_type": "code",
   "execution_count": null,
   "metadata": {},
   "outputs": [],
   "source": []
  }
 ],
 "metadata": {
  "kernelspec": {
   "display_name": "Python [conda env:deepchembed]",
   "language": "python",
   "name": "conda-env-deepchembed-py"
  },
  "language_info": {
   "codemirror_mode": {
    "name": "ipython",
    "version": 3
   },
   "file_extension": ".py",
   "mimetype": "text/x-python",
   "name": "python",
   "nbconvert_exporter": "python",
   "pygments_lexer": "ipython3",
   "version": "3.6.8"
  }
 },
 "nbformat": 4,
 "nbformat_minor": 2
}
