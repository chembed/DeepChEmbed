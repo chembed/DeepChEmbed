{
 "cells": [
  {
   "cell_type": "markdown",
   "metadata": {},
   "source": [
    "## Tutorial to use different dimension reducer"
   ]
  },
  {
   "cell_type": "code",
   "execution_count": 1,
   "metadata": {},
   "outputs": [],
   "source": [
    "import __init__\n",
    "from __init__ import DATA_PATH\n",
    "from __init__ import PACKAGE_PATH\n",
    "import matplotlib.pyplot as plt\n",
    "import pandas as pd\n",
    "import os\n",
    "import sklearn.metrics as metrics"
   ]
  },
  {
   "cell_type": "markdown",
   "metadata": {},
   "source": [
    "### Import the data"
   ]
  },
  {
   "cell_type": "code",
   "execution_count": 2,
   "metadata": {},
   "outputs": [
    {
     "data": {
      "text/plain": [
       "(1063, 139)"
      ]
     },
     "execution_count": 2,
     "metadata": {},
     "output_type": "execute_result"
    }
   ],
   "source": [
    "data = pd.read_csv(os.path.join(DATA_PATH,'BOD_biclass_139rdkit.csv'))\n",
    "data_139 = data.iloc[:,2:141]\n",
    "data_train = data_139.values\n",
    "data_train.shape"
   ]
  },
  {
   "cell_type": "markdown",
   "metadata": {},
   "source": [
    "### Using DeepAutoEncoder "
   ]
  },
  {
   "cell_type": "code",
   "execution_count": 3,
   "metadata": {},
   "outputs": [
    {
     "name": "stderr",
     "output_type": "stream",
     "text": [
      "Using TensorFlow backend.\n"
     ]
    }
   ],
   "source": [
    "# import\n",
    "from dimreducer import DeepAutoEncoder"
   ]
  },
  {
   "cell_type": "code",
   "execution_count": 4,
   "metadata": {},
   "outputs": [],
   "source": [
    "# set dimensions of neural networks\n",
    "dims = [139,70,35]\n",
    "autoencoder = DeepAutoEncoder(dims)\n",
    "\n",
    "# change the dimensions\n",
    "# dims = [139,35]\n",
    "# autoencoder.set_dims(dims)"
   ]
  },
  {
   "cell_type": "code",
   "execution_count": 5,
   "metadata": {},
   "outputs": [
    {
     "name": "stdout",
     "output_type": "stream",
     "text": [
      "WARNING:tensorflow:From /Users/hunting/miniconda3/envs/deepchembed/lib/python3.6/site-packages/tensorflow/python/framework/op_def_library.py:263: colocate_with (from tensorflow.python.framework.ops) is deprecated and will be removed in a future version.\n",
      "Instructions for updating:\n",
      "Colocations handled automatically by placer.\n"
     ]
    }
   ],
   "source": [
    "# build model\n",
    "autoencoder.build_autoencoder()"
   ]
  },
  {
   "cell_type": "code",
   "execution_count": 8,
   "metadata": {},
   "outputs": [
    {
     "name": "stdout",
     "output_type": "stream",
     "text": [
      "_________________________________________________________________\n",
      "Layer (type)                 Output Shape              Param #   \n",
      "=================================================================\n",
      "input (InputLayer)           (None, 139)               0         \n",
      "_________________________________________________________________\n",
      "batch_normalization_1 (Batch (None, 139)               556       \n",
      "_________________________________________________________________\n",
      "encoder_0 (Dense)            (None, 70)                9800      \n",
      "_________________________________________________________________\n",
      "embedding_layer (Dense)      (None, 35)                2485      \n",
      "_________________________________________________________________\n",
      "decoder_1 (Dense)            (None, 70)                2520      \n",
      "_________________________________________________________________\n",
      "output (Dense)               (None, 139)               9869      \n",
      "=================================================================\n",
      "Total params: 25,230\n",
      "Trainable params: 24,952\n",
      "Non-trainable params: 278\n",
      "_________________________________________________________________\n"
     ]
    }
   ],
   "source": [
    "# get a summary of the model\n",
    "autoencoder.model.summary()"
   ]
  },
  {
   "cell_type": "code",
   "execution_count": 6,
   "metadata": {},
   "outputs": [
    {
     "name": "stdout",
     "output_type": "stream",
     "text": [
      "WARNING:tensorflow:From /Users/hunting/miniconda3/envs/deepchembed/lib/python3.6/site-packages/tensorflow/python/ops/math_ops.py:3066: to_int32 (from tensorflow.python.ops.math_ops) is deprecated and will be removed in a future version.\n",
      "Instructions for updating:\n",
      "Use tf.cast instead.\n",
      "Epoch 1/150\n",
      "1063/1063 [==============================] - 1s 1ms/step - loss: 0.0092\n",
      "Epoch 2/150\n",
      "1063/1063 [==============================] - 0s 49us/step - loss: 0.0027\n",
      "Epoch 3/150\n",
      "1063/1063 [==============================] - 0s 45us/step - loss: 0.0013\n",
      "Epoch 4/150\n",
      "1063/1063 [==============================] - 0s 51us/step - loss: 0.0010\n",
      "Epoch 5/150\n",
      "1063/1063 [==============================] - 0s 53us/step - loss: 9.0370e-04\n",
      "Epoch 6/150\n",
      "1063/1063 [==============================] - 0s 52us/step - loss: 8.5748e-04\n",
      "Epoch 7/150\n",
      "1063/1063 [==============================] - 0s 45us/step - loss: 8.3714e-04\n",
      "Epoch 8/150\n",
      "1063/1063 [==============================] - 0s 44us/step - loss: 8.2219e-04\n",
      "Epoch 9/150\n",
      "1063/1063 [==============================] - 0s 45us/step - loss: 8.1485e-04\n",
      "Epoch 10/150\n",
      "1063/1063 [==============================] - 0s 44us/step - loss: 8.0569e-04\n",
      "Epoch 11/150\n",
      "1063/1063 [==============================] - 0s 46us/step - loss: 7.9640e-04\n",
      "Epoch 12/150\n",
      "1063/1063 [==============================] - 0s 44us/step - loss: 7.8907e-04\n",
      "Epoch 13/150\n",
      "1063/1063 [==============================] - 0s 51us/step - loss: 7.8119e-04\n",
      "Epoch 14/150\n",
      "1063/1063 [==============================] - 0s 45us/step - loss: 7.7500e-04\n",
      "Epoch 15/150\n",
      "1063/1063 [==============================] - 0s 44us/step - loss: 7.6419e-04\n",
      "Epoch 16/150\n",
      "1063/1063 [==============================] - 0s 53us/step - loss: 7.5661e-04\n",
      "Epoch 17/150\n",
      "1063/1063 [==============================] - 0s 52us/step - loss: 7.4806e-04\n",
      "Epoch 18/150\n",
      "1063/1063 [==============================] - 0s 238us/step - loss: 7.3890e-04\n",
      "Epoch 19/150\n",
      "1063/1063 [==============================] - 0s 58us/step - loss: 7.3238e-04\n",
      "Epoch 20/150\n",
      "1063/1063 [==============================] - 0s 61us/step - loss: 7.2345e-04\n",
      "Epoch 21/150\n",
      "1063/1063 [==============================] - 0s 63us/step - loss: 7.1481e-04\n",
      "Epoch 22/150\n",
      "1063/1063 [==============================] - 0s 69us/step - loss: 7.0805e-04\n",
      "Epoch 23/150\n",
      "1063/1063 [==============================] - 0s 64us/step - loss: 6.9971e-04\n",
      "Epoch 24/150\n",
      "1063/1063 [==============================] - 0s 62us/step - loss: 6.9246e-04\n",
      "Epoch 25/150\n",
      "1063/1063 [==============================] - 0s 56us/step - loss: 6.8395e-04\n",
      "Epoch 26/150\n",
      "1063/1063 [==============================] - 0s 54us/step - loss: 6.7645e-04\n",
      "Epoch 27/150\n",
      "1063/1063 [==============================] - 0s 60us/step - loss: 6.6775e-04\n",
      "Epoch 28/150\n",
      "1063/1063 [==============================] - 0s 53us/step - loss: 6.6203e-04\n",
      "Epoch 29/150\n",
      "1063/1063 [==============================] - 0s 52us/step - loss: 6.5260e-04\n",
      "Epoch 30/150\n",
      "1063/1063 [==============================] - 0s 49us/step - loss: 6.4511e-04\n",
      "Epoch 31/150\n",
      "1063/1063 [==============================] - 0s 50us/step - loss: 6.3746e-04\n",
      "Epoch 32/150\n",
      "1063/1063 [==============================] - 0s 54us/step - loss: 6.2806e-04\n",
      "Epoch 33/150\n",
      "1063/1063 [==============================] - 0s 48us/step - loss: 6.2056e-04\n",
      "Epoch 34/150\n",
      "1063/1063 [==============================] - 0s 54us/step - loss: 6.1537e-04\n",
      "Epoch 35/150\n",
      "1063/1063 [==============================] - 0s 50us/step - loss: 6.0650e-04\n",
      "Epoch 36/150\n",
      "1063/1063 [==============================] - 0s 54us/step - loss: 5.9877e-04\n",
      "Epoch 37/150\n",
      "1063/1063 [==============================] - 0s 52us/step - loss: 5.9091e-04\n",
      "Epoch 38/150\n",
      "1063/1063 [==============================] - 0s 52us/step - loss: 5.8664e-04\n",
      "Epoch 39/150\n",
      "1063/1063 [==============================] - 0s 54us/step - loss: 5.7850e-04\n",
      "Epoch 40/150\n",
      "1063/1063 [==============================] - 0s 49us/step - loss: 5.7247e-04\n",
      "Epoch 41/150\n",
      "1063/1063 [==============================] - 0s 50us/step - loss: 5.6624e-04\n",
      "Epoch 42/150\n",
      "1063/1063 [==============================] - 0s 49us/step - loss: 5.5808e-04\n",
      "Epoch 43/150\n",
      "1063/1063 [==============================] - 0s 48us/step - loss: 5.5092e-04\n",
      "Epoch 44/150\n",
      "1063/1063 [==============================] - 0s 48us/step - loss: 5.4552e-04\n",
      "Epoch 45/150\n",
      "1063/1063 [==============================] - 0s 45us/step - loss: 5.3680e-04\n",
      "Epoch 46/150\n",
      "1063/1063 [==============================] - 0s 48us/step - loss: 5.3075e-04\n",
      "Epoch 47/150\n",
      "1063/1063 [==============================] - 0s 49us/step - loss: 5.2372e-04\n",
      "Epoch 48/150\n",
      "1063/1063 [==============================] - 0s 50us/step - loss: 5.1813e-04\n",
      "Epoch 49/150\n",
      "1063/1063 [==============================] - 0s 48us/step - loss: 5.1117e-04\n",
      "Epoch 50/150\n",
      "1063/1063 [==============================] - 0s 48us/step - loss: 5.0219e-04\n",
      "Epoch 51/150\n",
      "1063/1063 [==============================] - 0s 48us/step - loss: 4.9722e-04\n",
      "Epoch 52/150\n",
      "1063/1063 [==============================] - 0s 222us/step - loss: 4.9202e-04\n",
      "Epoch 53/150\n",
      "1063/1063 [==============================] - 0s 49us/step - loss: 4.8572e-04\n",
      "Epoch 54/150\n",
      "1063/1063 [==============================] - 0s 46us/step - loss: 4.7986e-04\n",
      "Epoch 55/150\n",
      "1063/1063 [==============================] - 0s 46us/step - loss: 4.7465e-04\n",
      "Epoch 56/150\n",
      "1063/1063 [==============================] - 0s 44us/step - loss: 4.7002e-04\n",
      "Epoch 57/150\n",
      "1063/1063 [==============================] - 0s 42us/step - loss: 4.6558e-04\n",
      "Epoch 58/150\n",
      "1063/1063 [==============================] - 0s 47us/step - loss: 4.6014e-04\n",
      "Epoch 59/150\n",
      "1063/1063 [==============================] - 0s 44us/step - loss: 4.5226e-04\n",
      "Epoch 60/150\n",
      "1063/1063 [==============================] - 0s 44us/step - loss: 4.4851e-04\n",
      "Epoch 61/150\n",
      "1063/1063 [==============================] - 0s 47us/step - loss: 4.4291e-04\n",
      "Epoch 62/150\n",
      "1063/1063 [==============================] - 0s 43us/step - loss: 4.4004e-04\n",
      "Epoch 63/150\n",
      "1063/1063 [==============================] - 0s 43us/step - loss: 4.3444e-04\n",
      "Epoch 64/150\n",
      "1063/1063 [==============================] - 0s 45us/step - loss: 4.2783e-04\n",
      "Epoch 65/150\n",
      "1063/1063 [==============================] - 0s 48us/step - loss: 4.2424e-04\n",
      "Epoch 66/150\n",
      "1063/1063 [==============================] - 0s 46us/step - loss: 4.2085e-04\n",
      "Epoch 67/150\n",
      "1063/1063 [==============================] - 0s 52us/step - loss: 4.1616e-04\n",
      "Epoch 68/150\n",
      "1063/1063 [==============================] - 0s 46us/step - loss: 4.1216e-04\n",
      "Epoch 69/150\n",
      "1063/1063 [==============================] - 0s 45us/step - loss: 4.0760e-04\n",
      "Epoch 70/150\n",
      "1063/1063 [==============================] - 0s 44us/step - loss: 4.0356e-04\n",
      "Epoch 71/150\n",
      "1063/1063 [==============================] - 0s 42us/step - loss: 4.0043e-04\n",
      "Epoch 72/150\n",
      "1063/1063 [==============================] - 0s 45us/step - loss: 3.9567e-04\n",
      "Epoch 73/150\n",
      "1063/1063 [==============================] - 0s 45us/step - loss: 3.9205e-04\n",
      "Epoch 74/150\n",
      "1063/1063 [==============================] - 0s 44us/step - loss: 3.8904e-04\n",
      "Epoch 75/150\n",
      "1063/1063 [==============================] - 0s 44us/step - loss: 3.8590e-04\n",
      "Epoch 76/150\n",
      "1063/1063 [==============================] - 0s 45us/step - loss: 3.8020e-04\n",
      "Epoch 77/150\n",
      "1063/1063 [==============================] - 0s 43us/step - loss: 3.7703e-04\n",
      "Epoch 78/150\n",
      "1063/1063 [==============================] - 0s 43us/step - loss: 3.7473e-04\n",
      "Epoch 79/150\n",
      "1063/1063 [==============================] - 0s 44us/step - loss: 3.6985e-04\n",
      "Epoch 80/150\n",
      "1063/1063 [==============================] - 0s 44us/step - loss: 3.7105e-04\n",
      "Epoch 81/150\n",
      "1063/1063 [==============================] - 0s 42us/step - loss: 3.6314e-04\n",
      "Epoch 82/150\n",
      "1063/1063 [==============================] - 0s 44us/step - loss: 3.6143e-04\n",
      "Epoch 83/150\n",
      "1063/1063 [==============================] - 0s 44us/step - loss: 3.5947e-04\n",
      "Epoch 84/150\n",
      "1063/1063 [==============================] - 0s 47us/step - loss: 3.5671e-04\n",
      "Epoch 85/150\n",
      "1063/1063 [==============================] - 0s 44us/step - loss: 3.5287e-04\n",
      "Epoch 86/150\n",
      "1063/1063 [==============================] - 0s 43us/step - loss: 3.5267e-04\n",
      "Epoch 87/150\n",
      "1063/1063 [==============================] - 0s 44us/step - loss: 3.4993e-04\n",
      "Epoch 88/150\n",
      "1063/1063 [==============================] - 0s 45us/step - loss: 3.4868e-04\n",
      "Epoch 89/150\n"
     ]
    },
    {
     "name": "stdout",
     "output_type": "stream",
     "text": [
      "1063/1063 [==============================] - 0s 42us/step - loss: 3.4682e-04\n",
      "Epoch 90/150\n",
      "1063/1063 [==============================] - 0s 41us/step - loss: 3.4145e-04\n",
      "Epoch 91/150\n",
      "1063/1063 [==============================] - 0s 44us/step - loss: 3.3796e-04\n",
      "Epoch 92/150\n",
      "1063/1063 [==============================] - 0s 221us/step - loss: 3.3707e-04\n",
      "Epoch 93/150\n",
      "1063/1063 [==============================] - 0s 43us/step - loss: 3.3514e-04\n",
      "Epoch 94/150\n",
      "1063/1063 [==============================] - 0s 41us/step - loss: 3.3368e-04\n",
      "Epoch 95/150\n",
      "1063/1063 [==============================] - 0s 42us/step - loss: 3.2974e-04\n",
      "Epoch 96/150\n",
      "1063/1063 [==============================] - 0s 41us/step - loss: 3.2894e-04\n",
      "Epoch 97/150\n",
      "1063/1063 [==============================] - 0s 44us/step - loss: 3.2729e-04\n",
      "Epoch 98/150\n",
      "1063/1063 [==============================] - 0s 42us/step - loss: 3.2510e-04\n",
      "Epoch 99/150\n",
      "1063/1063 [==============================] - 0s 44us/step - loss: 3.2261e-04\n",
      "Epoch 100/150\n",
      "1063/1063 [==============================] - 0s 39us/step - loss: 3.2066e-04\n",
      "Epoch 101/150\n",
      "1063/1063 [==============================] - 0s 42us/step - loss: 3.2273e-04\n",
      "Epoch 102/150\n",
      "1063/1063 [==============================] - 0s 41us/step - loss: 3.1756e-04\n",
      "Epoch 103/150\n",
      "1063/1063 [==============================] - 0s 47us/step - loss: 3.1856e-04\n",
      "Epoch 104/150\n",
      "1063/1063 [==============================] - 0s 39us/step - loss: 3.1544e-04\n",
      "Epoch 105/150\n",
      "1063/1063 [==============================] - 0s 47us/step - loss: 3.1589e-04\n",
      "Epoch 106/150\n",
      "1063/1063 [==============================] - 0s 50us/step - loss: 3.1468e-04\n",
      "Epoch 107/150\n",
      "1063/1063 [==============================] - 0s 44us/step - loss: 3.1106e-04\n",
      "Epoch 108/150\n",
      "1063/1063 [==============================] - 0s 47us/step - loss: 3.1045e-04\n",
      "Epoch 109/150\n",
      "1063/1063 [==============================] - 0s 44us/step - loss: 3.0971e-04\n",
      "Epoch 110/150\n",
      "1063/1063 [==============================] - 0s 43us/step - loss: 3.1316e-04\n",
      "Epoch 111/150\n",
      "1063/1063 [==============================] - 0s 46us/step - loss: 3.0910e-04\n",
      "Epoch 112/150\n",
      "1063/1063 [==============================] - 0s 44us/step - loss: 3.0838e-04\n",
      "Epoch 113/150\n",
      "1063/1063 [==============================] - 0s 44us/step - loss: 3.0815e-04\n",
      "Epoch 114/150\n",
      "1063/1063 [==============================] - 0s 43us/step - loss: 3.0305e-04\n",
      "Epoch 115/150\n",
      "1063/1063 [==============================] - 0s 44us/step - loss: 3.0213e-04\n",
      "Epoch 116/150\n",
      "1063/1063 [==============================] - 0s 46us/step - loss: 3.0237e-04\n",
      "Epoch 117/150\n",
      "1063/1063 [==============================] - 0s 45us/step - loss: 2.9917e-04\n",
      "Epoch 118/150\n",
      "1063/1063 [==============================] - 0s 42us/step - loss: 2.9775e-04\n",
      "Epoch 119/150\n",
      "1063/1063 [==============================] - 0s 42us/step - loss: 2.9732e-04\n",
      "Epoch 120/150\n",
      "1063/1063 [==============================] - 0s 43us/step - loss: 2.9707e-04\n",
      "Epoch 121/150\n",
      "1063/1063 [==============================] - 0s 45us/step - loss: 2.9527e-04\n",
      "Epoch 122/150\n",
      "1063/1063 [==============================] - 0s 43us/step - loss: 2.9538e-04\n",
      "Epoch 123/150\n",
      "1063/1063 [==============================] - 0s 42us/step - loss: 2.9383e-04\n",
      "Epoch 124/150\n",
      "1063/1063 [==============================] - 0s 43us/step - loss: 2.9255e-04\n",
      "Epoch 125/150\n",
      "1063/1063 [==============================] - 0s 45us/step - loss: 2.9265e-04\n",
      "Epoch 126/150\n",
      "1063/1063 [==============================] - 0s 43us/step - loss: 2.9116e-04\n",
      "Epoch 127/150\n",
      "1063/1063 [==============================] - 0s 41us/step - loss: 2.8852e-04\n",
      "Epoch 128/150\n",
      "1063/1063 [==============================] - 0s 41us/step - loss: 2.8903e-04\n",
      "Epoch 129/150\n",
      "1063/1063 [==============================] - 0s 42us/step - loss: 2.8731e-04\n",
      "Epoch 130/150\n",
      "1063/1063 [==============================] - 0s 44us/step - loss: 2.8697e-04\n",
      "Epoch 131/150\n",
      "1063/1063 [==============================] - 0s 42us/step - loss: 2.8344e-04\n",
      "Epoch 132/150\n",
      "1063/1063 [==============================] - 0s 41us/step - loss: 2.8469e-04\n",
      "Epoch 133/150\n",
      "1063/1063 [==============================] - 0s 224us/step - loss: 2.8323e-04\n",
      "Epoch 134/150\n",
      "1063/1063 [==============================] - 0s 43us/step - loss: 2.8055e-04\n",
      "Epoch 135/150\n",
      "1063/1063 [==============================] - 0s 42us/step - loss: 2.8402e-04\n",
      "Epoch 136/150\n",
      "1063/1063 [==============================] - 0s 42us/step - loss: 2.8139e-04\n",
      "Epoch 137/150\n",
      "1063/1063 [==============================] - 0s 43us/step - loss: 2.7946e-04\n",
      "Epoch 138/150\n",
      "1063/1063 [==============================] - 0s 47us/step - loss: 2.7624e-04\n",
      "Epoch 139/150\n",
      "1063/1063 [==============================] - 0s 46us/step - loss: 2.7482e-04\n",
      "Epoch 140/150\n",
      "1063/1063 [==============================] - 0s 44us/step - loss: 2.7503e-04\n",
      "Epoch 141/150\n",
      "1063/1063 [==============================] - 0s 44us/step - loss: 2.7291e-04\n",
      "Epoch 142/150\n",
      "1063/1063 [==============================] - 0s 43us/step - loss: 2.7200e-04\n",
      "Epoch 143/150\n",
      "1063/1063 [==============================] - 0s 45us/step - loss: 2.6887e-04\n",
      "Epoch 144/150\n",
      "1063/1063 [==============================] - 0s 44us/step - loss: 2.6682e-04\n",
      "Epoch 145/150\n",
      "1063/1063 [==============================] - 0s 44us/step - loss: 2.6370e-04\n",
      "Epoch 146/150\n",
      "1063/1063 [==============================] - 0s 45us/step - loss: 2.6312e-04\n",
      "Epoch 147/150\n",
      "1063/1063 [==============================] - 0s 45us/step - loss: 2.6158e-04\n",
      "Epoch 148/150\n",
      "1063/1063 [==============================] - 0s 42us/step - loss: 2.5882e-04\n",
      "Epoch 149/150\n",
      "1063/1063 [==============================] - 0s 44us/step - loss: 2.5943e-04\n",
      "Epoch 150/150\n",
      "1063/1063 [==============================] - 0s 44us/step - loss: 2.5623e-04\n"
     ]
    }
   ],
   "source": [
    "# train model with the data with default settings and get training history out\n",
    "history = autoencoder.train_model(data_train)"
   ]
  },
  {
   "cell_type": "code",
   "execution_count": 7,
   "metadata": {
    "scrolled": true
   },
   "outputs": [
    {
     "data": {
      "text/plain": [
       "[<matplotlib.lines.Line2D at 0x1a393489e8>]"
      ]
     },
     "execution_count": 7,
     "metadata": {},
     "output_type": "execute_result"
    },
    {
     "data": {
      "image/png": "[encoded data removed]",
      "text/plain": [
       "<Figure size 432x288 with 1 Axes>"
      ]
     },
     "metadata": {
      "needs_background": "light"
     },
     "output_type": "display_data"
    }
   ],
   "source": [
    "# plot the history\n",
    "plt.plot(history.history['loss'])"
   ]
  },
  {
   "cell_type": "code",
   "execution_count": null,
   "metadata": {},
   "outputs": [],
   "source": []
  }
 ],
 "metadata": {
  "kernelspec": {
   "display_name": "Python [conda env:deepchembed]",
   "language": "python",
   "name": "conda-env-deepchembed-py"
  },
  "language_info": {
   "codemirror_mode": {
    "name": "ipython",
    "version": 3
   },
   "file_extension": ".py",
   "mimetype": "text/x-python",
   "name": "python",
   "nbconvert_exporter": "python",
   "pygments_lexer": "ipython3",
   "version": "3.6.8"
  }
 },
 "nbformat": 4,
 "nbformat_minor": 2
}
