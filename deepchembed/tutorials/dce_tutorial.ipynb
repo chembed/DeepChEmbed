{
 "cells": [
  {
   "cell_type": "markdown",
   "metadata": {},
   "source": [
    "## imports"
   ]
  },
  {
   "cell_type": "code",
   "execution_count": 13,
   "metadata": {},
   "outputs": [],
   "source": [
    "import __init__\n",
    "from __init__ import DATA_PATH\n",
    "from __init__ import PACKAGE_PATH\n",
    "from dce import DCE\n",
    "from cluster import Cluster\n",
    "from descriptor import rdkitDescriptors\n",
    "import utilities\n",
    "import numpy as np\n",
    "import pandas as pd\n",
    "import os\n",
    "import matplotlib.pyplot as plt\n",
    "import seaborn as sns\n",
    "from keras.utils import normalize\n",
    "%matplotlib inline"
   ]
  },
  {
   "cell_type": "markdown",
   "metadata": {},
   "source": [
    "## read data and generate descriptors\n",
    "* ground_truth using 60% BOD cut\n",
    "* descriptor using float here"
   ]
  },
  {
   "cell_type": "code",
   "execution_count": 14,
   "metadata": {},
   "outputs": [
    {
     "name": "stdout",
     "output_type": "stream",
     "text": [
      "Number of Descriptor: 68\n"
     ]
    },
    {
     "data": {
      "text/plain": [
       "(array([756.,   0.,   0.,   0.,   0.,   0.,   0.,   0.,   0., 307.]),\n",
       " array([0. , 0.1, 0.2, 0.3, 0.4, 0.5, 0.6, 0.7, 0.8, 0.9, 1. ]),\n",
       " <a list of 10 Patch objects>)"
      ]
     },
     "execution_count": 14,
     "metadata": {},
     "output_type": "execute_result"
    },
    {
     "data": {
      "image/png": "[encoded data removed]",
      "text/plain": [
       "<Figure size 432x288 with 1 Axes>"
      ]
     },
     "metadata": {
      "needs_background": "light"
     },
     "output_type": "display_data"
    }
   ],
   "source": [
    "df = pd.read_csv(os.path.join(DATA_PATH,'BOD_RDKit_Descriptors_1063.csv'))\n",
    "df['cleaned_bod'] = utilities.clean_out_of_bound(df['value (% BOD)'])\n",
    "feat_float = rdkitDescriptors.batch_compute_all_descriptors(df['SMILES'],desc_type='float')\n",
    "selected_float_feat = feat_float.loc[:,feat_float.nunique()>1]\n",
    "print('Number of Descriptor: ' + str(len(selected_float_feat.loc[0])))\n",
    "\n",
    "norm_float_feat = normalize(selected_float_feat.values, axis=0, order=2)\n",
    "\n",
    "\n",
    "df['bi_class_partition'] = utilities.divide_classes(df['cleaned_bod'], [60])\n",
    "true_label_biclass = df['bi_class_partition'].values\n",
    "plt.hist(df['bi_class_partition'])"
   ]
  },
  {
   "cell_type": "markdown",
   "metadata": {},
   "source": [
    "## build model and train model"
   ]
  },
  {
   "cell_type": "code",
   "execution_count": 15,
   "metadata": {},
   "outputs": [],
   "source": [
    "autoencoder_dims = [68,45,20]\n",
    "dce = DCE(autoencoder_dims, n_clusters=2, update_interval=50)\n",
    "dce.build_model()"
   ]
  },
  {
   "cell_type": "code",
   "execution_count": 16,
   "metadata": {},
   "outputs": [
    {
     "name": "stdout",
     "output_type": "stream",
     "text": [
      "__________________________________________________________________________________________________\n",
      "Layer (type)                    Output Shape         Param #     Connected to                     \n",
      "==================================================================================================\n",
      "input (InputLayer)              (None, 68)           0                                            \n",
      "__________________________________________________________________________________________________\n",
      "batch_normalization_3 (BatchNor (None, 68)           272         input[0][0]                      \n",
      "__________________________________________________________________________________________________\n",
      "encoder_0 (Dense)               (None, 45)           3105        batch_normalization_3[0][0]      \n",
      "__________________________________________________________________________________________________\n",
      "embedding_layer (Dense)         (None, 20)           920         encoder_0[0][0]                  \n",
      "__________________________________________________________________________________________________\n",
      "decoder_1 (Dense)               (None, 45)           945         embedding_layer[0][0]            \n",
      "__________________________________________________________________________________________________\n",
      "clustering (KMeansLayer)        (None, 2)            40          embedding_layer[0][0]            \n",
      "__________________________________________________________________________________________________\n",
      "decoder_output (Dense)          (None, 68)           3128        decoder_1[0][0]                  \n",
      "==================================================================================================\n",
      "Total params: 8,410\n",
      "Trainable params: 8,274\n",
      "Non-trainable params: 136\n",
      "__________________________________________________________________________________________________\n"
     ]
    }
   ],
   "source": [
    "dce.model.summary()"
   ]
  },
  {
   "cell_type": "markdown",
   "metadata": {},
   "source": [
    "### train model with default parameters"
   ]
  },
  {
   "cell_type": "code",
   "execution_count": 17,
   "metadata": {},
   "outputs": [
    {
     "name": "stdout",
     "output_type": "stream",
     "text": [
      "Epoch: 0\n",
      "  Total_loss = 0.0086594885;Delta_label = 0.0\n",
      "  Clustering_loss = 0.0005432251; Decoder_loss = 0.016775751\n",
      "Epoch: 50\n",
      "  Total_loss = 0.00044624327;Delta_label = 0.20602069614299154\n",
      "  Clustering_loss = 2.0721032e-05; Decoder_loss = 0.0008717655\n",
      "Epoch: 100\n",
      "  Total_loss = 0.0004379679;Delta_label = 0.05738476011288805\n",
      "  Clustering_loss = 7.519465e-05; Decoder_loss = 0.00080074114\n",
      "Epoch: 150\n",
      "  Total_loss = 0.000511339;Delta_label = 0.02539981185324553\n",
      "  Clustering_loss = 0.00028349474; Decoder_loss = 0.0007391832\n",
      "Epoch: 200\n",
      "  Total_loss = 0.0008883676;Delta_label = 0.020696142991533398\n",
      "  Clustering_loss = 0.0011017629; Decoder_loss = 0.0006749723\n",
      "Epoch: 250\n",
      "  Total_loss = 0.002383791;Delta_label = 0.012229539040451553\n",
      "  Clustering_loss = 0.0041524; Decoder_loss = 0.00061518175\n",
      "Epoch: 300\n",
      "  Total_loss = 0.007404253;Delta_label = 0.007525870178739417\n",
      "  Clustering_loss = 0.014225756; Decoder_loss = 0.00058275025\n",
      "Epoch: 350\n",
      "  Total_loss = 0.018913224;Delta_label = 0.008466603951081843\n",
      "  Clustering_loss = 0.03724257; Decoder_loss = 0.0005838811\n",
      "Epoch: 400\n",
      "  Total_loss = 0.030826805;Delta_label = 0.011288805268109126\n",
      "  Clustering_loss = 0.061026596; Decoder_loss = 0.0006270164\n",
      "Epoch: 450\n",
      "  Total_loss = 0.036246695;Delta_label = 0.00658513640639699\n",
      "  Clustering_loss = 0.07185356; Decoder_loss = 0.0006398266\n",
      "Epoch: 500\n",
      "  Total_loss = 0.036358465;Delta_label = 0.0037629350893697085\n",
      "  Clustering_loss = 0.0720835; Decoder_loss = 0.0006334254\n",
      "Epoch: 550\n",
      "  Total_loss = 0.034519494;Delta_label = 0.0037629350893697085\n",
      "  Clustering_loss = 0.068419136; Decoder_loss = 0.0006198504\n",
      "Epoch: 600\n",
      "  Total_loss = 0.032217517;Delta_label = 0.0018814675446848542\n",
      "  Clustering_loss = 0.06382598; Decoder_loss = 0.0006090578\n",
      "0.0 < 0.0001\n",
      "Reached tolerance threshold. Stopping training.\n"
     ]
    }
   ],
   "source": [
    "loss = dce.train_model(norm_float_feat,clustering_loss='kld', \n",
    "                       decoder_loss='mse', clustering_loss_weight=0.5)"
   ]
  },
  {
   "cell_type": "code",
   "execution_count": 18,
   "metadata": {},
   "outputs": [
    {
     "data": {
      "text/plain": [
       "<matplotlib.legend.Legend at 0x1a5684df98>"
      ]
     },
     "execution_count": 18,
     "metadata": {},
     "output_type": "execute_result"
    },
    {
     "data": {
      "image/png": "[encoded data removed]",
      "text/plain": [
       "<Figure size 432x288 with 1 Axes>"
      ]
     },
     "metadata": {
      "needs_background": "light"
     },
     "output_type": "display_data"
    }
   ],
   "source": [
    "plt.plot(loss[0], label='Total loss')\n",
    "plt.plot(loss[1], label='Clustering loss')\n",
    "plt.plot(loss[2], label='Decoder loss')\n",
    "plt.legend()"
   ]
  },
  {
   "cell_type": "code",
   "execution_count": 19,
   "metadata": {},
   "outputs": [
    {
     "data": {
      "text/plain": [
       "(array([105.,   0.,   0.,   0.,   0.,   0.,   0.,   0.,   0., 958.]),\n",
       " array([0. , 0.1, 0.2, 0.3, 0.4, 0.5, 0.6, 0.7, 0.8, 0.9, 1. ]),\n",
       " <a list of 10 Patch objects>)"
      ]
     },
     "execution_count": 19,
     "metadata": {},
     "output_type": "execute_result"
    },
    {
     "data": {
      "image/png": "[encoded data removed]",
      "text/plain": [
       "<Figure size 432x288 with 1 Axes>"
      ]
     },
     "metadata": {
      "needs_background": "light"
     },
     "output_type": "display_data"
    }
   ],
   "source": [
    "q , _ = dce.model.predict(selected_float_feat.values)\n",
    "y_pred = q.argmax(1)\n",
    "plt.hist(y_pred)"
   ]
  },
  {
   "cell_type": "code",
   "execution_count": 20,
   "metadata": {},
   "outputs": [
    {
     "name": "stdout",
     "output_type": "stream",
     "text": [
      "Metric with True label\n",
      "adjusted rand score: 0.0016431813321790465 \n",
      "fowlkes_mallows : 0.6961431095192426\n"
     ]
    },
    {
     "data": {
      "text/plain": [
       "{'adjusted_rand_score': 0.0016431813321790465,\n",
       " 'fowlkes_mallows_score': 0.6961431095192426}"
      ]
     },
     "execution_count": 20,
     "metadata": {},
     "output_type": "execute_result"
    }
   ],
   "source": [
    "Cluster.true_label_metrics(true_label_biclass,y_pred,print_metric=True)"
   ]
  },
  {
   "cell_type": "markdown",
   "metadata": {},
   "source": [
    "### Parameters for tuning:\n",
    "* Hardening Function: order = {1,3,5,7,9}, strength > 1\n",
    "* Opitmizer: {'adam', 'sgd'}, lr, decay\n",
    "* update_interval "
   ]
  },
  {
   "cell_type": "code",
   "execution_count": 21,
   "metadata": {},
   "outputs": [
    {
     "name": "stdout",
     "output_type": "stream",
     "text": [
      "Epoch: 0\n",
      "  Total_loss = 0.009218243;Delta_label = 0.0\n",
      "  Clustering_loss = 8.1250386e-05; Decoder_loss = 0.009699138\n",
      "Epoch: 50\n",
      "  Total_loss = 0.00078356353;Delta_label = 0.22389463781749766\n",
      "  Clustering_loss = 3.799135e-07; Decoder_loss = 0.00082478375\n",
      "Epoch: 100\n",
      "  Total_loss = 0.0006450382;Delta_label = 0.04891815616180621\n",
      "  Clustering_loss = 7.814878e-07; Decoder_loss = 0.0006789465\n",
      "Epoch: 150\n",
      "  Total_loss = 0.00056679046;Delta_label = 0.03762935089369708\n",
      "  Clustering_loss = 1.6716701e-06; Decoder_loss = 0.0005965336\n",
      "Epoch: 200\n",
      "  Total_loss = 0.00051487953;Delta_label = 0.03762935089369708\n",
      "  Clustering_loss = 3.7599955e-06; Decoder_loss = 0.00054178055\n",
      "Epoch: 250\n",
      "  Total_loss = 0.0004707241;Delta_label = 0.03857008466603951\n",
      "  Clustering_loss = 8.483628e-06; Decoder_loss = 0.00049505255\n",
      "Epoch: 300\n",
      "  Total_loss = 0.00043936857;Delta_label = 0.023518344308560677\n",
      "  Clustering_loss = 1.943149e-05; Decoder_loss = 0.00046147054\n",
      "Epoch: 350\n",
      "  Total_loss = 0.00041389535;Delta_label = 0.02634054562558796\n",
      "  Clustering_loss = 4.4424858e-05; Decoder_loss = 0.0004333412\n",
      "Epoch: 400\n",
      "  Total_loss = 0.00038577637;Delta_label = 0.02539981185324553\n",
      "  Clustering_loss = 0.00010050962; Decoder_loss = 0.00040079042\n",
      "Epoch: 450\n",
      "  Total_loss = 0.00037011213;Delta_label = 0.016933207902163686\n",
      "  Clustering_loss = 0.00022542922; Decoder_loss = 0.00037772703\n",
      "Epoch: 500\n",
      "  Total_loss = 0.00036551597;Delta_label = 0.014111006585136407\n",
      "  Clustering_loss = 0.0004933806; Decoder_loss = 0.00035878626\n",
      "Epoch: 550\n",
      "  Total_loss = 0.0003807775;Delta_label = 0.015051740357478834\n",
      "  Clustering_loss = 0.0010132666; Decoder_loss = 0.0003474886\n",
      "Epoch: 600\n",
      "  Total_loss = 0.00041961597;Delta_label = 0.014111006585136407\n",
      "  Clustering_loss = 0.0019222847; Decoder_loss = 0.00034052815\n",
      "Epoch: 650\n",
      "  Total_loss = 0.0004929218;Delta_label = 0.015051740357478834\n",
      "  Clustering_loss = 0.0034554205; Decoder_loss = 0.0003370008\n",
      "Epoch: 700\n",
      "  Total_loss = 0.0006134399;Delta_label = 0.020696142991533398\n",
      "  Clustering_loss = 0.0060357233; Decoder_loss = 0.00032805654\n",
      "Epoch: 750\n",
      "  Total_loss = 0.00080593745;Delta_label = 0.020696142991533398\n",
      "  Clustering_loss = 0.009971441; Decoder_loss = 0.00032354254\n",
      "Epoch: 800\n",
      "  Total_loss = 0.0010560646;Delta_label = 0.01317027281279398\n",
      "  Clustering_loss = 0.0149985235; Decoder_loss = 0.00032225094\n",
      "Epoch: 850\n",
      "  Total_loss = 0.0013638639;Delta_label = 0.011288805268109126\n",
      "  Clustering_loss = 0.02110588; Decoder_loss = 0.00032481045\n",
      "Epoch: 900\n",
      "  Total_loss = 0.001659926;Delta_label = 0.012229539040451553\n",
      "  Clustering_loss = 0.02698322; Decoder_loss = 0.00032712112\n",
      "Epoch: 950\n",
      "  Total_loss = 0.0018794017;Delta_label = 0.010348071495766699\n",
      "  Clustering_loss = 0.031273652; Decoder_loss = 0.00033233594\n",
      "Epoch: 1000\n",
      "  Total_loss = 0.0019772036;Delta_label = 0.012229539040451553\n",
      "  Clustering_loss = 0.03314706; Decoder_loss = 0.00033668496\n",
      "Epoch: 1050\n",
      "  Total_loss = 0.0019894692;Delta_label = 0.00940733772342427\n",
      "  Clustering_loss = 0.033401735; Decoder_loss = 0.0003361921\n",
      "Epoch: 1100\n",
      "  Total_loss = 0.0019659728;Delta_label = 0.0009407337723424271\n",
      "  Clustering_loss = 0.033046562; Decoder_loss = 0.0003301523\n",
      "Epoch: 1150\n",
      "  Total_loss = 0.0019309097;Delta_label = 0.0018814675446848542\n",
      "  Clustering_loss = 0.03248175; Decoder_loss = 0.00032297085\n",
      "Epoch: 1200\n",
      "  Total_loss = 0.0018833381;Delta_label = 0.0018814675446848542\n",
      "  Clustering_loss = 0.031651195; Decoder_loss = 0.00031660876\n",
      "Epoch: 1250\n",
      "  Total_loss = 0.0018313362;Delta_label = 0.0037629350893697085\n",
      "  Clustering_loss = 0.030734664; Decoder_loss = 0.00031010836\n",
      "0.0 < 0.0001\n",
      "Reached tolerance threshold. Stopping training.\n"
     ]
    }
   ],
   "source": [
    "autoencoder_dims = [68,45,20]\n",
    "dce = DCE(autoencoder_dims, n_clusters=2, update_interval=50)\n",
    "dce.build_model()\n",
    "loss = dce.train_model(\n",
    "    norm_float_feat,clustering_loss='kld', \n",
    "    decoder_loss='mse', clustering_loss_weight=0.05,\n",
    "    hardening_order=3, hardening_strength=1.0)"
   ]
  },
  {
   "cell_type": "code",
   "execution_count": 22,
   "metadata": {},
   "outputs": [
    {
     "data": {
      "text/plain": [
       "<matplotlib.legend.Legend at 0x1a573c7cf8>"
      ]
     },
     "execution_count": 22,
     "metadata": {},
     "output_type": "execute_result"
    },
    {
     "data": {
      "image/png": "[encoded data removed]",
      "text/plain": [
       "<Figure size 432x288 with 1 Axes>"
      ]
     },
     "metadata": {
      "needs_background": "light"
     },
     "output_type": "display_data"
    }
   ],
   "source": [
    "plt.plot(loss[0], label='Total loss')\n",
    "plt.plot(loss[1], label='Clustering loss')\n",
    "plt.plot(loss[2], label='Decoder loss')\n",
    "plt.legend()"
   ]
  },
  {
   "cell_type": "code",
   "execution_count": 23,
   "metadata": {},
   "outputs": [
    {
     "data": {
      "text/plain": [
       "(array([   0.,    0.,    0.,    0.,    0., 1063.,    0.,    0.,    0.,\n",
       "           0.]),\n",
       " array([0.5, 0.6, 0.7, 0.8, 0.9, 1. , 1.1, 1.2, 1.3, 1.4, 1.5]),\n",
       " <a list of 10 Patch objects>)"
      ]
     },
     "execution_count": 23,
     "metadata": {},
     "output_type": "execute_result"
    },
    {
     "data": {
      "image/png": "[encoded data removed]",
      "text/plain": [
       "<Figure size 432x288 with 1 Axes>"
      ]
     },
     "metadata": {
      "needs_background": "light"
     },
     "output_type": "display_data"
    }
   ],
   "source": [
    "q , _ = dce.model.predict(selected_float_feat.values)\n",
    "y_pred = q.argmax(1)\n",
    "plt.hist(y_pred)"
   ]
  },
  {
   "cell_type": "code",
   "execution_count": 24,
   "metadata": {},
   "outputs": [
    {
     "name": "stdout",
     "output_type": "stream",
     "text": [
      "Metric with True label\n",
      "adjusted rand score: 0.0 \n",
      "fowlkes_mallows : 0.767345827046263\n"
     ]
    },
    {
     "data": {
      "text/plain": [
       "{'adjusted_rand_score': 0.0, 'fowlkes_mallows_score': 0.767345827046263}"
      ]
     },
     "execution_count": 24,
     "metadata": {},
     "output_type": "execute_result"
    }
   ],
   "source": [
    "Cluster.true_label_metrics(true_label_biclass,y_pred,print_metric=True)"
   ]
  },
  {
   "cell_type": "code",
   "execution_count": null,
   "metadata": {},
   "outputs": [],
   "source": []
  }
 ],
 "metadata": {
  "kernelspec": {
   "display_name": "Python [conda env:deepchembed]",
   "language": "python",
   "name": "conda-env-deepchembed-py"
  },
  "language_info": {
   "codemirror_mode": {
    "name": "ipython",
    "version": 3
   },
   "file_extension": ".py",
   "mimetype": "text/x-python",
   "name": "python",
   "nbconvert_exporter": "python",
   "pygments_lexer": "ipython3",
   "version": "3.6.8"
  }
 },
 "nbformat": 4,
 "nbformat_minor": 2
}
