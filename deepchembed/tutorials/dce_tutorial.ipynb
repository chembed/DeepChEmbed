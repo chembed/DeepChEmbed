{
 "cells": [
  {
   "cell_type": "markdown",
   "metadata": {},
   "source": [
    "## imports"
   ]
  },
  {
   "cell_type": "code",
   "execution_count": 1,
   "metadata": {},
   "outputs": [
    {
     "name": "stderr",
     "output_type": "stream",
     "text": [
      "Using TensorFlow backend.\n"
     ]
    }
   ],
   "source": [
    "import __init__\n",
    "from __init__ import DATA_PATH\n",
    "from __init__ import PACKAGE_PATH\n",
    "from dce import DCE\n",
    "from cluster import Cluster\n",
    "from descriptor import rdkitDescriptors\n",
    "import utilities\n",
    "import numpy as np\n",
    "import pandas as pd\n",
    "import os\n",
    "import matplotlib.pyplot as plt\n",
    "import seaborn as sns\n",
    "%matplotlib inline"
   ]
  },
  {
   "cell_type": "markdown",
   "metadata": {},
   "source": [
    "## read data and generate descriptors\n",
    "* ground_truth using 60% BOD cut\n",
    "* descriptor using float here"
   ]
  },
  {
   "cell_type": "code",
   "execution_count": 2,
   "metadata": {},
   "outputs": [
    {
     "name": "stdout",
     "output_type": "stream",
     "text": [
      "Number of Descriptor:68\n"
     ]
    },
    {
     "data": {
      "text/plain": [
       "(array([756.,   0.,   0.,   0.,   0.,   0.,   0.,   0.,   0., 307.]),\n",
       " array([0. , 0.1, 0.2, 0.3, 0.4, 0.5, 0.6, 0.7, 0.8, 0.9, 1. ]),\n",
       " <a list of 10 Patch objects>)"
      ]
     },
     "execution_count": 2,
     "metadata": {},
     "output_type": "execute_result"
    },
    {
     "data": {
      "image/png": "[encoded data removed]",
      "text/plain": [
       "<Figure size 432x288 with 1 Axes>"
      ]
     },
     "metadata": {
      "needs_background": "light"
     },
     "output_type": "display_data"
    }
   ],
   "source": [
    "df = pd.read_csv(os.path.join(DATA_PATH,'BOD_RDKit_Descriptors_1063.csv'))\n",
    "df['cleaned_bod'] = utilities.clean_out_of_bound(df['value (% BOD)'])\n",
    "feat_float = rdkitDescriptors.batch_compute_all_descriptors(df['SMILES'],desc_type='float')\n",
    "selected_float_feat = feat_float.loc[:,feat_float.nunique()>1]\n",
    "print('Number of Descriptor:' + str(len(selected_float_feat.loc[0])))\n",
    "      \n",
    "df['bi_class_partition'] = utilities.divide_classes(df['cleaned_bod'], [60])\n",
    "true_label_biclass = df['bi_class_partition'].values\n",
    "plt.hist(df['bi_class_partition'])"
   ]
  },
  {
   "cell_type": "markdown",
   "metadata": {},
   "source": [
    "## build model and train model"
   ]
  },
  {
   "cell_type": "code",
   "execution_count": 3,
   "metadata": {},
   "outputs": [
    {
     "name": "stdout",
     "output_type": "stream",
     "text": [
      "WARNING:tensorflow:From /Users/hunting/miniconda3/envs/deepchembed/lib/python3.6/site-packages/tensorflow/python/framework/op_def_library.py:263: colocate_with (from tensorflow.python.framework.ops) is deprecated and will be removed in a future version.\n",
      "Instructions for updating:\n",
      "Colocations handled automatically by placer.\n"
     ]
    }
   ],
   "source": [
    "autoencoder_dims = [68,45,20]\n",
    "dce = DCE(autoencoder_dims, n_clusters=2, update_interval=50)\n",
    "dce.build_model()"
   ]
  },
  {
   "cell_type": "code",
   "execution_count": 4,
   "metadata": {},
   "outputs": [
    {
     "name": "stdout",
     "output_type": "stream",
     "text": [
      "__________________________________________________________________________________________________\n",
      "Layer (type)                    Output Shape         Param #     Connected to                     \n",
      "==================================================================================================\n",
      "input (InputLayer)              (None, 68)           0                                            \n",
      "__________________________________________________________________________________________________\n",
      "batch_normalization_1 (BatchNor (None, 68)           272         input[0][0]                      \n",
      "__________________________________________________________________________________________________\n",
      "encoder_0 (Dense)               (None, 45)           3105        batch_normalization_1[0][0]      \n",
      "__________________________________________________________________________________________________\n",
      "embedding_layer (Dense)         (None, 20)           920         encoder_0[0][0]                  \n",
      "__________________________________________________________________________________________________\n",
      "decoder_1 (Dense)               (None, 45)           945         embedding_layer[0][0]            \n",
      "__________________________________________________________________________________________________\n",
      "clustering (KMeansLayer)        (None, 2)            40          embedding_layer[0][0]            \n",
      "__________________________________________________________________________________________________\n",
      "decoder_output (Dense)          (None, 68)           3128        decoder_1[0][0]                  \n",
      "==================================================================================================\n",
      "Total params: 8,410\n",
      "Trainable params: 8,274\n",
      "Non-trainable params: 136\n",
      "__________________________________________________________________________________________________\n"
     ]
    }
   ],
   "source": [
    "dce.model.summary()"
   ]
  },
  {
   "cell_type": "code",
   "execution_count": 5,
   "metadata": {},
   "outputs": [
    {
     "name": "stdout",
     "output_type": "stream",
     "text": [
      "WARNING:tensorflow:From /Users/hunting/miniconda3/envs/deepchembed/lib/python3.6/site-packages/tensorflow/python/ops/math_ops.py:3066: to_int32 (from tensorflow.python.ops.math_ops) is deprecated and will be removed in a future version.\n",
      "Instructions for updating:\n",
      "Use tf.cast instead.\n",
      "Epoch: 0\n",
      "  Total_loss = 0.015502067;Delta_label = 0.0\n",
      "  Clustering_loss = 0.00036636388; Decoder_loss = 0.03063777\n",
      "Epoch: 50\n",
      "  Total_loss = 0.00048071414;Delta_label = 0.21448730009407338\n",
      "  Clustering_loss = 1.5087178e-05; Decoder_loss = 0.0009463411\n",
      "Epoch: 100\n",
      "  Total_loss = 0.00044570462;Delta_label = 0.04609595484477893\n",
      "  Clustering_loss = 5.53932e-05; Decoder_loss = 0.000836016\n",
      "Epoch: 150\n",
      "  Total_loss = 0.00048976345;Delta_label = 0.036688617121354655\n",
      "  Clustering_loss = 0.00021248212; Decoder_loss = 0.0007670448\n",
      "Epoch: 200\n",
      "  Total_loss = 0.0007484655;Delta_label = 0.03198494825964252\n",
      "  Clustering_loss = 0.0008010449; Decoder_loss = 0.00069588603\n",
      "Epoch: 250\n",
      "  Total_loss = 0.0017573577;Delta_label = 0.023518344308560677\n",
      "  Clustering_loss = 0.0028723876; Decoder_loss = 0.0006423278\n",
      "Epoch: 300\n",
      "  Total_loss = 0.00474827;Delta_label = 0.024459078080903106\n",
      "  Clustering_loss = 0.008890387; Decoder_loss = 0.0006061536\n",
      "Epoch: 350\n",
      "  Total_loss = 0.011332468;Delta_label = 0.03574788334901223\n",
      "  Clustering_loss = 0.022052534; Decoder_loss = 0.0006124015\n",
      "Epoch: 400\n",
      "  Total_loss = 0.020932179;Delta_label = 0.028222013170272814\n",
      "  Clustering_loss = 0.04124144; Decoder_loss = 0.0006229167\n",
      "Epoch: 450\n",
      "  Total_loss = 0.030384662;Delta_label = 0.016933207902163686\n",
      "  Clustering_loss = 0.060137335; Decoder_loss = 0.0006319875\n",
      "Epoch: 500\n",
      "  Total_loss = 0.034375437;Delta_label = 0.008466603951081843\n",
      "  Clustering_loss = 0.06811351; Decoder_loss = 0.0006373562\n",
      "Epoch: 550\n",
      "  Total_loss = 0.033962924;Delta_label = 0.0037629350893697085\n",
      "  Clustering_loss = 0.06728427; Decoder_loss = 0.00064157473\n",
      "Epoch: 600\n",
      "  Total_loss = 0.032240987;Delta_label = 0.0037629350893697085\n",
      "  Clustering_loss = 0.06384619; Decoder_loss = 0.0006357827\n",
      "Epoch: 650\n",
      "  Total_loss = 0.0303648;Delta_label = 0.0009407337723424271\n",
      "  Clustering_loss = 0.060100008; Decoder_loss = 0.0006295909\n",
      "Epoch: 700\n",
      "  Total_loss = 0.028444251;Delta_label = 0.0028222013170272815\n",
      "  Clustering_loss = 0.056261756; Decoder_loss = 0.0006267483\n",
      "Epoch: 750\n",
      "  Total_loss = 0.026683459;Delta_label = 0.0009407337723424271\n",
      "  Clustering_loss = 0.052742932; Decoder_loss = 0.0006239853\n",
      "0.0 < 0.0001\n",
      "Reached tolerance threshold. Stopping training.\n"
     ]
    }
   ],
   "source": [
    "[y_pred, loss, delta_label] = dce.train_model(selected_float_feat.values,clustering_loss='kld', \n",
    "                                              decoder_loss='mse', clustering_loss_weight=0.5)"
   ]
  },
  {
   "cell_type": "code",
   "execution_count": 6,
   "metadata": {},
   "outputs": [
    {
     "data": {
      "text/plain": [
       "<matplotlib.legend.Legend at 0x1a477bbb38>"
      ]
     },
     "execution_count": 6,
     "metadata": {},
     "output_type": "execute_result"
    },
    {
     "data": {
      "image/png": "[encoded data removed]",
      "text/plain": [
       "<Figure size 432x288 with 1 Axes>"
      ]
     },
     "metadata": {
      "needs_background": "light"
     },
     "output_type": "display_data"
    }
   ],
   "source": [
    "plt.plot(loss[0], label='Total loss')\n",
    "plt.plot(loss[1], label='Clustering loss')\n",
    "plt.plot(loss[2], label='Decoder loss')\n",
    "plt.legend()"
   ]
  },
  {
   "cell_type": "code",
   "execution_count": 7,
   "metadata": {},
   "outputs": [
    {
     "data": {
      "text/plain": [
       "[<matplotlib.lines.Line2D at 0x1a44417e80>]"
      ]
     },
     "execution_count": 7,
     "metadata": {},
     "output_type": "execute_result"
    },
    {
     "data": {
      "image/png": "[encoded data removed]",
      "text/plain": [
       "<Figure size 432x288 with 1 Axes>"
      ]
     },
     "metadata": {
      "needs_background": "light"
     },
     "output_type": "display_data"
    }
   ],
   "source": [
    "plt.plot(delta_label)"
   ]
  },
  {
   "cell_type": "code",
   "execution_count": 8,
   "metadata": {},
   "outputs": [
    {
     "data": {
      "text/plain": [
       "(array([593.,   0.,   0.,   0.,   0.,   0.,   0.,   0.,   0., 470.]),\n",
       " array([0. , 0.1, 0.2, 0.3, 0.4, 0.5, 0.6, 0.7, 0.8, 0.9, 1. ]),\n",
       " <a list of 10 Patch objects>)"
      ]
     },
     "execution_count": 8,
     "metadata": {},
     "output_type": "execute_result"
    },
    {
     "data": {
      "image/png": "[encoded data removed]",
      "text/plain": [
       "<Figure size 432x288 with 1 Axes>"
      ]
     },
     "metadata": {
      "needs_background": "light"
     },
     "output_type": "display_data"
    }
   ],
   "source": [
    "plt.hist(y_pred)"
   ]
  },
  {
   "cell_type": "code",
   "execution_count": 9,
   "metadata": {},
   "outputs": [
    {
     "name": "stdout",
     "output_type": "stream",
     "text": [
      "Metric with True label\n",
      "adjusted rand score: -0.0015204743979484498 \n",
      "fowlkes_mallows : 0.545270611189934\n"
     ]
    },
    {
     "data": {
      "text/plain": [
       "{'adjusted_rand_score': -0.0015204743979484498,\n",
       " 'fowlkes_mallows_score': 0.545270611189934}"
      ]
     },
     "execution_count": 9,
     "metadata": {},
     "output_type": "execute_result"
    }
   ],
   "source": [
    "Cluster.true_label_metrics(true_label_biclass,y_pred,print_metric=True)"
   ]
  },
  {
   "cell_type": "code",
   "execution_count": null,
   "metadata": {},
   "outputs": [],
   "source": []
  }
 ],
 "metadata": {
  "kernelspec": {
   "display_name": "Python [conda env:deepchembed]",
   "language": "python",
   "name": "conda-env-deepchembed-py"
  },
  "language_info": {
   "codemirror_mode": {
    "name": "ipython",
    "version": 3
   },
   "file_extension": ".py",
   "mimetype": "text/x-python",
   "name": "python",
   "nbconvert_exporter": "python",
   "pygments_lexer": "ipython3",
   "version": "3.6.8"
  }
 },
 "nbformat": 4,
 "nbformat_minor": 2
}
