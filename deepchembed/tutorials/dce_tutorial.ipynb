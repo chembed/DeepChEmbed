{
 "cells": [
  {
   "cell_type": "markdown",
   "metadata": {},
   "source": [
    "## imports"
   ]
  },
  {
   "cell_type": "code",
   "execution_count": 1,
   "metadata": {},
   "outputs": [
    {
     "name": "stderr",
     "output_type": "stream",
     "text": [
      "Using TensorFlow backend.\n"
     ]
    }
   ],
   "source": [
    "import __init__\n",
    "from __init__ import DATA_PATH\n",
    "from __init__ import PACKAGE_PATH\n",
    "from dce import DCE\n",
    "from cluster import Cluster\n",
    "from descriptor import rdkitDescriptors\n",
    "import utilities\n",
    "import numpy as np\n",
    "import pandas as pd\n",
    "import os\n",
    "import matplotlib.pyplot as plt\n",
    "import seaborn as sns\n",
    "%matplotlib inline"
   ]
  },
  {
   "cell_type": "markdown",
   "metadata": {},
   "source": [
    "## read data and generate descriptors\n",
    "* ground_truth using 60% BOD cut\n",
    "* descriptor using float here"
   ]
  },
  {
   "cell_type": "code",
   "execution_count": 2,
   "metadata": {},
   "outputs": [
    {
     "name": "stdout",
     "output_type": "stream",
     "text": [
      "Number of Descriptor:68\n"
     ]
    },
    {
     "data": {
      "text/plain": [
       "(array([756.,   0.,   0.,   0.,   0.,   0.,   0.,   0.,   0., 307.]),\n",
       " array([0. , 0.1, 0.2, 0.3, 0.4, 0.5, 0.6, 0.7, 0.8, 0.9, 1. ]),\n",
       " <a list of 10 Patch objects>)"
      ]
     },
     "execution_count": 2,
     "metadata": {},
     "output_type": "execute_result"
    },
    {
     "data": {
      "image/png": "[encoded data removed]",
      "text/plain": [
       "<Figure size 432x288 with 1 Axes>"
      ]
     },
     "metadata": {
      "needs_background": "light"
     },
     "output_type": "display_data"
    }
   ],
   "source": [
    "df = pd.read_csv(os.path.join(DATA_PATH,'BOD_RDKit_Descriptors_1063.csv'))\n",
    "df['cleaned_bod'] = utilities.clean_out_of_bound(df['value (% BOD)'])\n",
    "feat_float = rdkitDescriptors.batch_compute_all_descriptors(df['SMILES'],desc_type='float')\n",
    "selected_float_feat = feat_float.loc[:,feat_float.nunique()>1]\n",
    "print('Number of Descriptor:' + str(len(selected_float_feat.loc[0])))\n",
    "      \n",
    "df['bi_class_partition'] = utilities.divide_classes(df['cleaned_bod'], [60])\n",
    "true_label_biclass = df['bi_class_partition'].values\n",
    "plt.hist(df['bi_class_partition'])"
   ]
  },
  {
   "cell_type": "markdown",
   "metadata": {},
   "source": [
    "## build model and train model"
   ]
  },
  {
   "cell_type": "code",
   "execution_count": 3,
   "metadata": {},
   "outputs": [
    {
     "name": "stdout",
     "output_type": "stream",
     "text": [
      "WARNING:tensorflow:From /Users/hanghu/miniconda3/envs/deepchembed/lib/python3.6/site-packages/tensorflow/python/framework/op_def_library.py:263: colocate_with (from tensorflow.python.framework.ops) is deprecated and will be removed in a future version.\n",
      "Instructions for updating:\n",
      "Colocations handled automatically by placer.\n"
     ]
    }
   ],
   "source": [
    "autoencoder_dims = [68,45,20]\n",
    "dce = DCE(autoencoder_dims, n_clusters=2, update_interval=50)\n",
    "dce.build_model()"
   ]
  },
  {
   "cell_type": "code",
   "execution_count": 4,
   "metadata": {},
   "outputs": [
    {
     "name": "stdout",
     "output_type": "stream",
     "text": [
      "__________________________________________________________________________________________________\n",
      "Layer (type)                    Output Shape         Param #     Connected to                     \n",
      "==================================================================================================\n",
      "input (InputLayer)              (None, 68)           0                                            \n",
      "__________________________________________________________________________________________________\n",
      "batch_normalization_1 (BatchNor (None, 68)           272         input[0][0]                      \n",
      "__________________________________________________________________________________________________\n",
      "encoder_0 (Dense)               (None, 45)           3105        batch_normalization_1[0][0]      \n",
      "__________________________________________________________________________________________________\n",
      "embedding_layer (Dense)         (None, 20)           920         encoder_0[0][0]                  \n",
      "__________________________________________________________________________________________________\n",
      "decoder_1 (Dense)               (None, 45)           945         embedding_layer[0][0]            \n",
      "__________________________________________________________________________________________________\n",
      "clustering (KMeansLayer)        (None, 2)            40          embedding_layer[0][0]            \n",
      "__________________________________________________________________________________________________\n",
      "decoder_output (Dense)          (None, 68)           3128        decoder_1[0][0]                  \n",
      "==================================================================================================\n",
      "Total params: 8,410\n",
      "Trainable params: 8,274\n",
      "Non-trainable params: 136\n",
      "__________________________________________________________________________________________________\n"
     ]
    }
   ],
   "source": [
    "dce.model.summary()"
   ]
  },
  {
   "cell_type": "markdown",
   "metadata": {},
   "source": [
    "### train model with default parameters"
   ]
  },
  {
   "cell_type": "code",
   "execution_count": 5,
   "metadata": {},
   "outputs": [
    {
     "name": "stdout",
     "output_type": "stream",
     "text": [
      "WARNING:tensorflow:From /Users/hanghu/miniconda3/envs/deepchembed/lib/python3.6/site-packages/tensorflow/python/ops/math_ops.py:3066: to_int32 (from tensorflow.python.ops.math_ops) is deprecated and will be removed in a future version.\n",
      "Instructions for updating:\n",
      "Use tf.cast instead.\n",
      "Epoch: 0\n",
      "  Total_loss = 0.013096661;Delta_label = 0.0\n",
      "  Clustering_loss = 0.0004416075; Decoder_loss = 0.025751716\n",
      "Epoch: 50\n",
      "  Total_loss = 0.00044994;Delta_label = 0.2671683913452493\n",
      "  Clustering_loss = 7.758233e-06; Decoder_loss = 0.0008921218\n",
      "Epoch: 100\n",
      "  Total_loss = 0.00040052555;Delta_label = 0.08654750705550329\n",
      "  Clustering_loss = 1.884415e-05; Decoder_loss = 0.00078220695\n",
      "Epoch: 150\n",
      "  Total_loss = 0.0003811842;Delta_label = 0.060206961429915336\n",
      "  Clustering_loss = 5.686063e-05; Decoder_loss = 0.00070550776\n",
      "Epoch: 200\n",
      "  Total_loss = 0.00041499702;Delta_label = 0.05174035747883349\n",
      "  Clustering_loss = 0.00019297081; Decoder_loss = 0.00063702324\n",
      "Epoch: 250\n",
      "  Total_loss = 0.0006413298;Delta_label = 0.027281279397930385\n",
      "  Clustering_loss = 0.00069105864; Decoder_loss = 0.000591601\n",
      "Epoch: 300\n",
      "  Total_loss = 0.0014879194;Delta_label = 0.020696142991533398\n",
      "  Clustering_loss = 0.0024102444; Decoder_loss = 0.0005655942\n",
      "Epoch: 350\n",
      "  Total_loss = 0.0041093067;Delta_label = 0.01599247412982126\n",
      "  Clustering_loss = 0.0076553808; Decoder_loss = 0.00056323246\n",
      "Epoch: 400\n",
      "  Total_loss = 0.0103722215;Delta_label = 0.02634054562558796\n",
      "  Clustering_loss = 0.02016546; Decoder_loss = 0.0005789837\n",
      "Epoch: 450\n",
      "  Total_loss = 0.020797122;Delta_label = 0.027281279397930385\n",
      "  Clustering_loss = 0.04095481; Decoder_loss = 0.00063943455\n",
      "Epoch: 500\n",
      "  Total_loss = 0.029890882;Delta_label = 0.01975540921919097\n",
      "  Clustering_loss = 0.05912364; Decoder_loss = 0.00065812294\n",
      "Epoch: 550\n",
      "  Total_loss = 0.03299354;Delta_label = 0.010348071495766699\n",
      "  Clustering_loss = 0.06533443; Decoder_loss = 0.00065264717\n",
      "Epoch: 600\n",
      "  Total_loss = 0.03257241;Delta_label = 0.0018814675446848542\n",
      "  Clustering_loss = 0.06450562; Decoder_loss = 0.00063920254\n",
      "Epoch: 650\n",
      "  Total_loss = 0.031084334;Delta_label = 0.005644402634054563\n",
      "  Clustering_loss = 0.06154641; Decoder_loss = 0.00062225637\n",
      "Epoch: 700\n",
      "  Total_loss = 0.029229179;Delta_label = 0.0018814675446848542\n",
      "  Clustering_loss = 0.057851087; Decoder_loss = 0.00060727005\n",
      "Epoch: 750\n",
      "  Total_loss = 0.027468111;Delta_label = 0.0018814675446848542\n",
      "  Clustering_loss = 0.054339837; Decoder_loss = 0.000596386\n",
      "Epoch: 800\n",
      "  Total_loss = 0.025789768;Delta_label = 0.0009407337723424271\n",
      "  Clustering_loss = 0.050987795; Decoder_loss = 0.00059174176\n",
      "0.0 < 0.0001\n",
      "Reached tolerance threshold. Stopping training.\n"
     ]
    }
   ],
   "source": [
    "[y_pred, loss, delta_label] = dce.train_model(selected_float_feat.values,clustering_loss='kld', \n",
    "                                              decoder_loss='mse', clustering_loss_weight=0.5)"
   ]
  },
  {
   "cell_type": "code",
   "execution_count": 6,
   "metadata": {},
   "outputs": [
    {
     "data": {
      "text/plain": [
       "<matplotlib.legend.Legend at 0x1a3a82c518>"
      ]
     },
     "execution_count": 6,
     "metadata": {},
     "output_type": "execute_result"
    },
    {
     "data": {
      "image/png": "[encoded data removed]",
      "text/plain": [
       "<Figure size 432x288 with 1 Axes>"
      ]
     },
     "metadata": {
      "needs_background": "light"
     },
     "output_type": "display_data"
    }
   ],
   "source": [
    "plt.plot(loss[0], label='Total loss')\n",
    "plt.plot(loss[1], label='Clustering loss')\n",
    "plt.plot(loss[2], label='Decoder loss')\n",
    "plt.legend()"
   ]
  },
  {
   "cell_type": "code",
   "execution_count": 7,
   "metadata": {},
   "outputs": [
    {
     "data": {
      "text/plain": [
       "[<matplotlib.lines.Line2D at 0x1a391260b8>]"
      ]
     },
     "execution_count": 7,
     "metadata": {},
     "output_type": "execute_result"
    },
    {
     "data": {
      "image/png": "[encoded data removed]",
      "text/plain": [
       "<Figure size 432x288 with 1 Axes>"
      ]
     },
     "metadata": {
      "needs_background": "light"
     },
     "output_type": "display_data"
    }
   ],
   "source": [
    "plt.plot(delta_label)"
   ]
  },
  {
   "cell_type": "code",
   "execution_count": 8,
   "metadata": {},
   "outputs": [
    {
     "data": {
      "text/plain": [
       "(array([575.,   0.,   0.,   0.,   0.,   0.,   0.,   0.,   0., 488.]),\n",
       " array([0. , 0.1, 0.2, 0.3, 0.4, 0.5, 0.6, 0.7, 0.8, 0.9, 1. ]),\n",
       " <a list of 10 Patch objects>)"
      ]
     },
     "execution_count": 8,
     "metadata": {},
     "output_type": "execute_result"
    },
    {
     "data": {
      "image/png": "[encoded data removed]",
      "text/plain": [
       "<Figure size 432x288 with 1 Axes>"
      ]
     },
     "metadata": {
      "needs_background": "light"
     },
     "output_type": "display_data"
    }
   ],
   "source": [
    "plt.hist(y_pred)"
   ]
  },
  {
   "cell_type": "code",
   "execution_count": 9,
   "metadata": {},
   "outputs": [
    {
     "name": "stdout",
     "output_type": "stream",
     "text": [
      "Metric with True label\n",
      "adjusted rand score: 0.009759500246271636 \n",
      "fowlkes_mallows : 0.548635890488515\n"
     ]
    },
    {
     "data": {
      "text/plain": [
       "{'adjusted_rand_score': 0.009759500246271636,\n",
       " 'fowlkes_mallows_score': 0.548635890488515}"
      ]
     },
     "execution_count": 9,
     "metadata": {},
     "output_type": "execute_result"
    }
   ],
   "source": [
    "Cluster.true_label_metrics(true_label_biclass,y_pred,print_metric=True)"
   ]
  },
  {
   "cell_type": "markdown",
   "metadata": {},
   "source": [
    "### Parameters for tuning:\n",
    "* Hardening Function: order = {1,3,5,7,9}, strength > 1\n",
    "* Opitmizer: {'adam', 'sgd'}, lr, decay\n",
    "* update_interval "
   ]
  },
  {
   "cell_type": "code",
   "execution_count": 24,
   "metadata": {},
   "outputs": [
    {
     "name": "stdout",
     "output_type": "stream",
     "text": [
      "Epoch: 0\n",
      "  Total_loss = 0.011113219;Delta_label = 0.0\n",
      "  Clustering_loss = 0.00037720535; Decoder_loss = 0.011678273\n",
      "Epoch: 50\n",
      "  Total_loss = 0.0008202251;Delta_label = 0.2605832549388523\n",
      "  Clustering_loss = 2.0676947e-05; Decoder_loss = 0.0008623066\n",
      "Epoch: 100\n",
      "  Total_loss = 0.00071475666;Delta_label = 0.09125117591721543\n",
      "  Clustering_loss = 9.283289e-05; Decoder_loss = 0.0007474895\n",
      "Epoch: 150\n",
      "  Total_loss = 0.00064314593;Delta_label = 0.0761994355597366\n",
      "  Clustering_loss = 0.0004343961; Decoder_loss = 0.0006541328\n",
      "Epoch: 200\n",
      "  Total_loss = 0.0006602019;Delta_label = 0.04891815616180621\n",
      "  Clustering_loss = 0.0019314018; Decoder_loss = 0.00059329666\n",
      "Epoch: 250\n",
      "  Total_loss = 0.00090465904;Delta_label = 0.03951081843838194\n",
      "  Clustering_loss = 0.0074522933; Decoder_loss = 0.0005600467\n",
      "Epoch: 300\n",
      "  Total_loss = 0.0016834155;Delta_label = 0.04985888993414864\n",
      "  Clustering_loss = 0.023328464; Decoder_loss = 0.0005442024\n",
      "Epoch: 350\n",
      "  Total_loss = 0.0031952807;Delta_label = 0.041392285983066796\n",
      "  Clustering_loss = 0.05340089; Decoder_loss = 0.00055288017\n",
      "Epoch: 400\n",
      "  Total_loss = 0.004736015;Delta_label = 0.017873941674506115\n",
      "  Clustering_loss = 0.083927706; Decoder_loss = 0.0005680312\n",
      "Epoch: 450\n",
      "  Total_loss = 0.0054963566;Delta_label = 0.014111006585136407\n",
      "  Clustering_loss = 0.09925676; Decoder_loss = 0.00056159816\n",
      "Epoch: 500\n",
      "  Total_loss = 0.0055594835;Delta_label = 0.005644402634054563\n",
      "  Clustering_loss = 0.10072782; Decoder_loss = 0.00055062387\n",
      "Epoch: 550\n",
      "  Total_loss = 0.005333692;Delta_label = 0.0028222013170272815\n",
      "  Clustering_loss = 0.096444786; Decoder_loss = 0.0005383714\n",
      "Epoch: 600\n",
      "  Total_loss = 0.005022417;Delta_label = 0.004703668861712135\n",
      "  Clustering_loss = 0.09050105; Decoder_loss = 0.00052354165\n",
      "Epoch: 650\n",
      "  Total_loss = 0.004728813;Delta_label = 0.0009407337723424271\n",
      "  Clustering_loss = 0.08488556; Decoder_loss = 0.00051003665\n",
      "Epoch: 700\n",
      "  Total_loss = 0.004443512;Delta_label = 0.0009407337723424271\n",
      "  Clustering_loss = 0.07943947; Decoder_loss = 0.0004963563\n",
      "Epoch: 750\n",
      "  Total_loss = 0.004175688;Delta_label = 0.0009407337723424271\n",
      "  Clustering_loss = 0.07447609; Decoder_loss = 0.00047566672\n",
      "0.0 < 0.0001\n",
      "Reached tolerance threshold. Stopping training.\n"
     ]
    }
   ],
   "source": [
    "autoencoder_dims = [68,45,20]\n",
    "dce = DCE(autoencoder_dims, n_clusters=2, update_interval=50)\n",
    "dce.build_model()\n",
    "[y_pred, loss, delta_label] = dce.train_model(\n",
    "    selected_float_feat.values,clustering_loss='kld', \n",
    "    decoder_loss='mse', clustering_loss_weight=0.05,\n",
    "    hardening_order=3, hardening_strength=1.5)"
   ]
  },
  {
   "cell_type": "code",
   "execution_count": 25,
   "metadata": {},
   "outputs": [
    {
     "data": {
      "text/plain": [
       "<matplotlib.legend.Legend at 0x1a40f75780>"
      ]
     },
     "execution_count": 25,
     "metadata": {},
     "output_type": "execute_result"
    },
    {
     "data": {
      "image/png": "[encoded data removed]",
      "text/plain": [
       "<Figure size 432x288 with 1 Axes>"
      ]
     },
     "metadata": {
      "needs_background": "light"
     },
     "output_type": "display_data"
    }
   ],
   "source": [
    "plt.plot(loss[0], label='Total loss')\n",
    "plt.plot(loss[1], label='Clustering loss')\n",
    "plt.plot(loss[2], label='Decoder loss')\n",
    "plt.legend()"
   ]
  },
  {
   "cell_type": "code",
   "execution_count": 26,
   "metadata": {},
   "outputs": [
    {
     "data": {
      "text/plain": [
       "(array([553.,   0.,   0.,   0.,   0.,   0.,   0.,   0.,   0., 510.]),\n",
       " array([0. , 0.1, 0.2, 0.3, 0.4, 0.5, 0.6, 0.7, 0.8, 0.9, 1. ]),\n",
       " <a list of 10 Patch objects>)"
      ]
     },
     "execution_count": 26,
     "metadata": {},
     "output_type": "execute_result"
    },
    {
     "data": {
      "image/png": "[encoded data removed]",
      "text/plain": [
       "<Figure size 432x288 with 1 Axes>"
      ]
     },
     "metadata": {
      "needs_background": "light"
     },
     "output_type": "display_data"
    }
   ],
   "source": [
    "plt.hist(y_pred)"
   ]
  },
  {
   "cell_type": "code",
   "execution_count": 27,
   "metadata": {},
   "outputs": [
    {
     "name": "stdout",
     "output_type": "stream",
     "text": [
      "Metric with True label\n",
      "adjusted rand score: -0.0009157115788744715 \n",
      "fowlkes_mallows : 0.5423625820833834\n"
     ]
    },
    {
     "data": {
      "text/plain": [
       "{'adjusted_rand_score': -0.0009157115788744715,\n",
       " 'fowlkes_mallows_score': 0.5423625820833834}"
      ]
     },
     "execution_count": 27,
     "metadata": {},
     "output_type": "execute_result"
    }
   ],
   "source": [
    "Cluster.true_label_metrics(true_label_biclass,y_pred,print_metric=True)"
   ]
  },
  {
   "cell_type": "code",
   "execution_count": null,
   "metadata": {},
   "outputs": [],
   "source": []
  }
 ],
 "metadata": {
  "kernelspec": {
   "display_name": "Python 3",
   "language": "python",
   "name": "python3"
  },
  "language_info": {
   "codemirror_mode": {
    "name": "ipython",
    "version": 3
   },
   "file_extension": ".py",
   "mimetype": "text/x-python",
   "name": "python",
   "nbconvert_exporter": "python",
   "pygments_lexer": "ipython3",
   "version": "3.6.8"
  }
 },
 "nbformat": 4,
 "nbformat_minor": 2
}
