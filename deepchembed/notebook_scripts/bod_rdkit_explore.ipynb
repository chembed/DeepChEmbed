{
 "cells": [
  {
   "cell_type": "code",
   "execution_count": 5,
   "metadata": {},
   "outputs": [],
   "source": [
    "import numpy as np\n",
    "import pandas as pd\n",
    "import os\n",
    "import matplotlib as mplt\n",
    "import matplotlib.pyplot as plt"
   ]
  },
  {
   "cell_type": "code",
   "execution_count": 2,
   "metadata": {},
   "outputs": [
    {
     "ename": "NameError",
     "evalue": "name '__file__' is not defined",
     "output_type": "error",
     "traceback": [
      "\u001b[1;31m---------------------------------------------------------------------------\u001b[0m",
      "\u001b[1;31mNameError\u001b[0m                                 Traceback (most recent call last)",
      "\u001b[1;32m<ipython-input-2-3012190060d2>\u001b[0m in \u001b[0;36m<module>\u001b[1;34m\u001b[0m\n\u001b[1;32m----> 1\u001b[1;33m \u001b[0mSCRIPT_PATH\u001b[0m \u001b[1;33m=\u001b[0m \u001b[0mos\u001b[0m\u001b[1;33m.\u001b[0m\u001b[0mpath\u001b[0m\u001b[1;33m.\u001b[0m\u001b[0mdirname\u001b[0m\u001b[1;33m(\u001b[0m\u001b[0mos\u001b[0m\u001b[1;33m.\u001b[0m\u001b[0mpath\u001b[0m\u001b[1;33m.\u001b[0m\u001b[0mabspath\u001b[0m\u001b[1;33m(\u001b[0m\u001b[0m__file__\u001b[0m\u001b[1;33m)\u001b[0m\u001b[1;33m)\u001b[0m\u001b[1;33m\u001b[0m\u001b[1;33m\u001b[0m\u001b[0m\n\u001b[0m\u001b[0;32m      2\u001b[0m \u001b[0mPARENT_PATH\u001b[0m \u001b[1;33m=\u001b[0m \u001b[0mos\u001b[0m\u001b[1;33m.\u001b[0m\u001b[0mpath\u001b[0m\u001b[1;33m.\u001b[0m\u001b[0mabspath\u001b[0m\u001b[1;33m(\u001b[0m\u001b[0mos\u001b[0m\u001b[1;33m.\u001b[0m\u001b[0mpath\u001b[0m\u001b[1;33m.\u001b[0m\u001b[0mjoin\u001b[0m\u001b[1;33m(\u001b[0m\u001b[0mSCRIPT_PATH\u001b[0m\u001b[1;33m,\u001b[0m \u001b[0mos\u001b[0m\u001b[1;33m.\u001b[0m\u001b[0mpardir\u001b[0m\u001b[1;33m)\u001b[0m\u001b[1;33m)\u001b[0m\u001b[1;33m\u001b[0m\u001b[1;33m\u001b[0m\u001b[0m\n\u001b[0;32m      3\u001b[0m \u001b[0mDATA_PATH\u001b[0m \u001b[1;33m=\u001b[0m \u001b[0mos\u001b[0m\u001b[1;33m.\u001b[0m\u001b[0mpath\u001b[0m\u001b[1;33m.\u001b[0m\u001b[0mjoin\u001b[0m\u001b[1;33m(\u001b[0m\u001b[0mPARENT_PATH\u001b[0m\u001b[1;33m,\u001b[0m \u001b[1;34m'data'\u001b[0m\u001b[1;33m)\u001b[0m\u001b[1;33m\u001b[0m\u001b[1;33m\u001b[0m\u001b[0m\n",
      "\u001b[1;31mNameError\u001b[0m: name '__file__' is not defined"
     ]
    }
   ],
   "source": [
    "SCRIPT_PATH = os.path.dirname(os.path.abspath(__file__))\n",
    "PARENT_PATH = os.path.abspath(os.path.join(SCRIPT_PATH, os.pardir))\n",
    "DATA_PATH = os.path.join(PARENT_PATH, 'data')"
   ]
  },
  {
   "cell_type": "code",
   "execution_count": 3,
   "metadata": {},
   "outputs": [],
   "source": [
    "df=pd.read_csv('../../data/BOD_RDKit_Descriptors_1063.csv')"
   ]
  },
  {
   "cell_type": "code",
   "execution_count": 5,
   "metadata": {},
   "outputs": [
    {
     "data": {
      "text/plain": [
       "(1063, 124)"
      ]
     },
     "execution_count": 5,
     "metadata": {},
     "output_type": "execute_result"
    }
   ],
   "source": [
    "df.shape"
   ]
  },
  {
   "cell_type": "code",
   "execution_count": 26,
   "metadata": {},
   "outputs": [
    {
     "data": {
      "text/html": [
       "<div>\n",
       "<style scoped>\n",
       "    .dataframe tbody tr th:only-of-type {\n",
       "        vertical-align: middle;\n",
       "    }\n",
       "\n",
       "    .dataframe tbody tr th {\n",
       "        vertical-align: top;\n",
       "    }\n",
       "\n",
       "    .dataframe thead th {\n",
       "        text-align: right;\n",
       "    }\n",
       "</style>\n",
       "<table border=\"1\" class=\"dataframe\">\n",
       "  <thead>\n",
       "    <tr style=\"text-align: right;\">\n",
       "      <th></th>\n",
       "      <th>SMILES</th>\n",
       "      <th>value (% BOD)</th>\n",
       "      <th>Salt Stripped Molecule</th>\n",
       "      <th>SMILES (Optimized Geometry)</th>\n",
       "      <th>Converged</th>\n",
       "      <th>Energy</th>\n",
       "      <th>SMILES (RDKit Mol)</th>\n",
       "      <th>SlogP</th>\n",
       "      <th>SMR</th>\n",
       "      <th>LabuteASA</th>\n",
       "      <th>...</th>\n",
       "      <th>MQN35</th>\n",
       "      <th>MQN36</th>\n",
       "      <th>MQN37</th>\n",
       "      <th>MQN38</th>\n",
       "      <th>MQN39</th>\n",
       "      <th>MQN40</th>\n",
       "      <th>MQN41</th>\n",
       "      <th>MQN42</th>\n",
       "      <th>cleaned_bod</th>\n",
       "      <th>bod_class</th>\n",
       "    </tr>\n",
       "  </thead>\n",
       "  <tbody>\n",
       "    <tr>\n",
       "      <th>0</th>\n",
       "      <td>CCC1(C(=O)NC(=O)NC1=O)c2ccccc2</td>\n",
       "      <td>0.0</td>\n",
       "      <td>CCC1(c2ccccc2)C(=O)NC(=O)NC1=O</td>\n",
       "      <td>CCC1(c2ccccc2)C(=O)NC(=O)NC1=O</td>\n",
       "      <td>1</td>\n",
       "      <td>-16.47820492</td>\n",
       "      <td>CCC1(C(=O)NC(=O)NC1=O)c2ccccc2</td>\n",
       "      <td>0.7004</td>\n",
       "      <td>60.0924</td>\n",
       "      <td>98.199515</td>\n",
       "      <td>...</td>\n",
       "      <td>0</td>\n",
       "      <td>2</td>\n",
       "      <td>0</td>\n",
       "      <td>0</td>\n",
       "      <td>0</td>\n",
       "      <td>0</td>\n",
       "      <td>0</td>\n",
       "      <td>0</td>\n",
       "      <td>0.0</td>\n",
       "      <td>0</td>\n",
       "    </tr>\n",
       "    <tr>\n",
       "      <th>1</th>\n",
       "      <td>CC(O)C(O)=O</td>\n",
       "      <td>76.0</td>\n",
       "      <td>CC(O)C(=O)O</td>\n",
       "      <td>CC(O)C(=O)O</td>\n",
       "      <td>1</td>\n",
       "      <td>18.51507187</td>\n",
       "      <td>CC(O)C(O)=O</td>\n",
       "      <td>-0.5482</td>\n",
       "      <td>19.3166</td>\n",
       "      <td>35.219125</td>\n",
       "      <td>...</td>\n",
       "      <td>0</td>\n",
       "      <td>0</td>\n",
       "      <td>0</td>\n",
       "      <td>0</td>\n",
       "      <td>0</td>\n",
       "      <td>0</td>\n",
       "      <td>0</td>\n",
       "      <td>0</td>\n",
       "      <td>76.0</td>\n",
       "      <td>1</td>\n",
       "    </tr>\n",
       "    <tr>\n",
       "      <th>2</th>\n",
       "      <td>Clc1ccc(cc1)C(c2ccc(Cl)cc2)C(Cl)(Cl)Cl</td>\n",
       "      <td>0.0</td>\n",
       "      <td>Clc1ccc(C(c2ccc(Cl)cc2)C(Cl)(Cl)Cl)cc1</td>\n",
       "      <td>Clc1ccc(C(c2ccc(Cl)cc2)C(Cl)(Cl)Cl)cc1</td>\n",
       "      <td>1</td>\n",
       "      <td>56.61000444</td>\n",
       "      <td>Clc1ccc(cc1)C(c2ccc(Cl)cc2)C(Cl)(Cl)Cl</td>\n",
       "      <td>6.4955</td>\n",
       "      <td>85.0370</td>\n",
       "      <td>136.734713</td>\n",
       "      <td>...</td>\n",
       "      <td>0</td>\n",
       "      <td>2</td>\n",
       "      <td>0</td>\n",
       "      <td>0</td>\n",
       "      <td>0</td>\n",
       "      <td>0</td>\n",
       "      <td>0</td>\n",
       "      <td>0</td>\n",
       "      <td>0.0</td>\n",
       "      <td>0</td>\n",
       "    </tr>\n",
       "    <tr>\n",
       "      <th>3</th>\n",
       "      <td>OC(=O)c1c(Cl)ccc(Cl)c1Cl</td>\n",
       "      <td>1.0</td>\n",
       "      <td>O=C(O)c1c(Cl)ccc(Cl)c1Cl</td>\n",
       "      <td>O=C(O)c1c(Cl)ccc(Cl)c1Cl</td>\n",
       "      <td>1</td>\n",
       "      <td>13.71352211</td>\n",
       "      <td>OC(=O)c1c(Cl)ccc(Cl)c1Cl</td>\n",
       "      <td>3.3450</td>\n",
       "      <td>48.4313</td>\n",
       "      <td>83.661900</td>\n",
       "      <td>...</td>\n",
       "      <td>0</td>\n",
       "      <td>1</td>\n",
       "      <td>0</td>\n",
       "      <td>0</td>\n",
       "      <td>0</td>\n",
       "      <td>0</td>\n",
       "      <td>0</td>\n",
       "      <td>0</td>\n",
       "      <td>1.0</td>\n",
       "      <td>1</td>\n",
       "    </tr>\n",
       "    <tr>\n",
       "      <th>4</th>\n",
       "      <td>OCC(O)C(O)C(O)C(O)CO</td>\n",
       "      <td>82.0</td>\n",
       "      <td>OCC(O)C(O)C(O)C(O)CO</td>\n",
       "      <td>OCC(O)C(O)C(O)C(O)CO</td>\n",
       "      <td>1</td>\n",
       "      <td>23.15533611</td>\n",
       "      <td>OCC(O)C(O)C(O)C(O)CO</td>\n",
       "      <td>-3.5854</td>\n",
       "      <td>38.1988</td>\n",
       "      <td>69.329364</td>\n",
       "      <td>...</td>\n",
       "      <td>0</td>\n",
       "      <td>0</td>\n",
       "      <td>0</td>\n",
       "      <td>0</td>\n",
       "      <td>0</td>\n",
       "      <td>0</td>\n",
       "      <td>0</td>\n",
       "      <td>0</td>\n",
       "      <td>82.0</td>\n",
       "      <td>1</td>\n",
       "    </tr>\n",
       "  </tbody>\n",
       "</table>\n",
       "<p>5 rows × 126 columns</p>\n",
       "</div>"
      ],
      "text/plain": [
       "                                   SMILES  value (% BOD)  \\\n",
       "0          CCC1(C(=O)NC(=O)NC1=O)c2ccccc2            0.0   \n",
       "1                             CC(O)C(O)=O           76.0   \n",
       "2  Clc1ccc(cc1)C(c2ccc(Cl)cc2)C(Cl)(Cl)Cl            0.0   \n",
       "3                OC(=O)c1c(Cl)ccc(Cl)c1Cl            1.0   \n",
       "4                    OCC(O)C(O)C(O)C(O)CO           82.0   \n",
       "\n",
       "                   Salt Stripped Molecule  \\\n",
       "0          CCC1(c2ccccc2)C(=O)NC(=O)NC1=O   \n",
       "1                             CC(O)C(=O)O   \n",
       "2  Clc1ccc(C(c2ccc(Cl)cc2)C(Cl)(Cl)Cl)cc1   \n",
       "3                O=C(O)c1c(Cl)ccc(Cl)c1Cl   \n",
       "4                    OCC(O)C(O)C(O)C(O)CO   \n",
       "\n",
       "              SMILES (Optimized Geometry) Converged        Energy  \\\n",
       "0          CCC1(c2ccccc2)C(=O)NC(=O)NC1=O         1  -16.47820492   \n",
       "1                             CC(O)C(=O)O         1   18.51507187   \n",
       "2  Clc1ccc(C(c2ccc(Cl)cc2)C(Cl)(Cl)Cl)cc1         1   56.61000444   \n",
       "3                O=C(O)c1c(Cl)ccc(Cl)c1Cl         1   13.71352211   \n",
       "4                    OCC(O)C(O)C(O)C(O)CO         1   23.15533611   \n",
       "\n",
       "                       SMILES (RDKit Mol)   SlogP      SMR   LabuteASA  \\\n",
       "0          CCC1(C(=O)NC(=O)NC1=O)c2ccccc2  0.7004  60.0924   98.199515   \n",
       "1                             CC(O)C(O)=O -0.5482  19.3166   35.219125   \n",
       "2  Clc1ccc(cc1)C(c2ccc(Cl)cc2)C(Cl)(Cl)Cl  6.4955  85.0370  136.734713   \n",
       "3                OC(=O)c1c(Cl)ccc(Cl)c1Cl  3.3450  48.4313   83.661900   \n",
       "4                    OCC(O)C(O)C(O)C(O)CO -3.5854  38.1988   69.329364   \n",
       "\n",
       "     ...      MQN35  MQN36  MQN37  MQN38  MQN39  MQN40  MQN41  MQN42  \\\n",
       "0    ...          0      2      0      0      0      0      0      0   \n",
       "1    ...          0      0      0      0      0      0      0      0   \n",
       "2    ...          0      2      0      0      0      0      0      0   \n",
       "3    ...          0      1      0      0      0      0      0      0   \n",
       "4    ...          0      0      0      0      0      0      0      0   \n",
       "\n",
       "   cleaned_bod  bod_class  \n",
       "0          0.0          0  \n",
       "1         76.0          1  \n",
       "2          0.0          0  \n",
       "3          1.0          1  \n",
       "4         82.0          1  \n",
       "\n",
       "[5 rows x 126 columns]"
      ]
     },
     "execution_count": 26,
     "metadata": {},
     "output_type": "execute_result"
    }
   ],
   "source": [
    "df.head()"
   ]
  },
  {
   "cell_type": "code",
   "execution_count": 12,
   "metadata": {},
   "outputs": [],
   "source": [
    "def clean_out_of_bound(bio_deg):\n",
    "    \"\"\"\n",
    "    clean the bio degradation part, if negative, treat as 0\n",
    "    if above 100, treat as 100\n",
    "    ----\n",
    "    Args:\n",
    "    bio_deg: pd.series or list or numpy.ndarray\n",
    "    ----\n",
    "    Return:\n",
    "    pd.series\n",
    "    \"\"\"\n",
    "    cleaned_bio = []\n",
    "    for i in bio_deg:\n",
    "        if i < 0:\n",
    "            i = 0\n",
    "        elif i > 100:\n",
    "            i = 100\n",
    "        cleaned_bio.append(i)\n",
    "    return pd.Series(cleaned_bio)\n",
    "    "
   ]
  },
  {
   "cell_type": "code",
   "execution_count": 14,
   "metadata": {},
   "outputs": [],
   "source": [
    "df['cleaned_bod'] = clean_out_of_bound(df['value (% BOD)'])"
   ]
  },
  {
   "cell_type": "code",
   "execution_count": 20,
   "metadata": {},
   "outputs": [],
   "source": [
    "def bi_class(raw, boundary):\n",
    "    \"\"\"\n",
    "    divide raw input into two classes, based on selected boundary\n",
    "    \"\"\"\n",
    "    bi_class = pd.Series([0 if i < boundary else 1 for i in raw])\n",
    "    return bi_class"
   ]
  },
  {
   "cell_type": "code",
   "execution_count": 22,
   "metadata": {},
   "outputs": [],
   "source": [
    "df['bod_class'] = bi_class(df['cleaned_bod'], 0.6)"
   ]
  },
  {
   "cell_type": "markdown",
   "metadata": {},
   "source": [
    "Plot the histogram distribution of degradable and non degradable.  \n",
    "The graph shows it is kind of even"
   ]
  },
  {
   "cell_type": "code",
   "execution_count": 25,
   "metadata": {
    "scrolled": false
   },
   "outputs": [
    {
     "data": {
      "text/plain": [
       "(array([419.,   0.,   0.,   0.,   0.,   0.,   0.,   0.,   0., 644.]),\n",
       " array([0. , 0.1, 0.2, 0.3, 0.4, 0.5, 0.6, 0.7, 0.8, 0.9, 1. ]),\n",
       " <a list of 10 Patch objects>)"
      ]
     },
     "execution_count": 25,
     "metadata": {},
     "output_type": "execute_result"
    },
    {
     "data": {
      "image/png": "[encoded data removed]",
      "text/plain": [
       "<matplotlib.figure.Figure at 0x2e162577ac8>"
      ]
     },
     "metadata": {
      "needs_background": "light"
     },
     "output_type": "display_data"
    }
   ],
   "source": [
    "plt.hist(df['bod_class'])"
   ]
  },
  {
   "cell_type": "code",
   "execution_count": 49,
   "metadata": {},
   "outputs": [],
   "source": [
    "def cluster_acc(y_true, y_predict):\n",
    "    \"\"\"\n",
    "    Calculate clustering accuracy. \n",
    "    ----\n",
    "    Arguments\n",
    "        y_true: true labels, numpy.array with shape (n_samples,)\n",
    "        y_predict: predicted labels, numpy.array with shape (n_samples,)\n",
    "    ----\n",
    "    Return\n",
    "        accuracy, in [0,1]\n",
    "    \"\"\"\n",
    "    y_true = y_true.astype(np.int64)\n",
    "    assert y_predict.shape[0] == y_true.shape[0]\n",
    "    compare = y_true == y_predict\n",
    "    accuarte, count = np.unique(comp, return_counts=True)\n",
    "    total_evaluation = dict(zip(accuarte, count))\n",
    "    return total_evaluation[True]/sum(total.values())\n",
    "    \n"
   ]
  },
  {
   "cell_type": "code",
   "execution_count": null,
   "metadata": {},
   "outputs": [],
   "source": []
  },
  {
   "cell_type": "code",
   "execution_count": null,
   "metadata": {},
   "outputs": [],
   "source": []
  },
  {
   "cell_type": "code",
   "execution_count": null,
   "metadata": {},
   "outputs": [],
   "source": []
  },
  {
   "cell_type": "code",
   "execution_count": null,
   "metadata": {},
   "outputs": [],
   "source": []
  }
 ],
 "metadata": {
  "kernelspec": {
   "display_name": "Python36(deepchembed)",
   "language": "python",
   "name": "deepchembed"
  },
  "language_info": {
   "codemirror_mode": {
    "name": "ipython",
    "version": 3
   },
   "file_extension": ".py",
   "mimetype": "text/x-python",
   "name": "python",
   "nbconvert_exporter": "python",
   "pygments_lexer": "ipython3",
   "version": "3.6.8"
  }
 },
 "nbformat": 4,
 "nbformat_minor": 2
}
