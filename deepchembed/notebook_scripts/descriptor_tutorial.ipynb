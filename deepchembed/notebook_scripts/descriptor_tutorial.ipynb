{
 "cells": [
  {
   "cell_type": "markdown",
   "metadata": {},
   "source": [
    "## Tutorial for module decriptor.py"
   ]
  },
  {
   "cell_type": "code",
   "execution_count": 1,
   "metadata": {},
   "outputs": [],
   "source": [
    "import os\n",
    "import sys\n",
    "SCRIPT_PATH = os.path.abspath('.')\n",
    "PARENT_PATH = os.path.abspath(os.path.join(SCRIPT_PATH, os.pardir))\n",
    "DATA_PATH = os.path.join(PARENT_PATH, 'data')\n",
    "sys.path.insert(0, PARENT_PATH)"
   ]
  },
  {
   "cell_type": "markdown",
   "metadata": {},
   "source": [
    "### Class rdkitDescriptor\n",
    "\n",
    "``` from rdkit.Chem import rdMolDescriptors as rdD ```\n",
    "\n",
    "1. Propertires, 25 in total, mixed with float and int\n",
    "\n",
    "2. Connectivity and shape indexes, 14 in total, float,\n",
    "    * ChiNn(v), N=0-5, \n",
    "    * HallKierAlpha\n",
    "    * Kappa1-3,  -> float\n",
    "    \n",
    "3. MOE-type descriptors, 36 in total, float\n",
    "    * SlogP_VSA1-12\n",
    "    * SMR_VSA1-10\n",
    "    * PEOE_VSA1-14\n",
    "\n",
    "4. MQN-type descriptors, 42 in total, int \n"
   ]
  },
  {
   "cell_type": "code",
   "execution_count": 2,
   "metadata": {},
   "outputs": [],
   "source": [
    "from descriptor import rdkitDescriptors"
   ]
  },
  {
   "cell_type": "code",
   "execution_count": 3,
   "metadata": {},
   "outputs": [],
   "source": [
    "a = rdkitDescriptors('CC(O)C(O)=O')"
   ]
  },
  {
   "cell_type": "code",
   "execution_count": 5,
   "metadata": {},
   "outputs": [
    {
     "data": {
      "text/plain": [
       "117"
      ]
     },
     "execution_count": 5,
     "metadata": {},
     "output_type": "execute_result"
    }
   ],
   "source": [
    "len(a.compute_all_descriptors())"
   ]
  },
  {
   "cell_type": "code",
   "execution_count": 4,
   "metadata": {},
   "outputs": [
    {
     "data": {
      "text/plain": [
       "{'exactmw': 90.031694052,\n",
       " 'lipinskiHBA': 3.0,\n",
       " 'lipinskiHBD': 2.0,\n",
       " 'NumRotatableBonds': 1.0,\n",
       " 'NumHBD': 2.0,\n",
       " 'NumHBA': 2.0,\n",
       " 'NumHeteroatoms': 3.0,\n",
       " 'NumAmideBonds': 0.0,\n",
       " 'FractionCSP3': 0.6666666666666666,\n",
       " 'NumRings': 0.0,\n",
       " 'NumAromaticRings': 0.0,\n",
       " 'NumAliphaticRings': 0.0,\n",
       " 'NumSaturatedRings': 0.0,\n",
       " 'NumHeterocycles': 0.0,\n",
       " 'NumAromaticHeterocycles': 0.0,\n",
       " 'NumSaturatedHeterocycles': 0.0,\n",
       " 'NumAliphaticHeterocycles': 0.0,\n",
       " 'NumSpiroAtoms': 0.0,\n",
       " 'NumBridgeheadAtoms': 0.0,\n",
       " 'NumAtomStereoCenters': 1.0,\n",
       " 'NumUnspecifiedAtomStereoCenters': 1.0,\n",
       " 'labuteASA': 35.21912486105855,\n",
       " 'tpsa': 57.53,\n",
       " 'CrippenClogP': -0.5482,\n",
       " 'CrippenMR': 19.3166}"
      ]
     },
     "execution_count": 4,
     "metadata": {},
     "output_type": "execute_result"
    }
   ],
   "source": [
    "a.compute_properties()"
   ]
  },
  {
   "cell_type": "code",
   "execution_count": 5,
   "metadata": {},
   "outputs": [
    {
     "data": {
      "text/plain": [
       "{'Chi0v': 3.3800257506534046,\n",
       " 'Chi1v': 1.5519552365135103,\n",
       " 'Chi2v': 1.014211137204421,\n",
       " 'Chi3v': 0.3573902296597741,\n",
       " 'Chi4v': 0.0,\n",
       " 'Chi0n': 3.3800257506534046,\n",
       " 'Chi1n': 1.5519552365135103,\n",
       " 'Chi2n': 1.014211137204421,\n",
       " 'Chi3n': 0.3573902296597741,\n",
       " 'Chi4n': 0.0,\n",
       " 'HallKierAlpha': -0.5700000000000001,\n",
       " 'Kappa1': 5.43,\n",
       " 'Kappa2': 1.7676338396942162,\n",
       " 'Kappa3': 1.7215451895043727}"
      ]
     },
     "execution_count": 5,
     "metadata": {},
     "output_type": "execute_result"
    }
   ],
   "source": [
    "a.compute_connectivity_and_shape_indexes()"
   ]
  },
  {
   "cell_type": "code",
   "execution_count": 6,
   "metadata": {},
   "outputs": [
    {
     "data": {
      "text/plain": [
       "{'SlogP_VSA1': 0.0,\n",
       " 'SlogP_VSA2': 22.286326465381563,\n",
       " 'SlogP_VSA3': 4.794537184071822,\n",
       " 'SlogP_VSA4': 0.0,\n",
       " 'SlogP_VSA5': 6.923737199690624,\n",
       " 'SlogP_VSA6': 0.0,\n",
       " 'SlogP_VSA7': 0.0,\n",
       " 'SlogP_VSA8': 0.0,\n",
       " 'SlogP_VSA9': 0.0,\n",
       " 'SlogP_VSA10': 0.0,\n",
       " 'SlogP_VSA11': 0.0,\n",
       " 'SlogP_VSA12': 0.0,\n",
       " 'SMR_VSA1': 15.007591973753232,\n",
       " 'SMR_VSA2': 0.0,\n",
       " 'SMR_VSA3': 0.0,\n",
       " 'SMR_VSA4': 0.0,\n",
       " 'SMR_VSA5': 13.027703587438927,\n",
       " 'SMR_VSA6': 0.0,\n",
       " 'SMR_VSA7': 0.0,\n",
       " 'SMR_VSA8': 0.0,\n",
       " 'SMR_VSA9': 0.0,\n",
       " 'SMR_VSA10': 5.969305287951849,\n",
       " 'PEOE_VSA1': 10.213054789681411,\n",
       " 'PEOE_VSA2': 0.0,\n",
       " 'PEOE_VSA3': 4.794537184071822,\n",
       " 'PEOE_VSA4': 0.0,\n",
       " 'PEOE_VSA5': 0.0,\n",
       " 'PEOE_VSA6': 0.0,\n",
       " 'PEOE_VSA7': 6.923737199690624,\n",
       " 'PEOE_VSA8': 0.0,\n",
       " 'PEOE_VSA9': 0.0,\n",
       " 'PEOE_VSA10': 6.103966387748303,\n",
       " 'PEOE_VSA11': 0.0,\n",
       " 'PEOE_VSA12': 0.0,\n",
       " 'PEOE_VSA13': 0.0,\n",
       " 'PEOE_VSA14': 5.969305287951849}"
      ]
     },
     "execution_count": 6,
     "metadata": {},
     "output_type": "execute_result"
    }
   ],
   "source": [
    "a.compute_MOE_descriptors()"
   ]
  },
  {
   "cell_type": "code",
   "execution_count": 7,
   "metadata": {},
   "outputs": [
    {
     "data": {
      "text/plain": [
       "{'MQN1': 3,\n",
       " 'MQN2': 0,\n",
       " 'MQN3': 0,\n",
       " 'MQN4': 0,\n",
       " 'MQN5': 0,\n",
       " 'MQN6': 0,\n",
       " 'MQN7': 0,\n",
       " 'MQN8': 0,\n",
       " 'MQN9': 0,\n",
       " 'MQN10': 3,\n",
       " 'MQN11': 0,\n",
       " 'MQN12': 6,\n",
       " 'MQN13': 4,\n",
       " 'MQN14': 1,\n",
       " 'MQN15': 0,\n",
       " 'MQN16': 0,\n",
       " 'MQN17': 0,\n",
       " 'MQN18': 0,\n",
       " 'MQN19': 1,\n",
       " 'MQN20': 6,\n",
       " 'MQN21': 3,\n",
       " 'MQN22': 2,\n",
       " 'MQN23': 2,\n",
       " 'MQN24': 0,\n",
       " 'MQN25': 0,\n",
       " 'MQN26': 4,\n",
       " 'MQN27': 0,\n",
       " 'MQN28': 2,\n",
       " 'MQN29': 0,\n",
       " 'MQN30': 0,\n",
       " 'MQN31': 0,\n",
       " 'MQN32': 0,\n",
       " 'MQN33': 0,\n",
       " 'MQN34': 0,\n",
       " 'MQN35': 0,\n",
       " 'MQN36': 0,\n",
       " 'MQN37': 0,\n",
       " 'MQN38': 0,\n",
       " 'MQN39': 0,\n",
       " 'MQN40': 0,\n",
       " 'MQN41': 0,\n",
       " 'MQN42': 0}"
      ]
     },
     "execution_count": 7,
     "metadata": {},
     "output_type": "execute_result"
    }
   ],
   "source": [
    "a.compute_MQN_descriptors()"
   ]
  },
  {
   "cell_type": "code",
   "execution_count": null,
   "metadata": {},
   "outputs": [],
   "source": []
  }
 ],
 "metadata": {
  "kernelspec": {
   "display_name": "Python [conda env:deepchembed]",
   "language": "python",
   "name": "conda-env-deepchembed-py"
  },
  "language_info": {
   "codemirror_mode": {
    "name": "ipython",
    "version": 3
   },
   "file_extension": ".py",
   "mimetype": "text/x-python",
   "name": "python",
   "nbconvert_exporter": "python",
   "pygments_lexer": "ipython3",
   "version": "3.6.8"
  }
 },
 "nbformat": 4,
 "nbformat_minor": 2
}
