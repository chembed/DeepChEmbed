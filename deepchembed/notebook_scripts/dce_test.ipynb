{
 "cells": [
  {
   "cell_type": "code",
   "execution_count": 266,
   "metadata": {},
   "outputs": [],
   "source": [
    "import __init__\n",
    "from __init__ import DATA_PATH\n",
    "from __init__ import PACKAGE_PATH\n",
    "import numpy as np\n",
    "import pandas as pd\n",
    "import os\n",
    "import matplotlib as mplt\n",
    "import matplotlib.pyplot as plt\n",
    "import seaborn as sns\n",
    "from keras.utils import normalize\n",
    "%matplotlib inline"
   ]
  },
  {
   "cell_type": "code",
   "execution_count": 267,
   "metadata": {},
   "outputs": [],
   "source": [
    "data = pd.read_csv(os.path.join(DATA_PATH,'BOD_biclass_139rdkit.csv'))\n",
    "data_139 = data.iloc[:,2:141]\n",
    "data_train = data_139.values\n",
    "data_train.shape\n",
    "data_train = normalize(data_train, axis=0, order=2)"
   ]
  },
  {
   "cell_type": "code",
   "execution_count": 268,
   "metadata": {},
   "outputs": [
    {
     "data": {
      "text/plain": [
       "(array([419.,   0.,   0.,   0.,   0.,   0.,   0.,   0.,   0., 644.]),\n",
       " array([0. , 0.1, 0.2, 0.3, 0.4, 0.5, 0.6, 0.7, 0.8, 0.9, 1. ]),\n",
       " <a list of 10 Patch objects>)"
      ]
     },
     "execution_count": 268,
     "metadata": {},
     "output_type": "execute_result"
    },
    {
     "data": {
      "image/png": "[encoded data removed]",
      "text/plain": [
       "<Figure size 432x288 with 1 Axes>"
      ]
     },
     "metadata": {
      "needs_background": "light"
     },
     "output_type": "display_data"
    }
   ],
   "source": [
    "true_label_biclass = data['bod_class'].values\n",
    "plt.hist(true_label_biclass)"
   ]
  },
  {
   "cell_type": "code",
   "execution_count": 269,
   "metadata": {},
   "outputs": [],
   "source": [
    "from dimreducer import DeepAutoEncoder\n",
    "from cluster import KMeansLayer\n",
    "from keras import Model"
   ]
  },
  {
   "cell_type": "code",
   "execution_count": 270,
   "metadata": {},
   "outputs": [
    {
     "name": "stdout",
     "output_type": "stream",
     "text": [
      "_________________________________________________________________\n",
      "Layer (type)                 Output Shape              Param #   \n",
      "=================================================================\n",
      "input (InputLayer)           (None, 139)               0         \n",
      "_________________________________________________________________\n",
      "batch_normalization_17 (Batc (None, 139)               556       \n",
      "_________________________________________________________________\n",
      "encoder_0 (Dense)            (None, 100)               14000     \n",
      "_________________________________________________________________\n",
      "encoder_1 (Dense)            (None, 70)                7070      \n",
      "_________________________________________________________________\n",
      "embedding_layer (Dense)      (None, 50)                3550      \n",
      "_________________________________________________________________\n",
      "decoder_2 (Dense)            (None, 70)                3570      \n",
      "_________________________________________________________________\n",
      "decoder_1 (Dense)            (None, 100)               7100      \n",
      "_________________________________________________________________\n",
      "decoder_output (Dense)       (None, 139)               14039     \n",
      "=================================================================\n",
      "Total params: 49,885\n",
      "Trainable params: 49,607\n",
      "Non-trainable params: 278\n",
      "_________________________________________________________________\n"
     ]
    }
   ],
   "source": [
    "dims = [139,100,70,50]\n",
    "autoencoder =  DeepAutoEncoder(dims)\n",
    "autoencoder.build_autoencoder()\n",
    "autoencoder.model.summary()"
   ]
  },
  {
   "cell_type": "code",
   "execution_count": 271,
   "metadata": {},
   "outputs": [],
   "source": [
    "embeding   = autoencoder.model.get_layer(name='embedding_layer').output\n",
    "encoder    = Model(inputs=autoencoder.model.input, outputs=embeding)\n",
    "n_clusters = 2\n",
    "alpha      = 1.0\n",
    "clustering = KMeansLayer(n_clusters, alpha=alpha, name='clustering')(embeding)\n",
    "model      = Model(inputs=autoencoder.model.input, outputs=[clustering,autoencoder.model.output])"
   ]
  },
  {
   "cell_type": "code",
   "execution_count": 272,
   "metadata": {},
   "outputs": [
    {
     "name": "stdout",
     "output_type": "stream",
     "text": [
      "__________________________________________________________________________________________________\n",
      "Layer (type)                    Output Shape         Param #     Connected to                     \n",
      "==================================================================================================\n",
      "input (InputLayer)              (None, 139)          0                                            \n",
      "__________________________________________________________________________________________________\n",
      "batch_normalization_17 (BatchNo (None, 139)          556         input[0][0]                      \n",
      "__________________________________________________________________________________________________\n",
      "encoder_0 (Dense)               (None, 100)          14000       batch_normalization_17[0][0]     \n",
      "__________________________________________________________________________________________________\n",
      "encoder_1 (Dense)               (None, 70)           7070        encoder_0[0][0]                  \n",
      "__________________________________________________________________________________________________\n",
      "embedding_layer (Dense)         (None, 50)           3550        encoder_1[0][0]                  \n",
      "__________________________________________________________________________________________________\n",
      "decoder_2 (Dense)               (None, 70)           3570        embedding_layer[0][0]            \n",
      "__________________________________________________________________________________________________\n",
      "decoder_1 (Dense)               (None, 100)          7100        decoder_2[0][0]                  \n",
      "__________________________________________________________________________________________________\n",
      "clustering (KMeansLayer)        (None, 2)            100         embedding_layer[0][0]            \n",
      "__________________________________________________________________________________________________\n",
      "decoder_output (Dense)          (None, 139)          14039       decoder_1[0][0]                  \n",
      "==================================================================================================\n",
      "Total params: 49,985\n",
      "Trainable params: 49,707\n",
      "Non-trainable params: 278\n",
      "__________________________________________________________________________________________________\n"
     ]
    }
   ],
   "source": [
    "model.summary()"
   ]
  },
  {
   "cell_type": "code",
   "execution_count": 273,
   "metadata": {},
   "outputs": [],
   "source": [
    "model.compile(loss={'clustering': 'kld', 'decoder_output': 'mse'},\n",
    "              loss_weights=[0.05, 1],optimizer='adam')"
   ]
  },
  {
   "cell_type": "code",
   "execution_count": 274,
   "metadata": {},
   "outputs": [],
   "source": [
    "from cluster import KMeans\n",
    "\n",
    "def target_distribution(q):  # target distribution P which enhances the discrimination of soft label Q\n",
    "    weight = q ** 2 / q.sum(0)\n",
    "    return (weight.T / weight.sum(1)).T"
   ]
  },
  {
   "cell_type": "code",
   "execution_count": 275,
   "metadata": {},
   "outputs": [],
   "source": [
    "kmeans_init = KMeans(n_clusters=2)\n",
    "kmeans_init.bulid_kmeans_cluster()\n",
    "kmeans_init.model.fit(encoder.predict(data_train))\n",
    "y_pred_last = kmeans_init.model.labels_\n",
    "model.get_layer(name='clustering').set_weights([kmeans_init.model.cluster_centers_])"
   ]
  },
  {
   "cell_type": "code",
   "execution_count": null,
   "metadata": {},
   "outputs": [
    {
     "name": "stdout",
     "output_type": "stream",
     "text": [
      "Epoch: 0\n",
      "total_loss = 0.0043204646; clustering_loss = 0.0004434892; decoder_loss = 0.0042982902; delta_label = 0.0\n",
      "Epoch: 200\n",
      "total_loss = 0.00026002282; clustering_loss = 1.3000048e-05; decoder_loss = 0.0002593728; delta_label = 0.1458137347130762\n",
      "Epoch: 400\n",
      "total_loss = 0.0001742341; clustering_loss = 4.8867376e-05; decoder_loss = 0.00017179073; delta_label = 0.12229539040451552\n",
      "Epoch: 600\n",
      "total_loss = 0.00014492864; clustering_loss = 0.00019184072; decoder_loss = 0.0001353366; delta_label = 0.05174035747883349\n",
      "Epoch: 800\n",
      "total_loss = 0.0001548186; clustering_loss = 0.0007557459; decoder_loss = 0.0001170313; delta_label = 0.04045155221072436\n",
      "Epoch: 1000\n",
      "total_loss = 0.0002528918; clustering_loss = 0.0029079404; decoder_loss = 0.00010749478; delta_label = 0.017873941674506115\n",
      "Epoch: 1200\n",
      "total_loss = 0.00061388925; clustering_loss = 0.010253667; decoder_loss = 0.00010120589; delta_label = 0.004703668861712135\n",
      "Epoch: 1400\n",
      "total_loss = 0.0015199466; clustering_loss = 0.028523695; decoder_loss = 9.376183e-05; delta_label = 0.0028222013170272815\n",
      "Epoch: 1600\n",
      "total_loss = 0.0025891808; clustering_loss = 0.049867935; decoder_loss = 9.578398e-05; delta_label = 0.0028222013170272815\n",
      "Epoch: 1800\n",
      "total_loss = 0.002656562; clustering_loss = 0.051069077; decoder_loss = 0.0001031081; delta_label = 0.0018814675446848542\n",
      "Epoch: 2000\n",
      "total_loss = 0.0020124437; clustering_loss = 0.038070682; decoder_loss = 0.00010890948; delta_label = 0.0018814675446848542\n",
      "Epoch: 2200\n",
      "total_loss = 0.0014486241; clustering_loss = 0.02677406; decoder_loss = 0.00010992114; delta_label = 0.0018814675446848542\n",
      "Epoch: 2400\n",
      "total_loss = 0.001105604; clustering_loss = 0.019948728; decoder_loss = 0.00010816755; delta_label = 0.0\n",
      "Epoch: 2600\n",
      "total_loss = 0.0008656565; clustering_loss = 0.015099096; decoder_loss = 0.00011070165; delta_label = 0.0009407337723424271\n",
      "Epoch: 2800\n",
      "total_loss = 0.0007044235; clustering_loss = 0.012170048; decoder_loss = 9.592112e-05; delta_label = 0.0009407337723424271\n",
      "Epoch: 3000\n",
      "total_loss = 0.00060411915; clustering_loss = 0.010210399; decoder_loss = 9.359919e-05; delta_label = 0.0009407337723424271\n",
      "Epoch: 3200\n",
      "total_loss = 0.0005434463; clustering_loss = 0.008979254; decoder_loss = 9.448358e-05; delta_label = 0.0\n",
      "Epoch: 3400\n",
      "total_loss = 0.0005001267; clustering_loss = 0.008195743; decoder_loss = 9.0339534e-05; delta_label = 0.0\n",
      "Epoch: 3600\n",
      "total_loss = 0.00046271455; clustering_loss = 0.0075604348; decoder_loss = 8.469282e-05; delta_label = 0.0\n",
      "Epoch: 3800\n",
      "total_loss = 0.00043390808; clustering_loss = 0.00699323; decoder_loss = 8.4246574e-05; delta_label = 0.0\n",
      "Epoch: 4000\n",
      "total_loss = 0.00040372642; clustering_loss = 0.00642214; decoder_loss = 8.261939e-05; delta_label = 0.0\n",
      "Epoch: 4200\n",
      "total_loss = 0.0003804296; clustering_loss = 0.0059594605; decoder_loss = 8.245661e-05; delta_label = 0.0\n",
      "Epoch: 4400\n",
      "total_loss = 0.00036284912; clustering_loss = 0.0055833757; decoder_loss = 8.3680316e-05; delta_label = 0.0\n"
     ]
    }
   ],
   "source": [
    "update_interval = 200\n",
    "maxiter = 1e4\n",
    "tol = 1e-4\n",
    "loss = []\n",
    "delta_label = []\n",
    "for iteration in range(int(maxiter)):\n",
    "    if iteration % update_interval == 0:\n",
    "        q, _ = model.predict(data_train)\n",
    "        p = target_distribution(q)\n",
    "        y_pred = q.argmax(1)\n",
    "        delta_label_i = np.sum(y_pred != y_pred_last).astype(np.float32) / y_pred.shape[0]\n",
    "        delta_label.append(delta_label_i)\n",
    "        y_pred_last = y_pred\n",
    "    \n",
    "#     if iteration > 200 and delta_label_i < tol:  \n",
    "#         print(str(delta_label_i) +' < ' + str(tol))\n",
    "#         print('Reached tolerance threshold. Stopping training.')\n",
    "#         break\n",
    "    \n",
    "    loss_tmp = model.train_on_batch(x=data_train, y=[p,data_train])\n",
    "    loss.append(loss_tmp)\n",
    "    if iteration % update_interval == 0:\n",
    "        print('Epoch: ' + str(iteration))\n",
    "        print('total_loss = ' + str(loss_tmp[0]) + '; clustering_loss = ' +\n",
    "              str(loss_tmp[1]) + '; decoder_loss = ' + str(loss_tmp[2]) + \n",
    "              '; delta_label = ' + str(delta_label_i))\n",
    "    \n",
    "\n"
   ]
  },
  {
   "cell_type": "code",
   "execution_count": 261,
   "metadata": {},
   "outputs": [
    {
     "data": {
      "text/plain": [
       "[<matplotlib.lines.Line2D at 0x1a441220f0>,\n",
       " <matplotlib.lines.Line2D at 0x1a44122240>,\n",
       " <matplotlib.lines.Line2D at 0x1a44122390>]"
      ]
     },
     "execution_count": 261,
     "metadata": {},
     "output_type": "execute_result"
    },
    {
     "data": {
      "image/png": "[encoded data removed]",
      "text/plain": [
       "<Figure size 432x288 with 1 Axes>"
      ]
     },
     "metadata": {
      "needs_background": "light"
     },
     "output_type": "display_data"
    }
   ],
   "source": [
    "plt.plot(loss)"
   ]
  },
  {
   "cell_type": "code",
   "execution_count": 262,
   "metadata": {},
   "outputs": [
    {
     "data": {
      "text/plain": [
       "[<matplotlib.lines.Line2D at 0x1a4404ee10>]"
      ]
     },
     "execution_count": 262,
     "metadata": {},
     "output_type": "execute_result"
    },
    {
     "data": {
      "image/png": "[encoded data removed]",
      "text/plain": [
       "<Figure size 432x288 with 1 Axes>"
      ]
     },
     "metadata": {
      "needs_background": "light"
     },
     "output_type": "display_data"
    }
   ],
   "source": [
    "plt.plot(delta_label)"
   ]
  },
  {
   "cell_type": "code",
   "execution_count": 263,
   "metadata": {},
   "outputs": [
    {
     "data": {
      "text/plain": [
       "(array([523.,   0.,   0.,   0.,   0.,   0.,   0.,   0.,   0., 540.]),\n",
       " array([0. , 0.1, 0.2, 0.3, 0.4, 0.5, 0.6, 0.7, 0.8, 0.9, 1. ]),\n",
       " <a list of 10 Patch objects>)"
      ]
     },
     "execution_count": 263,
     "metadata": {},
     "output_type": "execute_result"
    },
    {
     "data": {
      "image/png": "[encoded data removed]",
      "text/plain": [
       "<Figure size 432x288 with 1 Axes>"
      ]
     },
     "metadata": {
      "needs_background": "light"
     },
     "output_type": "display_data"
    }
   ],
   "source": [
    "plt.hist(y_pred)"
   ]
  },
  {
   "cell_type": "code",
   "execution_count": 264,
   "metadata": {},
   "outputs": [
    {
     "name": "stdout",
     "output_type": "stream",
     "text": [
      "Metric with True label\n",
      "adjusted rand score: -0.0008043114252724529 \n",
      "adjusted mutual info score: -0.0006435493726388063\n",
      "homogeneity completeness v measure:\n",
      "(3.785520439515682e-05, 3.662925907760417e-05, 3.723214277385357e-05)\n",
      "fowlkes_mallows : 0.5102888666823187\n"
     ]
    },
    {
     "name": "stderr",
     "output_type": "stream",
     "text": [
      "/Users/hanghu/miniconda3/envs/deepchembed/lib/python3.6/site-packages/sklearn/metrics/cluster/supervised.py:732: FutureWarning: The behavior of AMI will change in version 0.22. To match the behavior of 'v_measure_score', AMI will use average_method='arithmetic' by default.\n",
      "  FutureWarning)\n"
     ]
    },
    {
     "data": {
      "text/plain": [
       "{'adjusted_rand_score': -0.0008043114252724529,\n",
       " 'adjusted_mutual_info_score': -0.0006435493726388063,\n",
       " 'homogeneity_completeness_v_measure': (3.785520439515682e-05,\n",
       "  3.662925907760417e-05,\n",
       "  3.723214277385357e-05),\n",
       " 'fowlkes_mallows_score': 0.5102888666823187}"
      ]
     },
     "execution_count": 264,
     "metadata": {},
     "output_type": "execute_result"
    }
   ],
   "source": [
    "from cluster import Cluster\n",
    "Cluster.true_label_metrics(true_label_biclass,y_pred,print_metric=True)"
   ]
  },
  {
   "cell_type": "code",
   "execution_count": 265,
   "metadata": {},
   "outputs": [
    {
     "data": {
      "text/plain": [
       "537"
      ]
     },
     "execution_count": 265,
     "metadata": {},
     "output_type": "execute_result"
    }
   ],
   "source": [
    "np.count_nonzero(true_label_biclass == y_pred)"
   ]
  },
  {
   "cell_type": "code",
   "execution_count": null,
   "metadata": {},
   "outputs": [],
   "source": []
  },
  {
   "cell_type": "code",
   "execution_count": null,
   "metadata": {},
   "outputs": [],
   "source": []
  }
 ],
 "metadata": {
  "kernelspec": {
   "display_name": "Python 3",
   "language": "python",
   "name": "python3"
  },
  "language_info": {
   "codemirror_mode": {
    "name": "ipython",
    "version": 3
   },
   "file_extension": ".py",
   "mimetype": "text/x-python",
   "name": "python",
   "nbconvert_exporter": "python",
   "pygments_lexer": "ipython3",
   "version": "3.6.8"
  }
 },
 "nbformat": 4,
 "nbformat_minor": 2
}
