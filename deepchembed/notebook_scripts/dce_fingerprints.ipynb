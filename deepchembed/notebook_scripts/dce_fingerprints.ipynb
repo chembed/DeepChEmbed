{
 "cells": [
  {
   "cell_type": "code",
   "execution_count": 1,
   "metadata": {},
   "outputs": [
    {
     "name": "stderr",
     "output_type": "stream",
     "text": [
      "Using TensorFlow backend.\n"
     ]
    }
   ],
   "source": [
    "import __init__\n",
    "from __init__ import DATA_PATH\n",
    "from __init__ import PACKAGE_PATH\n",
    "from dce import DCE\n",
    "from cluster import Cluster\n",
    "from descriptor import rdkitDescriptors\n",
    "import utilities\n",
    "import numpy as np\n",
    "import pandas as pd\n",
    "import os\n",
    "import matplotlib.pyplot as plt\n",
    "import seaborn as sns\n",
    "%matplotlib inline"
   ]
  },
  {
   "cell_type": "code",
   "execution_count": 2,
   "metadata": {},
   "outputs": [
    {
     "data": {
      "text/plain": [
       "(array([756.,   0.,   0.,   0.,   0.,   0.,   0.,   0.,   0., 307.]),\n",
       " array([0. , 0.1, 0.2, 0.3, 0.4, 0.5, 0.6, 0.7, 0.8, 0.9, 1. ]),\n",
       " <a list of 10 Patch objects>)"
      ]
     },
     "execution_count": 2,
     "metadata": {},
     "output_type": "execute_result"
    },
    {
     "data": {
      "image/png": "[encoded data removed]",
      "text/plain": [
       "<Figure size 432x288 with 1 Axes>"
      ]
     },
     "metadata": {
      "needs_background": "light"
     },
     "output_type": "display_data"
    }
   ],
   "source": [
    "df = pd.read_csv(os.path.join(DATA_PATH,'BOD_RDKit_Descriptors_1063.csv'))\n",
    "df['cleaned_bod'] = utilities.clean_out_of_bound(df['value (% BOD)'])\n",
    "\n",
    "df['bi_class_partition'] = utilities.divide_classes(df['cleaned_bod'], [60])\n",
    "true_label_biclass = df['bi_class_partition'].values\n",
    "plt.hist(df['bi_class_partition'])"
   ]
  },
  {
   "cell_type": "code",
   "execution_count": 6,
   "metadata": {},
   "outputs": [
    {
     "data": {
      "text/plain": [
       "2048"
      ]
     },
     "execution_count": 6,
     "metadata": {},
     "output_type": "execute_result"
    }
   ],
   "source": [
    "fps = rdkitDescriptors.batch_compute_rdkit_fingerprints(df['SMILES'])\n",
    "len(fps[0])"
   ]
  },
  {
   "cell_type": "code",
   "execution_count": 7,
   "metadata": {},
   "outputs": [
    {
     "name": "stdout",
     "output_type": "stream",
     "text": [
      "WARNING:tensorflow:From /Users/hunting/miniconda3/envs/deepchembed/lib/python3.6/site-packages/tensorflow/python/framework/op_def_library.py:263: colocate_with (from tensorflow.python.framework.ops) is deprecated and will be removed in a future version.\n",
      "Instructions for updating:\n",
      "Colocations handled automatically by placer.\n"
     ]
    }
   ],
   "source": [
    "autoencoder_dims = [2048,512,128]\n",
    "dce = DCE(autoencoder_dims, n_clusters=2, update_interval=50)\n",
    "dce.build_model()"
   ]
  },
  {
   "cell_type": "code",
   "execution_count": 8,
   "metadata": {},
   "outputs": [
    {
     "name": "stdout",
     "output_type": "stream",
     "text": [
      "__________________________________________________________________________________________________\n",
      "Layer (type)                    Output Shape         Param #     Connected to                     \n",
      "==================================================================================================\n",
      "input (InputLayer)              (None, 2048)         0                                            \n",
      "__________________________________________________________________________________________________\n",
      "batch_normalization_1 (BatchNor (None, 2048)         8192        input[0][0]                      \n",
      "__________________________________________________________________________________________________\n",
      "encoder_0 (Dense)               (None, 512)          1049088     batch_normalization_1[0][0]      \n",
      "__________________________________________________________________________________________________\n",
      "embedding_layer (Dense)         (None, 128)          65664       encoder_0[0][0]                  \n",
      "__________________________________________________________________________________________________\n",
      "decoder_1 (Dense)               (None, 512)          66048       embedding_layer[0][0]            \n",
      "__________________________________________________________________________________________________\n",
      "clustering (KMeansLayer)        (None, 2)            256         embedding_layer[0][0]            \n",
      "__________________________________________________________________________________________________\n",
      "decoder_output (Dense)          (None, 2048)         1050624     decoder_1[0][0]                  \n",
      "==================================================================================================\n",
      "Total params: 2,239,872\n",
      "Trainable params: 2,235,776\n",
      "Non-trainable params: 4,096\n",
      "__________________________________________________________________________________________________\n"
     ]
    }
   ],
   "source": [
    "dce.model.summary()"
   ]
  },
  {
   "cell_type": "code",
   "execution_count": 10,
   "metadata": {},
   "outputs": [
    {
     "name": "stdout",
     "output_type": "stream",
     "text": [
      "WARNING:tensorflow:From /Users/hunting/miniconda3/envs/deepchembed/lib/python3.6/site-packages/tensorflow/python/ops/math_ops.py:3066: to_int32 (from tensorflow.python.ops.math_ops) is deprecated and will be removed in a future version.\n",
      "Instructions for updating:\n",
      "Use tf.cast instead.\n",
      "Epoch: 0\n",
      "  Total_loss = 0.0063355598;Delta_label = 0.0\n",
      "  Clustering_loss = 0.0017597759; Decoder_loss = 0.010911344\n",
      "Epoch: 50\n",
      "  Total_loss = 0.0008937004;Delta_label = 0.062088428974600186\n",
      "  Clustering_loss = 0.00086326146; Decoder_loss = 0.00092413934\n",
      "Epoch: 100\n",
      "  Total_loss = 0.0020124048;Delta_label = 0.034807149576669805\n",
      "  Clustering_loss = 0.0031200466; Decoder_loss = 0.00090476294\n",
      "Epoch: 150\n",
      "  Total_loss = 0.0056721643;Delta_label = 0.016933207902163686\n",
      "  Clustering_loss = 0.010448968; Decoder_loss = 0.00089536066\n",
      "Epoch: 200\n",
      "  Total_loss = 0.015684284;Delta_label = 0.008466603951081843\n",
      "  Clustering_loss = 0.03049072; Decoder_loss = 0.00087784714\n",
      "Epoch: 250\n",
      "  Total_loss = 0.026794763;Delta_label = 0.008466603951081843\n",
      "  Clustering_loss = 0.05271179; Decoder_loss = 0.00087773905\n",
      "Epoch: 300\n",
      "  Total_loss = 0.029559508;Delta_label = 0.004703668861712135\n",
      "  Clustering_loss = 0.058243632; Decoder_loss = 0.0008753855\n",
      "Epoch: 350\n",
      "  Total_loss = 0.026630247;Delta_label = 0.008466603951081843\n",
      "  Clustering_loss = 0.05238353; Decoder_loss = 0.0008769625\n",
      "Epoch: 400\n",
      "  Total_loss = 0.022332655;Delta_label = 0.00940733772342427\n",
      "  Clustering_loss = 0.04378563; Decoder_loss = 0.000879678\n",
      "Epoch: 450\n",
      "  Total_loss = 0.019175693;Delta_label = 0.0009407337723424271\n",
      "  Clustering_loss = 0.037470937; Decoder_loss = 0.0008804518\n",
      "Epoch: 500\n",
      "  Total_loss = 0.016764792;Delta_label = 0.0028222013170272815\n",
      "  Clustering_loss = 0.032649036; Decoder_loss = 0.0008805456\n",
      "0.0 < 0.0001\n",
      "Reached tolerance threshold. Stopping training.\n"
     ]
    }
   ],
   "source": [
    "[y_pred, loss, delta_label] = dce.train_model(fps,clustering_loss='kld', \n",
    "                                              decoder_loss='mse', clustering_loss_weight=0.5)"
   ]
  },
  {
   "cell_type": "code",
   "execution_count": 11,
   "metadata": {},
   "outputs": [
    {
     "data": {
      "text/plain": [
       "<matplotlib.legend.Legend at 0x1a8dc87a20>"
      ]
     },
     "execution_count": 11,
     "metadata": {},
     "output_type": "execute_result"
    },
    {
     "data": {
      "image/png": "[encoded data removed]",
      "text/plain": [
       "<Figure size 432x288 with 1 Axes>"
      ]
     },
     "metadata": {
      "needs_background": "light"
     },
     "output_type": "display_data"
    }
   ],
   "source": [
    "plt.plot(loss[0], label='Total loss')\n",
    "plt.plot(loss[1], label='Clustering loss')\n",
    "plt.plot(loss[2], label='Decoder loss')\n",
    "plt.legend()"
   ]
  },
  {
   "cell_type": "code",
   "execution_count": 12,
   "metadata": {},
   "outputs": [
    {
     "data": {
      "text/plain": [
       "[<matplotlib.lines.Line2D at 0x1a47661ba8>]"
      ]
     },
     "execution_count": 12,
     "metadata": {},
     "output_type": "execute_result"
    },
    {
     "data": {
      "image/png": "[encoded data removed]",
      "text/plain": [
       "<Figure size 432x288 with 1 Axes>"
      ]
     },
     "metadata": {
      "needs_background": "light"
     },
     "output_type": "display_data"
    }
   ],
   "source": [
    "plt.plot(delta_label)"
   ]
  },
  {
   "cell_type": "code",
   "execution_count": 13,
   "metadata": {},
   "outputs": [
    {
     "name": "stdout",
     "output_type": "stream",
     "text": [
      "Metric with True label\n",
      "adjusted rand score: 0.03477162070916135 \n",
      "fowlkes_mallows : 0.5609099807592864\n"
     ]
    },
    {
     "data": {
      "text/plain": [
       "{'adjusted_rand_score': 0.03477162070916135,\n",
       " 'fowlkes_mallows_score': 0.5609099807592864}"
      ]
     },
     "execution_count": 13,
     "metadata": {},
     "output_type": "execute_result"
    }
   ],
   "source": [
    "Cluster.true_label_metrics(true_label_biclass,y_pred,print_metric=True)"
   ]
  },
  {
   "cell_type": "code",
   "execution_count": 14,
   "metadata": {},
   "outputs": [
    {
     "data": {
      "text/plain": [
       "(array([479.,   0.,   0.,   0.,   0.,   0.,   0.,   0.,   0., 584.]),\n",
       " array([0. , 0.1, 0.2, 0.3, 0.4, 0.5, 0.6, 0.7, 0.8, 0.9, 1. ]),\n",
       " <a list of 10 Patch objects>)"
      ]
     },
     "execution_count": 14,
     "metadata": {},
     "output_type": "execute_result"
    },
    {
     "data": {
      "image/png": "[encoded data removed]",
      "text/plain": [
       "<Figure size 432x288 with 1 Axes>"
      ]
     },
     "metadata": {
      "needs_background": "light"
     },
     "output_type": "display_data"
    }
   ],
   "source": [
    "plt.hist(y_pred)"
   ]
  },
  {
   "cell_type": "code",
   "execution_count": null,
   "metadata": {},
   "outputs": [],
   "source": []
  }
 ],
 "metadata": {
  "kernelspec": {
   "display_name": "Python [conda env:deepchembed]",
   "language": "python",
   "name": "conda-env-deepchembed-py"
  },
  "language_info": {
   "codemirror_mode": {
    "name": "ipython",
    "version": 3
   },
   "file_extension": ".py",
   "mimetype": "text/x-python",
   "name": "python",
   "nbconvert_exporter": "python",
   "pygments_lexer": "ipython3",
   "version": "3.6.8"
  }
 },
 "nbformat": 4,
 "nbformat_minor": 2
}
