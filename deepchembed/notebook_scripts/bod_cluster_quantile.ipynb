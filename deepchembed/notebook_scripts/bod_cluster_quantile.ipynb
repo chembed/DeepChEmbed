{
 "cells": [
  {
   "cell_type": "code",
   "execution_count": 1,
   "metadata": {},
   "outputs": [],
   "source": [
    "import __init__\n",
    "import os \n",
    "import matplotlib as mplt\n",
    "import matplotlib.pyplot as plt\n",
    "import seaborn as sns\n",
    "import numpy as np\n",
    "import pandas as pd\n",
    "import utilities\n",
    "from __init__ import DATA_PATH, PACKAGE_PATH\n",
    "from descriptor import rdkitDescriptors\n",
    "%matplotlib inline"
   ]
  },
  {
   "cell_type": "code",
   "execution_count": 2,
   "metadata": {},
   "outputs": [],
   "source": [
    "df = pd.read_csv(os.path.join(DATA_PATH,'BOD_RDKit_Descriptors_1063.csv'))\n",
    "df['cleaned_bod'] = utilities.clean_out_of_bound(df['value (% BOD)'])"
   ]
  },
  {
   "cell_type": "markdown",
   "metadata": {},
   "source": [
    "## 1 Divide the feature columns by dtypes (float and int)"
   ]
  },
  {
   "cell_type": "markdown",
   "metadata": {},
   "source": [
    "### 1.1 int features"
   ]
  },
  {
   "cell_type": "code",
   "execution_count": 3,
   "metadata": {},
   "outputs": [
    {
     "data": {
      "text/plain": [
       "59"
      ]
     },
     "execution_count": 3,
     "metadata": {},
     "output_type": "execute_result"
    }
   ],
   "source": [
    "feat_int = rdkitDescriptors.batch_compute_all_descriptors(df['SMILES'],desc_type='int')\n",
    "selected_int_feat = feat_int.loc[:,feat_int.nunique()>1]\n",
    "len(selected_int_feat.loc[0])"
   ]
  },
  {
   "cell_type": "markdown",
   "metadata": {},
   "source": [
    "### 1.2 float features"
   ]
  },
  {
   "cell_type": "code",
   "execution_count": 4,
   "metadata": {},
   "outputs": [
    {
     "data": {
      "text/plain": [
       "68"
      ]
     },
     "execution_count": 4,
     "metadata": {},
     "output_type": "execute_result"
    }
   ],
   "source": [
    "feat_float = rdkitDescriptors.batch_compute_all_descriptors(df['SMILES'],desc_type='float')\n",
    "selected_float_feat = feat_float.loc[:,feat_float.nunique()>1]\n",
    "len(selected_float_feat.loc[0])"
   ]
  },
  {
   "cell_type": "markdown",
   "metadata": {},
   "source": [
    "### 1.3 int+float"
   ]
  },
  {
   "cell_type": "code",
   "execution_count": 5,
   "metadata": {},
   "outputs": [
    {
     "data": {
      "text/plain": [
       "127"
      ]
     },
     "execution_count": 5,
     "metadata": {},
     "output_type": "execute_result"
    }
   ],
   "source": [
    "feat_all = rdkitDescriptors.batch_compute_all_descriptors(df['SMILES'],desc_type='all')\n",
    "selected_all_feat = feat_all.loc[:,feat_all.nunique()>1]\n",
    "len(selected_all_feat.loc[0])"
   ]
  },
  {
   "cell_type": "markdown",
   "metadata": {},
   "source": [
    "### 1.4 RdkitFingerprints"
   ]
  },
  {
   "cell_type": "code",
   "execution_count": 6,
   "metadata": {},
   "outputs": [
    {
     "ename": "SyntaxError",
     "evalue": "invalid syntax (<ipython-input-6-a2c6042e7a3d>, line 1)",
     "output_type": "error",
     "traceback": [
      "\u001b[0;36m  File \u001b[0;32m\"<ipython-input-6-a2c6042e7a3d>\"\u001b[0;36m, line \u001b[0;32m1\u001b[0m\n\u001b[0;31m    fps = rdkitDescriptors.(df['SMILES'])\u001b[0m\n\u001b[0m                           ^\u001b[0m\n\u001b[0;31mSyntaxError\u001b[0m\u001b[0;31m:\u001b[0m invalid syntax\n"
     ]
    }
   ],
   "source": [
    "fps = rdkitDescriptors.(df['SMILES'])"
   ]
  },
  {
   "cell_type": "markdown",
   "metadata": {},
   "source": [
    "## 2 Divide BOD by different cutoff"
   ]
  },
  {
   "cell_type": "code",
   "execution_count": 7,
   "metadata": {},
   "outputs": [
    {
     "data": {
      "text/plain": [
       "<matplotlib.axes._subplots.AxesSubplot at 0x1a21a172b0>"
      ]
     },
     "execution_count": 7,
     "metadata": {},
     "output_type": "execute_result"
    },
    {
     "data": {
      "image/png": "[encoded data removed]",
      "text/plain": [
       "<Figure size 432x288 with 1 Axes>"
      ]
     },
     "metadata": {
      "needs_background": "light"
     },
     "output_type": "display_data"
    }
   ],
   "source": [
    "df['cleaned_bod'].hist(bins=25)"
   ]
  },
  {
   "cell_type": "markdown",
   "metadata": {},
   "source": [
    "### 2.1 50% quantile two classes"
   ]
  },
  {
   "cell_type": "code",
   "execution_count": 8,
   "metadata": {},
   "outputs": [
    {
     "data": {
      "text/plain": [
       "(array([535.,   0.,   0.,   0.,   0.,   0.,   0.,   0.,   0., 528.]),\n",
       " array([0. , 0.1, 0.2, 0.3, 0.4, 0.5, 0.6, 0.7, 0.8, 0.9, 1. ]),\n",
       " <a list of 10 Patch objects>)"
      ]
     },
     "execution_count": 8,
     "metadata": {},
     "output_type": "execute_result"
    },
    {
     "data": {
      "image/png": "[encoded data removed]",
      "text/plain": [
       "<Figure size 432x288 with 1 Axes>"
      ]
     },
     "metadata": {
      "needs_background": "light"
     },
     "output_type": "display_data"
    }
   ],
   "source": [
    "df['bi_class_q50'] = pd.qcut(df['cleaned_bod'].values, 2, labels=[0,1])\n",
    "true_label_q50 = df['bi_class_q50'].values\n",
    "plt.hist(true_label_q50)"
   ]
  },
  {
   "cell_type": "markdown",
   "metadata": {},
   "source": [
    "### 2.2 33%, 66% quantile 3 classes (manual implement due to duplicate edges)"
   ]
  },
  {
   "cell_type": "code",
   "execution_count": 9,
   "metadata": {},
   "outputs": [
    {
     "data": {
      "text/plain": [
       "(array([413.,   0.,   0.,   0.,   0., 288.,   0.,   0.,   0., 362.]),\n",
       " array([0. , 0.2, 0.4, 0.6, 0.8, 1. , 1.2, 1.4, 1.6, 1.8, 2. ]),\n",
       " <a list of 10 Patch objects>)"
      ]
     },
     "execution_count": 9,
     "metadata": {},
     "output_type": "execute_result"
    },
    {
     "data": {
      "image/png": "[encoded data removed]",
      "text/plain": [
       "<Figure size 432x288 with 1 Axes>"
      ]
     },
     "metadata": {
      "needs_background": "light"
     },
     "output_type": "display_data"
    }
   ],
   "source": [
    "tri_cuts = df['cleaned_bod'].quantile([0.33,0.66]).values\n",
    "df['tri_class_q33'] = utilities.divide_classes(df['cleaned_bod'], tri_cuts)\n",
    "true_label_q33 = df['tri_class_q33'].values\n",
    "plt.hist(true_label_q33)"
   ]
  },
  {
   "cell_type": "markdown",
   "metadata": {},
   "source": [
    "### 2.3 25%, 50%, 75% 4 classes (manual)"
   ]
  },
  {
   "cell_type": "code",
   "execution_count": 10,
   "metadata": {},
   "outputs": [
    {
     "data": {
      "text/plain": [
       "(array([413.,   0.,   0., 122.,   0.,   0., 262.,   0.,   0., 266.]),\n",
       " array([0. , 0.3, 0.6, 0.9, 1.2, 1.5, 1.8, 2.1, 2.4, 2.7, 3. ]),\n",
       " <a list of 10 Patch objects>)"
      ]
     },
     "execution_count": 10,
     "metadata": {},
     "output_type": "execute_result"
    },
    {
     "data": {
      "image/png": "[encoded data removed]",
      "text/plain": [
       "<Figure size 432x288 with 1 Axes>"
      ]
     },
     "metadata": {
      "needs_background": "light"
     },
     "output_type": "display_data"
    }
   ],
   "source": [
    "quart_cuts = df['cleaned_bod'].quantile([0.25,0.50,0.75]).values\n",
    "df['quart_class_q25'] = utilities.divide_classes(df['cleaned_bod'], quart_cuts)\n",
    "true_label_q25 = df['quart_class_q25'].values\n",
    "plt.hist(true_label_q25) #inbalanced"
   ]
  },
  {
   "cell_type": "markdown",
   "metadata": {},
   "source": [
    "### 2.4 Partitioning into bi classes based on distribution"
   ]
  },
  {
   "cell_type": "code",
   "execution_count": 11,
   "metadata": {},
   "outputs": [
    {
     "data": {
      "text/plain": [
       "(array([756.,   0.,   0.,   0.,   0.,   0.,   0.,   0.,   0., 307.]),\n",
       " array([0. , 0.1, 0.2, 0.3, 0.4, 0.5, 0.6, 0.7, 0.8, 0.9, 1. ]),\n",
       " <a list of 10 Patch objects>)"
      ]
     },
     "execution_count": 11,
     "metadata": {},
     "output_type": "execute_result"
    },
    {
     "data": {
      "image/png": "[encoded data removed]",
      "text/plain": [
       "<Figure size 432x288 with 1 Axes>"
      ]
     },
     "metadata": {
      "needs_background": "light"
     },
     "output_type": "display_data"
    }
   ],
   "source": [
    "df['bi_class_partition'] = utilities.divide_classes(df['cleaned_bod'], [60])\n",
    "true_label_biclass = df['bi_class_partition'].values\n",
    "plt.hist(df['bi_class_partition'])"
   ]
  },
  {
   "cell_type": "markdown",
   "metadata": {},
   "source": [
    "### 2.5 Partitioning into three classes (poor, median, good) based on distribution"
   ]
  },
  {
   "cell_type": "code",
   "execution_count": 12,
   "metadata": {},
   "outputs": [
    {
     "data": {
      "text/plain": [
       "(array([673.,   0.,   0.,   0.,   0., 191.,   0.,   0.,   0., 199.]),\n",
       " array([0. , 0.2, 0.4, 0.6, 0.8, 1. , 1.2, 1.4, 1.6, 1.8, 2. ]),\n",
       " <a list of 10 Patch objects>)"
      ]
     },
     "execution_count": 12,
     "metadata": {},
     "output_type": "execute_result"
    },
    {
     "data": {
      "image/png": "[encoded data removed]",
      "text/plain": [
       "<Figure size 432x288 with 1 Axes>"
      ]
     },
     "metadata": {
      "needs_background": "light"
     },
     "output_type": "display_data"
    }
   ],
   "source": [
    "df['tri_class_partition'] = utilities.divide_classes(df['cleaned_bod'], [20,80])\n",
    "true_label_triclass = df['tri_class_partition'].values\n",
    "plt.hist(df['tri_class_partition'])"
   ]
  },
  {
   "cell_type": "markdown",
   "metadata": {},
   "source": [
    "## 3 Baseline Model -- Kmeans"
   ]
  },
  {
   "cell_type": "code",
   "execution_count": 13,
   "metadata": {},
   "outputs": [
    {
     "name": "stderr",
     "output_type": "stream",
     "text": [
      "Using TensorFlow backend.\n"
     ]
    }
   ],
   "source": [
    "from cluster import KMeans"
   ]
  },
  {
   "cell_type": "markdown",
   "metadata": {},
   "source": [
    "## 3.1 bi-class 50 quantile cluster"
   ]
  },
  {
   "cell_type": "markdown",
   "metadata": {},
   "source": [
    "### 3.1.1 int feature"
   ]
  },
  {
   "cell_type": "code",
   "execution_count": 14,
   "metadata": {},
   "outputs": [
    {
     "name": "stdout",
     "output_type": "stream",
     "text": [
      "Metrics without ture labels\n",
      "silhouette score: 0.5610915852077762\n",
      "calinski score: 662.2478576744735\n",
      "\n",
      "Metric with True label\n",
      "adjusted rand score: 0.004520889093854531 \n",
      "fowlkes_mallows : 0.621346420315226\n"
     ]
    },
    {
     "data": {
      "text/plain": [
       "(array([0, 0, 0, ..., 1, 0, 0], dtype=int32),\n",
       " {'silhouette_score': 0.5610915852077762,\n",
       "  'calinski_score': 662.2478576744735,\n",
       "  'adjusted_rand_score': 0.004520889093854531,\n",
       "  'fowlkes_mallows_score': 0.621346420315226})"
      ]
     },
     "execution_count": 14,
     "metadata": {},
     "output_type": "execute_result"
    }
   ],
   "source": [
    "kmeans_cluster = KMeans(n_clusters=2)\n",
    "kmeans_cluster.bulid_kmeans_cluster()\n",
    "kmeans_cluster.train_model(selected_int_feat.values, true_labels=true_label_q50)"
   ]
  },
  {
   "cell_type": "code",
   "execution_count": 15,
   "metadata": {},
   "outputs": [
    {
     "data": {
      "text/plain": [
       "(array([921.,   0.,   0.,   0.,   0.,   0.,   0.,   0.,   0., 142.]),\n",
       " array([0. , 0.1, 0.2, 0.3, 0.4, 0.5, 0.6, 0.7, 0.8, 0.9, 1. ]),\n",
       " <a list of 10 Patch objects>)"
      ]
     },
     "execution_count": 15,
     "metadata": {},
     "output_type": "execute_result"
    },
    {
     "data": {
      "image/png": "[encoded data removed]",
      "text/plain": [
       "<Figure size 432x288 with 1 Axes>"
      ]
     },
     "metadata": {
      "needs_background": "light"
     },
     "output_type": "display_data"
    }
   ],
   "source": [
    "plt.hist(kmeans_cluster.model.labels_)"
   ]
  },
  {
   "cell_type": "markdown",
   "metadata": {},
   "source": [
    "### 3.1.2 float feature"
   ]
  },
  {
   "cell_type": "code",
   "execution_count": 16,
   "metadata": {},
   "outputs": [
    {
     "name": "stdout",
     "output_type": "stream",
     "text": [
      "Metrics without ture labels\n",
      "silhouette score: 0.9772635201713795\n",
      "calinski score: 2453.85631403476\n",
      "\n",
      "Metric with True label\n",
      "adjusted rand score: -2.4617415490710395e-05 \n",
      "fowlkes_mallows : 0.7061152060370829\n"
     ]
    },
    {
     "data": {
      "text/plain": [
       "(array([0, 0, 0, ..., 0, 0, 0], dtype=int32),\n",
       " {'silhouette_score': 0.9772635201713795,\n",
       "  'calinski_score': 2453.85631403476,\n",
       "  'adjusted_rand_score': -2.4617415490710395e-05,\n",
       "  'fowlkes_mallows_score': 0.7061152060370829})"
      ]
     },
     "execution_count": 16,
     "metadata": {},
     "output_type": "execute_result"
    }
   ],
   "source": [
    "kmeans_cluster = KMeans(n_clusters=2)\n",
    "kmeans_cluster.bulid_kmeans_cluster()\n",
    "kmeans_cluster.train_model(selected_float_feat.values, true_labels=true_label_q50)"
   ]
  },
  {
   "cell_type": "code",
   "execution_count": 17,
   "metadata": {},
   "outputs": [
    {
     "data": {
      "text/plain": [
       "(array([1.062e+03, 0.000e+00, 0.000e+00, 0.000e+00, 0.000e+00, 0.000e+00,\n",
       "        0.000e+00, 0.000e+00, 0.000e+00, 1.000e+00]),\n",
       " array([0. , 0.1, 0.2, 0.3, 0.4, 0.5, 0.6, 0.7, 0.8, 0.9, 1. ]),\n",
       " <a list of 10 Patch objects>)"
      ]
     },
     "execution_count": 17,
     "metadata": {},
     "output_type": "execute_result"
    },
    {
     "data": {
      "image/png": "[encoded data removed]",
      "text/plain": [
       "<Figure size 432x288 with 1 Axes>"
      ]
     },
     "metadata": {
      "needs_background": "light"
     },
     "output_type": "display_data"
    }
   ],
   "source": [
    "plt.hist(kmeans_cluster.model.labels_)"
   ]
  },
  {
   "cell_type": "markdown",
   "metadata": {},
   "source": [
    "### 3.1.3 with normalization on features"
   ]
  },
  {
   "cell_type": "code",
   "execution_count": 18,
   "metadata": {},
   "outputs": [],
   "source": [
    "from keras.utils import normalize\n",
    "selected_float_feat_norm = normalize(selected_float_feat.values, axis=0, order=2)"
   ]
  },
  {
   "cell_type": "code",
   "execution_count": 19,
   "metadata": {},
   "outputs": [
    {
     "name": "stdout",
     "output_type": "stream",
     "text": [
      "Metrics without ture labels\n",
      "silhouette score: 0.3395621309170745\n",
      "calinski score: 142.46901685006003\n",
      "\n",
      "Metric with True label\n",
      "adjusted rand score: 0.0010426783754876891 \n",
      "fowlkes_mallows : 0.5888401083971747\n"
     ]
    },
    {
     "data": {
      "text/plain": [
       "(array([1, 1, 1, ..., 0, 0, 1], dtype=int32),\n",
       " {'silhouette_score': 0.3395621309170745,\n",
       "  'calinski_score': 142.46901685006003,\n",
       "  'adjusted_rand_score': 0.0010426783754876891,\n",
       "  'fowlkes_mallows_score': 0.5888401083971747})"
      ]
     },
     "execution_count": 19,
     "metadata": {},
     "output_type": "execute_result"
    }
   ],
   "source": [
    "kmeans_cluster = KMeans(n_clusters=2)\n",
    "kmeans_cluster.bulid_kmeans_cluster()\n",
    "kmeans_cluster.train_model(selected_float_feat_norm, true_labels=true_label_q50)"
   ]
  },
  {
   "cell_type": "code",
   "execution_count": 20,
   "metadata": {},
   "outputs": [
    {
     "data": {
      "text/plain": [
       "(array([201.,   0.,   0.,   0.,   0.,   0.,   0.,   0.,   0., 862.]),\n",
       " array([0. , 0.1, 0.2, 0.3, 0.4, 0.5, 0.6, 0.7, 0.8, 0.9, 1. ]),\n",
       " <a list of 10 Patch objects>)"
      ]
     },
     "execution_count": 20,
     "metadata": {},
     "output_type": "execute_result"
    },
    {
     "data": {
      "image/png": "[encoded data removed]",
      "text/plain": [
       "<Figure size 432x288 with 1 Axes>"
      ]
     },
     "metadata": {
      "needs_background": "light"
     },
     "output_type": "display_data"
    }
   ],
   "source": [
    "plt.hist(kmeans_cluster.model.labels_)"
   ]
  },
  {
   "cell_type": "markdown",
   "metadata": {},
   "source": [
    "### 3.1.3 All"
   ]
  },
  {
   "cell_type": "code",
   "execution_count": 21,
   "metadata": {},
   "outputs": [
    {
     "name": "stdout",
     "output_type": "stream",
     "text": [
      "Metrics without ture labels\n",
      "silhouette score: 0.33918579116507447\n",
      "calinski score: 103.57096065288427\n",
      "\n",
      "Metric with True label\n",
      "adjusted rand score: 0.0013784645403367229 \n",
      "fowlkes_mallows : 0.5929902134511599\n"
     ]
    },
    {
     "data": {
      "text/plain": [
       "(array([0, 1, 1, ..., 0, 1, 1], dtype=int32),\n",
       " {'silhouette_score': 0.33918579116507447,\n",
       "  'calinski_score': 103.57096065288427,\n",
       "  'adjusted_rand_score': 0.0013784645403367229,\n",
       "  'fowlkes_mallows_score': 0.5929902134511599})"
      ]
     },
     "execution_count": 21,
     "metadata": {},
     "output_type": "execute_result"
    }
   ],
   "source": [
    "selected_all_feat_norm = normalize(selected_all_feat.values, axis=0, order=2)\n",
    "kmeans_cluster = KMeans(n_clusters=2)\n",
    "kmeans_cluster.bulid_kmeans_cluster()\n",
    "kmeans_cluster.train_model(selected_all_feat_norm, true_labels=true_label_q50)"
   ]
  },
  {
   "cell_type": "markdown",
   "metadata": {},
   "source": [
    "## 3.2 Comparison between different cuts"
   ]
  },
  {
   "cell_type": "markdown",
   "metadata": {},
   "source": [
    "1. bi-class 50 quantile cluster\n",
    "2. tri-class 33 quantile cluster\n",
    "3. quart-class 25 quantile cluster\n",
    "4. bi-class with customed partition \\[0,60\\%\\], (60\\%,100\\%\\]\n",
    "5. tri-class with customed partition \\[0,20\\%\\], (20\\%,80\\%\\], (80\\%,100\\%\\]"
   ]
  },
  {
   "cell_type": "code",
   "execution_count": 22,
   "metadata": {},
   "outputs": [],
   "source": [
    "n_clusters   = [2, 3, 4, 2, 3]\n",
    "true_labels  = [true_label_q50, true_label_q33, true_label_q25, true_label_biclass, true_label_triclass]\n",
    "cluster_name = ['bi_class_50_quantile', 'tri_class_33_quantile', \n",
    "                'quart_class_25_quantile', 'bi_class_customed_partition','tri_class_customed_partition']"
   ]
  },
  {
   "cell_type": "markdown",
   "metadata": {},
   "source": [
    "### 3.2.1 int feature"
   ]
  },
  {
   "cell_type": "code",
   "execution_count": 23,
   "metadata": {},
   "outputs": [
    {
     "name": "stdout",
     "output_type": "stream",
     "text": [
      "\n",
      "\n",
      "\n",
      "\n",
      "\n"
     ]
    },
    {
     "data": {
      "text/html": [
       "<div>\n",
       "<style scoped>\n",
       "    .dataframe tbody tr th:only-of-type {\n",
       "        vertical-align: middle;\n",
       "    }\n",
       "\n",
       "    .dataframe tbody tr th {\n",
       "        vertical-align: top;\n",
       "    }\n",
       "\n",
       "    .dataframe thead th {\n",
       "        text-align: right;\n",
       "    }\n",
       "</style>\n",
       "<table border=\"1\" class=\"dataframe\">\n",
       "  <thead>\n",
       "    <tr style=\"text-align: right;\">\n",
       "      <th></th>\n",
       "      <th>silhouette_score</th>\n",
       "      <th>calinski_score</th>\n",
       "      <th>adjusted_rand_score</th>\n",
       "      <th>fowlkes_mallows_score</th>\n",
       "    </tr>\n",
       "    <tr>\n",
       "      <th>clusters</th>\n",
       "      <th></th>\n",
       "      <th></th>\n",
       "      <th></th>\n",
       "      <th></th>\n",
       "    </tr>\n",
       "  </thead>\n",
       "  <tbody>\n",
       "    <tr>\n",
       "      <th>bi_class_50_quantile</th>\n",
       "      <td>0.561092</td>\n",
       "      <td>662.248</td>\n",
       "      <td>0.00452089</td>\n",
       "      <td>0.621346</td>\n",
       "    </tr>\n",
       "    <tr>\n",
       "      <th>tri_class_33_quantile</th>\n",
       "      <td>0.336812</td>\n",
       "      <td>524.598</td>\n",
       "      <td>0.0182244</td>\n",
       "      <td>0.428058</td>\n",
       "    </tr>\n",
       "    <tr>\n",
       "      <th>quart_class_25_quantile</th>\n",
       "      <td>0.32851</td>\n",
       "      <td>481.518</td>\n",
       "      <td>0.022595</td>\n",
       "      <td>0.383408</td>\n",
       "    </tr>\n",
       "    <tr>\n",
       "      <th>bi_class_customed_partition</th>\n",
       "      <td>0.563177</td>\n",
       "      <td>662.269</td>\n",
       "      <td>0.0090593</td>\n",
       "      <td>0.676849</td>\n",
       "    </tr>\n",
       "    <tr>\n",
       "      <th>tri_class_customed_partition</th>\n",
       "      <td>0.336812</td>\n",
       "      <td>524.598</td>\n",
       "      <td>-0.011541</td>\n",
       "      <td>0.483427</td>\n",
       "    </tr>\n",
       "  </tbody>\n",
       "</table>\n",
       "</div>"
      ],
      "text/plain": [
       "                             silhouette_score calinski_score  \\\n",
       "clusters                                                       \n",
       "bi_class_50_quantile                 0.561092        662.248   \n",
       "tri_class_33_quantile                0.336812        524.598   \n",
       "quart_class_25_quantile               0.32851        481.518   \n",
       "bi_class_customed_partition          0.563177        662.269   \n",
       "tri_class_customed_partition         0.336812        524.598   \n",
       "\n",
       "                             adjusted_rand_score fowlkes_mallows_score  \n",
       "clusters                                                                \n",
       "bi_class_50_quantile                  0.00452089              0.621346  \n",
       "tri_class_33_quantile                  0.0182244              0.428058  \n",
       "quart_class_25_quantile                 0.022595              0.383408  \n",
       "bi_class_customed_partition            0.0090593              0.676849  \n",
       "tri_class_customed_partition           -0.011541              0.483427  "
      ]
     },
     "execution_count": 23,
     "metadata": {},
     "output_type": "execute_result"
    }
   ],
   "source": [
    "kmeans_cluster = KMeans(n_clusters=2)\n",
    "metrics = []\n",
    "for i in range(len(n_clusters)):\n",
    "    kmeans_cluster.n_clusters = n_clusters[i]\n",
    "    kmeans_cluster.bulid_kmeans_cluster()\n",
    "    a, metric = kmeans_cluster.train_model(selected_int_feat.values, \n",
    "                                           true_labels=true_labels[i],\n",
    "                                           print_metric=False)\n",
    "    metrics.append(metric)\n",
    "\n",
    "int_metrics_df = pd.DataFrame(columns=metrics[0].keys())\n",
    "int_metrics_df['clusters'] = cluster_name\n",
    "int_metrics_df = int_metrics_df.set_index('clusters')\n",
    "\n",
    "for i in range(len(metrics)):\n",
    "    int_metrics_df.loc[cluster_name[i]] = pd.Series(metrics[i])\n",
    "\n",
    "int_metrics_df"
   ]
  },
  {
   "cell_type": "code",
   "execution_count": null,
   "metadata": {},
   "outputs": [],
   "source": []
  },
  {
   "cell_type": "markdown",
   "metadata": {},
   "source": [
    "### 3.2.1 float feature"
   ]
  },
  {
   "cell_type": "code",
   "execution_count": 24,
   "metadata": {},
   "outputs": [
    {
     "name": "stdout",
     "output_type": "stream",
     "text": [
      "\n",
      "\n",
      "\n",
      "\n",
      "\n"
     ]
    },
    {
     "data": {
      "text/html": [
       "<div>\n",
       "<style scoped>\n",
       "    .dataframe tbody tr th:only-of-type {\n",
       "        vertical-align: middle;\n",
       "    }\n",
       "\n",
       "    .dataframe tbody tr th {\n",
       "        vertical-align: top;\n",
       "    }\n",
       "\n",
       "    .dataframe thead th {\n",
       "        text-align: right;\n",
       "    }\n",
       "</style>\n",
       "<table border=\"1\" class=\"dataframe\">\n",
       "  <thead>\n",
       "    <tr style=\"text-align: right;\">\n",
       "      <th></th>\n",
       "      <th>silhouette_score</th>\n",
       "      <th>calinski_score</th>\n",
       "      <th>adjusted_rand_score</th>\n",
       "      <th>fowlkes_mallows_score</th>\n",
       "    </tr>\n",
       "    <tr>\n",
       "      <th>clusters</th>\n",
       "      <th></th>\n",
       "      <th></th>\n",
       "      <th></th>\n",
       "      <th></th>\n",
       "    </tr>\n",
       "  </thead>\n",
       "  <tbody>\n",
       "    <tr>\n",
       "      <th>bi_class_50_quantile</th>\n",
       "      <td>0.339562</td>\n",
       "      <td>142.469</td>\n",
       "      <td>0.00104268</td>\n",
       "      <td>0.58884</td>\n",
       "    </tr>\n",
       "    <tr>\n",
       "      <th>tri_class_33_quantile</th>\n",
       "      <td>0.332421</td>\n",
       "      <td>125.231</td>\n",
       "      <td>0.00281395</td>\n",
       "      <td>0.485468</td>\n",
       "    </tr>\n",
       "    <tr>\n",
       "      <th>quart_class_25_quantile</th>\n",
       "      <td>0.263934</td>\n",
       "      <td>109.747</td>\n",
       "      <td>0.00711927</td>\n",
       "      <td>0.400536</td>\n",
       "    </tr>\n",
       "    <tr>\n",
       "      <th>bi_class_customed_partition</th>\n",
       "      <td>0.339562</td>\n",
       "      <td>142.469</td>\n",
       "      <td>-0.0323044</td>\n",
       "      <td>0.627035</td>\n",
       "    </tr>\n",
       "    <tr>\n",
       "      <th>tri_class_customed_partition</th>\n",
       "      <td>0.33536</td>\n",
       "      <td>125.23</td>\n",
       "      <td>-0.030255</td>\n",
       "      <td>0.55604</td>\n",
       "    </tr>\n",
       "  </tbody>\n",
       "</table>\n",
       "</div>"
      ],
      "text/plain": [
       "                             silhouette_score calinski_score  \\\n",
       "clusters                                                       \n",
       "bi_class_50_quantile                 0.339562        142.469   \n",
       "tri_class_33_quantile                0.332421        125.231   \n",
       "quart_class_25_quantile              0.263934        109.747   \n",
       "bi_class_customed_partition          0.339562        142.469   \n",
       "tri_class_customed_partition          0.33536         125.23   \n",
       "\n",
       "                             adjusted_rand_score fowlkes_mallows_score  \n",
       "clusters                                                                \n",
       "bi_class_50_quantile                  0.00104268               0.58884  \n",
       "tri_class_33_quantile                 0.00281395              0.485468  \n",
       "quart_class_25_quantile               0.00711927              0.400536  \n",
       "bi_class_customed_partition           -0.0323044              0.627035  \n",
       "tri_class_customed_partition           -0.030255               0.55604  "
      ]
     },
     "execution_count": 24,
     "metadata": {},
     "output_type": "execute_result"
    }
   ],
   "source": [
    "kmeans_cluster = KMeans(n_clusters=2)\n",
    "metrics = []\n",
    "for i in range(len(n_clusters)):\n",
    "    kmeans_cluster.n_clusters = n_clusters[i]\n",
    "    kmeans_cluster.bulid_kmeans_cluster()\n",
    "    a, metric = kmeans_cluster.train_model(selected_float_feat_norm, \n",
    "                                           true_labels=true_labels[i],\n",
    "                                           print_metric=False)\n",
    "    metrics.append(metric)\n",
    "\n",
    "float_metrics_df = pd.DataFrame(columns=metrics[0].keys())\n",
    "float_metrics_df['clusters'] = cluster_name\n",
    "float_metrics_df = float_metrics_df.set_index('clusters')\n",
    "\n",
    "for i in range(len(metrics)):\n",
    "    float_metrics_df.loc[cluster_name[i]] = pd.Series(metrics[i])\n",
    "\n",
    "float_metrics_df"
   ]
  },
  {
   "cell_type": "code",
   "execution_count": 25,
   "metadata": {},
   "outputs": [
    {
     "name": "stdout",
     "output_type": "stream",
     "text": [
      "\n",
      "\n",
      "\n",
      "\n",
      "\n"
     ]
    },
    {
     "data": {
      "text/html": [
       "<div>\n",
       "<style scoped>\n",
       "    .dataframe tbody tr th:only-of-type {\n",
       "        vertical-align: middle;\n",
       "    }\n",
       "\n",
       "    .dataframe tbody tr th {\n",
       "        vertical-align: top;\n",
       "    }\n",
       "\n",
       "    .dataframe thead th {\n",
       "        text-align: right;\n",
       "    }\n",
       "</style>\n",
       "<table border=\"1\" class=\"dataframe\">\n",
       "  <thead>\n",
       "    <tr style=\"text-align: right;\">\n",
       "      <th></th>\n",
       "      <th>silhouette_score</th>\n",
       "      <th>calinski_score</th>\n",
       "      <th>adjusted_rand_score</th>\n",
       "      <th>fowlkes_mallows_score</th>\n",
       "    </tr>\n",
       "    <tr>\n",
       "      <th>clusters</th>\n",
       "      <th></th>\n",
       "      <th></th>\n",
       "      <th></th>\n",
       "      <th></th>\n",
       "    </tr>\n",
       "  </thead>\n",
       "  <tbody>\n",
       "    <tr>\n",
       "      <th>bi_class_50_quantile</th>\n",
       "      <td>0.332934</td>\n",
       "      <td>103.499</td>\n",
       "      <td>0.00135727</td>\n",
       "      <td>0.587983</td>\n",
       "    </tr>\n",
       "    <tr>\n",
       "      <th>tri_class_33_quantile</th>\n",
       "      <td>0.334281</td>\n",
       "      <td>88.3009</td>\n",
       "      <td>0.00717116</td>\n",
       "      <td>0.492177</td>\n",
       "    </tr>\n",
       "    <tr>\n",
       "      <th>quart_class_25_quantile</th>\n",
       "      <td>0.288409</td>\n",
       "      <td>82.1561</td>\n",
       "      <td>0.00536488</td>\n",
       "      <td>0.441535</td>\n",
       "    </tr>\n",
       "    <tr>\n",
       "      <th>bi_class_customed_partition</th>\n",
       "      <td>0.339319</td>\n",
       "      <td>103.51</td>\n",
       "      <td>-0.0392128</td>\n",
       "      <td>0.62902</td>\n",
       "    </tr>\n",
       "    <tr>\n",
       "      <th>tri_class_customed_partition</th>\n",
       "      <td>0.319462</td>\n",
       "      <td>88.2283</td>\n",
       "      <td>-0.0386494</td>\n",
       "      <td>0.541928</td>\n",
       "    </tr>\n",
       "  </tbody>\n",
       "</table>\n",
       "</div>"
      ],
      "text/plain": [
       "                             silhouette_score calinski_score  \\\n",
       "clusters                                                       \n",
       "bi_class_50_quantile                 0.332934        103.499   \n",
       "tri_class_33_quantile                0.334281        88.3009   \n",
       "quart_class_25_quantile              0.288409        82.1561   \n",
       "bi_class_customed_partition          0.339319         103.51   \n",
       "tri_class_customed_partition         0.319462        88.2283   \n",
       "\n",
       "                             adjusted_rand_score fowlkes_mallows_score  \n",
       "clusters                                                                \n",
       "bi_class_50_quantile                  0.00135727              0.587983  \n",
       "tri_class_33_quantile                 0.00717116              0.492177  \n",
       "quart_class_25_quantile               0.00536488              0.441535  \n",
       "bi_class_customed_partition           -0.0392128               0.62902  \n",
       "tri_class_customed_partition          -0.0386494              0.541928  "
      ]
     },
     "execution_count": 25,
     "metadata": {},
     "output_type": "execute_result"
    }
   ],
   "source": [
    "kmeans_cluster = KMeans(n_clusters=2)\n",
    "metrics = []\n",
    "for i in range(len(n_clusters)):\n",
    "    kmeans_cluster.n_clusters = n_clusters[i]\n",
    "    kmeans_cluster.bulid_kmeans_cluster()\n",
    "    a, metric = kmeans_cluster.train_model(selected_all_feat_norm, \n",
    "                                           true_labels=true_labels[i],\n",
    "                                           print_metric=False)\n",
    "    metrics.append(metric)\n",
    "\n",
    "all_metrics_df = pd.DataFrame(columns=metrics[0].keys())\n",
    "all_metrics_df['clusters'] = cluster_name\n",
    "all_metrics_df = all_metrics_df.set_index('clusters')\n",
    "\n",
    "for i in range(len(metrics)):\n",
    "    all_metrics_df.loc[cluster_name[i]] = pd.Series(metrics[i])\n",
    "    \n",
    "all_metrics_df"
   ]
  },
  {
   "cell_type": "code",
   "execution_count": 26,
   "metadata": {},
   "outputs": [
    {
     "data": {
      "text/html": [
       "<div>\n",
       "<style scoped>\n",
       "    .dataframe tbody tr th:only-of-type {\n",
       "        vertical-align: middle;\n",
       "    }\n",
       "\n",
       "    .dataframe tbody tr th {\n",
       "        vertical-align: top;\n",
       "    }\n",
       "\n",
       "    .dataframe thead th {\n",
       "        text-align: right;\n",
       "    }\n",
       "</style>\n",
       "<table border=\"1\" class=\"dataframe\">\n",
       "  <thead>\n",
       "    <tr style=\"text-align: right;\">\n",
       "      <th></th>\n",
       "      <th>silhouette_score</th>\n",
       "      <th>calinski_score</th>\n",
       "      <th>adjusted_rand_score</th>\n",
       "      <th>fowlkes_mallows_score</th>\n",
       "    </tr>\n",
       "    <tr>\n",
       "      <th>clusters</th>\n",
       "      <th></th>\n",
       "      <th></th>\n",
       "      <th></th>\n",
       "      <th></th>\n",
       "    </tr>\n",
       "  </thead>\n",
       "  <tbody>\n",
       "    <tr>\n",
       "      <th>bi_class_50_quantile</th>\n",
       "      <td>0.339562</td>\n",
       "      <td>142.469</td>\n",
       "      <td>0.00104268</td>\n",
       "      <td>0.58884</td>\n",
       "    </tr>\n",
       "    <tr>\n",
       "      <th>tri_class_33_quantile</th>\n",
       "      <td>0.332421</td>\n",
       "      <td>125.231</td>\n",
       "      <td>0.00281395</td>\n",
       "      <td>0.485468</td>\n",
       "    </tr>\n",
       "    <tr>\n",
       "      <th>quart_class_25_quantile</th>\n",
       "      <td>0.263934</td>\n",
       "      <td>109.747</td>\n",
       "      <td>0.00711927</td>\n",
       "      <td>0.400536</td>\n",
       "    </tr>\n",
       "    <tr>\n",
       "      <th>bi_class_customed_partition</th>\n",
       "      <td>0.339562</td>\n",
       "      <td>142.469</td>\n",
       "      <td>-0.0323044</td>\n",
       "      <td>0.627035</td>\n",
       "    </tr>\n",
       "    <tr>\n",
       "      <th>tri_class_customed_partition</th>\n",
       "      <td>0.33536</td>\n",
       "      <td>125.23</td>\n",
       "      <td>-0.030255</td>\n",
       "      <td>0.55604</td>\n",
       "    </tr>\n",
       "  </tbody>\n",
       "</table>\n",
       "</div>"
      ],
      "text/plain": [
       "                             silhouette_score calinski_score  \\\n",
       "clusters                                                       \n",
       "bi_class_50_quantile                 0.339562        142.469   \n",
       "tri_class_33_quantile                0.332421        125.231   \n",
       "quart_class_25_quantile              0.263934        109.747   \n",
       "bi_class_customed_partition          0.339562        142.469   \n",
       "tri_class_customed_partition          0.33536         125.23   \n",
       "\n",
       "                             adjusted_rand_score fowlkes_mallows_score  \n",
       "clusters                                                                \n",
       "bi_class_50_quantile                  0.00104268               0.58884  \n",
       "tri_class_33_quantile                 0.00281395              0.485468  \n",
       "quart_class_25_quantile               0.00711927              0.400536  \n",
       "bi_class_customed_partition           -0.0323044              0.627035  \n",
       "tri_class_customed_partition           -0.030255               0.55604  "
      ]
     },
     "execution_count": 26,
     "metadata": {},
     "output_type": "execute_result"
    }
   ],
   "source": [
    "float_metrics_df"
   ]
  },
  {
   "cell_type": "code",
   "execution_count": 27,
   "metadata": {},
   "outputs": [
    {
     "data": {
      "text/html": [
       "<div>\n",
       "<style scoped>\n",
       "    .dataframe tbody tr th:only-of-type {\n",
       "        vertical-align: middle;\n",
       "    }\n",
       "\n",
       "    .dataframe tbody tr th {\n",
       "        vertical-align: top;\n",
       "    }\n",
       "\n",
       "    .dataframe thead th {\n",
       "        text-align: right;\n",
       "    }\n",
       "</style>\n",
       "<table border=\"1\" class=\"dataframe\">\n",
       "  <thead>\n",
       "    <tr style=\"text-align: right;\">\n",
       "      <th></th>\n",
       "      <th>silhouette_score</th>\n",
       "      <th>calinski_score</th>\n",
       "      <th>adjusted_rand_score</th>\n",
       "      <th>fowlkes_mallows_score</th>\n",
       "    </tr>\n",
       "    <tr>\n",
       "      <th>clusters</th>\n",
       "      <th></th>\n",
       "      <th></th>\n",
       "      <th></th>\n",
       "      <th></th>\n",
       "    </tr>\n",
       "  </thead>\n",
       "  <tbody>\n",
       "    <tr>\n",
       "      <th>bi_class_50_quantile</th>\n",
       "      <td>0.561092</td>\n",
       "      <td>662.248</td>\n",
       "      <td>0.00452089</td>\n",
       "      <td>0.621346</td>\n",
       "    </tr>\n",
       "    <tr>\n",
       "      <th>tri_class_33_quantile</th>\n",
       "      <td>0.336812</td>\n",
       "      <td>524.598</td>\n",
       "      <td>0.0182244</td>\n",
       "      <td>0.428058</td>\n",
       "    </tr>\n",
       "    <tr>\n",
       "      <th>quart_class_25_quantile</th>\n",
       "      <td>0.32851</td>\n",
       "      <td>481.518</td>\n",
       "      <td>0.022595</td>\n",
       "      <td>0.383408</td>\n",
       "    </tr>\n",
       "    <tr>\n",
       "      <th>bi_class_customed_partition</th>\n",
       "      <td>0.563177</td>\n",
       "      <td>662.269</td>\n",
       "      <td>0.0090593</td>\n",
       "      <td>0.676849</td>\n",
       "    </tr>\n",
       "    <tr>\n",
       "      <th>tri_class_customed_partition</th>\n",
       "      <td>0.336812</td>\n",
       "      <td>524.598</td>\n",
       "      <td>-0.011541</td>\n",
       "      <td>0.483427</td>\n",
       "    </tr>\n",
       "  </tbody>\n",
       "</table>\n",
       "</div>"
      ],
      "text/plain": [
       "                             silhouette_score calinski_score  \\\n",
       "clusters                                                       \n",
       "bi_class_50_quantile                 0.561092        662.248   \n",
       "tri_class_33_quantile                0.336812        524.598   \n",
       "quart_class_25_quantile               0.32851        481.518   \n",
       "bi_class_customed_partition          0.563177        662.269   \n",
       "tri_class_customed_partition         0.336812        524.598   \n",
       "\n",
       "                             adjusted_rand_score fowlkes_mallows_score  \n",
       "clusters                                                                \n",
       "bi_class_50_quantile                  0.00452089              0.621346  \n",
       "tri_class_33_quantile                  0.0182244              0.428058  \n",
       "quart_class_25_quantile                 0.022595              0.383408  \n",
       "bi_class_customed_partition            0.0090593              0.676849  \n",
       "tri_class_customed_partition           -0.011541              0.483427  "
      ]
     },
     "execution_count": 27,
     "metadata": {},
     "output_type": "execute_result"
    }
   ],
   "source": [
    "int_metrics_df"
   ]
  },
  {
   "cell_type": "code",
   "execution_count": null,
   "metadata": {},
   "outputs": [],
   "source": []
  },
  {
   "cell_type": "code",
   "execution_count": null,
   "metadata": {},
   "outputs": [],
   "source": []
  }
 ],
 "metadata": {
  "kernelspec": {
   "display_name": "Python [conda env:deepchembed]",
   "language": "python",
   "name": "conda-env-deepchembed-py"
  },
  "language_info": {
   "codemirror_mode": {
    "name": "ipython",
    "version": 3
   },
   "file_extension": ".py",
   "mimetype": "text/x-python",
   "name": "python",
   "nbconvert_exporter": "python",
   "pygments_lexer": "ipython3",
   "version": "3.6.8"
  }
 },
 "nbformat": 4,
 "nbformat_minor": 2
}
