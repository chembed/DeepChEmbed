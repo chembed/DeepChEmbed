{
 "cells": [
  {
   "cell_type": "code",
   "execution_count": 1,
   "metadata": {},
   "outputs": [],
   "source": [
    "import __init__\n",
    "from __init__ import DATA_PATH\n",
    "from __init__ import PACKAGE_PATH\n",
    "import numpy as np\n",
    "import pandas as pd\n",
    "import os\n",
    "import matplotlib as mplt\n",
    "import matplotlib.pyplot as plt\n",
    "import seaborn as sns\n",
    "%matplotlib inline\n",
    "import utilities\n",
    "from descriptor import rdkitDescriptors"
   ]
  },
  {
   "cell_type": "code",
   "execution_count": 2,
   "metadata": {},
   "outputs": [],
   "source": [
    "df=pd.read_csv(os.path.join(DATA_PATH,'BOD_RDKit_Descriptors_1063.csv'))\n",
    "df['cleaned_bod'] =utilities.clean_out_of_bound(df['value (% BOD)'])"
   ]
  },
  {
   "cell_type": "code",
   "execution_count": 3,
   "metadata": {},
   "outputs": [],
   "source": [
    "features = rdkitDescriptors.batch_compute_all_descriptors(df['SMILES'])"
   ]
  },
  {
   "cell_type": "code",
   "execution_count": 4,
   "metadata": {},
   "outputs": [],
   "source": [
    "smiles_features=pd.concat([df['SMILES'],features], axis=1)"
   ]
  },
  {
   "cell_type": "markdown",
   "metadata": {},
   "source": [
    "# 1 Divide the feature columns by dtypes (float and int)"
   ]
  },
  {
   "cell_type": "markdown",
   "metadata": {},
   "source": [
    "# 1.1 int features"
   ]
  },
  {
   "cell_type": "code",
   "execution_count": 5,
   "metadata": {},
   "outputs": [],
   "source": [
    "feat_int =features.select_dtypes(include=['int64'])"
   ]
  },
  {
   "cell_type": "code",
   "execution_count": 6,
   "metadata": {},
   "outputs": [],
   "source": [
    "selected_int_feat = feat_int.loc[:,feat_int.nunique()>1]"
   ]
  },
  {
   "cell_type": "markdown",
   "metadata": {},
   "source": [
    "## 1.2 float features"
   ]
  },
  {
   "cell_type": "code",
   "execution_count": 7,
   "metadata": {},
   "outputs": [],
   "source": [
    "feat_float = features.select_dtypes(include=['float64'])"
   ]
  },
  {
   "cell_type": "code",
   "execution_count": 8,
   "metadata": {},
   "outputs": [],
   "source": [
    "selected_float_feat = feat_float.loc[:,feat_float.nunique()>1]"
   ]
  },
  {
   "cell_type": "markdown",
   "metadata": {},
   "source": [
    "# 2 Divide BOD by different cutoff"
   ]
  },
  {
   "cell_type": "code",
   "execution_count": 37,
   "metadata": {},
   "outputs": [
    {
     "data": {
      "text/plain": [
       "<matplotlib.axes._subplots.AxesSubplot at 0x17504cc1588>"
      ]
     },
     "execution_count": 37,
     "metadata": {},
     "output_type": "execute_result"
    },
    {
     "data": {
      "image/png": "[encoded data removed]",
      "text/plain": [
       "<Figure size 432x288 with 1 Axes>"
      ]
     },
     "metadata": {
      "needs_background": "light"
     },
     "output_type": "display_data"
    }
   ],
   "source": [
    "df['cleaned_bod'].hist(bins=25)"
   ]
  },
  {
   "cell_type": "markdown",
   "metadata": {},
   "source": [
    "## 2.1 50% quantile two classes"
   ]
  },
  {
   "cell_type": "code",
   "execution_count": 9,
   "metadata": {},
   "outputs": [],
   "source": [
    "df['bi_class_q50']=pd.qcut(df['cleaned_bod'].values, 2, labels=[0,1])\n",
    "true_label_q50 = df['bi_class_q50'].values"
   ]
  },
  {
   "cell_type": "markdown",
   "metadata": {},
   "source": [
    "## 2.2 33%, 66% quantile 3 classes (manual implement due to duplicate edges)"
   ]
  },
  {
   "cell_type": "code",
   "execution_count": 10,
   "metadata": {},
   "outputs": [],
   "source": [
    "tri_cuts=df['cleaned_bod'].quantile([0.33,0.66]).values"
   ]
  },
  {
   "cell_type": "code",
   "execution_count": 13,
   "metadata": {
    "scrolled": true
   },
   "outputs": [],
   "source": [
    "df['tri_class_q33']=utilities.divide_classes(df['cleaned_bod'], tri_cuts)"
   ]
  },
  {
   "cell_type": "code",
   "execution_count": 14,
   "metadata": {},
   "outputs": [],
   "source": [
    "true_label_q33=df['tri_class_q33'].values"
   ]
  },
  {
   "cell_type": "code",
   "execution_count": 69,
   "metadata": {
    "scrolled": false
   },
   "outputs": [
    {
     "data": {
      "text/plain": [
       "(array([413.,   0.,   0.,   0.,   0., 288.,   0.,   0.,   0., 362.]),\n",
       " array([0. , 0.2, 0.4, 0.6, 0.8, 1. , 1.2, 1.4, 1.6, 1.8, 2. ]),\n",
       " <a list of 10 Patch objects>)"
      ]
     },
     "execution_count": 69,
     "metadata": {},
     "output_type": "execute_result"
    },
    {
     "data": {
      "image/png": "[encoded data removed]",
      "text/plain": [
       "<Figure size 432x288 with 1 Axes>"
      ]
     },
     "metadata": {
      "needs_background": "light"
     },
     "output_type": "display_data"
    }
   ],
   "source": [
    "plt.hist(true_label_q33)"
   ]
  },
  {
   "cell_type": "markdown",
   "metadata": {},
   "source": [
    "## 2.3 25%, 50%, 75% 4 classes (manual)"
   ]
  },
  {
   "cell_type": "code",
   "execution_count": 15,
   "metadata": {},
   "outputs": [],
   "source": [
    "quart_cuts=df['cleaned_bod'].quantile([0.25,0.50,0.75]).values"
   ]
  },
  {
   "cell_type": "code",
   "execution_count": 16,
   "metadata": {},
   "outputs": [
    {
     "data": {
      "text/plain": [
       "3"
      ]
     },
     "execution_count": 16,
     "metadata": {},
     "output_type": "execute_result"
    }
   ],
   "source": [
    "len(quart_cuts)"
   ]
  },
  {
   "cell_type": "code",
   "execution_count": 17,
   "metadata": {},
   "outputs": [],
   "source": [
    "df['quart_class_q25']=utilities.divide_classes(df['cleaned_bod'], quart_cuts)"
   ]
  },
  {
   "cell_type": "code",
   "execution_count": 19,
   "metadata": {},
   "outputs": [],
   "source": [
    "true_label_q25 = df['quart_class_q25'].values"
   ]
  },
  {
   "cell_type": "code",
   "execution_count": 71,
   "metadata": {
    "scrolled": true
   },
   "outputs": [
    {
     "data": {
      "text/plain": [
       "(array([413.,   0.,   0., 122.,   0.,   0., 262.,   0.,   0., 266.]),\n",
       " array([0. , 0.3, 0.6, 0.9, 1.2, 1.5, 1.8, 2.1, 2.4, 2.7, 3. ]),\n",
       " <a list of 10 Patch objects>)"
      ]
     },
     "execution_count": 71,
     "metadata": {},
     "output_type": "execute_result"
    },
    {
     "data": {
      "image/png": "[encoded data removed]",
      "text/plain": [
       "<Figure size 432x288 with 1 Axes>"
      ]
     },
     "metadata": {
      "needs_background": "light"
     },
     "output_type": "display_data"
    }
   ],
   "source": [
    "plt.hist(true_label_q25) #inbalanced"
   ]
  },
  {
   "cell_type": "markdown",
   "metadata": {},
   "source": [
    "## 2.4 Partitioning into three classes (poor, median, good) based on distribution"
   ]
  },
  {
   "cell_type": "code",
   "execution_count": 10,
   "metadata": {},
   "outputs": [],
   "source": [
    "df['tri_class_partition']=utilities.divide_classes(df['cleaned_bod'], [0.2,0.8])"
   ]
  },
  {
   "cell_type": "code",
   "execution_count": 11,
   "metadata": {},
   "outputs": [
    {
     "data": {
      "text/plain": [
       "array([0, 1, 2], dtype=int64)"
      ]
     },
     "execution_count": 11,
     "metadata": {},
     "output_type": "execute_result"
    }
   ],
   "source": [
    "np.unique(df['tri_class_partition'])"
   ]
  },
  {
   "cell_type": "code",
   "execution_count": 12,
   "metadata": {},
   "outputs": [
    {
     "data": {
      "text/plain": [
       "(array([416.,   0.,   0.,   0.,   0.,   9.,   0.,   0.,   0., 638.]),\n",
       " array([0. , 0.2, 0.4, 0.6, 0.8, 1. , 1.2, 1.4, 1.6, 1.8, 2. ]),\n",
       " <a list of 10 Patch objects>)"
      ]
     },
     "execution_count": 12,
     "metadata": {},
     "output_type": "execute_result"
    },
    {
     "data": {
      "image/png": "[encoded data removed]",
      "text/plain": [
       "<Figure size 432x288 with 1 Axes>"
      ]
     },
     "metadata": {
      "needs_background": "light"
     },
     "output_type": "display_data"
    }
   ],
   "source": [
    "plt.hist(df['tri_class_partition'])"
   ]
  },
  {
   "cell_type": "code",
   "execution_count": 13,
   "metadata": {},
   "outputs": [],
   "source": [
    "true_label_triclass= df['tri_class_partition'].values"
   ]
  },
  {
   "cell_type": "code",
   "execution_count": null,
   "metadata": {},
   "outputs": [],
   "source": []
  },
  {
   "cell_type": "code",
   "execution_count": null,
   "metadata": {},
   "outputs": [],
   "source": []
  },
  {
   "cell_type": "markdown",
   "metadata": {},
   "source": [
    "# 3 baseline-kmeans"
   ]
  },
  {
   "cell_type": "markdown",
   "metadata": {},
   "source": [
    "## 3.1 wrapper function"
   ]
  },
  {
   "cell_type": "code",
   "execution_count": 14,
   "metadata": {},
   "outputs": [],
   "source": [
    "from sklearn.cluster import KMeans\n",
    "import sklearn.metrics.cluster as cluster_metric"
   ]
  },
  {
   "cell_type": "markdown",
   "metadata": {},
   "source": [
    "* No ground true label metrics evaluations packet"
   ]
  },
  {
   "cell_type": "code",
   "execution_count": 15,
   "metadata": {},
   "outputs": [],
   "source": [
    "def no_label_metrics(input_feature, assigned_label, metric = 'euclidean'):\n",
    "    print(\"silhouette score: % s\" % cluster_metric.silhouette_score(input_feature, assigned_label, metric=metric))\n",
    "    print(\"calinski score: % s\" % cluster_metric.calinski_harabaz_score(input_feature, assigned_label))\n",
    "    print(\"davie bouldin socre: % s\" % cluster_metric.davies_bouldin_score(input_feature, assigned_label))"
   ]
  },
  {
   "cell_type": "markdown",
   "metadata": {},
   "source": [
    "* metrics with ground true label"
   ]
  },
  {
   "cell_type": "code",
   "execution_count": 16,
   "metadata": {},
   "outputs": [],
   "source": [
    "def true_label_metrics(true_label, assigned_label):\n",
    "    print(\"with True label estimate\")\n",
    "    print(\"adjusted rand score: % s \" % cluster_metric.adjusted_rand_score(true_label, assigned_label))\n",
    "    print(\"adjusted mutual info score: % s\" % cluster_metric.adjusted_mutual_info_score(true_label, assigned_label)) \n",
    "    print(\"homogeneity completeness v measure:\")\n",
    "    print(cluster_metric.homogeneity_completeness_v_measure(true_label, assigned_label))\n",
    "    print(\"fowlkes_mallows : % s\" % cluster_metric.fowlkes_mallows_score(true_label, assigned_label))"
   ]
  },
  {
   "cell_type": "markdown",
   "metadata": {},
   "source": [
    "## 3.2 bi-class 50 quantile cluster"
   ]
  },
  {
   "cell_type": "markdown",
   "metadata": {},
   "source": [
    "### 3.2.1 int feature"
   ]
  },
  {
   "cell_type": "code",
   "execution_count": 38,
   "metadata": {},
   "outputs": [],
   "source": [
    "kmeans2_int = KMeans(n_clusters=2, init='k-means++', tol=1e-6).fit(selected_int_feat.values)"
   ]
  },
  {
   "cell_type": "code",
   "execution_count": 39,
   "metadata": {},
   "outputs": [],
   "source": [
    "label_2_int = kmeans2_int.labels_"
   ]
  },
  {
   "cell_type": "code",
   "execution_count": 40,
   "metadata": {},
   "outputs": [
    {
     "name": "stdout",
     "output_type": "stream",
     "text": [
      "silhouette score: 0.5475756430178326\n",
      "calinski score: 675.2304536098828\n"
     ]
    },
    {
     "name": "stderr",
     "output_type": "stream",
     "text": [
      "C:\\Users\\Yang\\.conda\\envs\\deepchembed\\lib\\site-packages\\sklearn\\metrics\\cluster\\unsupervised.py:342: RuntimeWarning: divide by zero encountered in true_divide\n",
      "  score = (intra_dists[:, None] + intra_dists) / centroid_distances\n"
     ]
    },
    {
     "name": "stdout",
     "output_type": "stream",
     "text": [
      "davie bouldin socre: 1.0107598758571776\n"
     ]
    }
   ],
   "source": [
    "no_label_metrics(selected_int_feat.values, label_2_int)"
   ]
  },
  {
   "cell_type": "code",
   "execution_count": 41,
   "metadata": {},
   "outputs": [
    {
     "name": "stdout",
     "output_type": "stream",
     "text": [
      "with True label estimate\n",
      "adjusted rand score: 0.001795278078604992 \n"
     ]
    },
    {
     "name": "stderr",
     "output_type": "stream",
     "text": [
      "C:\\Users\\Yang\\.conda\\envs\\deepchembed\\lib\\site-packages\\sklearn\\metrics\\cluster\\supervised.py:732: FutureWarning: The behavior of AMI will change in version 0.22. To match the behavior of 'v_measure_score', AMI will use average_method='arithmetic' by default.\n",
      "  FutureWarning)\n"
     ]
    },
    {
     "name": "stdout",
     "output_type": "stream",
     "text": [
      "adjusted mutual info score: 0.00195655374386627\n",
      "homogeneity completeness v measure:\n",
      "(0.002636005876416948, 0.004280409317187768, 0.0032627260792584697)\n",
      "fowlkes_mallows : 0.6093197129654911\n"
     ]
    }
   ],
   "source": [
    "true_label_metrics(true_label_q50, label_2_int)"
   ]
  },
  {
   "cell_type": "markdown",
   "metadata": {},
   "source": [
    "### 3.2.2 float feature"
   ]
  },
  {
   "cell_type": "code",
   "execution_count": 42,
   "metadata": {},
   "outputs": [],
   "source": [
    "kmeans2_flt = KMeans(n_clusters=2, init='k-means++', tol=1e-6).fit(selected_float_feat.values)\n",
    "label_2_flt = kmeans2_flt.labels_"
   ]
  },
  {
   "cell_type": "code",
   "execution_count": 45,
   "metadata": {},
   "outputs": [
    {
     "name": "stdout",
     "output_type": "stream",
     "text": [
      "silhouette score: 0.9772412798979195\n",
      "calinski score: 2449.94638482056\n"
     ]
    },
    {
     "name": "stderr",
     "output_type": "stream",
     "text": [
      "C:\\Users\\Yang\\.conda\\envs\\deepchembed\\lib\\site-packages\\sklearn\\metrics\\cluster\\unsupervised.py:342: RuntimeWarning: divide by zero encountered in true_divide\n",
      "  score = (intra_dists[:, None] + intra_dists) / centroid_distances\n",
      "C:\\Users\\Yang\\.conda\\envs\\deepchembed\\lib\\site-packages\\sklearn\\metrics\\cluster\\unsupervised.py:342: RuntimeWarning: invalid value encountered in true_divide\n",
      "  score = (intra_dists[:, None] + intra_dists) / centroid_distances\n"
     ]
    },
    {
     "name": "stdout",
     "output_type": "stream",
     "text": [
      "davie bouldin socre: 0.015276316032467912\n",
      "\n",
      "\n",
      "with True label estimate\n",
      "adjusted rand score: -2.4617415490710395e-05 \n"
     ]
    },
    {
     "name": "stderr",
     "output_type": "stream",
     "text": [
      "C:\\Users\\Yang\\.conda\\envs\\deepchembed\\lib\\site-packages\\sklearn\\metrics\\cluster\\supervised.py:732: FutureWarning: The behavior of AMI will change in version 0.22. To match the behavior of 'v_measure_score', AMI will use average_method='arithmetic' by default.\n",
      "  FutureWarning)\n"
     ]
    },
    {
     "name": "stdout",
     "output_type": "stream",
     "text": [
      "adjusted mutual info score: -8.89558430810096e-06\n",
      "homogeneity completeness v measure:\n",
      "(0.0009324855614722467, 0.08622182815151025, 0.0018450173355687419)\n",
      "fowlkes_mallows : 0.7061152060370829\n"
     ]
    }
   ],
   "source": [
    "no_label_metrics(selected_float_feat.values, label_2_flt)\n",
    "print('\\n')\n",
    "true_label_metrics(true_label_q50, label_2_flt)"
   ]
  },
  {
   "cell_type": "markdown",
   "metadata": {},
   "source": [
    "## 3.3 tri-class 33 quantile cluster"
   ]
  },
  {
   "cell_type": "code",
   "execution_count": 56,
   "metadata": {},
   "outputs": [],
   "source": [
    "kmeans3_int = KMeans(n_clusters=3, init='k-means++', tol=1e-6).fit(selected_int_feat.values)\n",
    "label_3_int = kmeans3_int.labels_"
   ]
  },
  {
   "cell_type": "code",
   "execution_count": 61,
   "metadata": {},
   "outputs": [
    {
     "data": {
      "text/plain": [
       "array([0, 1, 2])"
      ]
     },
     "execution_count": 61,
     "metadata": {},
     "output_type": "execute_result"
    }
   ],
   "source": [
    "np.unique(label_3_int)"
   ]
  },
  {
   "cell_type": "code",
   "execution_count": 55,
   "metadata": {},
   "outputs": [],
   "source": [
    "kmeans3_flt = KMeans(n_clusters=3, init='k-means++', tol=1e-6).fit(selected_float_feat.values)\n",
    "label_3_flt = kmeans3_flt.labels_"
   ]
  },
  {
   "cell_type": "markdown",
   "metadata": {},
   "source": [
    "* int model"
   ]
  },
  {
   "cell_type": "code",
   "execution_count": 53,
   "metadata": {},
   "outputs": [
    {
     "name": "stdout",
     "output_type": "stream",
     "text": [
      "silhouette score: 0.35080186742740926\n",
      "calinski score: 552.6131493456152\n"
     ]
    },
    {
     "name": "stderr",
     "output_type": "stream",
     "text": [
      "C:\\Users\\Yang\\.conda\\envs\\deepchembed\\lib\\site-packages\\sklearn\\metrics\\cluster\\unsupervised.py:342: RuntimeWarning: divide by zero encountered in true_divide\n",
      "  score = (intra_dists[:, None] + intra_dists) / centroid_distances\n"
     ]
    },
    {
     "name": "stdout",
     "output_type": "stream",
     "text": [
      "davie bouldin socre: 1.2489585174419504\n",
      "\n",
      "\n",
      "with True label estimate\n",
      "adjusted rand score: 0.02336454912047083 \n"
     ]
    },
    {
     "name": "stderr",
     "output_type": "stream",
     "text": [
      "C:\\Users\\Yang\\.conda\\envs\\deepchembed\\lib\\site-packages\\sklearn\\metrics\\cluster\\supervised.py:732: FutureWarning: The behavior of AMI will change in version 0.22. To match the behavior of 'v_measure_score', AMI will use average_method='arithmetic' by default.\n",
      "  FutureWarning)\n"
     ]
    },
    {
     "name": "stdout",
     "output_type": "stream",
     "text": [
      "adjusted mutual info score: 0.02860238627236767\n",
      "homogeneity completeness v measure:\n",
      "(0.03029183491865626, 0.04005681517080529, 0.03449659463196807)\n",
      "fowlkes_mallows : 0.4305567465820757\n"
     ]
    }
   ],
   "source": [
    "no_label_metrics(selected_int_feat.values, label_3_int)\n",
    "print('\\n')\n",
    "true_label_metrics(true_label_q33, label_3_int)"
   ]
  },
  {
   "cell_type": "markdown",
   "metadata": {},
   "source": [
    "* float model"
   ]
  },
  {
   "cell_type": "code",
   "execution_count": 54,
   "metadata": {},
   "outputs": [
    {
     "name": "stdout",
     "output_type": "stream",
     "text": [
      "silhouette score: 0.5145831660737494\n",
      "calinski score: 2303.9375527723414\n"
     ]
    },
    {
     "name": "stderr",
     "output_type": "stream",
     "text": [
      "C:\\Users\\Yang\\.conda\\envs\\deepchembed\\lib\\site-packages\\sklearn\\metrics\\cluster\\unsupervised.py:342: RuntimeWarning: divide by zero encountered in true_divide\n",
      "  score = (intra_dists[:, None] + intra_dists) / centroid_distances\n",
      "C:\\Users\\Yang\\.conda\\envs\\deepchembed\\lib\\site-packages\\sklearn\\metrics\\cluster\\unsupervised.py:342: RuntimeWarning: invalid value encountered in true_divide\n",
      "  score = (intra_dists[:, None] + intra_dists) / centroid_distances\n"
     ]
    },
    {
     "name": "stdout",
     "output_type": "stream",
     "text": [
      "davie bouldin socre: 0.6704360207894599\n",
      "\n",
      "\n",
      "with True label estimate\n",
      "adjusted rand score: 0.0047653920165068924 \n"
     ]
    },
    {
     "name": "stderr",
     "output_type": "stream",
     "text": [
      "C:\\Users\\Yang\\.conda\\envs\\deepchembed\\lib\\site-packages\\sklearn\\metrics\\cluster\\supervised.py:732: FutureWarning: The behavior of AMI will change in version 0.22. To match the behavior of 'v_measure_score', AMI will use average_method='arithmetic' by default.\n",
      "  FutureWarning)\n"
     ]
    },
    {
     "name": "stdout",
     "output_type": "stream",
     "text": [
      "adjusted mutual info score: 0.004043627139309216\n",
      "homogeneity completeness v measure:\n",
      "(0.00584537357235193, 0.01223698843892061, 0.007911551464510112)\n",
      "fowlkes_mallows : 0.47904337968793276\n"
     ]
    }
   ],
   "source": [
    "no_label_metrics(selected_float_feat.values, label_3_flt)\n",
    "print('\\n')\n",
    "true_label_metrics(true_label_q33, label_3_flt)"
   ]
  },
  {
   "cell_type": "markdown",
   "metadata": {},
   "source": [
    "### not much better compare to the bi-class model"
   ]
  },
  {
   "cell_type": "markdown",
   "metadata": {},
   "source": [
    "## 3.4 quart-class 25 quantile cluster"
   ]
  },
  {
   "cell_type": "code",
   "execution_count": 62,
   "metadata": {},
   "outputs": [],
   "source": [
    "kmeans4_int = KMeans(n_clusters=4, init='k-means++', tol=1e-6).fit(selected_int_feat.values)\n",
    "label_4_int = kmeans3_int.labels_"
   ]
  },
  {
   "cell_type": "code",
   "execution_count": 63,
   "metadata": {},
   "outputs": [],
   "source": [
    "kmeans4_flt = KMeans(n_clusters=4, init='k-means++', tol=1e-6).fit(selected_float_feat.values)\n",
    "label_4_flt = kmeans3_flt.labels_"
   ]
  },
  {
   "cell_type": "code",
   "execution_count": 64,
   "metadata": {},
   "outputs": [
    {
     "name": "stdout",
     "output_type": "stream",
     "text": [
      "silhouette score: 0.35080186742740926\n",
      "calinski score: 552.6131493456153\n"
     ]
    },
    {
     "name": "stderr",
     "output_type": "stream",
     "text": [
      "C:\\Users\\Yang\\.conda\\envs\\deepchembed\\lib\\site-packages\\sklearn\\metrics\\cluster\\unsupervised.py:342: RuntimeWarning: divide by zero encountered in true_divide\n",
      "  score = (intra_dists[:, None] + intra_dists) / centroid_distances\n"
     ]
    },
    {
     "name": "stdout",
     "output_type": "stream",
     "text": [
      "davie bouldin socre: 1.2489585174419497\n",
      "\n",
      "\n",
      "with True label estimate\n",
      "adjusted rand score: 0.013679741109771796 \n"
     ]
    },
    {
     "name": "stderr",
     "output_type": "stream",
     "text": [
      "C:\\Users\\Yang\\.conda\\envs\\deepchembed\\lib\\site-packages\\sklearn\\metrics\\cluster\\supervised.py:732: FutureWarning: The behavior of AMI will change in version 0.22. To match the behavior of 'v_measure_score', AMI will use average_method='arithmetic' by default.\n",
      "  FutureWarning)\n"
     ]
    },
    {
     "name": "stdout",
     "output_type": "stream",
     "text": [
      "adjusted mutual info score: 0.02186197920595164\n",
      "homogeneity completeness v measure:\n",
      "(0.023991557453528368, 0.038131068980921425, 0.02945219108485467)\n",
      "fowlkes_mallows : 0.39166647916558767\n"
     ]
    }
   ],
   "source": [
    "no_label_metrics(selected_int_feat.values, label_4_int)\n",
    "print('\\n')\n",
    "true_label_metrics(true_label_q25, label_4_int)"
   ]
  },
  {
   "cell_type": "code",
   "execution_count": 66,
   "metadata": {},
   "outputs": [
    {
     "name": "stdout",
     "output_type": "stream",
     "text": [
      "silhouette score: 0.5145831660737494\n",
      "calinski score: 2303.9375527723414\n"
     ]
    },
    {
     "name": "stderr",
     "output_type": "stream",
     "text": [
      "C:\\Users\\Yang\\.conda\\envs\\deepchembed\\lib\\site-packages\\sklearn\\metrics\\cluster\\unsupervised.py:342: RuntimeWarning: divide by zero encountered in true_divide\n",
      "  score = (intra_dists[:, None] + intra_dists) / centroid_distances\n",
      "C:\\Users\\Yang\\.conda\\envs\\deepchembed\\lib\\site-packages\\sklearn\\metrics\\cluster\\unsupervised.py:342: RuntimeWarning: invalid value encountered in true_divide\n",
      "  score = (intra_dists[:, None] + intra_dists) / centroid_distances\n"
     ]
    },
    {
     "name": "stdout",
     "output_type": "stream",
     "text": [
      "davie bouldin socre: 0.6704360207894599\n",
      "\n",
      "\n",
      "with True label estimate\n",
      "adjusted rand score: 0.0005972048303655234 \n"
     ]
    },
    {
     "name": "stderr",
     "output_type": "stream",
     "text": [
      "C:\\Users\\Yang\\.conda\\envs\\deepchembed\\lib\\site-packages\\sklearn\\metrics\\cluster\\supervised.py:732: FutureWarning: The behavior of AMI will change in version 0.22. To match the behavior of 'v_measure_score', AMI will use average_method='arithmetic' by default.\n",
      "  FutureWarning)\n"
     ]
    },
    {
     "name": "stdout",
     "output_type": "stream",
     "text": [
      "adjusted mutual info score: 0.003765983785518106\n",
      "homogeneity completeness v measure:\n",
      "(0.005784568101130211, 0.014554688662948402, 0.008278826383692282)\n",
      "fowlkes_mallows : 0.438021219858966\n"
     ]
    }
   ],
   "source": [
    "no_label_metrics(selected_float_feat.values, label_4_flt)\n",
    "print('\\n')\n",
    "true_label_metrics(true_label_q25, label_4_flt)"
   ]
  },
  {
   "cell_type": "markdown",
   "metadata": {},
   "source": [
    "## 3.5 three classes with customed partition"
   ]
  },
  {
   "cell_type": "code",
   "execution_count": 17,
   "metadata": {},
   "outputs": [],
   "source": [
    "kmeans3_custom_int = KMeans(n_clusters=3, init='k-means++', tol=1e-6).fit(selected_int_feat.values)\n",
    "label_3_custom_int = kmeans3_custom_int.labels_"
   ]
  },
  {
   "cell_type": "code",
   "execution_count": 18,
   "metadata": {},
   "outputs": [],
   "source": [
    "kmeans3_custom_float = KMeans(n_clusters=3, init='k-means++', tol=1e-6).fit(selected_float_feat.values)\n",
    "label_3_custom_float = kmeans3_custom_float.labels_"
   ]
  },
  {
   "cell_type": "code",
   "execution_count": 19,
   "metadata": {},
   "outputs": [
    {
     "name": "stdout",
     "output_type": "stream",
     "text": [
      "silhouette score: 0.5145831660737494\n",
      "calinski score: 2303.9375527723414\n"
     ]
    },
    {
     "name": "stderr",
     "output_type": "stream",
     "text": [
      "C:\\Users\\Yang\\.conda\\envs\\deepchembed\\lib\\site-packages\\sklearn\\metrics\\cluster\\unsupervised.py:342: RuntimeWarning: divide by zero encountered in true_divide\n",
      "  score = (intra_dists[:, None] + intra_dists) / centroid_distances\n",
      "C:\\Users\\Yang\\.conda\\envs\\deepchembed\\lib\\site-packages\\sklearn\\metrics\\cluster\\unsupervised.py:342: RuntimeWarning: invalid value encountered in true_divide\n",
      "  score = (intra_dists[:, None] + intra_dists) / centroid_distances\n"
     ]
    },
    {
     "name": "stdout",
     "output_type": "stream",
     "text": [
      "davie bouldin socre: 0.6704360207894599\n",
      "\n",
      "\n",
      "with True label estimate\n",
      "adjusted rand score: 0.012905443719928801 \n"
     ]
    },
    {
     "name": "stderr",
     "output_type": "stream",
     "text": [
      "C:\\Users\\Yang\\.conda\\envs\\deepchembed\\lib\\site-packages\\sklearn\\metrics\\cluster\\supervised.py:732: FutureWarning: The behavior of AMI will change in version 0.22. To match the behavior of 'v_measure_score', AMI will use average_method='arithmetic' by default.\n",
      "  FutureWarning)\n"
     ]
    },
    {
     "name": "stdout",
     "output_type": "stream",
     "text": [
      "adjusted mutual info score: 0.0008555537750469851\n",
      "homogeneity completeness v measure:\n",
      "(0.003215695429681247, 0.004417672802999309, 0.003722050295336909)\n",
      "fowlkes_mallows : 0.5907397477034864\n"
     ]
    }
   ],
   "source": [
    "no_label_metrics(selected_float_feat.values, label_3_custom_float)\n",
    "print('\\n')\n",
    "true_label_metrics(true_label_triclass, label_3_custom_float)"
   ]
  },
  {
   "cell_type": "code",
   "execution_count": 20,
   "metadata": {},
   "outputs": [
    {
     "name": "stdout",
     "output_type": "stream",
     "text": [
      "silhouette score: 0.35080186742740926\n",
      "calinski score: 552.6131493456152\n"
     ]
    },
    {
     "name": "stderr",
     "output_type": "stream",
     "text": [
      "C:\\Users\\Yang\\.conda\\envs\\deepchembed\\lib\\site-packages\\sklearn\\metrics\\cluster\\unsupervised.py:342: RuntimeWarning: divide by zero encountered in true_divide\n",
      "  score = (intra_dists[:, None] + intra_dists) / centroid_distances\n"
     ]
    },
    {
     "name": "stdout",
     "output_type": "stream",
     "text": [
      "davie bouldin socre: 1.2489585174419504\n",
      "\n",
      "\n",
      "with True label estimate\n",
      "adjusted rand score: 0.01891188863541609 \n"
     ]
    },
    {
     "name": "stderr",
     "output_type": "stream",
     "text": [
      "C:\\Users\\Yang\\.conda\\envs\\deepchembed\\lib\\site-packages\\sklearn\\metrics\\cluster\\supervised.py:732: FutureWarning: The behavior of AMI will change in version 0.22. To match the behavior of 'v_measure_score', AMI will use average_method='arithmetic' by default.\n",
      "  FutureWarning)\n"
     ]
    },
    {
     "name": "stdout",
     "output_type": "stream",
     "text": [
      "adjusted mutual info score: 0.012168884272656782\n",
      "homogeneity completeness v measure:\n",
      "(0.016794113814769415, 0.014573514162877376, 0.015605212845990772)\n",
      "fowlkes_mallows : 0.5209773924568727\n"
     ]
    }
   ],
   "source": [
    "no_label_metrics(selected_int_feat.values, label_3_custom_int)\n",
    "print('\\n')\n",
    "true_label_metrics(true_label_triclass, label_3_custom_int)"
   ]
  },
  {
   "cell_type": "code",
   "execution_count": null,
   "metadata": {},
   "outputs": [],
   "source": []
  }
 ],
 "metadata": {
  "kernelspec": {
   "display_name": "Python36(deepchembed)",
   "language": "python",
   "name": "deepchembed"
  },
  "language_info": {
   "codemirror_mode": {
    "name": "ipython",
    "version": 3
   },
   "file_extension": ".py",
   "mimetype": "text/x-python",
   "name": "python",
   "nbconvert_exporter": "python",
   "pygments_lexer": "ipython3",
   "version": "3.6.8"
  }
 },
 "nbformat": 4,
 "nbformat_minor": 2
}
