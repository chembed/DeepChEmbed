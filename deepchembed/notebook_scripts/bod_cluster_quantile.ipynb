{
 "cells": [
  {
   "cell_type": "code",
   "execution_count": 1,
   "metadata": {},
   "outputs": [],
   "source": [
    "import __init__\n",
    "from __init__ import DATA_PATH\n",
    "from __init__ import PACKAGE_PATH\n",
    "import numpy as np\n",
    "import pandas as pd\n",
    "import os\n",
    "import matplotlib as mplt\n",
    "import matplotlib.pyplot as plt\n",
    "import seaborn as sns\n",
    "%matplotlib inline\n",
    "import utilities\n",
    "from descriptor import rdkitDescriptors"
   ]
  },
  {
   "cell_type": "code",
   "execution_count": 3,
   "metadata": {},
   "outputs": [],
   "source": [
    "df=pd.read_csv(os.path.join(DATA_PATH,'BOD_RDKit_Descriptors_1063.csv'))\n",
    "df['cleaned_bod'] =utilities.clean_out_of_bound(df['value (% BOD)'])"
   ]
  },
  {
   "cell_type": "markdown",
   "metadata": {},
   "source": [
    "## 1 Divide the feature columns by dtypes (float and int)"
   ]
  },
  {
   "cell_type": "markdown",
   "metadata": {},
   "source": [
    "### 1.1 int features"
   ]
  },
  {
   "cell_type": "code",
   "execution_count": 5,
   "metadata": {},
   "outputs": [
    {
     "data": {
      "text/plain": [
       "59"
      ]
     },
     "execution_count": 5,
     "metadata": {},
     "output_type": "execute_result"
    }
   ],
   "source": [
    "feat_int = rdkitDescriptors.batch_compute_all_descriptors(df['SMILES'],desc_type='int')\n",
    "selected_int_feat = feat_int.loc[:,feat_int.nunique()>1]\n",
    "len(selected_int_feat.loc[0])"
   ]
  },
  {
   "cell_type": "markdown",
   "metadata": {},
   "source": [
    "### 1.2 float features"
   ]
  },
  {
   "cell_type": "code",
   "execution_count": 6,
   "metadata": {},
   "outputs": [
    {
     "data": {
      "text/plain": [
       "68"
      ]
     },
     "execution_count": 6,
     "metadata": {},
     "output_type": "execute_result"
    }
   ],
   "source": [
    "feat_float =rdkitDescriptors.batch_compute_all_descriptors(df['SMILES'],desc_type='float')\n",
    "selected_float_feat = feat_float.loc[:,feat_float.nunique()>1]\n",
    "len(selected_float_feat.loc[0])"
   ]
  },
  {
   "cell_type": "markdown",
   "metadata": {},
   "source": [
    "### 1.3 int+float"
   ]
  },
  {
   "cell_type": "code",
   "execution_count": 36,
   "metadata": {},
   "outputs": [
    {
     "data": {
      "text/plain": [
       "127"
      ]
     },
     "execution_count": 36,
     "metadata": {},
     "output_type": "execute_result"
    }
   ],
   "source": [
    "feat_all = rdkitDescriptors.batch_compute_all_descriptors(df['SMILES'],desc_type='all')\n",
    "selected_all_feat = feat_all.loc[:,feat_all.nunique()>1]\n",
    "len(selected_all_feat.loc[0])"
   ]
  },
  {
   "cell_type": "markdown",
   "metadata": {},
   "source": [
    "### 1.4 Autocorrelation"
   ]
  },
  {
   "cell_type": "code",
   "execution_count": 4,
   "metadata": {},
   "outputs": [],
   "source": [
    "auto_corr = rdkitDescriptors.batch_compute_aauto_2D_coorelation(df['SMILES'])"
   ]
  },
  {
   "cell_type": "markdown",
   "metadata": {},
   "source": [
    "## 2 Divide BOD by different cutoff"
   ]
  },
  {
   "cell_type": "code",
   "execution_count": 7,
   "metadata": {},
   "outputs": [
    {
     "data": {
      "text/plain": [
       "<matplotlib.axes._subplots.AxesSubplot at 0x1a1bb1ce10>"
      ]
     },
     "execution_count": 7,
     "metadata": {},
     "output_type": "execute_result"
    },
    {
     "data": {
      "image/png": "[encoded data removed]",
      "text/plain": [
       "<Figure size 432x288 with 1 Axes>"
      ]
     },
     "metadata": {
      "needs_background": "light"
     },
     "output_type": "display_data"
    }
   ],
   "source": [
    "df['cleaned_bod'].hist(bins=25)"
   ]
  },
  {
   "cell_type": "markdown",
   "metadata": {},
   "source": [
    "### 2.1 50% quantile two classes"
   ]
  },
  {
   "cell_type": "code",
   "execution_count": 8,
   "metadata": {},
   "outputs": [
    {
     "data": {
      "text/plain": [
       "(array([535.,   0.,   0.,   0.,   0.,   0.,   0.,   0.,   0., 528.]),\n",
       " array([0. , 0.1, 0.2, 0.3, 0.4, 0.5, 0.6, 0.7, 0.8, 0.9, 1. ]),\n",
       " <a list of 10 Patch objects>)"
      ]
     },
     "execution_count": 8,
     "metadata": {},
     "output_type": "execute_result"
    },
    {
     "data": {
      "image/png": "[encoded data removed]",
      "text/plain": [
       "<Figure size 432x288 with 1 Axes>"
      ]
     },
     "metadata": {
      "needs_background": "light"
     },
     "output_type": "display_data"
    }
   ],
   "source": [
    "df['bi_class_q50']=pd.qcut(df['cleaned_bod'].values, 2, labels=[0,1])\n",
    "true_label_q50 = df['bi_class_q50'].values\n",
    "plt.hist(true_label_q50)"
   ]
  },
  {
   "cell_type": "markdown",
   "metadata": {},
   "source": [
    "### 2.2 33%, 66% quantile 3 classes (manual implement due to duplicate edges)"
   ]
  },
  {
   "cell_type": "code",
   "execution_count": 9,
   "metadata": {},
   "outputs": [
    {
     "data": {
      "text/plain": [
       "(array([413.,   0.,   0.,   0.,   0., 288.,   0.,   0.,   0., 362.]),\n",
       " array([0. , 0.2, 0.4, 0.6, 0.8, 1. , 1.2, 1.4, 1.6, 1.8, 2. ]),\n",
       " <a list of 10 Patch objects>)"
      ]
     },
     "execution_count": 9,
     "metadata": {},
     "output_type": "execute_result"
    },
    {
     "data": {
      "image/png": "[encoded data removed]",
      "text/plain": [
       "<Figure size 432x288 with 1 Axes>"
      ]
     },
     "metadata": {
      "needs_background": "light"
     },
     "output_type": "display_data"
    }
   ],
   "source": [
    "tri_cuts=df['cleaned_bod'].quantile([0.33,0.66]).values\n",
    "df['tri_class_q33']=utilities.divide_classes(df['cleaned_bod'], tri_cuts)\n",
    "true_label_q33=df['tri_class_q33'].values\n",
    "plt.hist(true_label_q33)"
   ]
  },
  {
   "cell_type": "markdown",
   "metadata": {},
   "source": [
    "### 2.3 25%, 50%, 75% 4 classes (manual)"
   ]
  },
  {
   "cell_type": "code",
   "execution_count": 10,
   "metadata": {},
   "outputs": [
    {
     "data": {
      "text/plain": [
       "(array([413.,   0.,   0., 122.,   0.,   0., 262.,   0.,   0., 266.]),\n",
       " array([0. , 0.3, 0.6, 0.9, 1.2, 1.5, 1.8, 2.1, 2.4, 2.7, 3. ]),\n",
       " <a list of 10 Patch objects>)"
      ]
     },
     "execution_count": 10,
     "metadata": {},
     "output_type": "execute_result"
    },
    {
     "data": {
      "image/png": "[encoded data removed]",
      "text/plain": [
       "<Figure size 432x288 with 1 Axes>"
      ]
     },
     "metadata": {
      "needs_background": "light"
     },
     "output_type": "display_data"
    }
   ],
   "source": [
    "quart_cuts=df['cleaned_bod'].quantile([0.25,0.50,0.75]).values\n",
    "df['quart_class_q25']=utilities.divide_classes(df['cleaned_bod'], quart_cuts)\n",
    "true_label_q25 = df['quart_class_q25'].values\n",
    "plt.hist(true_label_q25) #inbalanced"
   ]
  },
  {
   "cell_type": "code",
   "execution_count": 11,
   "metadata": {},
   "outputs": [
    {
     "data": {
      "text/plain": [
       "array([ 0.  ,  2.  , 68.85])"
      ]
     },
     "execution_count": 11,
     "metadata": {},
     "output_type": "execute_result"
    }
   ],
   "source": [
    "quart_cuts"
   ]
  },
  {
   "cell_type": "markdown",
   "metadata": {},
   "source": [
    "### 2.4 Partitioning into bi classes based on distribution"
   ]
  },
  {
   "cell_type": "code",
   "execution_count": 12,
   "metadata": {},
   "outputs": [
    {
     "data": {
      "text/plain": [
       "(array([756.,   0.,   0.,   0.,   0.,   0.,   0.,   0.,   0., 307.]),\n",
       " array([0. , 0.1, 0.2, 0.3, 0.4, 0.5, 0.6, 0.7, 0.8, 0.9, 1. ]),\n",
       " <a list of 10 Patch objects>)"
      ]
     },
     "execution_count": 12,
     "metadata": {},
     "output_type": "execute_result"
    },
    {
     "data": {
      "image/png": "[encoded data removed]",
      "text/plain": [
       "<Figure size 432x288 with 1 Axes>"
      ]
     },
     "metadata": {
      "needs_background": "light"
     },
     "output_type": "display_data"
    }
   ],
   "source": [
    "df['bi_class_partition']=utilities.divide_classes(df['cleaned_bod'], [60])\n",
    "true_label_biclass = df['bi_class_partition'].values\n",
    "plt.hist(df['bi_class_partition'])"
   ]
  },
  {
   "cell_type": "markdown",
   "metadata": {},
   "source": [
    "### 2.5 Partitioning into three classes (poor, median, good) based on distribution"
   ]
  },
  {
   "cell_type": "code",
   "execution_count": 13,
   "metadata": {},
   "outputs": [
    {
     "data": {
      "text/plain": [
       "(array([673.,   0.,   0.,   0.,   0., 191.,   0.,   0.,   0., 199.]),\n",
       " array([0. , 0.2, 0.4, 0.6, 0.8, 1. , 1.2, 1.4, 1.6, 1.8, 2. ]),\n",
       " <a list of 10 Patch objects>)"
      ]
     },
     "execution_count": 13,
     "metadata": {},
     "output_type": "execute_result"
    },
    {
     "data": {
      "image/png": "[encoded data removed]",
      "text/plain": [
       "<Figure size 432x288 with 1 Axes>"
      ]
     },
     "metadata": {
      "needs_background": "light"
     },
     "output_type": "display_data"
    }
   ],
   "source": [
    "df['tri_class_partition']=utilities.divide_classes(df['cleaned_bod'], [20,80])\n",
    "true_label_triclass = df['tri_class_partition'].values\n",
    "plt.hist(df['tri_class_partition'])"
   ]
  },
  {
   "cell_type": "markdown",
   "metadata": {},
   "source": [
    "## 3 Baseline Model -- Kmeans"
   ]
  },
  {
   "cell_type": "code",
   "execution_count": 14,
   "metadata": {},
   "outputs": [
    {
     "name": "stderr",
     "output_type": "stream",
     "text": [
      "Using TensorFlow backend.\n"
     ]
    }
   ],
   "source": [
    "from cluster import KMeans"
   ]
  },
  {
   "cell_type": "markdown",
   "metadata": {},
   "source": [
    "## 3.1 bi-class 50 quantile cluster"
   ]
  },
  {
   "cell_type": "markdown",
   "metadata": {},
   "source": [
    "### 3.1.1 int feature"
   ]
  },
  {
   "cell_type": "code",
   "execution_count": 15,
   "metadata": {},
   "outputs": [
    {
     "name": "stdout",
     "output_type": "stream",
     "text": [
      "Metrics without ture labels\n",
      "silhouette score: 0.5631770710744006\n",
      "calinski score: 662.268614258969\n",
      "davie bouldin score: 0.978204839784849\n",
      "\n",
      "Metric with True label\n",
      "adjusted rand score: 0.004008772230807742 \n",
      "adjusted mutual info score: 0.005417666040987789\n",
      "homogeneity completeness v measure:\n",
      "(0.006095085864171074, 0.010843282439520381, 0.007803672270360499)\n",
      "fowlkes_mallows : 0.6222514591435622\n"
     ]
    },
    {
     "name": "stderr",
     "output_type": "stream",
     "text": [
      "/Users/hunting/miniconda3/envs/deepchembed/lib/python3.6/site-packages/sklearn/metrics/cluster/unsupervised.py:342: RuntimeWarning: divide by zero encountered in true_divide\n",
      "  score = (intra_dists[:, None] + intra_dists) / centroid_distances\n",
      "/Users/hunting/miniconda3/envs/deepchembed/lib/python3.6/site-packages/sklearn/metrics/cluster/supervised.py:732: FutureWarning: The behavior of AMI will change in version 0.22. To match the behavior of 'v_measure_score', AMI will use average_method='arithmetic' by default.\n",
      "  FutureWarning)\n"
     ]
    },
    {
     "data": {
      "text/plain": [
       "(array([0, 0, 0, ..., 1, 0, 0], dtype=int32),\n",
       " {'silhouette_score': 0.5631770710744006,\n",
       "  'calinski_score': 662.268614258969,\n",
       "  'davie_bouldin_score': 0.978204839784849,\n",
       "  'adjusted_rand_score': 0.004008772230807742,\n",
       "  'adjusted_mutual_info_score': 0.005417666040987789,\n",
       "  'homogeneity_completeness_v_measure': (0.006095085864171074,\n",
       "   0.010843282439520381,\n",
       "   0.007803672270360499),\n",
       "  'fowlkes_mallows_score': 0.6222514591435622})"
      ]
     },
     "execution_count": 15,
     "metadata": {},
     "output_type": "execute_result"
    }
   ],
   "source": [
    "kmeans_cluster = KMeans(n_clusters=2)\n",
    "kmeans_cluster.bulid_kmeans_cluster()\n",
    "kmeans_cluster.train_model(selected_int_feat.values, true_labels=true_label_q50)"
   ]
  },
  {
   "cell_type": "code",
   "execution_count": 16,
   "metadata": {},
   "outputs": [
    {
     "data": {
      "text/plain": [
       "(array([923.,   0.,   0.,   0.,   0.,   0.,   0.,   0.,   0., 140.]),\n",
       " array([0. , 0.1, 0.2, 0.3, 0.4, 0.5, 0.6, 0.7, 0.8, 0.9, 1. ]),\n",
       " <a list of 10 Patch objects>)"
      ]
     },
     "execution_count": 16,
     "metadata": {},
     "output_type": "execute_result"
    },
    {
     "data": {
      "image/png": "[encoded data removed]",
      "text/plain": [
       "<Figure size 432x288 with 1 Axes>"
      ]
     },
     "metadata": {
      "needs_background": "light"
     },
     "output_type": "display_data"
    }
   ],
   "source": [
    "plt.hist(kmeans_cluster.model.labels_)"
   ]
  },
  {
   "cell_type": "markdown",
   "metadata": {},
   "source": [
    "### 3.1.2 float feature"
   ]
  },
  {
   "cell_type": "code",
   "execution_count": 17,
   "metadata": {},
   "outputs": [
    {
     "name": "stdout",
     "output_type": "stream",
     "text": [
      "Metrics without ture labels\n",
      "silhouette score: 0.9772635201713795\n",
      "calinski score: 2453.85631403476\n",
      "davie bouldin score: 0.015261182984337367\n",
      "\n",
      "Metric with True label\n",
      "adjusted rand score: -2.4617415490710395e-05 \n",
      "adjusted mutual info score: -8.89558430810096e-06\n",
      "homogeneity completeness v measure:\n",
      "(0.0009324855614722467, 0.08622182815151025, 0.0018450173355687419)\n",
      "fowlkes_mallows : 0.7061152060370829\n"
     ]
    },
    {
     "name": "stderr",
     "output_type": "stream",
     "text": [
      "/Users/hunting/miniconda3/envs/deepchembed/lib/python3.6/site-packages/sklearn/metrics/cluster/unsupervised.py:342: RuntimeWarning: divide by zero encountered in true_divide\n",
      "  score = (intra_dists[:, None] + intra_dists) / centroid_distances\n",
      "/Users/hunting/miniconda3/envs/deepchembed/lib/python3.6/site-packages/sklearn/metrics/cluster/supervised.py:732: FutureWarning: The behavior of AMI will change in version 0.22. To match the behavior of 'v_measure_score', AMI will use average_method='arithmetic' by default.\n",
      "  FutureWarning)\n"
     ]
    },
    {
     "data": {
      "text/plain": [
       "(array([0, 0, 0, ..., 0, 0, 0], dtype=int32),\n",
       " {'silhouette_score': 0.9772635201713795,\n",
       "  'calinski_score': 2453.85631403476,\n",
       "  'davie_bouldin_score': 0.015261182984337367,\n",
       "  'adjusted_rand_score': -2.4617415490710395e-05,\n",
       "  'adjusted_mutual_info_score': -8.89558430810096e-06,\n",
       "  'homogeneity_completeness_v_measure': (0.0009324855614722467,\n",
       "   0.08622182815151025,\n",
       "   0.0018450173355687419),\n",
       "  'fowlkes_mallows_score': 0.7061152060370829})"
      ]
     },
     "execution_count": 17,
     "metadata": {},
     "output_type": "execute_result"
    }
   ],
   "source": [
    "kmeans_cluster = KMeans(n_clusters=2)\n",
    "kmeans_cluster.bulid_kmeans_cluster()\n",
    "kmeans_cluster.train_model(selected_float_feat.values, true_labels=true_label_q50)"
   ]
  },
  {
   "cell_type": "code",
   "execution_count": 18,
   "metadata": {},
   "outputs": [
    {
     "data": {
      "text/plain": [
       "(array([1.062e+03, 0.000e+00, 0.000e+00, 0.000e+00, 0.000e+00, 0.000e+00,\n",
       "        0.000e+00, 0.000e+00, 0.000e+00, 1.000e+00]),\n",
       " array([0. , 0.1, 0.2, 0.3, 0.4, 0.5, 0.6, 0.7, 0.8, 0.9, 1. ]),\n",
       " <a list of 10 Patch objects>)"
      ]
     },
     "execution_count": 18,
     "metadata": {},
     "output_type": "execute_result"
    },
    {
     "data": {
      "image/png": "[encoded data removed]",
      "text/plain": [
       "<Figure size 432x288 with 1 Axes>"
      ]
     },
     "metadata": {
      "needs_background": "light"
     },
     "output_type": "display_data"
    }
   ],
   "source": [
    "plt.hist(kmeans_cluster.model.labels_)"
   ]
  },
  {
   "cell_type": "markdown",
   "metadata": {},
   "source": [
    "with normalization on features"
   ]
  },
  {
   "cell_type": "code",
   "execution_count": 22,
   "metadata": {},
   "outputs": [],
   "source": [
    "from keras.utils import normalize\n",
    "selected_float_feat_norm = normalize(selected_float_feat.values, axis=0, order=2)"
   ]
  },
  {
   "cell_type": "code",
   "execution_count": 25,
   "metadata": {},
   "outputs": [
    {
     "name": "stdout",
     "output_type": "stream",
     "text": [
      "Metrics without ture labels\n",
      "silhouette score: 0.3395621309170745\n",
      "calinski score: 142.46901685006003\n",
      "davie bouldin score: 2.3145365366875423\n",
      "\n",
      "Metric with True label\n",
      "adjusted rand score: 0.0010426783754876891 \n",
      "adjusted mutual info score: 0.0016601517629590086\n",
      "homogeneity completeness v measure:\n",
      "(0.002339411347379388, 0.003344020082250553, 0.0027529279179817154)\n",
      "fowlkes_mallows : 0.5888401083971747\n"
     ]
    },
    {
     "name": "stderr",
     "output_type": "stream",
     "text": [
      "/Users/hunting/miniconda3/envs/deepchembed/lib/python3.6/site-packages/sklearn/metrics/cluster/unsupervised.py:342: RuntimeWarning: divide by zero encountered in true_divide\n",
      "  score = (intra_dists[:, None] + intra_dists) / centroid_distances\n",
      "/Users/hunting/miniconda3/envs/deepchembed/lib/python3.6/site-packages/sklearn/metrics/cluster/supervised.py:732: FutureWarning: The behavior of AMI will change in version 0.22. To match the behavior of 'v_measure_score', AMI will use average_method='arithmetic' by default.\n",
      "  FutureWarning)\n"
     ]
    },
    {
     "data": {
      "text/plain": [
       "(array([0, 0, 0, ..., 1, 1, 0], dtype=int32),\n",
       " {'silhouette_score': 0.3395621309170745,\n",
       "  'calinski_score': 142.46901685006003,\n",
       "  'davie_bouldin_score': 2.3145365366875423,\n",
       "  'adjusted_rand_score': 0.0010426783754876891,\n",
       "  'adjusted_mutual_info_score': 0.0016601517629590086,\n",
       "  'homogeneity_completeness_v_measure': (0.002339411347379388,\n",
       "   0.003344020082250553,\n",
       "   0.0027529279179817154),\n",
       "  'fowlkes_mallows_score': 0.5888401083971747})"
      ]
     },
     "execution_count": 25,
     "metadata": {},
     "output_type": "execute_result"
    }
   ],
   "source": [
    "kmeans_cluster = KMeans(n_clusters=2)\n",
    "kmeans_cluster.bulid_kmeans_cluster()\n",
    "kmeans_cluster.train_model(selected_float_feat_norm, true_labels=true_label_q50)"
   ]
  },
  {
   "cell_type": "code",
   "execution_count": 26,
   "metadata": {},
   "outputs": [
    {
     "data": {
      "text/plain": [
       "(array([862.,   0.,   0.,   0.,   0.,   0.,   0.,   0.,   0., 201.]),\n",
       " array([0. , 0.1, 0.2, 0.3, 0.4, 0.5, 0.6, 0.7, 0.8, 0.9, 1. ]),\n",
       " <a list of 10 Patch objects>)"
      ]
     },
     "execution_count": 26,
     "metadata": {},
     "output_type": "execute_result"
    },
    {
     "data": {
      "image/png": "[encoded data removed]",
      "text/plain": [
       "<Figure size 432x288 with 1 Axes>"
      ]
     },
     "metadata": {
      "needs_background": "light"
     },
     "output_type": "display_data"
    }
   ],
   "source": [
    "plt.hist(kmeans_cluster.model.labels_)"
   ]
  },
  {
   "cell_type": "markdown",
   "metadata": {},
   "source": [
    "### 3.1.3 All"
   ]
  },
  {
   "cell_type": "code",
   "execution_count": 37,
   "metadata": {},
   "outputs": [
    {
     "name": "stdout",
     "output_type": "stream",
     "text": [
      "Metrics without ture labels\n",
      "silhouette score: 0.33918579116507447\n",
      "calinski score: 103.57096065288427\n",
      "davie bouldin score: 2.6996124909810426\n",
      "\n",
      "Metric with True label\n",
      "adjusted rand score: 0.0013784645403367229 \n",
      "adjusted mutual info score: 0.002173477679230612\n",
      "homogeneity completeness v measure:\n",
      "(0.0028524550819760837, 0.00417328970104597, 0.0033887144449293786)\n",
      "fowlkes_mallows : 0.5929902134511599\n"
     ]
    },
    {
     "name": "stderr",
     "output_type": "stream",
     "text": [
      "/Users/hunting/miniconda3/envs/deepchembed/lib/python3.6/site-packages/sklearn/metrics/cluster/unsupervised.py:342: RuntimeWarning: divide by zero encountered in true_divide\n",
      "  score = (intra_dists[:, None] + intra_dists) / centroid_distances\n",
      "/Users/hunting/miniconda3/envs/deepchembed/lib/python3.6/site-packages/sklearn/metrics/cluster/supervised.py:732: FutureWarning: The behavior of AMI will change in version 0.22. To match the behavior of 'v_measure_score', AMI will use average_method='arithmetic' by default.\n",
      "  FutureWarning)\n"
     ]
    },
    {
     "data": {
      "text/plain": [
       "(array([1, 0, 0, ..., 1, 0, 0], dtype=int32),\n",
       " {'silhouette_score': 0.33918579116507447,\n",
       "  'calinski_score': 103.57096065288427,\n",
       "  'davie_bouldin_score': 2.6996124909810426,\n",
       "  'adjusted_rand_score': 0.0013784645403367229,\n",
       "  'adjusted_mutual_info_score': 0.002173477679230612,\n",
       "  'homogeneity_completeness_v_measure': (0.0028524550819760837,\n",
       "   0.00417328970104597,\n",
       "   0.0033887144449293786),\n",
       "  'fowlkes_mallows_score': 0.5929902134511599})"
      ]
     },
     "execution_count": 37,
     "metadata": {},
     "output_type": "execute_result"
    }
   ],
   "source": [
    "selected_all_feat_norm = normalize(selected_all_feat.values, axis=0, order=2)\n",
    "kmeans_cluster = KMeans(n_clusters=2)\n",
    "kmeans_cluster.bulid_kmeans_cluster()\n",
    "kmeans_cluster.train_model(selected_all_feat_norm, true_labels=true_label_q50)"
   ]
  },
  {
   "cell_type": "code",
   "execution_count": null,
   "metadata": {},
   "outputs": [],
   "source": []
  },
  {
   "cell_type": "markdown",
   "metadata": {},
   "source": [
    "## 3.2 Comparison between different cuts"
   ]
  },
  {
   "cell_type": "markdown",
   "metadata": {},
   "source": [
    "1. bi-class 50 quantile cluster\n",
    "2. tri-class 33 quantile cluster\n",
    "3. quart-class 25 quantile cluster\n",
    "4. bi-class with customed partition \\[0,60\\%\\], (60\\%,100\\%\\]\n",
    "5. tri-class with customed partition \\[0,20\\%\\], (20\\%,80\\%\\], (80\\%,100\\%\\]"
   ]
  },
  {
   "cell_type": "code",
   "execution_count": 28,
   "metadata": {},
   "outputs": [],
   "source": [
    "n_clusters   = [2, 3, 4, 2, 3]\n",
    "true_labels  = [true_label_q50, true_label_q33, true_label_q25, true_label_biclass, true_label_triclass]\n",
    "cluster_name = ['bi_class_50_quantile', 'tri_class_33_quantile', \n",
    "                'quart_class_25_quantile', 'bi_class_customed_partition','tri_class_customed_partition']"
   ]
  },
  {
   "cell_type": "markdown",
   "metadata": {},
   "source": [
    "### 3.2.1 int feature"
   ]
  },
  {
   "cell_type": "code",
   "execution_count": 29,
   "metadata": {},
   "outputs": [
    {
     "name": "stderr",
     "output_type": "stream",
     "text": [
      "/Users/hunting/miniconda3/envs/deepchembed/lib/python3.6/site-packages/sklearn/metrics/cluster/unsupervised.py:342: RuntimeWarning: divide by zero encountered in true_divide\n",
      "  score = (intra_dists[:, None] + intra_dists) / centroid_distances\n",
      "/Users/hunting/miniconda3/envs/deepchembed/lib/python3.6/site-packages/sklearn/metrics/cluster/supervised.py:732: FutureWarning: The behavior of AMI will change in version 0.22. To match the behavior of 'v_measure_score', AMI will use average_method='arithmetic' by default.\n",
      "  FutureWarning)\n",
      "/Users/hunting/miniconda3/envs/deepchembed/lib/python3.6/site-packages/sklearn/metrics/cluster/unsupervised.py:342: RuntimeWarning: divide by zero encountered in true_divide\n",
      "  score = (intra_dists[:, None] + intra_dists) / centroid_distances\n",
      "/Users/hunting/miniconda3/envs/deepchembed/lib/python3.6/site-packages/sklearn/metrics/cluster/supervised.py:732: FutureWarning: The behavior of AMI will change in version 0.22. To match the behavior of 'v_measure_score', AMI will use average_method='arithmetic' by default.\n",
      "  FutureWarning)\n",
      "/Users/hunting/miniconda3/envs/deepchembed/lib/python3.6/site-packages/sklearn/metrics/cluster/unsupervised.py:342: RuntimeWarning: divide by zero encountered in true_divide\n",
      "  score = (intra_dists[:, None] + intra_dists) / centroid_distances\n",
      "/Users/hunting/miniconda3/envs/deepchembed/lib/python3.6/site-packages/sklearn/metrics/cluster/supervised.py:732: FutureWarning: The behavior of AMI will change in version 0.22. To match the behavior of 'v_measure_score', AMI will use average_method='arithmetic' by default.\n",
      "  FutureWarning)\n"
     ]
    },
    {
     "name": "stdout",
     "output_type": "stream",
     "text": [
      "\n",
      "\n",
      "\n",
      "\n",
      "\n"
     ]
    },
    {
     "name": "stderr",
     "output_type": "stream",
     "text": [
      "/Users/hunting/miniconda3/envs/deepchembed/lib/python3.6/site-packages/sklearn/metrics/cluster/unsupervised.py:342: RuntimeWarning: divide by zero encountered in true_divide\n",
      "  score = (intra_dists[:, None] + intra_dists) / centroid_distances\n",
      "/Users/hunting/miniconda3/envs/deepchembed/lib/python3.6/site-packages/sklearn/metrics/cluster/supervised.py:732: FutureWarning: The behavior of AMI will change in version 0.22. To match the behavior of 'v_measure_score', AMI will use average_method='arithmetic' by default.\n",
      "  FutureWarning)\n",
      "/Users/hunting/miniconda3/envs/deepchembed/lib/python3.6/site-packages/sklearn/metrics/cluster/unsupervised.py:342: RuntimeWarning: divide by zero encountered in true_divide\n",
      "  score = (intra_dists[:, None] + intra_dists) / centroid_distances\n",
      "/Users/hunting/miniconda3/envs/deepchembed/lib/python3.6/site-packages/sklearn/metrics/cluster/supervised.py:732: FutureWarning: The behavior of AMI will change in version 0.22. To match the behavior of 'v_measure_score', AMI will use average_method='arithmetic' by default.\n",
      "  FutureWarning)\n"
     ]
    }
   ],
   "source": [
    "kmeans_cluster = KMeans(n_clusters=2)\n",
    "metrics = []\n",
    "for i in range(len(n_clusters)):\n",
    "    kmeans_cluster.n_clusters = n_clusters[i]\n",
    "    kmeans_cluster.bulid_kmeans_cluster()\n",
    "    a, metric = kmeans_cluster.train_model(selected_int_feat.values, \n",
    "                                           true_labels=true_labels[i],\n",
    "                                           print_metric=False)\n",
    "    metrics.append(metric)"
   ]
  },
  {
   "cell_type": "code",
   "execution_count": 30,
   "metadata": {},
   "outputs": [
    {
     "data": {
      "text/html": [
       "<div>\n",
       "<style scoped>\n",
       "    .dataframe tbody tr th:only-of-type {\n",
       "        vertical-align: middle;\n",
       "    }\n",
       "\n",
       "    .dataframe tbody tr th {\n",
       "        vertical-align: top;\n",
       "    }\n",
       "\n",
       "    .dataframe thead th {\n",
       "        text-align: right;\n",
       "    }\n",
       "</style>\n",
       "<table border=\"1\" class=\"dataframe\">\n",
       "  <thead>\n",
       "    <tr style=\"text-align: right;\">\n",
       "      <th></th>\n",
       "      <th>silhouette_score</th>\n",
       "      <th>calinski_score</th>\n",
       "      <th>davie_bouldin_score</th>\n",
       "      <th>adjusted_rand_score</th>\n",
       "      <th>adjusted_mutual_info_score</th>\n",
       "      <th>homogeneity_completeness_v_measure</th>\n",
       "      <th>fowlkes_mallows_score</th>\n",
       "    </tr>\n",
       "    <tr>\n",
       "      <th>clusters</th>\n",
       "      <th></th>\n",
       "      <th></th>\n",
       "      <th></th>\n",
       "      <th></th>\n",
       "      <th></th>\n",
       "      <th></th>\n",
       "      <th></th>\n",
       "    </tr>\n",
       "  </thead>\n",
       "  <tbody>\n",
       "    <tr>\n",
       "      <th>bi_class_50_quantile</th>\n",
       "      <td>0.561092</td>\n",
       "      <td>662.248</td>\n",
       "      <td>0.982046</td>\n",
       "      <td>0.00452089</td>\n",
       "      <td>0.00610937</td>\n",
       "      <td>(0.006786286257876708, 0.011964447935782916, 0...</td>\n",
       "      <td>0.621346</td>\n",
       "    </tr>\n",
       "    <tr>\n",
       "      <th>tri_class_33_quantile</th>\n",
       "      <td>0.336812</td>\n",
       "      <td>524.598</td>\n",
       "      <td>1.31905</td>\n",
       "      <td>0.0182244</td>\n",
       "      <td>0.0215097</td>\n",
       "      <td>(0.023211516759650063, 0.030759319969463697, 0...</td>\n",
       "      <td>0.428058</td>\n",
       "    </tr>\n",
       "    <tr>\n",
       "      <th>quart_class_25_quantile</th>\n",
       "      <td>0.328079</td>\n",
       "      <td>481.518</td>\n",
       "      <td>1.21571</td>\n",
       "      <td>0.0225912</td>\n",
       "      <td>0.0338063</td>\n",
       "      <td>(0.03703659147184899, 0.05153548351715117, 0.0...</td>\n",
       "      <td>0.383118</td>\n",
       "    </tr>\n",
       "    <tr>\n",
       "      <th>bi_class_customed_partition</th>\n",
       "      <td>0.561092</td>\n",
       "      <td>662.248</td>\n",
       "      <td>0.982046</td>\n",
       "      <td>0.0101362</td>\n",
       "      <td>-0.000301087</td>\n",
       "      <td>(0.0004853675935659653, 0.0007420797180312165,...</td>\n",
       "      <td>0.676009</td>\n",
       "    </tr>\n",
       "    <tr>\n",
       "      <th>tri_class_customed_partition</th>\n",
       "      <td>0.336812</td>\n",
       "      <td>524.598</td>\n",
       "      <td>1.31905</td>\n",
       "      <td>-0.011541</td>\n",
       "      <td>0.0246171</td>\n",
       "      <td>(0.026646814364769584, 0.02958471061181734, 0....</td>\n",
       "      <td>0.483427</td>\n",
       "    </tr>\n",
       "  </tbody>\n",
       "</table>\n",
       "</div>"
      ],
      "text/plain": [
       "                             silhouette_score calinski_score  \\\n",
       "clusters                                                       \n",
       "bi_class_50_quantile                 0.561092        662.248   \n",
       "tri_class_33_quantile                0.336812        524.598   \n",
       "quart_class_25_quantile              0.328079        481.518   \n",
       "bi_class_customed_partition          0.561092        662.248   \n",
       "tri_class_customed_partition         0.336812        524.598   \n",
       "\n",
       "                             davie_bouldin_score adjusted_rand_score  \\\n",
       "clusters                                                               \n",
       "bi_class_50_quantile                    0.982046          0.00452089   \n",
       "tri_class_33_quantile                    1.31905           0.0182244   \n",
       "quart_class_25_quantile                  1.21571           0.0225912   \n",
       "bi_class_customed_partition             0.982046           0.0101362   \n",
       "tri_class_customed_partition             1.31905           -0.011541   \n",
       "\n",
       "                             adjusted_mutual_info_score  \\\n",
       "clusters                                                  \n",
       "bi_class_50_quantile                         0.00610937   \n",
       "tri_class_33_quantile                         0.0215097   \n",
       "quart_class_25_quantile                       0.0338063   \n",
       "bi_class_customed_partition                -0.000301087   \n",
       "tri_class_customed_partition                  0.0246171   \n",
       "\n",
       "                                             homogeneity_completeness_v_measure  \\\n",
       "clusters                                                                          \n",
       "bi_class_50_quantile          (0.006786286257876708, 0.011964447935782916, 0...   \n",
       "tri_class_33_quantile         (0.023211516759650063, 0.030759319969463697, 0...   \n",
       "quart_class_25_quantile       (0.03703659147184899, 0.05153548351715117, 0.0...   \n",
       "bi_class_customed_partition   (0.0004853675935659653, 0.0007420797180312165,...   \n",
       "tri_class_customed_partition  (0.026646814364769584, 0.02958471061181734, 0....   \n",
       "\n",
       "                             fowlkes_mallows_score  \n",
       "clusters                                            \n",
       "bi_class_50_quantile                      0.621346  \n",
       "tri_class_33_quantile                     0.428058  \n",
       "quart_class_25_quantile                   0.383118  \n",
       "bi_class_customed_partition               0.676009  \n",
       "tri_class_customed_partition              0.483427  "
      ]
     },
     "execution_count": 30,
     "metadata": {},
     "output_type": "execute_result"
    }
   ],
   "source": [
    "int_metrics_df = pd.DataFrame(columns=metrics[0].keys())\n",
    "int_metrics_df['clusters'] = cluster_name\n",
    "int_metrics_df = int_metrics_df.set_index('clusters')\n",
    "\n",
    "for i in range(len(metrics)):\n",
    "    int_metrics_df.loc[cluster_name[i]] = pd.Series(metrics[i])\n",
    "\n",
    "int_metrics_df"
   ]
  },
  {
   "cell_type": "markdown",
   "metadata": {},
   "source": [
    "### 3.2.1 float feature"
   ]
  },
  {
   "cell_type": "code",
   "execution_count": 31,
   "metadata": {},
   "outputs": [
    {
     "name": "stderr",
     "output_type": "stream",
     "text": [
      "/Users/hunting/miniconda3/envs/deepchembed/lib/python3.6/site-packages/sklearn/metrics/cluster/unsupervised.py:342: RuntimeWarning: divide by zero encountered in true_divide\n",
      "  score = (intra_dists[:, None] + intra_dists) / centroid_distances\n",
      "/Users/hunting/miniconda3/envs/deepchembed/lib/python3.6/site-packages/sklearn/metrics/cluster/supervised.py:732: FutureWarning: The behavior of AMI will change in version 0.22. To match the behavior of 'v_measure_score', AMI will use average_method='arithmetic' by default.\n",
      "  FutureWarning)\n",
      "/Users/hunting/miniconda3/envs/deepchembed/lib/python3.6/site-packages/sklearn/metrics/cluster/unsupervised.py:342: RuntimeWarning: divide by zero encountered in true_divide\n",
      "  score = (intra_dists[:, None] + intra_dists) / centroid_distances\n",
      "/Users/hunting/miniconda3/envs/deepchembed/lib/python3.6/site-packages/sklearn/metrics/cluster/supervised.py:732: FutureWarning: The behavior of AMI will change in version 0.22. To match the behavior of 'v_measure_score', AMI will use average_method='arithmetic' by default.\n",
      "  FutureWarning)\n"
     ]
    },
    {
     "name": "stdout",
     "output_type": "stream",
     "text": [
      "\n",
      "\n",
      "\n",
      "\n",
      "\n"
     ]
    },
    {
     "name": "stderr",
     "output_type": "stream",
     "text": [
      "/Users/hunting/miniconda3/envs/deepchembed/lib/python3.6/site-packages/sklearn/metrics/cluster/unsupervised.py:342: RuntimeWarning: divide by zero encountered in true_divide\n",
      "  score = (intra_dists[:, None] + intra_dists) / centroid_distances\n",
      "/Users/hunting/miniconda3/envs/deepchembed/lib/python3.6/site-packages/sklearn/metrics/cluster/supervised.py:732: FutureWarning: The behavior of AMI will change in version 0.22. To match the behavior of 'v_measure_score', AMI will use average_method='arithmetic' by default.\n",
      "  FutureWarning)\n",
      "/Users/hunting/miniconda3/envs/deepchembed/lib/python3.6/site-packages/sklearn/metrics/cluster/unsupervised.py:342: RuntimeWarning: divide by zero encountered in true_divide\n",
      "  score = (intra_dists[:, None] + intra_dists) / centroid_distances\n",
      "/Users/hunting/miniconda3/envs/deepchembed/lib/python3.6/site-packages/sklearn/metrics/cluster/supervised.py:732: FutureWarning: The behavior of AMI will change in version 0.22. To match the behavior of 'v_measure_score', AMI will use average_method='arithmetic' by default.\n",
      "  FutureWarning)\n",
      "/Users/hunting/miniconda3/envs/deepchembed/lib/python3.6/site-packages/sklearn/metrics/cluster/unsupervised.py:342: RuntimeWarning: divide by zero encountered in true_divide\n",
      "  score = (intra_dists[:, None] + intra_dists) / centroid_distances\n",
      "/Users/hunting/miniconda3/envs/deepchembed/lib/python3.6/site-packages/sklearn/metrics/cluster/supervised.py:732: FutureWarning: The behavior of AMI will change in version 0.22. To match the behavior of 'v_measure_score', AMI will use average_method='arithmetic' by default.\n",
      "  FutureWarning)\n"
     ]
    }
   ],
   "source": [
    "kmeans_cluster = KMeans(n_clusters=2)\n",
    "metrics = []\n",
    "for i in range(len(n_clusters)):\n",
    "    kmeans_cluster.n_clusters = n_clusters[i]\n",
    "    kmeans_cluster.bulid_kmeans_cluster()\n",
    "    a, metric = kmeans_cluster.train_model(selected_float_feat_norm, \n",
    "                                           true_labels=true_labels[i],\n",
    "                                           print_metric=False)\n",
    "    metrics.append(metric)"
   ]
  },
  {
   "cell_type": "code",
   "execution_count": 32,
   "metadata": {},
   "outputs": [
    {
     "data": {
      "text/html": [
       "<div>\n",
       "<style scoped>\n",
       "    .dataframe tbody tr th:only-of-type {\n",
       "        vertical-align: middle;\n",
       "    }\n",
       "\n",
       "    .dataframe tbody tr th {\n",
       "        vertical-align: top;\n",
       "    }\n",
       "\n",
       "    .dataframe thead th {\n",
       "        text-align: right;\n",
       "    }\n",
       "</style>\n",
       "<table border=\"1\" class=\"dataframe\">\n",
       "  <thead>\n",
       "    <tr style=\"text-align: right;\">\n",
       "      <th></th>\n",
       "      <th>silhouette_score</th>\n",
       "      <th>calinski_score</th>\n",
       "      <th>davie_bouldin_score</th>\n",
       "      <th>adjusted_rand_score</th>\n",
       "      <th>adjusted_mutual_info_score</th>\n",
       "      <th>homogeneity_completeness_v_measure</th>\n",
       "      <th>fowlkes_mallows_score</th>\n",
       "    </tr>\n",
       "    <tr>\n",
       "      <th>clusters</th>\n",
       "      <th></th>\n",
       "      <th></th>\n",
       "      <th></th>\n",
       "      <th></th>\n",
       "      <th></th>\n",
       "      <th></th>\n",
       "      <th></th>\n",
       "    </tr>\n",
       "  </thead>\n",
       "  <tbody>\n",
       "    <tr>\n",
       "      <th>bi_class_50_quantile</th>\n",
       "      <td>0.340837</td>\n",
       "      <td>142.462</td>\n",
       "      <td>2.30984</td>\n",
       "      <td>0.00104689</td>\n",
       "      <td>0.00168093</td>\n",
       "      <td>(0.0023601955308827243, 0.0033929784663812913,...</td>\n",
       "      <td>0.589838</td>\n",
       "    </tr>\n",
       "    <tr>\n",
       "      <th>tri_class_33_quantile</th>\n",
       "      <td>0.332421</td>\n",
       "      <td>125.231</td>\n",
       "      <td>1.6994</td>\n",
       "      <td>0.00281395</td>\n",
       "      <td>0.00323555</td>\n",
       "      <td>(0.005082278810522517, 0.010675575829776535, 0...</td>\n",
       "      <td>0.485468</td>\n",
       "    </tr>\n",
       "    <tr>\n",
       "      <th>quart_class_25_quantile</th>\n",
       "      <td>0.261684</td>\n",
       "      <td>109.758</td>\n",
       "      <td>2.11278</td>\n",
       "      <td>0.0077221</td>\n",
       "      <td>0.0200195</td>\n",
       "      <td>(0.023386056687418447, 0.036891217267625925, 0...</td>\n",
       "      <td>0.398794</td>\n",
       "    </tr>\n",
       "    <tr>\n",
       "      <th>bi_class_customed_partition</th>\n",
       "      <td>0.339562</td>\n",
       "      <td>142.469</td>\n",
       "      <td>2.31454</td>\n",
       "      <td>-0.0323044</td>\n",
       "      <td>0.00639071</td>\n",
       "      <td>(0.007170874158586804, 0.008889015882678044, 0...</td>\n",
       "      <td>0.627035</td>\n",
       "    </tr>\n",
       "    <tr>\n",
       "      <th>tri_class_customed_partition</th>\n",
       "      <td>0.33536</td>\n",
       "      <td>125.23</td>\n",
       "      <td>1.69272</td>\n",
       "      <td>-0.030255</td>\n",
       "      <td>0.00555268</td>\n",
       "      <td>(0.007796119528799571, 0.013871657037170934, 0...</td>\n",
       "      <td>0.55604</td>\n",
       "    </tr>\n",
       "  </tbody>\n",
       "</table>\n",
       "</div>"
      ],
      "text/plain": [
       "                             silhouette_score calinski_score  \\\n",
       "clusters                                                       \n",
       "bi_class_50_quantile                 0.340837        142.462   \n",
       "tri_class_33_quantile                0.332421        125.231   \n",
       "quart_class_25_quantile              0.261684        109.758   \n",
       "bi_class_customed_partition          0.339562        142.469   \n",
       "tri_class_customed_partition          0.33536         125.23   \n",
       "\n",
       "                             davie_bouldin_score adjusted_rand_score  \\\n",
       "clusters                                                               \n",
       "bi_class_50_quantile                     2.30984          0.00104689   \n",
       "tri_class_33_quantile                     1.6994          0.00281395   \n",
       "quart_class_25_quantile                  2.11278           0.0077221   \n",
       "bi_class_customed_partition              2.31454          -0.0323044   \n",
       "tri_class_customed_partition             1.69272           -0.030255   \n",
       "\n",
       "                             adjusted_mutual_info_score  \\\n",
       "clusters                                                  \n",
       "bi_class_50_quantile                         0.00168093   \n",
       "tri_class_33_quantile                        0.00323555   \n",
       "quart_class_25_quantile                       0.0200195   \n",
       "bi_class_customed_partition                  0.00639071   \n",
       "tri_class_customed_partition                 0.00555268   \n",
       "\n",
       "                                             homogeneity_completeness_v_measure  \\\n",
       "clusters                                                                          \n",
       "bi_class_50_quantile          (0.0023601955308827243, 0.0033929784663812913,...   \n",
       "tri_class_33_quantile         (0.005082278810522517, 0.010675575829776535, 0...   \n",
       "quart_class_25_quantile       (0.023386056687418447, 0.036891217267625925, 0...   \n",
       "bi_class_customed_partition   (0.007170874158586804, 0.008889015882678044, 0...   \n",
       "tri_class_customed_partition  (0.007796119528799571, 0.013871657037170934, 0...   \n",
       "\n",
       "                             fowlkes_mallows_score  \n",
       "clusters                                            \n",
       "bi_class_50_quantile                      0.589838  \n",
       "tri_class_33_quantile                     0.485468  \n",
       "quart_class_25_quantile                   0.398794  \n",
       "bi_class_customed_partition               0.627035  \n",
       "tri_class_customed_partition               0.55604  "
      ]
     },
     "execution_count": 32,
     "metadata": {},
     "output_type": "execute_result"
    }
   ],
   "source": [
    "float_metrics_df = pd.DataFrame(columns=metrics[0].keys())\n",
    "float_metrics_df['clusters'] = cluster_name\n",
    "float_metrics_df = float_metrics_df.set_index('clusters')\n",
    "\n",
    "for i in range(len(metrics)):\n",
    "    float_metrics_df.loc[cluster_name[i]] = pd.Series(metrics[i])\n",
    "\n",
    "float_metrics_df"
   ]
  },
  {
   "cell_type": "code",
   "execution_count": 38,
   "metadata": {},
   "outputs": [
    {
     "name": "stderr",
     "output_type": "stream",
     "text": [
      "/Users/hunting/miniconda3/envs/deepchembed/lib/python3.6/site-packages/sklearn/metrics/cluster/unsupervised.py:342: RuntimeWarning: divide by zero encountered in true_divide\n",
      "  score = (intra_dists[:, None] + intra_dists) / centroid_distances\n",
      "/Users/hunting/miniconda3/envs/deepchembed/lib/python3.6/site-packages/sklearn/metrics/cluster/supervised.py:732: FutureWarning: The behavior of AMI will change in version 0.22. To match the behavior of 'v_measure_score', AMI will use average_method='arithmetic' by default.\n",
      "  FutureWarning)\n",
      "/Users/hunting/miniconda3/envs/deepchembed/lib/python3.6/site-packages/sklearn/metrics/cluster/unsupervised.py:342: RuntimeWarning: divide by zero encountered in true_divide\n",
      "  score = (intra_dists[:, None] + intra_dists) / centroid_distances\n",
      "/Users/hunting/miniconda3/envs/deepchembed/lib/python3.6/site-packages/sklearn/metrics/cluster/supervised.py:732: FutureWarning: The behavior of AMI will change in version 0.22. To match the behavior of 'v_measure_score', AMI will use average_method='arithmetic' by default.\n",
      "  FutureWarning)\n"
     ]
    },
    {
     "name": "stdout",
     "output_type": "stream",
     "text": [
      "\n",
      "\n"
     ]
    },
    {
     "name": "stderr",
     "output_type": "stream",
     "text": [
      "/Users/hunting/miniconda3/envs/deepchembed/lib/python3.6/site-packages/sklearn/metrics/cluster/unsupervised.py:342: RuntimeWarning: divide by zero encountered in true_divide\n",
      "  score = (intra_dists[:, None] + intra_dists) / centroid_distances\n",
      "/Users/hunting/miniconda3/envs/deepchembed/lib/python3.6/site-packages/sklearn/metrics/cluster/supervised.py:732: FutureWarning: The behavior of AMI will change in version 0.22. To match the behavior of 'v_measure_score', AMI will use average_method='arithmetic' by default.\n",
      "  FutureWarning)\n",
      "/Users/hunting/miniconda3/envs/deepchembed/lib/python3.6/site-packages/sklearn/metrics/cluster/unsupervised.py:342: RuntimeWarning: divide by zero encountered in true_divide\n",
      "  score = (intra_dists[:, None] + intra_dists) / centroid_distances\n",
      "/Users/hunting/miniconda3/envs/deepchembed/lib/python3.6/site-packages/sklearn/metrics/cluster/supervised.py:732: FutureWarning: The behavior of AMI will change in version 0.22. To match the behavior of 'v_measure_score', AMI will use average_method='arithmetic' by default.\n",
      "  FutureWarning)\n",
      "/Users/hunting/miniconda3/envs/deepchembed/lib/python3.6/site-packages/sklearn/metrics/cluster/unsupervised.py:342: RuntimeWarning: divide by zero encountered in true_divide\n",
      "  score = (intra_dists[:, None] + intra_dists) / centroid_distances\n",
      "/Users/hunting/miniconda3/envs/deepchembed/lib/python3.6/site-packages/sklearn/metrics/cluster/supervised.py:732: FutureWarning: The behavior of AMI will change in version 0.22. To match the behavior of 'v_measure_score', AMI will use average_method='arithmetic' by default.\n",
      "  FutureWarning)\n"
     ]
    },
    {
     "name": "stdout",
     "output_type": "stream",
     "text": [
      "\n",
      "\n",
      "\n"
     ]
    }
   ],
   "source": [
    "kmeans_cluster = KMeans(n_clusters=2)\n",
    "metrics = []\n",
    "for i in range(len(n_clusters)):\n",
    "    kmeans_cluster.n_clusters = n_clusters[i]\n",
    "    kmeans_cluster.bulid_kmeans_cluster()\n",
    "    a, metric = kmeans_cluster.train_model(selected_all_feat_norm, \n",
    "                                           true_labels=true_labels[i],\n",
    "                                           print_metric=False)\n",
    "    metrics.append(metric)"
   ]
  },
  {
   "cell_type": "code",
   "execution_count": 40,
   "metadata": {},
   "outputs": [
    {
     "data": {
      "text/html": [
       "<div>\n",
       "<style scoped>\n",
       "    .dataframe tbody tr th:only-of-type {\n",
       "        vertical-align: middle;\n",
       "    }\n",
       "\n",
       "    .dataframe tbody tr th {\n",
       "        vertical-align: top;\n",
       "    }\n",
       "\n",
       "    .dataframe thead th {\n",
       "        text-align: right;\n",
       "    }\n",
       "</style>\n",
       "<table border=\"1\" class=\"dataframe\">\n",
       "  <thead>\n",
       "    <tr style=\"text-align: right;\">\n",
       "      <th></th>\n",
       "      <th>silhouette_score</th>\n",
       "      <th>calinski_score</th>\n",
       "      <th>davie_bouldin_score</th>\n",
       "      <th>adjusted_rand_score</th>\n",
       "      <th>adjusted_mutual_info_score</th>\n",
       "      <th>homogeneity_completeness_v_measure</th>\n",
       "      <th>fowlkes_mallows_score</th>\n",
       "    </tr>\n",
       "    <tr>\n",
       "      <th>clusters</th>\n",
       "      <th></th>\n",
       "      <th></th>\n",
       "      <th></th>\n",
       "      <th></th>\n",
       "      <th></th>\n",
       "      <th></th>\n",
       "      <th></th>\n",
       "    </tr>\n",
       "  </thead>\n",
       "  <tbody>\n",
       "    <tr>\n",
       "      <th>bi_class_50_quantile</th>\n",
       "      <td>0.339186</td>\n",
       "      <td>103.571</td>\n",
       "      <td>2.69961</td>\n",
       "      <td>0.00137846</td>\n",
       "      <td>0.00217348</td>\n",
       "      <td>(0.0028524550819760837, 0.00417328970104597, 0...</td>\n",
       "      <td>0.59299</td>\n",
       "    </tr>\n",
       "    <tr>\n",
       "      <th>tri_class_33_quantile</th>\n",
       "      <td>0.320279</td>\n",
       "      <td>88.234</td>\n",
       "      <td>2.07395</td>\n",
       "      <td>0.010359</td>\n",
       "      <td>0.00863396</td>\n",
       "      <td>(0.010470442075445296, 0.021008283542767684, 0...</td>\n",
       "      <td>0.482538</td>\n",
       "    </tr>\n",
       "    <tr>\n",
       "      <th>quart_class_25_quantile</th>\n",
       "      <td>0.272</td>\n",
       "      <td>81.9958</td>\n",
       "      <td>2.22189</td>\n",
       "      <td>0.0106634</td>\n",
       "      <td>0.027763</td>\n",
       "      <td>(0.031106582758775498, 0.052610119009936646, 0...</td>\n",
       "      <td>0.413132</td>\n",
       "    </tr>\n",
       "    <tr>\n",
       "      <th>bi_class_customed_partition</th>\n",
       "      <td>0.339186</td>\n",
       "      <td>103.571</td>\n",
       "      <td>2.69961</td>\n",
       "      <td>-0.0376474</td>\n",
       "      <td>0.00928746</td>\n",
       "      <td>(0.01006545072257529, 0.012770627654259107, 0....</td>\n",
       "      <td>0.629584</td>\n",
       "    </tr>\n",
       "    <tr>\n",
       "      <th>tri_class_customed_partition</th>\n",
       "      <td>0.333329</td>\n",
       "      <td>88.3045</td>\n",
       "      <td>2.01024</td>\n",
       "      <td>-0.0354547</td>\n",
       "      <td>0.00972719</td>\n",
       "      <td>(0.011961352081565877, 0.021586486029454087, 0...</td>\n",
       "      <td>0.556225</td>\n",
       "    </tr>\n",
       "  </tbody>\n",
       "</table>\n",
       "</div>"
      ],
      "text/plain": [
       "                             silhouette_score calinski_score  \\\n",
       "clusters                                                       \n",
       "bi_class_50_quantile                 0.339186        103.571   \n",
       "tri_class_33_quantile                0.320279         88.234   \n",
       "quart_class_25_quantile                 0.272        81.9958   \n",
       "bi_class_customed_partition          0.339186        103.571   \n",
       "tri_class_customed_partition         0.333329        88.3045   \n",
       "\n",
       "                             davie_bouldin_score adjusted_rand_score  \\\n",
       "clusters                                                               \n",
       "bi_class_50_quantile                     2.69961          0.00137846   \n",
       "tri_class_33_quantile                    2.07395            0.010359   \n",
       "quart_class_25_quantile                  2.22189           0.0106634   \n",
       "bi_class_customed_partition              2.69961          -0.0376474   \n",
       "tri_class_customed_partition             2.01024          -0.0354547   \n",
       "\n",
       "                             adjusted_mutual_info_score  \\\n",
       "clusters                                                  \n",
       "bi_class_50_quantile                         0.00217348   \n",
       "tri_class_33_quantile                        0.00863396   \n",
       "quart_class_25_quantile                        0.027763   \n",
       "bi_class_customed_partition                  0.00928746   \n",
       "tri_class_customed_partition                 0.00972719   \n",
       "\n",
       "                                             homogeneity_completeness_v_measure  \\\n",
       "clusters                                                                          \n",
       "bi_class_50_quantile          (0.0028524550819760837, 0.00417328970104597, 0...   \n",
       "tri_class_33_quantile         (0.010470442075445296, 0.021008283542767684, 0...   \n",
       "quart_class_25_quantile       (0.031106582758775498, 0.052610119009936646, 0...   \n",
       "bi_class_customed_partition   (0.01006545072257529, 0.012770627654259107, 0....   \n",
       "tri_class_customed_partition  (0.011961352081565877, 0.021586486029454087, 0...   \n",
       "\n",
       "                             fowlkes_mallows_score  \n",
       "clusters                                            \n",
       "bi_class_50_quantile                       0.59299  \n",
       "tri_class_33_quantile                     0.482538  \n",
       "quart_class_25_quantile                   0.413132  \n",
       "bi_class_customed_partition               0.629584  \n",
       "tri_class_customed_partition              0.556225  "
      ]
     },
     "execution_count": 40,
     "metadata": {},
     "output_type": "execute_result"
    }
   ],
   "source": [
    "all_metrics_df = pd.DataFrame(columns=metrics[0].keys())\n",
    "all_metrics_df['clusters'] = cluster_name\n",
    "all_metrics_df = all_metrics_df.set_index('clusters')\n",
    "\n",
    "for i in range(len(metrics)):\n",
    "    all_metrics_df.loc[cluster_name[i]] = pd.Series(metrics[i])\n",
    "    \n",
    "all_metrics_df"
   ]
  },
  {
   "cell_type": "code",
   "execution_count": 41,
   "metadata": {},
   "outputs": [
    {
     "data": {
      "text/html": [
       "<div>\n",
       "<style scoped>\n",
       "    .dataframe tbody tr th:only-of-type {\n",
       "        vertical-align: middle;\n",
       "    }\n",
       "\n",
       "    .dataframe tbody tr th {\n",
       "        vertical-align: top;\n",
       "    }\n",
       "\n",
       "    .dataframe thead th {\n",
       "        text-align: right;\n",
       "    }\n",
       "</style>\n",
       "<table border=\"1\" class=\"dataframe\">\n",
       "  <thead>\n",
       "    <tr style=\"text-align: right;\">\n",
       "      <th></th>\n",
       "      <th>silhouette_score</th>\n",
       "      <th>calinski_score</th>\n",
       "      <th>davie_bouldin_score</th>\n",
       "      <th>adjusted_rand_score</th>\n",
       "      <th>adjusted_mutual_info_score</th>\n",
       "      <th>homogeneity_completeness_v_measure</th>\n",
       "      <th>fowlkes_mallows_score</th>\n",
       "    </tr>\n",
       "    <tr>\n",
       "      <th>clusters</th>\n",
       "      <th></th>\n",
       "      <th></th>\n",
       "      <th></th>\n",
       "      <th></th>\n",
       "      <th></th>\n",
       "      <th></th>\n",
       "      <th></th>\n",
       "    </tr>\n",
       "  </thead>\n",
       "  <tbody>\n",
       "    <tr>\n",
       "      <th>bi_class_50_quantile</th>\n",
       "      <td>0.340837</td>\n",
       "      <td>142.462</td>\n",
       "      <td>2.30984</td>\n",
       "      <td>0.00104689</td>\n",
       "      <td>0.00168093</td>\n",
       "      <td>(0.0023601955308827243, 0.0033929784663812913,...</td>\n",
       "      <td>0.589838</td>\n",
       "    </tr>\n",
       "    <tr>\n",
       "      <th>tri_class_33_quantile</th>\n",
       "      <td>0.332421</td>\n",
       "      <td>125.231</td>\n",
       "      <td>1.6994</td>\n",
       "      <td>0.00281395</td>\n",
       "      <td>0.00323555</td>\n",
       "      <td>(0.005082278810522517, 0.010675575829776535, 0...</td>\n",
       "      <td>0.485468</td>\n",
       "    </tr>\n",
       "    <tr>\n",
       "      <th>quart_class_25_quantile</th>\n",
       "      <td>0.261684</td>\n",
       "      <td>109.758</td>\n",
       "      <td>2.11278</td>\n",
       "      <td>0.0077221</td>\n",
       "      <td>0.0200195</td>\n",
       "      <td>(0.023386056687418447, 0.036891217267625925, 0...</td>\n",
       "      <td>0.398794</td>\n",
       "    </tr>\n",
       "    <tr>\n",
       "      <th>bi_class_customed_partition</th>\n",
       "      <td>0.339562</td>\n",
       "      <td>142.469</td>\n",
       "      <td>2.31454</td>\n",
       "      <td>-0.0323044</td>\n",
       "      <td>0.00639071</td>\n",
       "      <td>(0.007170874158586804, 0.008889015882678044, 0...</td>\n",
       "      <td>0.627035</td>\n",
       "    </tr>\n",
       "    <tr>\n",
       "      <th>tri_class_customed_partition</th>\n",
       "      <td>0.33536</td>\n",
       "      <td>125.23</td>\n",
       "      <td>1.69272</td>\n",
       "      <td>-0.030255</td>\n",
       "      <td>0.00555268</td>\n",
       "      <td>(0.007796119528799571, 0.013871657037170934, 0...</td>\n",
       "      <td>0.55604</td>\n",
       "    </tr>\n",
       "  </tbody>\n",
       "</table>\n",
       "</div>"
      ],
      "text/plain": [
       "                             silhouette_score calinski_score  \\\n",
       "clusters                                                       \n",
       "bi_class_50_quantile                 0.340837        142.462   \n",
       "tri_class_33_quantile                0.332421        125.231   \n",
       "quart_class_25_quantile              0.261684        109.758   \n",
       "bi_class_customed_partition          0.339562        142.469   \n",
       "tri_class_customed_partition          0.33536         125.23   \n",
       "\n",
       "                             davie_bouldin_score adjusted_rand_score  \\\n",
       "clusters                                                               \n",
       "bi_class_50_quantile                     2.30984          0.00104689   \n",
       "tri_class_33_quantile                     1.6994          0.00281395   \n",
       "quart_class_25_quantile                  2.11278           0.0077221   \n",
       "bi_class_customed_partition              2.31454          -0.0323044   \n",
       "tri_class_customed_partition             1.69272           -0.030255   \n",
       "\n",
       "                             adjusted_mutual_info_score  \\\n",
       "clusters                                                  \n",
       "bi_class_50_quantile                         0.00168093   \n",
       "tri_class_33_quantile                        0.00323555   \n",
       "quart_class_25_quantile                       0.0200195   \n",
       "bi_class_customed_partition                  0.00639071   \n",
       "tri_class_customed_partition                 0.00555268   \n",
       "\n",
       "                                             homogeneity_completeness_v_measure  \\\n",
       "clusters                                                                          \n",
       "bi_class_50_quantile          (0.0023601955308827243, 0.0033929784663812913,...   \n",
       "tri_class_33_quantile         (0.005082278810522517, 0.010675575829776535, 0...   \n",
       "quart_class_25_quantile       (0.023386056687418447, 0.036891217267625925, 0...   \n",
       "bi_class_customed_partition   (0.007170874158586804, 0.008889015882678044, 0...   \n",
       "tri_class_customed_partition  (0.007796119528799571, 0.013871657037170934, 0...   \n",
       "\n",
       "                             fowlkes_mallows_score  \n",
       "clusters                                            \n",
       "bi_class_50_quantile                      0.589838  \n",
       "tri_class_33_quantile                     0.485468  \n",
       "quart_class_25_quantile                   0.398794  \n",
       "bi_class_customed_partition               0.627035  \n",
       "tri_class_customed_partition               0.55604  "
      ]
     },
     "execution_count": 41,
     "metadata": {},
     "output_type": "execute_result"
    }
   ],
   "source": [
    "float_metrics_df"
   ]
  },
  {
   "cell_type": "code",
   "execution_count": 33,
   "metadata": {},
   "outputs": [
    {
     "data": {
      "text/html": [
       "<div>\n",
       "<style scoped>\n",
       "    .dataframe tbody tr th:only-of-type {\n",
       "        vertical-align: middle;\n",
       "    }\n",
       "\n",
       "    .dataframe tbody tr th {\n",
       "        vertical-align: top;\n",
       "    }\n",
       "\n",
       "    .dataframe thead th {\n",
       "        text-align: right;\n",
       "    }\n",
       "</style>\n",
       "<table border=\"1\" class=\"dataframe\">\n",
       "  <thead>\n",
       "    <tr style=\"text-align: right;\">\n",
       "      <th></th>\n",
       "      <th>silhouette_score</th>\n",
       "      <th>calinski_score</th>\n",
       "      <th>davie_bouldin_score</th>\n",
       "      <th>adjusted_rand_score</th>\n",
       "      <th>adjusted_mutual_info_score</th>\n",
       "      <th>homogeneity_completeness_v_measure</th>\n",
       "      <th>fowlkes_mallows_score</th>\n",
       "    </tr>\n",
       "    <tr>\n",
       "      <th>clusters</th>\n",
       "      <th></th>\n",
       "      <th></th>\n",
       "      <th></th>\n",
       "      <th></th>\n",
       "      <th></th>\n",
       "      <th></th>\n",
       "      <th></th>\n",
       "    </tr>\n",
       "  </thead>\n",
       "  <tbody>\n",
       "    <tr>\n",
       "      <th>bi_class_50_quantile</th>\n",
       "      <td>0.561092</td>\n",
       "      <td>662.248</td>\n",
       "      <td>0.982046</td>\n",
       "      <td>0.00452089</td>\n",
       "      <td>0.00610937</td>\n",
       "      <td>(0.006786286257876708, 0.011964447935782916, 0...</td>\n",
       "      <td>0.621346</td>\n",
       "    </tr>\n",
       "    <tr>\n",
       "      <th>tri_class_33_quantile</th>\n",
       "      <td>0.336812</td>\n",
       "      <td>524.598</td>\n",
       "      <td>1.31905</td>\n",
       "      <td>0.0182244</td>\n",
       "      <td>0.0215097</td>\n",
       "      <td>(0.023211516759650063, 0.030759319969463697, 0...</td>\n",
       "      <td>0.428058</td>\n",
       "    </tr>\n",
       "    <tr>\n",
       "      <th>quart_class_25_quantile</th>\n",
       "      <td>0.328079</td>\n",
       "      <td>481.518</td>\n",
       "      <td>1.21571</td>\n",
       "      <td>0.0225912</td>\n",
       "      <td>0.0338063</td>\n",
       "      <td>(0.03703659147184899, 0.05153548351715117, 0.0...</td>\n",
       "      <td>0.383118</td>\n",
       "    </tr>\n",
       "    <tr>\n",
       "      <th>bi_class_customed_partition</th>\n",
       "      <td>0.561092</td>\n",
       "      <td>662.248</td>\n",
       "      <td>0.982046</td>\n",
       "      <td>0.0101362</td>\n",
       "      <td>-0.000301087</td>\n",
       "      <td>(0.0004853675935659653, 0.0007420797180312165,...</td>\n",
       "      <td>0.676009</td>\n",
       "    </tr>\n",
       "    <tr>\n",
       "      <th>tri_class_customed_partition</th>\n",
       "      <td>0.336812</td>\n",
       "      <td>524.598</td>\n",
       "      <td>1.31905</td>\n",
       "      <td>-0.011541</td>\n",
       "      <td>0.0246171</td>\n",
       "      <td>(0.026646814364769584, 0.02958471061181734, 0....</td>\n",
       "      <td>0.483427</td>\n",
       "    </tr>\n",
       "  </tbody>\n",
       "</table>\n",
       "</div>"
      ],
      "text/plain": [
       "                             silhouette_score calinski_score  \\\n",
       "clusters                                                       \n",
       "bi_class_50_quantile                 0.561092        662.248   \n",
       "tri_class_33_quantile                0.336812        524.598   \n",
       "quart_class_25_quantile              0.328079        481.518   \n",
       "bi_class_customed_partition          0.561092        662.248   \n",
       "tri_class_customed_partition         0.336812        524.598   \n",
       "\n",
       "                             davie_bouldin_score adjusted_rand_score  \\\n",
       "clusters                                                               \n",
       "bi_class_50_quantile                    0.982046          0.00452089   \n",
       "tri_class_33_quantile                    1.31905           0.0182244   \n",
       "quart_class_25_quantile                  1.21571           0.0225912   \n",
       "bi_class_customed_partition             0.982046           0.0101362   \n",
       "tri_class_customed_partition             1.31905           -0.011541   \n",
       "\n",
       "                             adjusted_mutual_info_score  \\\n",
       "clusters                                                  \n",
       "bi_class_50_quantile                         0.00610937   \n",
       "tri_class_33_quantile                         0.0215097   \n",
       "quart_class_25_quantile                       0.0338063   \n",
       "bi_class_customed_partition                -0.000301087   \n",
       "tri_class_customed_partition                  0.0246171   \n",
       "\n",
       "                                             homogeneity_completeness_v_measure  \\\n",
       "clusters                                                                          \n",
       "bi_class_50_quantile          (0.006786286257876708, 0.011964447935782916, 0...   \n",
       "tri_class_33_quantile         (0.023211516759650063, 0.030759319969463697, 0...   \n",
       "quart_class_25_quantile       (0.03703659147184899, 0.05153548351715117, 0.0...   \n",
       "bi_class_customed_partition   (0.0004853675935659653, 0.0007420797180312165,...   \n",
       "tri_class_customed_partition  (0.026646814364769584, 0.02958471061181734, 0....   \n",
       "\n",
       "                             fowlkes_mallows_score  \n",
       "clusters                                            \n",
       "bi_class_50_quantile                      0.621346  \n",
       "tri_class_33_quantile                     0.428058  \n",
       "quart_class_25_quantile                   0.383118  \n",
       "bi_class_customed_partition               0.676009  \n",
       "tri_class_customed_partition              0.483427  "
      ]
     },
     "execution_count": 33,
     "metadata": {},
     "output_type": "execute_result"
    }
   ],
   "source": [
    "int_metrics_df"
   ]
  },
  {
   "cell_type": "code",
   "execution_count": null,
   "metadata": {},
   "outputs": [],
   "source": []
  },
  {
   "cell_type": "code",
   "execution_count": null,
   "metadata": {},
   "outputs": [],
   "source": []
  }
 ],
 "metadata": {
  "kernelspec": {
   "display_name": "Python [conda env:deepchembed]",
   "language": "python",
   "name": "conda-env-deepchembed-py"
  },
  "language_info": {
   "codemirror_mode": {
    "name": "ipython",
    "version": 3
   },
   "file_extension": ".py",
   "mimetype": "text/x-python",
   "name": "python",
   "nbconvert_exporter": "python",
   "pygments_lexer": "ipython3",
   "version": "3.6.8"
  }
 },
 "nbformat": 4,
 "nbformat_minor": 2
}
