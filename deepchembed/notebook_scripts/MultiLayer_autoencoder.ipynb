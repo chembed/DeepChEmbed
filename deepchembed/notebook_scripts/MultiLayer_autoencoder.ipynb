{
 "cells": [
  {
   "cell_type": "code",
   "execution_count": 1,
   "metadata": {},
   "outputs": [
    {
     "name": "stderr",
     "output_type": "stream",
     "text": [
      "Using TensorFlow backend.\n"
     ]
    },
    {
     "ename": "ModuleNotFoundError",
     "evalue": "No module named 'deepchembed'",
     "output_type": "error",
     "traceback": [
      "\u001b[0;31m---------------------------------------------------------------------------\u001b[0m",
      "\u001b[0;31mModuleNotFoundError\u001b[0m                       Traceback (most recent call last)",
      "\u001b[0;32m<ipython-input-1-ee4375134cc4>\u001b[0m in \u001b[0;36m<module>\u001b[0;34m\u001b[0m\n\u001b[1;32m      4\u001b[0m \u001b[0;32mimport\u001b[0m \u001b[0mnumpy\u001b[0m \u001b[0;32mas\u001b[0m \u001b[0mnp\u001b[0m\u001b[0;34m\u001b[0m\u001b[0;34m\u001b[0m\u001b[0m\n\u001b[1;32m      5\u001b[0m \u001b[0;32mimport\u001b[0m \u001b[0mmatplotlib\u001b[0m\u001b[0;34m.\u001b[0m\u001b[0mpyplot\u001b[0m \u001b[0;32mas\u001b[0m \u001b[0mplt\u001b[0m\u001b[0;34m\u001b[0m\u001b[0;34m\u001b[0m\u001b[0m\n\u001b[0;32m----> 6\u001b[0;31m \u001b[0;32mfrom\u001b[0m \u001b[0mdeepchembed\u001b[0m\u001b[0;34m.\u001b[0m\u001b[0mdimreducer\u001b[0m \u001b[0;32mimport\u001b[0m \u001b[0mDeepAutoEncoder\u001b[0m\u001b[0;34m\u001b[0m\u001b[0;34m\u001b[0m\u001b[0m\n\u001b[0m",
      "\u001b[0;31mModuleNotFoundError\u001b[0m: No module named 'deepchembed'"
     ]
    }
   ],
   "source": [
    "import pandas as pd\n",
    "from keras.layers import Input, Dense\n",
    "from keras.models import Model\n",
    "import numpy as np\n",
    "import matplotlib.pyplot as plt\n",
    "from deepchembed.dimreducer import DeepAutoEncoder"
   ]
  },
  {
   "cell_type": "code",
   "execution_count": 2,
   "metadata": {},
   "outputs": [],
   "source": [
    "data = pd.read_csv('BOD_biclass_139rdkit.csv')"
   ]
  },
  {
   "cell_type": "code",
   "execution_count": 3,
   "metadata": {
    "scrolled": true
   },
   "outputs": [
    {
     "data": {
      "text/html": [
       "<div>\n",
       "<style scoped>\n",
       "    .dataframe tbody tr th:only-of-type {\n",
       "        vertical-align: middle;\n",
       "    }\n",
       "\n",
       "    .dataframe tbody tr th {\n",
       "        vertical-align: top;\n",
       "    }\n",
       "\n",
       "    .dataframe thead th {\n",
       "        text-align: right;\n",
       "    }\n",
       "</style>\n",
       "<table border=\"1\" class=\"dataframe\">\n",
       "  <thead>\n",
       "    <tr style=\"text-align: right;\">\n",
       "      <th></th>\n",
       "      <th>SMILES</th>\n",
       "      <th>bod_class</th>\n",
       "      <th>exactmw</th>\n",
       "      <th>lipinskiHBA</th>\n",
       "      <th>lipinskiHBD</th>\n",
       "      <th>NumRotatableBonds</th>\n",
       "      <th>NumHBD</th>\n",
       "      <th>NumHBA</th>\n",
       "      <th>NumHeteroatoms</th>\n",
       "      <th>NumAmideBonds</th>\n",
       "      <th>...</th>\n",
       "      <th>MQN33</th>\n",
       "      <th>MQN34</th>\n",
       "      <th>MQN35</th>\n",
       "      <th>MQN36</th>\n",
       "      <th>MQN37</th>\n",
       "      <th>MQN38</th>\n",
       "      <th>MQN39</th>\n",
       "      <th>MQN40</th>\n",
       "      <th>MQN41</th>\n",
       "      <th>MQN42</th>\n",
       "    </tr>\n",
       "  </thead>\n",
       "  <tbody>\n",
       "    <tr>\n",
       "      <th>0</th>\n",
       "      <td>CCC1(C(=O)NC(=O)NC1=O)c2ccccc2</td>\n",
       "      <td>0</td>\n",
       "      <td>232.084792</td>\n",
       "      <td>5.0</td>\n",
       "      <td>2.0</td>\n",
       "      <td>2.0</td>\n",
       "      <td>2.0</td>\n",
       "      <td>3.0</td>\n",
       "      <td>5.0</td>\n",
       "      <td>4.0</td>\n",
       "      <td>...</td>\n",
       "      <td>0</td>\n",
       "      <td>0</td>\n",
       "      <td>0</td>\n",
       "      <td>2</td>\n",
       "      <td>0</td>\n",
       "      <td>0</td>\n",
       "      <td>0</td>\n",
       "      <td>0</td>\n",
       "      <td>0</td>\n",
       "      <td>0</td>\n",
       "    </tr>\n",
       "    <tr>\n",
       "      <th>1</th>\n",
       "      <td>CC(O)C(O)=O</td>\n",
       "      <td>1</td>\n",
       "      <td>90.031694</td>\n",
       "      <td>3.0</td>\n",
       "      <td>2.0</td>\n",
       "      <td>1.0</td>\n",
       "      <td>2.0</td>\n",
       "      <td>2.0</td>\n",
       "      <td>3.0</td>\n",
       "      <td>0.0</td>\n",
       "      <td>...</td>\n",
       "      <td>0</td>\n",
       "      <td>0</td>\n",
       "      <td>0</td>\n",
       "      <td>0</td>\n",
       "      <td>0</td>\n",
       "      <td>0</td>\n",
       "      <td>0</td>\n",
       "      <td>0</td>\n",
       "      <td>0</td>\n",
       "      <td>0</td>\n",
       "    </tr>\n",
       "    <tr>\n",
       "      <th>2</th>\n",
       "      <td>Clc1ccc(cc1)C(c2ccc(Cl)cc2)C(Cl)(Cl)Cl</td>\n",
       "      <td>0</td>\n",
       "      <td>351.914689</td>\n",
       "      <td>0.0</td>\n",
       "      <td>0.0</td>\n",
       "      <td>2.0</td>\n",
       "      <td>0.0</td>\n",
       "      <td>0.0</td>\n",
       "      <td>5.0</td>\n",
       "      <td>0.0</td>\n",
       "      <td>...</td>\n",
       "      <td>0</td>\n",
       "      <td>0</td>\n",
       "      <td>0</td>\n",
       "      <td>2</td>\n",
       "      <td>0</td>\n",
       "      <td>0</td>\n",
       "      <td>0</td>\n",
       "      <td>0</td>\n",
       "      <td>0</td>\n",
       "      <td>0</td>\n",
       "    </tr>\n",
       "    <tr>\n",
       "      <th>3</th>\n",
       "      <td>OC(=O)c1c(Cl)ccc(Cl)c1Cl</td>\n",
       "      <td>1</td>\n",
       "      <td>223.919862</td>\n",
       "      <td>2.0</td>\n",
       "      <td>1.0</td>\n",
       "      <td>1.0</td>\n",
       "      <td>1.0</td>\n",
       "      <td>1.0</td>\n",
       "      <td>5.0</td>\n",
       "      <td>0.0</td>\n",
       "      <td>...</td>\n",
       "      <td>0</td>\n",
       "      <td>0</td>\n",
       "      <td>0</td>\n",
       "      <td>1</td>\n",
       "      <td>0</td>\n",
       "      <td>0</td>\n",
       "      <td>0</td>\n",
       "      <td>0</td>\n",
       "      <td>0</td>\n",
       "      <td>0</td>\n",
       "    </tr>\n",
       "    <tr>\n",
       "      <th>4</th>\n",
       "      <td>OCC(O)C(O)C(O)C(O)CO</td>\n",
       "      <td>1</td>\n",
       "      <td>182.079038</td>\n",
       "      <td>6.0</td>\n",
       "      <td>6.0</td>\n",
       "      <td>5.0</td>\n",
       "      <td>6.0</td>\n",
       "      <td>6.0</td>\n",
       "      <td>6.0</td>\n",
       "      <td>0.0</td>\n",
       "      <td>...</td>\n",
       "      <td>0</td>\n",
       "      <td>0</td>\n",
       "      <td>0</td>\n",
       "      <td>0</td>\n",
       "      <td>0</td>\n",
       "      <td>0</td>\n",
       "      <td>0</td>\n",
       "      <td>0</td>\n",
       "      <td>0</td>\n",
       "      <td>0</td>\n",
       "    </tr>\n",
       "  </tbody>\n",
       "</table>\n",
       "<p>5 rows × 141 columns</p>\n",
       "</div>"
      ],
      "text/plain": [
       "                                   SMILES  bod_class     exactmw  lipinskiHBA  \\\n",
       "0          CCC1(C(=O)NC(=O)NC1=O)c2ccccc2          0  232.084792          5.0   \n",
       "1                             CC(O)C(O)=O          1   90.031694          3.0   \n",
       "2  Clc1ccc(cc1)C(c2ccc(Cl)cc2)C(Cl)(Cl)Cl          0  351.914689          0.0   \n",
       "3                OC(=O)c1c(Cl)ccc(Cl)c1Cl          1  223.919862          2.0   \n",
       "4                    OCC(O)C(O)C(O)C(O)CO          1  182.079038          6.0   \n",
       "\n",
       "   lipinskiHBD  NumRotatableBonds  NumHBD  NumHBA  NumHeteroatoms  \\\n",
       "0          2.0                2.0     2.0     3.0             5.0   \n",
       "1          2.0                1.0     2.0     2.0             3.0   \n",
       "2          0.0                2.0     0.0     0.0             5.0   \n",
       "3          1.0                1.0     1.0     1.0             5.0   \n",
       "4          6.0                5.0     6.0     6.0             6.0   \n",
       "\n",
       "   NumAmideBonds  ...  MQN33  MQN34  MQN35  MQN36  MQN37  MQN38  MQN39  MQN40  \\\n",
       "0            4.0  ...      0      0      0      2      0      0      0      0   \n",
       "1            0.0  ...      0      0      0      0      0      0      0      0   \n",
       "2            0.0  ...      0      0      0      2      0      0      0      0   \n",
       "3            0.0  ...      0      0      0      1      0      0      0      0   \n",
       "4            0.0  ...      0      0      0      0      0      0      0      0   \n",
       "\n",
       "   MQN41  MQN42  \n",
       "0      0      0  \n",
       "1      0      0  \n",
       "2      0      0  \n",
       "3      0      0  \n",
       "4      0      0  \n",
       "\n",
       "[5 rows x 141 columns]"
      ]
     },
     "execution_count": 3,
     "metadata": {},
     "output_type": "execute_result"
    }
   ],
   "source": [
    "data.head()"
   ]
  },
  {
   "cell_type": "code",
   "execution_count": 4,
   "metadata": {},
   "outputs": [
    {
     "data": {
      "text/plain": [
       "(1063, 141)"
      ]
     },
     "execution_count": 4,
     "metadata": {},
     "output_type": "execute_result"
    }
   ],
   "source": [
    "data.shape"
   ]
  },
  {
   "cell_type": "code",
   "execution_count": 5,
   "metadata": {},
   "outputs": [
    {
     "data": {
      "text/plain": [
       "(1063, 139)"
      ]
     },
     "execution_count": 5,
     "metadata": {},
     "output_type": "execute_result"
    }
   ],
   "source": [
    "data_139 = data.iloc[:,2:141]\n",
    "data_139.shape"
   ]
  },
  {
   "cell_type": "code",
   "execution_count": 6,
   "metadata": {
    "scrolled": true
   },
   "outputs": [
    {
     "name": "stderr",
     "output_type": "stream",
     "text": [
      "/Users/hunting/miniconda3/envs/deepchembed/lib/python3.6/site-packages/ipykernel_launcher.py:1: FutureWarning: Method .as_matrix will be removed in a future version. Use .values instead.\n",
      "  \"\"\"Entry point for launching an IPython kernel.\n"
     ]
    },
    {
     "data": {
      "text/plain": [
       "(1063, 139)"
      ]
     },
     "execution_count": 6,
     "metadata": {},
     "output_type": "execute_result"
    }
   ],
   "source": [
    "data_train = data_139.as_matrix()\n",
    "data_train.shape"
   ]
  },
  {
   "cell_type": "code",
   "execution_count": 7,
   "metadata": {},
   "outputs": [],
   "source": [
    "def autoencoder(dims, final_nodes, act='relu'):\n",
    "    \"\"\"\n",
    "    Fully connected auto-encoder model, symmetric.\n",
    "    Arguments:\n",
    "        dims: a list contains the node numbers in each layer of encoder. The decoder is symmetric with encoder. \n",
    "        So number of layers of the auto-encoder is 2*len(dims)-1\n",
    "        act: activation function\n",
    "        final_nodes: the final target dimension for dimension reduction, which interconnects the encoder and decoder\n",
    "    return:\n",
    "        Model of autoencoder\n",
    "    \"\"\"\n",
    "    n_stacks = len(dims) - 1\n",
    "    # input\n",
    "    x = Input(shape=(dims[0],), name='input')\n",
    "    h = x\n",
    "\n",
    "    # internal layers in encoder\n",
    "    for i in range(n_stacks-1):\n",
    "        h = Dense(dims[i + 1], activation=act, name='encoder_%d' % i)(h)\n",
    "\n",
    "    # inter-connected layer between encoder and decoder\n",
    "    h = Dense(final_nodes, name='encoder_%d' % (n_stacks - 1))(h)  #features are extracted from here\n",
    "\n",
    "    # internal layers in decoder\n",
    "    for i in range(n_stacks-1, 0, -1):\n",
    "        h = Dense(dims[i], activation=act, name='decoder_%d' % i)(h)\n",
    "\n",
    "    # output\n",
    "    h = Dense(dims[0], name='decoder_0')(h)\n",
    "\n",
    "    return Model(inputs=x, outputs=h)"
   ]
  },
  {
   "cell_type": "markdown",
   "metadata": {},
   "source": [
    "Build and compile a 4 layers autoencoder model, the final_nodes are set to 5 here"
   ]
  },
  {
   "cell_type": "code",
   "execution_count": 8,
   "metadata": {
    "scrolled": true
   },
   "outputs": [
    {
     "data": {
      "text/plain": [
       "array([139,  94,  49,   5])"
      ]
     },
     "execution_count": 8,
     "metadata": {},
     "output_type": "execute_result"
    }
   ],
   "source": [
    "dim = np.linspace(139,5,4,dtype = int)\n",
    "dim"
   ]
  },
  {
   "cell_type": "code",
   "execution_count": 9,
   "metadata": {},
   "outputs": [],
   "source": [
    "final_nodes = 5"
   ]
  },
  {
   "cell_type": "code",
   "execution_count": 10,
   "metadata": {},
   "outputs": [
    {
     "name": "stdout",
     "output_type": "stream",
     "text": [
      "WARNING:tensorflow:From /Users/hunting/miniconda3/envs/deepchembed/lib/python3.6/site-packages/tensorflow/python/framework/op_def_library.py:263: colocate_with (from tensorflow.python.framework.ops) is deprecated and will be removed in a future version.\n",
      "Instructions for updating:\n",
      "Colocations handled automatically by placer.\n"
     ]
    }
   ],
   "source": [
    "autoencoder = autoencoder (dim, final_nodes)"
   ]
  },
  {
   "cell_type": "code",
   "execution_count": 11,
   "metadata": {},
   "outputs": [
    {
     "name": "stdout",
     "output_type": "stream",
     "text": [
      "_________________________________________________________________\n",
      "Layer (type)                 Output Shape              Param #   \n",
      "=================================================================\n",
      "input (InputLayer)           (None, 139)               0         \n",
      "_________________________________________________________________\n",
      "encoder_0 (Dense)            (None, 94)                13160     \n",
      "_________________________________________________________________\n",
      "encoder_1 (Dense)            (None, 49)                4655      \n",
      "_________________________________________________________________\n",
      "encoder_2 (Dense)            (None, 5)                 250       \n",
      "_________________________________________________________________\n",
      "decoder_2 (Dense)            (None, 49)                294       \n",
      "_________________________________________________________________\n",
      "decoder_1 (Dense)            (None, 94)                4700      \n",
      "_________________________________________________________________\n",
      "decoder_0 (Dense)            (None, 139)               13205     \n",
      "=================================================================\n",
      "Total params: 36,264\n",
      "Trainable params: 36,264\n",
      "Non-trainable params: 0\n",
      "_________________________________________________________________\n"
     ]
    }
   ],
   "source": [
    "autoencoder.summary()"
   ]
  },
  {
   "cell_type": "code",
   "execution_count": 11,
   "metadata": {},
   "outputs": [],
   "source": [
    "autoencoder.compile(optimizer = 'adadelta', loss = 'mse')"
   ]
  },
  {
   "cell_type": "code",
   "execution_count": 12,
   "metadata": {},
   "outputs": [
    {
     "name": "stdout",
     "output_type": "stream",
     "text": [
      "WARNING:tensorflow:From /Users/hunting/miniconda3/envs/deepchembed/lib/python3.6/site-packages/tensorflow/python/ops/math_ops.py:3066: to_int32 (from tensorflow.python.ops.math_ops) is deprecated and will be removed in a future version.\n",
      "Instructions for updating:\n",
      "Use tf.cast instead.\n",
      "Epoch 1/50\n",
      "1063/1063 [==============================] - 1s 1ms/step - loss: 1360.5217\n",
      "Epoch 2/50\n",
      "1063/1063 [==============================] - 0s 46us/step - loss: 1269.1243\n",
      "Epoch 3/50\n",
      "1063/1063 [==============================] - 0s 40us/step - loss: 892.7531\n",
      "Epoch 4/50\n",
      "1063/1063 [==============================] - 0s 38us/step - loss: 805.8568\n",
      "Epoch 5/50\n",
      "1063/1063 [==============================] - 0s 217us/step - loss: 746.5337\n",
      "Epoch 6/50\n",
      "1063/1063 [==============================] - 0s 39us/step - loss: 722.3785\n",
      "Epoch 7/50\n",
      "1063/1063 [==============================] - 0s 40us/step - loss: 685.2290\n",
      "Epoch 8/50\n",
      "1063/1063 [==============================] - 0s 39us/step - loss: 681.4400\n",
      "Epoch 9/50\n",
      "1063/1063 [==============================] - 0s 38us/step - loss: 651.2661\n",
      "Epoch 10/50\n",
      "1063/1063 [==============================] - 0s 39us/step - loss: 601.7112\n",
      "Epoch 11/50\n",
      "1063/1063 [==============================] - 0s 38us/step - loss: 560.0702\n",
      "Epoch 12/50\n",
      "1063/1063 [==============================] - 0s 39us/step - loss: 531.7505\n",
      "Epoch 13/50\n",
      "1063/1063 [==============================] - 0s 37us/step - loss: 380.9367\n",
      "Epoch 14/50\n",
      "1063/1063 [==============================] - 0s 41us/step - loss: 549.4731\n",
      "Epoch 15/50\n",
      "1063/1063 [==============================] - 0s 38us/step - loss: 295.1283\n",
      "Epoch 16/50\n",
      "1063/1063 [==============================] - 0s 38us/step - loss: 244.1143\n",
      "Epoch 17/50\n",
      "1063/1063 [==============================] - 0s 38us/step - loss: 206.5497\n",
      "Epoch 18/50\n",
      "1063/1063 [==============================] - 0s 38us/step - loss: 169.1396\n",
      "Epoch 19/50\n",
      "1063/1063 [==============================] - 0s 37us/step - loss: 154.8010\n",
      "Epoch 20/50\n",
      "1063/1063 [==============================] - 0s 39us/step - loss: 133.8088\n",
      "Epoch 21/50\n",
      "1063/1063 [==============================] - 0s 37us/step - loss: 136.5585\n",
      "Epoch 22/50\n",
      "1063/1063 [==============================] - 0s 39us/step - loss: 118.2330\n",
      "Epoch 23/50\n",
      "1063/1063 [==============================] - 0s 38us/step - loss: 144.7142\n",
      "Epoch 24/50\n",
      "1063/1063 [==============================] - 0s 40us/step - loss: 167.6690\n",
      "Epoch 25/50\n",
      "1063/1063 [==============================] - 0s 37us/step - loss: 175.4195\n",
      "Epoch 26/50\n",
      "1063/1063 [==============================] - 0s 39us/step - loss: 140.6142\n",
      "Epoch 27/50\n",
      "1063/1063 [==============================] - 0s 38us/step - loss: 120.6805\n",
      "Epoch 28/50\n",
      "1063/1063 [==============================] - 0s 39us/step - loss: 608.4594\n",
      "Epoch 29/50\n",
      "1063/1063 [==============================] - 0s 39us/step - loss: 84.2243\n",
      "Epoch 30/50\n",
      "1063/1063 [==============================] - 0s 40us/step - loss: 67.3588\n",
      "Epoch 31/50\n",
      "1063/1063 [==============================] - 0s 38us/step - loss: 62.6971\n",
      "Epoch 32/50\n",
      "1063/1063 [==============================] - 0s 41us/step - loss: 54.8899\n",
      "Epoch 33/50\n",
      "1063/1063 [==============================] - 0s 40us/step - loss: 58.1980\n",
      "Epoch 34/50\n",
      "1063/1063 [==============================] - 0s 39us/step - loss: 50.9675\n",
      "Epoch 35/50\n",
      "1063/1063 [==============================] - 0s 41us/step - loss: 50.5972\n",
      "Epoch 36/50\n",
      "1063/1063 [==============================] - 0s 39us/step - loss: 51.1383\n",
      "Epoch 37/50\n",
      "1063/1063 [==============================] - 0s 40us/step - loss: 52.4983\n",
      "Epoch 38/50\n",
      "1063/1063 [==============================] - 0s 40us/step - loss: 52.4443\n",
      "Epoch 39/50\n",
      "1063/1063 [==============================] - 0s 40us/step - loss: 49.2145\n",
      "Epoch 40/50\n",
      "1063/1063 [==============================] - 0s 40us/step - loss: 51.0683\n",
      "Epoch 41/50\n",
      "1063/1063 [==============================] - 0s 42us/step - loss: 48.2016\n",
      "Epoch 42/50\n",
      "1063/1063 [==============================] - 0s 41us/step - loss: 48.0862\n",
      "Epoch 43/50\n",
      "1063/1063 [==============================] - 0s 41us/step - loss: 48.0782\n",
      "Epoch 44/50\n",
      "1063/1063 [==============================] - 0s 40us/step - loss: 47.7123\n",
      "Epoch 45/50\n",
      "1063/1063 [==============================] - 0s 39us/step - loss: 48.0923\n",
      "Epoch 46/50\n",
      "1063/1063 [==============================] - 0s 38us/step - loss: 49.6975\n",
      "Epoch 47/50\n",
      "1063/1063 [==============================] - 0s 39us/step - loss: 42.1816\n",
      "Epoch 48/50\n",
      "1063/1063 [==============================] - 0s 39us/step - loss: 43.5213\n",
      "Epoch 49/50\n",
      "1063/1063 [==============================] - 0s 38us/step - loss: 46.5765\n",
      "Epoch 50/50\n",
      "1063/1063 [==============================] - 0s 38us/step - loss: 44.6920\n"
     ]
    }
   ],
   "source": [
    "history = autoencoder.fit(data_train,data_train,epochs= 50,batch_size=256,shuffle=True)"
   ]
  },
  {
   "cell_type": "code",
   "execution_count": 13,
   "metadata": {},
   "outputs": [
    {
     "name": "stdout",
     "output_type": "stream",
     "text": [
      "dict_keys(['loss'])\n"
     ]
    }
   ],
   "source": [
    "print(history.history.keys())"
   ]
  },
  {
   "cell_type": "code",
   "execution_count": 14,
   "metadata": {},
   "outputs": [],
   "source": [
    "import matplotlib.pyplot as plt\n",
    "%matplotlib inline"
   ]
  },
  {
   "cell_type": "code",
   "execution_count": 15,
   "metadata": {},
   "outputs": [],
   "source": [
    "a = history.history['loss']"
   ]
  },
  {
   "cell_type": "code",
   "execution_count": null,
   "metadata": {},
   "outputs": [],
   "source": [
    "plt.plot(a)"
   ]
  },
  {
   "cell_type": "code",
   "execution_count": 18,
   "metadata": {},
   "outputs": [
    {
     "data": {
      "text/plain": [
       "[1360.5216915385406,\n",
       " 1269.1242911768543,\n",
       " 892.7530682367305,\n",
       " 805.8568293373202,\n",
       " 746.5336573072345,\n",
       " 722.3785232228147,\n",
       " 685.2290478308921,\n",
       " 681.440013996745,\n",
       " 651.2660886489997,\n",
       " 601.7112410537275,\n",
       " 560.0701554048095,\n",
       " 531.750545828273,\n",
       " 380.9367232515581,\n",
       " 549.4730548984244,\n",
       " 295.12832644472456,\n",
       " 244.1142509331259,\n",
       " 206.54968050708214,\n",
       " 169.13964083681438,\n",
       " 154.80102185225107,\n",
       " 133.80875630706186,\n",
       " 136.5584604114378,\n",
       " 118.23301176428234,\n",
       " 144.71424510449816,\n",
       " 167.6690393342012,\n",
       " 175.41945421034058,\n",
       " 140.6141661305755,\n",
       " 120.68052648937265,\n",
       " 608.4594336695416,\n",
       " 84.22427475463637,\n",
       " 67.35880976808822,\n",
       " 62.69709347557147,\n",
       " 54.889915710334385,\n",
       " 58.1980482408267,\n",
       " 50.96748912951235,\n",
       " 50.5972182865089,\n",
       " 51.13825999894237,\n",
       " 52.49832096261341,\n",
       " 52.44431558646689,\n",
       " 49.21448031306154,\n",
       " 51.06827160825397,\n",
       " 48.20155778025415,\n",
       " 48.08615706579257,\n",
       " 48.07817523342646,\n",
       " 47.712268728864494,\n",
       " 48.09234448322572,\n",
       " 49.69750049443931,\n",
       " 42.18159176960153,\n",
       " 43.52134661526469,\n",
       " 46.576512922572284,\n",
       " 44.69198682862189]"
      ]
     },
     "execution_count": 18,
     "metadata": {},
     "output_type": "execute_result"
    }
   ],
   "source": [
    "a"
   ]
  },
  {
   "cell_type": "code",
   "execution_count": null,
   "metadata": {},
   "outputs": [],
   "source": []
  }
 ],
 "metadata": {
  "kernelspec": {
   "display_name": "Python [conda env:deepchembed]",
   "language": "python",
   "name": "conda-env-deepchembed-py"
  },
  "language_info": {
   "codemirror_mode": {
    "name": "ipython",
    "version": 3
   },
   "file_extension": ".py",
   "mimetype": "text/x-python",
   "name": "python",
   "nbconvert_exporter": "python",
   "pygments_lexer": "ipython3",
   "version": "3.6.8"
  }
 },
 "nbformat": 4,
 "nbformat_minor": 2
}
