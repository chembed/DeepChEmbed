{
 "cells": [
  {
   "cell_type": "code",
   "execution_count": 1,
   "metadata": {},
   "outputs": [
    {
     "name": "stderr",
     "output_type": "stream",
     "text": [
      "Using TensorFlow backend.\n"
     ]
    }
   ],
   "source": [
    "import __init__\n",
    "from __init__ import DATA_PATH\n",
    "from __init__ import PACKAGE_PATH\n",
    "import numpy as np\n",
    "import pandas as pd\n",
    "import os\n",
    "import matplotlib as mplt\n",
    "import matplotlib.pyplot as plt\n",
    "import seaborn as sns\n",
    "from keras.utils import normalize\n",
    "%matplotlib inline"
   ]
  },
  {
   "cell_type": "code",
   "execution_count": 9,
   "metadata": {},
   "outputs": [],
   "source": [
    "import utilities\n",
    "df=pd.read_csv(os.path.join(DATA_PATH,'BOD_RDKit_Descriptors_1063.csv'))\n",
    "df['cleaned_bod'] = utilities.clean_out_of_bound(df['value (% BOD)'])"
   ]
  },
  {
   "cell_type": "code",
   "execution_count": 10,
   "metadata": {},
   "outputs": [],
   "source": [
    "from descriptor import rdkitDescriptors as rdD"
   ]
  },
  {
   "cell_type": "code",
   "execution_count": 14,
   "metadata": {},
   "outputs": [],
   "source": [
    "data_train = rdD.batch_compute_rdkit_fingerprints(df['SMILES'])"
   ]
  },
  {
   "cell_type": "code",
   "execution_count": 15,
   "metadata": {},
   "outputs": [
    {
     "data": {
      "text/html": [
       "<div>\n",
       "<style scoped>\n",
       "    .dataframe tbody tr th:only-of-type {\n",
       "        vertical-align: middle;\n",
       "    }\n",
       "\n",
       "    .dataframe tbody tr th {\n",
       "        vertical-align: top;\n",
       "    }\n",
       "\n",
       "    .dataframe thead th {\n",
       "        text-align: right;\n",
       "    }\n",
       "</style>\n",
       "<table border=\"1\" class=\"dataframe\">\n",
       "  <thead>\n",
       "    <tr style=\"text-align: right;\">\n",
       "      <th></th>\n",
       "      <th>SMILES</th>\n",
       "      <th>value (% BOD)</th>\n",
       "      <th>Salt Stripped Molecule</th>\n",
       "      <th>SMILES (Optimized Geometry)</th>\n",
       "      <th>Converged</th>\n",
       "      <th>Energy</th>\n",
       "      <th>SMILES (RDKit Mol)</th>\n",
       "      <th>SlogP</th>\n",
       "      <th>SMR</th>\n",
       "      <th>LabuteASA</th>\n",
       "      <th>...</th>\n",
       "      <th>MQN34</th>\n",
       "      <th>MQN35</th>\n",
       "      <th>MQN36</th>\n",
       "      <th>MQN37</th>\n",
       "      <th>MQN38</th>\n",
       "      <th>MQN39</th>\n",
       "      <th>MQN40</th>\n",
       "      <th>MQN41</th>\n",
       "      <th>MQN42</th>\n",
       "      <th>cleaned_bod</th>\n",
       "    </tr>\n",
       "  </thead>\n",
       "  <tbody>\n",
       "    <tr>\n",
       "      <th>0</th>\n",
       "      <td>CCC1(C(=O)NC(=O)NC1=O)c2ccccc2</td>\n",
       "      <td>0.0</td>\n",
       "      <td>CCC1(c2ccccc2)C(=O)NC(=O)NC1=O</td>\n",
       "      <td>CCC1(c2ccccc2)C(=O)NC(=O)NC1=O</td>\n",
       "      <td>1</td>\n",
       "      <td>-16.47820492</td>\n",
       "      <td>CCC1(C(=O)NC(=O)NC1=O)c2ccccc2</td>\n",
       "      <td>0.7004</td>\n",
       "      <td>60.0924</td>\n",
       "      <td>98.199515</td>\n",
       "      <td>...</td>\n",
       "      <td>0</td>\n",
       "      <td>0</td>\n",
       "      <td>2</td>\n",
       "      <td>0</td>\n",
       "      <td>0</td>\n",
       "      <td>0</td>\n",
       "      <td>0</td>\n",
       "      <td>0</td>\n",
       "      <td>0</td>\n",
       "      <td>0.0</td>\n",
       "    </tr>\n",
       "    <tr>\n",
       "      <th>1</th>\n",
       "      <td>CC(O)C(O)=O</td>\n",
       "      <td>76.0</td>\n",
       "      <td>CC(O)C(=O)O</td>\n",
       "      <td>CC(O)C(=O)O</td>\n",
       "      <td>1</td>\n",
       "      <td>18.51507187</td>\n",
       "      <td>CC(O)C(O)=O</td>\n",
       "      <td>-0.5482</td>\n",
       "      <td>19.3166</td>\n",
       "      <td>35.219125</td>\n",
       "      <td>...</td>\n",
       "      <td>0</td>\n",
       "      <td>0</td>\n",
       "      <td>0</td>\n",
       "      <td>0</td>\n",
       "      <td>0</td>\n",
       "      <td>0</td>\n",
       "      <td>0</td>\n",
       "      <td>0</td>\n",
       "      <td>0</td>\n",
       "      <td>76.0</td>\n",
       "    </tr>\n",
       "    <tr>\n",
       "      <th>2</th>\n",
       "      <td>Clc1ccc(cc1)C(c2ccc(Cl)cc2)C(Cl)(Cl)Cl</td>\n",
       "      <td>0.0</td>\n",
       "      <td>Clc1ccc(C(c2ccc(Cl)cc2)C(Cl)(Cl)Cl)cc1</td>\n",
       "      <td>Clc1ccc(C(c2ccc(Cl)cc2)C(Cl)(Cl)Cl)cc1</td>\n",
       "      <td>1</td>\n",
       "      <td>56.61000444</td>\n",
       "      <td>Clc1ccc(cc1)C(c2ccc(Cl)cc2)C(Cl)(Cl)Cl</td>\n",
       "      <td>6.4955</td>\n",
       "      <td>85.0370</td>\n",
       "      <td>136.734713</td>\n",
       "      <td>...</td>\n",
       "      <td>0</td>\n",
       "      <td>0</td>\n",
       "      <td>2</td>\n",
       "      <td>0</td>\n",
       "      <td>0</td>\n",
       "      <td>0</td>\n",
       "      <td>0</td>\n",
       "      <td>0</td>\n",
       "      <td>0</td>\n",
       "      <td>0.0</td>\n",
       "    </tr>\n",
       "    <tr>\n",
       "      <th>3</th>\n",
       "      <td>OC(=O)c1c(Cl)ccc(Cl)c1Cl</td>\n",
       "      <td>1.0</td>\n",
       "      <td>O=C(O)c1c(Cl)ccc(Cl)c1Cl</td>\n",
       "      <td>O=C(O)c1c(Cl)ccc(Cl)c1Cl</td>\n",
       "      <td>1</td>\n",
       "      <td>13.71352211</td>\n",
       "      <td>OC(=O)c1c(Cl)ccc(Cl)c1Cl</td>\n",
       "      <td>3.3450</td>\n",
       "      <td>48.4313</td>\n",
       "      <td>83.661900</td>\n",
       "      <td>...</td>\n",
       "      <td>0</td>\n",
       "      <td>0</td>\n",
       "      <td>1</td>\n",
       "      <td>0</td>\n",
       "      <td>0</td>\n",
       "      <td>0</td>\n",
       "      <td>0</td>\n",
       "      <td>0</td>\n",
       "      <td>0</td>\n",
       "      <td>1.0</td>\n",
       "    </tr>\n",
       "    <tr>\n",
       "      <th>4</th>\n",
       "      <td>OCC(O)C(O)C(O)C(O)CO</td>\n",
       "      <td>82.0</td>\n",
       "      <td>OCC(O)C(O)C(O)C(O)CO</td>\n",
       "      <td>OCC(O)C(O)C(O)C(O)CO</td>\n",
       "      <td>1</td>\n",
       "      <td>23.15533611</td>\n",
       "      <td>OCC(O)C(O)C(O)C(O)CO</td>\n",
       "      <td>-3.5854</td>\n",
       "      <td>38.1988</td>\n",
       "      <td>69.329364</td>\n",
       "      <td>...</td>\n",
       "      <td>0</td>\n",
       "      <td>0</td>\n",
       "      <td>0</td>\n",
       "      <td>0</td>\n",
       "      <td>0</td>\n",
       "      <td>0</td>\n",
       "      <td>0</td>\n",
       "      <td>0</td>\n",
       "      <td>0</td>\n",
       "      <td>82.0</td>\n",
       "    </tr>\n",
       "  </tbody>\n",
       "</table>\n",
       "<p>5 rows × 125 columns</p>\n",
       "</div>"
      ],
      "text/plain": [
       "                                   SMILES  value (% BOD)  \\\n",
       "0          CCC1(C(=O)NC(=O)NC1=O)c2ccccc2            0.0   \n",
       "1                             CC(O)C(O)=O           76.0   \n",
       "2  Clc1ccc(cc1)C(c2ccc(Cl)cc2)C(Cl)(Cl)Cl            0.0   \n",
       "3                OC(=O)c1c(Cl)ccc(Cl)c1Cl            1.0   \n",
       "4                    OCC(O)C(O)C(O)C(O)CO           82.0   \n",
       "\n",
       "                   Salt Stripped Molecule  \\\n",
       "0          CCC1(c2ccccc2)C(=O)NC(=O)NC1=O   \n",
       "1                             CC(O)C(=O)O   \n",
       "2  Clc1ccc(C(c2ccc(Cl)cc2)C(Cl)(Cl)Cl)cc1   \n",
       "3                O=C(O)c1c(Cl)ccc(Cl)c1Cl   \n",
       "4                    OCC(O)C(O)C(O)C(O)CO   \n",
       "\n",
       "              SMILES (Optimized Geometry) Converged        Energy  \\\n",
       "0          CCC1(c2ccccc2)C(=O)NC(=O)NC1=O         1  -16.47820492   \n",
       "1                             CC(O)C(=O)O         1   18.51507187   \n",
       "2  Clc1ccc(C(c2ccc(Cl)cc2)C(Cl)(Cl)Cl)cc1         1   56.61000444   \n",
       "3                O=C(O)c1c(Cl)ccc(Cl)c1Cl         1   13.71352211   \n",
       "4                    OCC(O)C(O)C(O)C(O)CO         1   23.15533611   \n",
       "\n",
       "                       SMILES (RDKit Mol)   SlogP      SMR   LabuteASA  ...  \\\n",
       "0          CCC1(C(=O)NC(=O)NC1=O)c2ccccc2  0.7004  60.0924   98.199515  ...   \n",
       "1                             CC(O)C(O)=O -0.5482  19.3166   35.219125  ...   \n",
       "2  Clc1ccc(cc1)C(c2ccc(Cl)cc2)C(Cl)(Cl)Cl  6.4955  85.0370  136.734713  ...   \n",
       "3                OC(=O)c1c(Cl)ccc(Cl)c1Cl  3.3450  48.4313   83.661900  ...   \n",
       "4                    OCC(O)C(O)C(O)C(O)CO -3.5854  38.1988   69.329364  ...   \n",
       "\n",
       "   MQN34  MQN35  MQN36  MQN37  MQN38  MQN39  MQN40  MQN41  MQN42  cleaned_bod  \n",
       "0      0      0      2      0      0      0      0      0      0          0.0  \n",
       "1      0      0      0      0      0      0      0      0      0         76.0  \n",
       "2      0      0      2      0      0      0      0      0      0          0.0  \n",
       "3      0      0      1      0      0      0      0      0      0          1.0  \n",
       "4      0      0      0      0      0      0      0      0      0         82.0  \n",
       "\n",
       "[5 rows x 125 columns]"
      ]
     },
     "execution_count": 15,
     "metadata": {},
     "output_type": "execute_result"
    }
   ],
   "source": [
    "df.head()"
   ]
  },
  {
   "cell_type": "code",
   "execution_count": 84,
   "metadata": {},
   "outputs": [
    {
     "data": {
      "text/plain": [
       "(array([756.,   0.,   0.,   0.,   0.,   0.,   0.,   0.,   0., 307.]),\n",
       " array([0. , 0.1, 0.2, 0.3, 0.4, 0.5, 0.6, 0.7, 0.8, 0.9, 1. ]),\n",
       " <a list of 10 Patch objects>)"
      ]
     },
     "execution_count": 84,
     "metadata": {},
     "output_type": "execute_result"
    },
    {
     "data": {
      "image/png": "[encoded data removed]",
      "text/plain": [
       "<Figure size 432x288 with 1 Axes>"
      ]
     },
     "metadata": {
      "needs_background": "light"
     },
     "output_type": "display_data"
    }
   ],
   "source": [
    "df['bi_class_partition']=utilities.divide_classes(df['cleaned_bod'], [60])\n",
    "true_label_biclass = df['bi_class_partition'].values\n",
    "plt.hist(df['bi_class_partition'])"
   ]
  },
  {
   "cell_type": "code",
   "execution_count": 78,
   "metadata": {},
   "outputs": [
    {
     "data": {
      "text/plain": [
       "(array([535.,   0.,   0.,   0.,   0.,   0.,   0.,   0.,   0., 528.]),\n",
       " array([0. , 0.1, 0.2, 0.3, 0.4, 0.5, 0.6, 0.7, 0.8, 0.9, 1. ]),\n",
       " <a list of 10 Patch objects>)"
      ]
     },
     "execution_count": 78,
     "metadata": {},
     "output_type": "execute_result"
    },
    {
     "data": {
      "image/png": "[encoded data removed]",
      "text/plain": [
       "<Figure size 432x288 with 1 Axes>"
      ]
     },
     "metadata": {
      "needs_background": "light"
     },
     "output_type": "display_data"
    }
   ],
   "source": [
    "df['bi_class_q50']=pd.qcut(df['cleaned_bod'].values, 2, labels=[0,1])\n",
    "true_label_q50 = df['bi_class_q50'].values\n",
    "plt.hist(true_label_q50)"
   ]
  },
  {
   "cell_type": "code",
   "execution_count": 100,
   "metadata": {},
   "outputs": [],
   "source": [
    "from dimreducer import DeepAutoEncoder\n",
    "from cluster import KMeansLayer\n",
    "from keras import Model"
   ]
  },
  {
   "cell_type": "code",
   "execution_count": 127,
   "metadata": {},
   "outputs": [
    {
     "name": "stdout",
     "output_type": "stream",
     "text": [
      "_________________________________________________________________\n",
      "Layer (type)                 Output Shape              Param #   \n",
      "=================================================================\n",
      "input (InputLayer)           (None, 2048)              0         \n",
      "_________________________________________________________________\n",
      "batch_normalization_10 (Batc (None, 2048)              8192      \n",
      "_________________________________________________________________\n",
      "encoder_0 (Dense)            (None, 512)               1049088   \n",
      "_________________________________________________________________\n",
      "encoder_1 (Dense)            (None, 128)               65664     \n",
      "_________________________________________________________________\n",
      "embedding_layer (Dense)      (None, 64)                8256      \n",
      "_________________________________________________________________\n",
      "decoder_2 (Dense)            (None, 128)               8320      \n",
      "_________________________________________________________________\n",
      "decoder_1 (Dense)            (None, 512)               66048     \n",
      "_________________________________________________________________\n",
      "decoder_output (Dense)       (None, 2048)              1050624   \n",
      "=================================================================\n",
      "Total params: 2,256,192\n",
      "Trainable params: 2,252,096\n",
      "Non-trainable params: 4,096\n",
      "_________________________________________________________________\n"
     ]
    }
   ],
   "source": [
    "dims = [2048,512,128,64]\n",
    "autoencoder =  DeepAutoEncoder(dims)\n",
    "autoencoder.build_autoencoder()\n",
    "autoencoder.model.summary()"
   ]
  },
  {
   "cell_type": "code",
   "execution_count": 128,
   "metadata": {},
   "outputs": [],
   "source": [
    "embeding   = autoencoder.model.get_layer(name='embedding_layer').output\n",
    "encoder    = Model(inputs=autoencoder.model.input, outputs=embeding)\n",
    "n_clusters = 2\n",
    "alpha      = 1.0\n",
    "clustering = KMeansLayer(n_clusters, alpha=alpha, name='clustering')(embeding)\n",
    "model      = Model(inputs=autoencoder.model.input, outputs=[clustering,autoencoder.model.output])"
   ]
  },
  {
   "cell_type": "code",
   "execution_count": 129,
   "metadata": {},
   "outputs": [
    {
     "name": "stdout",
     "output_type": "stream",
     "text": [
      "__________________________________________________________________________________________________\n",
      "Layer (type)                    Output Shape         Param #     Connected to                     \n",
      "==================================================================================================\n",
      "input (InputLayer)              (None, 2048)         0                                            \n",
      "__________________________________________________________________________________________________\n",
      "batch_normalization_10 (BatchNo (None, 2048)         8192        input[0][0]                      \n",
      "__________________________________________________________________________________________________\n",
      "encoder_0 (Dense)               (None, 512)          1049088     batch_normalization_10[0][0]     \n",
      "__________________________________________________________________________________________________\n",
      "encoder_1 (Dense)               (None, 128)          65664       encoder_0[0][0]                  \n",
      "__________________________________________________________________________________________________\n",
      "embedding_layer (Dense)         (None, 64)           8256        encoder_1[0][0]                  \n",
      "__________________________________________________________________________________________________\n",
      "decoder_2 (Dense)               (None, 128)          8320        embedding_layer[0][0]            \n",
      "__________________________________________________________________________________________________\n",
      "decoder_1 (Dense)               (None, 512)          66048       decoder_2[0][0]                  \n",
      "__________________________________________________________________________________________________\n",
      "clustering (KMeansLayer)        (None, 2)            128         embedding_layer[0][0]            \n",
      "__________________________________________________________________________________________________\n",
      "decoder_output (Dense)          (None, 2048)         1050624     decoder_1[0][0]                  \n",
      "==================================================================================================\n",
      "Total params: 2,256,320\n",
      "Trainable params: 2,252,224\n",
      "Non-trainable params: 4,096\n",
      "__________________________________________________________________________________________________\n"
     ]
    }
   ],
   "source": [
    "model.summary()"
   ]
  },
  {
   "cell_type": "code",
   "execution_count": 130,
   "metadata": {},
   "outputs": [],
   "source": [
    "model.compile(loss={'clustering': 'kld', 'decoder_output': 'binary_crossentropy'},\n",
    "              loss_weights=[0.8, 0.2],optimizer='adam')"
   ]
  },
  {
   "cell_type": "code",
   "execution_count": 131,
   "metadata": {},
   "outputs": [],
   "source": [
    "from cluster import KMeans\n",
    "\n",
    "def target_distribution(q):  # target distribution P which enhances the discrimination of soft label Q\n",
    "    weight = q ** 2 / q.sum(0)\n",
    "    return (weight.T / weight.sum(1)).T"
   ]
  },
  {
   "cell_type": "code",
   "execution_count": 132,
   "metadata": {},
   "outputs": [],
   "source": [
    "kmeans_init = KMeans(n_clusters=2)\n",
    "kmeans_init.bulid_kmeans_cluster()\n",
    "kmeans_init.model.fit(encoder.predict(data_train))\n",
    "y_pred_last = kmeans_init.model.labels_\n",
    "model.get_layer(name='clustering').set_weights([kmeans_init.model.cluster_centers_])"
   ]
  },
  {
   "cell_type": "code",
   "execution_count": 133,
   "metadata": {},
   "outputs": [
    {
     "name": "stdout",
     "output_type": "stream",
     "text": [
      "Epoch: 0\n",
      "total_loss = 0.2807659; clustering_loss = 0.12407865; decoder_loss = 0.9075148; delta_label = 0.0\n",
      "Epoch: 10\n",
      "total_loss = 0.08955149; clustering_loss = 0.024077132; decoder_loss = 0.35144892; delta_label = 0.09877704609595485\n",
      "Epoch: 20\n",
      "total_loss = 0.08352908; clustering_loss = 0.027761584; decoder_loss = 0.30659905; delta_label = 0.05644402634054563\n",
      "Epoch: 30\n",
      "total_loss = 0.08810866; clustering_loss = 0.039485537; decoder_loss = 0.28260115; delta_label = 0.02539981185324553\n",
      "Epoch: 40\n",
      "total_loss = 0.09295961; clustering_loss = 0.046457488; decoder_loss = 0.2789681; delta_label = 0.024459078080903106\n",
      "Epoch: 50\n",
      "total_loss = 0.0973477; clustering_loss = 0.05401193; decoder_loss = 0.27069077; delta_label = 0.011288805268109126\n",
      "Epoch: 60\n",
      "total_loss = 0.10170095; clustering_loss = 0.060730044; decoder_loss = 0.26558453; delta_label = 0.010348071495766699\n",
      "Epoch: 70\n",
      "total_loss = 0.10569604; clustering_loss = 0.06638059; decoder_loss = 0.26295784; delta_label = 0.0018814675446848542\n",
      "Epoch: 80\n",
      "total_loss = 0.10881567; clustering_loss = 0.07089841; decoder_loss = 0.2604847; delta_label = 0.0028222013170272815\n",
      "Epoch: 90\n",
      "total_loss = 0.11065599; clustering_loss = 0.073871784; decoder_loss = 0.2577928; delta_label = 0.0018814675446848542\n",
      "Epoch: 100\n",
      "total_loss = 0.11169956; clustering_loss = 0.07565657; decoder_loss = 0.2558715; delta_label = 0.0009407337723424271\n",
      "0.0 < 0.0001\n",
      "Reached tolerance threshold. Stopping training.\n"
     ]
    }
   ],
   "source": [
    "update_interval = 10\n",
    "maxiter = 1e4\n",
    "tol = 1e-4\n",
    "loss = []\n",
    "delta_label = []\n",
    "for iteration in range(int(maxiter)):\n",
    "    if iteration % update_interval == 0:\n",
    "        q, _ = model.predict(data_train)\n",
    "        p = target_distribution(q)\n",
    "        y_pred = q.argmax(1)\n",
    "        delta_label_i = np.sum(y_pred != y_pred_last).astype(np.float32) / y_pred.shape[0]\n",
    "        delta_label.append(delta_label_i)\n",
    "        y_pred_last = y_pred\n",
    "    \n",
    "    if iteration > update_interval and delta_label_i < tol:  \n",
    "        print(str(delta_label_i) +' < ' + str(tol))\n",
    "        print('Reached tolerance threshold. Stopping training.')\n",
    "        break\n",
    "    \n",
    "    loss_tmp = model.train_on_batch(x=data_train, y=[p,data_train])\n",
    "    loss.append(loss_tmp)\n",
    "    if iteration % update_interval == 0:\n",
    "        print('Epoch: ' + str(iteration))\n",
    "        print('total_loss = ' + str(loss_tmp[0]) + '; clustering_loss = ' +\n",
    "              str(loss_tmp[1]) + '; decoder_loss = ' + str(loss_tmp[2]) + \n",
    "              '; delta_label = ' + str(delta_label_i))\n",
    "    \n",
    "\n"
   ]
  },
  {
   "cell_type": "code",
   "execution_count": 134,
   "metadata": {},
   "outputs": [
    {
     "data": {
      "text/plain": [
       "[<matplotlib.lines.Line2D at 0x1a5535f438>,\n",
       " <matplotlib.lines.Line2D at 0x1a5535f588>,\n",
       " <matplotlib.lines.Line2D at 0x1a5535f6d8>]"
      ]
     },
     "execution_count": 134,
     "metadata": {},
     "output_type": "execute_result"
    },
    {
     "data": {
      "image/png": "[encoded data removed]",
      "text/plain": [
       "<Figure size 432x288 with 1 Axes>"
      ]
     },
     "metadata": {
      "needs_background": "light"
     },
     "output_type": "display_data"
    }
   ],
   "source": [
    "plt.plot(loss)"
   ]
  },
  {
   "cell_type": "code",
   "execution_count": 135,
   "metadata": {},
   "outputs": [
    {
     "data": {
      "text/plain": [
       "[<matplotlib.lines.Line2D at 0x1a55587ef0>]"
      ]
     },
     "execution_count": 135,
     "metadata": {},
     "output_type": "execute_result"
    },
    {
     "data": {
      "image/png": "[encoded data removed]",
      "text/plain": [
       "<Figure size 432x288 with 1 Axes>"
      ]
     },
     "metadata": {
      "needs_background": "light"
     },
     "output_type": "display_data"
    }
   ],
   "source": [
    "plt.plot(delta_label)"
   ]
  },
  {
   "cell_type": "code",
   "execution_count": 136,
   "metadata": {},
   "outputs": [
    {
     "data": {
      "text/plain": [
       "(array([521.,   0.,   0.,   0.,   0.,   0.,   0.,   0.,   0., 542.]),\n",
       " array([0. , 0.1, 0.2, 0.3, 0.4, 0.5, 0.6, 0.7, 0.8, 0.9, 1. ]),\n",
       " <a list of 10 Patch objects>)"
      ]
     },
     "execution_count": 136,
     "metadata": {},
     "output_type": "execute_result"
    },
    {
     "data": {
      "image/png": "[encoded data removed]",
      "text/plain": [
       "<Figure size 432x288 with 1 Axes>"
      ]
     },
     "metadata": {
      "needs_background": "light"
     },
     "output_type": "display_data"
    }
   ],
   "source": [
    "plt.hist(y_pred)"
   ]
  },
  {
   "cell_type": "code",
   "execution_count": 137,
   "metadata": {},
   "outputs": [
    {
     "name": "stdout",
     "output_type": "stream",
     "text": [
      "Metric with True label\n",
      "adjusted rand score: 0.035656247631877816 \n",
      "adjusted mutual info score: 0.028950018275187783\n",
      "homogeneity completeness v measure:\n",
      "(0.034136238038052866, 0.029610358061321434, 0.03171263386667848)\n",
      "fowlkes_mallows : 0.5588806352205085\n"
     ]
    },
    {
     "name": "stderr",
     "output_type": "stream",
     "text": [
      "/Users/hanghu/miniconda3/envs/deepchembed/lib/python3.6/site-packages/sklearn/metrics/cluster/supervised.py:732: FutureWarning: The behavior of AMI will change in version 0.22. To match the behavior of 'v_measure_score', AMI will use average_method='arithmetic' by default.\n",
      "  FutureWarning)\n"
     ]
    },
    {
     "data": {
      "text/plain": [
       "{'adjusted_rand_score': 0.035656247631877816,\n",
       " 'adjusted_mutual_info_score': 0.028950018275187783,\n",
       " 'homogeneity_completeness_v_measure': (0.034136238038052866,\n",
       "  0.029610358061321434,\n",
       "  0.03171263386667848),\n",
       " 'fowlkes_mallows_score': 0.5588806352205085}"
      ]
     },
     "execution_count": 137,
     "metadata": {},
     "output_type": "execute_result"
    }
   ],
   "source": [
    "from cluster import Cluster\n",
    "Cluster.true_label_metrics(true_label_biclass,y_pred,print_metric=True)"
   ]
  },
  {
   "cell_type": "code",
   "execution_count": 138,
   "metadata": {},
   "outputs": [
    {
     "name": "stdout",
     "output_type": "stream",
     "text": [
      "Metric with True label\n",
      "adjusted rand score: 0.04551084566551281 \n",
      "adjusted mutual info score: 0.03305782831804775\n",
      "homogeneity completeness v measure:\n",
      "(0.03371493994125138, 0.03372337989668163, 0.033719159390833184)\n",
      "fowlkes_mallows : 0.5224096071362249\n"
     ]
    },
    {
     "data": {
      "text/plain": [
       "{'adjusted_rand_score': 0.04551084566551281,\n",
       " 'adjusted_mutual_info_score': 0.03305782831804775,\n",
       " 'homogeneity_completeness_v_measure': (0.03371493994125138,\n",
       "  0.03372337989668163,\n",
       "  0.033719159390833184),\n",
       " 'fowlkes_mallows_score': 0.5224096071362249}"
      ]
     },
     "execution_count": 138,
     "metadata": {},
     "output_type": "execute_result"
    }
   ],
   "source": [
    "from cluster import Cluster\n",
    "Cluster.true_label_metrics(true_label_q50,y_pred,print_metric=True)"
   ]
  },
  {
   "cell_type": "code",
   "execution_count": 139,
   "metadata": {},
   "outputs": [
    {
     "data": {
      "text/plain": [
       "430"
      ]
     },
     "execution_count": 139,
     "metadata": {},
     "output_type": "execute_result"
    }
   ],
   "source": [
    "np.count_nonzero(true_label_biclass == y_pred)"
   ]
  },
  {
   "cell_type": "code",
   "execution_count": 140,
   "metadata": {},
   "outputs": [
    {
     "data": {
      "text/plain": [
       "417"
      ]
     },
     "execution_count": 140,
     "metadata": {},
     "output_type": "execute_result"
    }
   ],
   "source": [
    "np.count_nonzero(true_label_q50 == y_pred)"
   ]
  },
  {
   "cell_type": "code",
   "execution_count": 141,
   "metadata": {},
   "outputs": [
    {
     "data": {
      "text/plain": [
       "633"
      ]
     },
     "execution_count": 141,
     "metadata": {},
     "output_type": "execute_result"
    }
   ],
   "source": [
    "1063 - 430"
   ]
  },
  {
   "cell_type": "code",
   "execution_count": null,
   "metadata": {},
   "outputs": [],
   "source": []
  }
 ],
 "metadata": {
  "kernelspec": {
   "display_name": "Python 3",
   "language": "python",
   "name": "python3"
  },
  "language_info": {
   "codemirror_mode": {
    "name": "ipython",
    "version": 3
   },
   "file_extension": ".py",
   "mimetype": "text/x-python",
   "name": "python",
   "nbconvert_exporter": "python",
   "pygments_lexer": "ipython3",
   "version": "3.6.8"
  }
 },
 "nbformat": 4,
 "nbformat_minor": 2
}
